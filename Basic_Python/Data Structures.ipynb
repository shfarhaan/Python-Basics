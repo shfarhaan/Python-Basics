{
  "nbformat": 4,
  "nbformat_minor": 0,
  "metadata": {
    "colab": {
      "provenance": []
    },
    "kernelspec": {
      "name": "python3",
      "display_name": "Python 3"
    },
    "language_info": {
      "name": "python"
    }
  },
  "cells": [
    {
      "cell_type": "code",
      "execution_count": 3,
      "metadata": {
        "colab": {
          "base_uri": "https://localhost:8080/"
        },
        "id": "6g5nrp8WMVDc",
        "outputId": "351a1f98-9e24-4966-8477-22cdf2da201b"
      },
      "outputs": [
        {
          "output_type": "stream",
          "name": "stdout",
          "text": [
            "3\n"
          ]
        }
      ],
      "source": [
        "fruits = [4, 55, 64, 32, 16, 32]\n",
        "\n",
        "x = fruits.index(32)\n",
        "\n",
        "print(x)"
      ]
    },
    {
      "cell_type": "code",
      "source": [
        "var = [2.6, 7, \"True\", \"abc\", -0.986, 10000000, \"Cocktail\", \"King\", -76467332, \"Magic\", \"Python\", \"Anaconda\"]\n",
        "\n",
        "type(var)\n",
        "\n",
        "len(var)"
      ],
      "metadata": {
        "colab": {
          "base_uri": "https://localhost:8080/"
        },
        "id": "cnuLrXZPNSDU",
        "outputId": "16dcdd0f-4cce-4791-8e32-e7244c8644f7"
      },
      "execution_count": 7,
      "outputs": [
        {
          "output_type": "execute_result",
          "data": {
            "text/plain": [
              "12"
            ]
          },
          "metadata": {},
          "execution_count": 7
        }
      ]
    },
    {
      "cell_type": "code",
      "source": [
        "var.index(\"Cocktail\")"
      ],
      "metadata": {
        "colab": {
          "base_uri": "https://localhost:8080/"
        },
        "id": "hBb-LGxQOduW",
        "outputId": "343f4a3d-ea1f-4a86-c299-422ebbed018a"
      },
      "execution_count": 9,
      "outputs": [
        {
          "output_type": "execute_result",
          "data": {
            "text/plain": [
              "6"
            ]
          },
          "metadata": {},
          "execution_count": 9
        }
      ]
    },
    {
      "cell_type": "code",
      "source": [
        "var[-5]"
      ],
      "metadata": {
        "colab": {
          "base_uri": "https://localhost:8080/",
          "height": 36
        },
        "id": "dLEofflxOtJy",
        "outputId": "be9fc0c0-25c0-4cab-e40b-4e50f26a624d"
      },
      "execution_count": 12,
      "outputs": [
        {
          "output_type": "execute_result",
          "data": {
            "text/plain": [
              "'King'"
            ],
            "application/vnd.google.colaboratory.intrinsic+json": {
              "type": "string"
            }
          },
          "metadata": {},
          "execution_count": 12
        }
      ]
    },
    {
      "cell_type": "code",
      "source": [
        "var.index(2.6)"
      ],
      "metadata": {
        "colab": {
          "base_uri": "https://localhost:8080/"
        },
        "outputId": "fea209e3-f040-4ed9-c264-60effe7dedb1",
        "id": "VDIx_z6mO-0t"
      },
      "execution_count": 15,
      "outputs": [
        {
          "output_type": "execute_result",
          "data": {
            "text/plain": [
              "0"
            ]
          },
          "metadata": {},
          "execution_count": 15
        }
      ]
    },
    {
      "cell_type": "code",
      "source": [
        "#var[start_index:end_index+1]\n",
        "\n",
        "var[1:4]"
      ],
      "metadata": {
        "colab": {
          "base_uri": "https://localhost:8080/"
        },
        "id": "qkOO_-6KPIUE",
        "outputId": "7bf8404e-b8b2-44ab-e6e5-7c09fc6a22e0"
      },
      "execution_count": 17,
      "outputs": [
        {
          "output_type": "execute_result",
          "data": {
            "text/plain": [
              "[7, 'True', 'abc']"
            ]
          },
          "metadata": {},
          "execution_count": 17
        }
      ]
    },
    {
      "cell_type": "code",
      "source": [
        "var[7:12]"
      ],
      "metadata": {
        "colab": {
          "base_uri": "https://localhost:8080/"
        },
        "id": "wdyTvbB2PmQR",
        "outputId": "90568cb5-e64d-4ed9-d8bd-004d91eeacaa"
      },
      "execution_count": 19,
      "outputs": [
        {
          "output_type": "execute_result",
          "data": {
            "text/plain": [
              "['King', -76467332, 'Magic', 'Python', 'Anaconda']"
            ]
          },
          "metadata": {},
          "execution_count": 19
        }
      ]
    },
    {
      "cell_type": "code",
      "source": [
        "var[0:]"
      ],
      "metadata": {
        "colab": {
          "base_uri": "https://localhost:8080/"
        },
        "id": "C75RkiHAP4wz",
        "outputId": "7a070d66-6f91-4a8b-f761-8c708b064ae3"
      },
      "execution_count": 21,
      "outputs": [
        {
          "output_type": "execute_result",
          "data": {
            "text/plain": [
              "[2.6,\n",
              " 7,\n",
              " 'True',\n",
              " 'abc',\n",
              " -0.986,\n",
              " 10000000,\n",
              " 'Cocktail',\n",
              " 'King',\n",
              " -76467332,\n",
              " 'Magic',\n",
              " 'Python',\n",
              " 'Anaconda']"
            ]
          },
          "metadata": {},
          "execution_count": 21
        }
      ]
    },
    {
      "cell_type": "code",
      "source": [
        "#var[start_index:end_index+1:skip+1]\n",
        "\n",
        "var[3:11:2]"
      ],
      "metadata": {
        "colab": {
          "base_uri": "https://localhost:8080/"
        },
        "id": "tx4wugpoQCp6",
        "outputId": "a160ccf0-6f14-4b9e-ba9a-981bbb40f72f"
      },
      "execution_count": 24,
      "outputs": [
        {
          "output_type": "execute_result",
          "data": {
            "text/plain": [
              "['abc', 10000000, 'King', 'Magic']"
            ]
          },
          "metadata": {},
          "execution_count": 24
        }
      ]
    },
    {
      "cell_type": "code",
      "source": [
        "var[:13:3]"
      ],
      "metadata": {
        "colab": {
          "base_uri": "https://localhost:8080/"
        },
        "id": "fPheY00LQtnc",
        "outputId": "9cedcf83-3e25-4b57-83a7-4d4942f76f77"
      },
      "execution_count": 27,
      "outputs": [
        {
          "output_type": "execute_result",
          "data": {
            "text/plain": [
              "[2.6, 'abc', 'Cocktail', 'Magic']"
            ]
          },
          "metadata": {},
          "execution_count": 27
        }
      ]
    },
    {
      "cell_type": "code",
      "source": [
        "var[0:9:2]"
      ],
      "metadata": {
        "colab": {
          "base_uri": "https://localhost:8080/"
        },
        "id": "2X9Z_CwCQ2yt",
        "outputId": "48751e03-c195-439d-965e-59b64ff330eb"
      },
      "execution_count": 29,
      "outputs": [
        {
          "output_type": "execute_result",
          "data": {
            "text/plain": [
              "[2.6, 'True', -0.986, 'Cocktail', -76467332]"
            ]
          },
          "metadata": {},
          "execution_count": 29
        }
      ]
    },
    {
      "cell_type": "code",
      "source": [
        "var[-5:-4]"
      ],
      "metadata": {
        "colab": {
          "base_uri": "https://localhost:8080/"
        },
        "id": "rQtbyoewRALa",
        "outputId": "a2486d33-6961-474a-d68a-5f63aaa77914"
      },
      "execution_count": 31,
      "outputs": [
        {
          "output_type": "execute_result",
          "data": {
            "text/plain": [
              "['King']"
            ]
          },
          "metadata": {},
          "execution_count": 31
        }
      ]
    },
    {
      "cell_type": "code",
      "source": [
        "var[-2:-12:-1]"
      ],
      "metadata": {
        "colab": {
          "base_uri": "https://localhost:8080/"
        },
        "id": "QtxIahI0RL28",
        "outputId": "8b2b1525-57cc-4f7c-804f-5ec654da6c0f"
      },
      "execution_count": 36,
      "outputs": [
        {
          "output_type": "execute_result",
          "data": {
            "text/plain": [
              "['Python',\n",
              " 'Magic',\n",
              " -76467332,\n",
              " 'King',\n",
              " 'Cocktail',\n",
              " 10000000,\n",
              " -0.986,\n",
              " 'abc',\n",
              " 'True',\n",
              " 7]"
            ]
          },
          "metadata": {},
          "execution_count": 36
        }
      ]
    },
    {
      "cell_type": "code",
      "source": [
        "var[-1:-8:-2]"
      ],
      "metadata": {
        "colab": {
          "base_uri": "https://localhost:8080/"
        },
        "id": "vRgmhdOzRnyj",
        "outputId": "acbc6463-4054-4a32-f02b-a8ed0768ab62"
      },
      "execution_count": 38,
      "outputs": [
        {
          "output_type": "execute_result",
          "data": {
            "text/plain": [
              "['Anaconda', 'Magic', 'King', 10000000]"
            ]
          },
          "metadata": {},
          "execution_count": 38
        }
      ]
    },
    {
      "cell_type": "code",
      "source": [
        "var[-2:-7:-2]"
      ],
      "metadata": {
        "colab": {
          "base_uri": "https://localhost:8080/"
        },
        "id": "ELCUUbYjSY2Q",
        "outputId": "f8b7e6fd-392f-4d11-c1bf-4e6802d07cda"
      },
      "execution_count": 40,
      "outputs": [
        {
          "output_type": "execute_result",
          "data": {
            "text/plain": [
              "['Python', -76467332, 'Cocktail']"
            ]
          },
          "metadata": {},
          "execution_count": 40
        }
      ]
    },
    {
      "cell_type": "code",
      "source": [
        "var\n",
        "\n",
        "[\"Hriddho\", 756, \"PML\", -75.38,\"Goat\", \"Hello\", 1000000, \"Remaining\", 7562347, \"Raiyan\"]\n",
        "\n",
        "var.append(\"Kohli\")"
      ],
      "metadata": {
        "id": "0pnetkJ2UBBo"
      },
      "execution_count": 50,
      "outputs": []
    },
    {
      "cell_type": "code",
      "source": [
        "var"
      ],
      "metadata": {
        "colab": {
          "base_uri": "https://localhost:8080/"
        },
        "id": "3yKyoXKCUI7B",
        "outputId": "b5b62253-3748-4805-cb89-bbd3e4b5daca"
      },
      "execution_count": 51,
      "outputs": [
        {
          "output_type": "execute_result",
          "data": {
            "text/plain": [
              "[2.6,\n",
              " 7,\n",
              " 'True',\n",
              " 'abc',\n",
              " -0.986,\n",
              " 10000000,\n",
              " 'Cocktail',\n",
              " 'King',\n",
              " -76467332,\n",
              " 'Magic',\n",
              " 'Python',\n",
              " 'Anaconda',\n",
              " 'Virat Kohli',\n",
              " 'Kohli',\n",
              " 'Kohli',\n",
              " 'Kohli',\n",
              " 'Kohli',\n",
              " 'Kohli',\n",
              " 'Kohli',\n",
              " 'Kohli']"
            ]
          },
          "metadata": {},
          "execution_count": 51
        }
      ]
    },
    {
      "cell_type": "code",
      "source": [
        "var.insert(3, 'Big Number')"
      ],
      "metadata": {
        "id": "1465h1j-V26H"
      },
      "execution_count": 59,
      "outputs": []
    },
    {
      "cell_type": "code",
      "source": [
        "var"
      ],
      "metadata": {
        "colab": {
          "base_uri": "https://localhost:8080/"
        },
        "id": "01DTZYm9WlSN",
        "outputId": "afa635b6-eafe-46d8-858e-bfafeebdcc9d"
      },
      "execution_count": 61,
      "outputs": [
        {
          "output_type": "execute_result",
          "data": {
            "text/plain": [
              "[2.6,\n",
              " 7,\n",
              " 'True',\n",
              " 'Big Number',\n",
              " 'Big Number',\n",
              " 'Big Number',\n",
              " 'Big Number',\n",
              " 'Big Number',\n",
              " 'abc',\n",
              " -0.986,\n",
              " 10000000,\n",
              " 'Cocktail',\n",
              " 'King',\n",
              " -76467332,\n",
              " 'Magic',\n",
              " 'Python',\n",
              " 'Anaconda',\n",
              " 'Virat Kohli',\n",
              " 'Kohli',\n",
              " 'Kohli',\n",
              " 'Kohli',\n",
              " 'Kohli',\n",
              " 'Kohli',\n",
              " 'Kohli',\n",
              " 'Kohli']"
            ]
          },
          "metadata": {},
          "execution_count": 61
        }
      ]
    },
    {
      "cell_type": "code",
      "source": [
        "fruits = ['apple', 'banana', 'cherry']\n",
        "\n",
        "fruits.pop(1)\n",
        "\n",
        "print(fruits)"
      ],
      "metadata": {
        "colab": {
          "base_uri": "https://localhost:8080/"
        },
        "id": "iISFA162Ww6p",
        "outputId": "ccdca9ad-0426-495c-80bf-9d1fddfba21d"
      },
      "execution_count": 63,
      "outputs": [
        {
          "output_type": "stream",
          "name": "stdout",
          "text": [
            "['apple', 'cherry']\n"
          ]
        }
      ]
    },
    {
      "cell_type": "code",
      "source": [
        "thislist = [453, 1000, 56.73]\n",
        "\n",
        "thislist.remove(1000)\n",
        "\n",
        "print(thislist)"
      ],
      "metadata": {
        "colab": {
          "base_uri": "https://localhost:8080/"
        },
        "id": "IOAHc4bfXHpU",
        "outputId": "9b0291f9-ee1c-4936-8e25-e1c938994f39"
      },
      "execution_count": 71,
      "outputs": [
        {
          "output_type": "stream",
          "name": "stdout",
          "text": [
            "[453, 56.73]\n"
          ]
        }
      ]
    },
    {
      "cell_type": "code",
      "source": [
        "thislist = [\"Creative\", \"IT\", \"Institute\"]\n",
        "\n",
        "del thislist[2]\n",
        "\n",
        "print(thislist)"
      ],
      "metadata": {
        "colab": {
          "base_uri": "https://localhost:8080/"
        },
        "id": "MDJDwMgqYLbT",
        "outputId": "b4affcfc-50ed-4771-e554-e12d91959ca9"
      },
      "execution_count": 73,
      "outputs": [
        {
          "output_type": "stream",
          "name": "stdout",
          "text": [
            "['Creative', 'IT']\n"
          ]
        }
      ]
    },
    {
      "cell_type": "code",
      "source": [
        "thislist = [\"apple\", \"banana\", \"cherry\"]\n",
        "\n",
        "thislist.clear()\n",
        "\n",
        "print(thislist)"
      ],
      "metadata": {
        "colab": {
          "base_uri": "https://localhost:8080/"
        },
        "id": "gwjWyf4WYhbF",
        "outputId": "1625aad2-9a8c-42dc-a437-92ffa9cc4de3"
      },
      "execution_count": 76,
      "outputs": [
        {
          "output_type": "stream",
          "name": "stdout",
          "text": [
            "[]\n"
          ]
        }
      ]
    },
    {
      "cell_type": "code",
      "source": [
        "# create a list of vowels\n",
        "vowel = ['a', 'e', 'i', 'u']\n",
        "\n",
        "# 'o' is inserted at index 3 (4th position)\n",
        "vowel.insert(3, 'o')\n",
        "\n",
        "\n",
        "print('List:', vowel)"
      ],
      "metadata": {
        "colab": {
          "base_uri": "https://localhost:8080/"
        },
        "id": "px8ldJf6Y8tG",
        "outputId": "7c2e05b9-dfdc-4706-a312-29f1014c8f60"
      },
      "execution_count": 79,
      "outputs": [
        {
          "output_type": "stream",
          "name": "stdout",
          "text": [
            "List: ['a', 'e', 'i', 'o', 'u']\n"
          ]
        }
      ]
    },
    {
      "cell_type": "code",
      "source": [
        "myList = ['one', 'two', 'three']\n",
        "\n",
        "myList.insert(0, 'zero')\n",
        "\n",
        "print(myList)"
      ],
      "metadata": {
        "colab": {
          "base_uri": "https://localhost:8080/"
        },
        "id": "lFM3InOyZ43t",
        "outputId": "58ed524d-aefc-4353-c613-3f35eac975d4"
      },
      "execution_count": 81,
      "outputs": [
        {
          "output_type": "stream",
          "name": "stdout",
          "text": [
            "['zero', 'one', 'two', 'three']\n"
          ]
        }
      ]
    },
    {
      "cell_type": "code",
      "source": [
        "var = [4.2, \"Good\", \"Bad\", \"xyz\", -9.64, 99999, \"Juice\", \"Johny\", -0.0324, \"Cameron\", \"Kotlin\", \"Hriddho\"]\n",
        "\n",
        "type(var)\n",
        "\n",
        "len(var)"
      ],
      "metadata": {
        "colab": {
          "base_uri": "https://localhost:8080/"
        },
        "id": "nKm8iBJAaQTj",
        "outputId": "9017d89e-6fc5-4428-fb76-25f44f590497"
      },
      "execution_count": 82,
      "outputs": [
        {
          "output_type": "execute_result",
          "data": {
            "text/plain": [
              "12"
            ]
          },
          "metadata": {},
          "execution_count": 82
        }
      ]
    },
    {
      "cell_type": "code",
      "source": [
        "var[-2:-11:-3]"
      ],
      "metadata": {
        "colab": {
          "base_uri": "https://localhost:8080/"
        },
        "id": "U43SCcpka21F",
        "outputId": "498fccc7-1d40-4ffe-df20-9124eefb90d1"
      },
      "execution_count": 84,
      "outputs": [
        {
          "output_type": "execute_result",
          "data": {
            "text/plain": [
              "['Kotlin', 'Johny', -9.64]"
            ]
          },
          "metadata": {},
          "execution_count": 84
        }
      ]
    },
    {
      "cell_type": "code",
      "source": [
        "var[-12:-2]"
      ],
      "metadata": {
        "colab": {
          "base_uri": "https://localhost:8080/"
        },
        "id": "ctDSrgiObbux",
        "outputId": "a7b916b8-4dfb-421c-92d9-440f6960b0cb"
      },
      "execution_count": 89,
      "outputs": [
        {
          "output_type": "execute_result",
          "data": {
            "text/plain": [
              "[4.2, 'Good', 'Bad', 'xyz', -9.64, 99999, 'Juice', 'Johny', -0.0324, 'Cameron']"
            ]
          },
          "metadata": {},
          "execution_count": 89
        }
      ]
    },
    {
      "cell_type": "code",
      "source": [
        "myList1 = ['one', 'two', 'three']\n",
        "\n",
        "myList2 = ['four', 'five', 'six']\n",
        "\n",
        "myList1.extend(myList2)\n",
        "\n",
        "print(myList1)"
      ],
      "metadata": {
        "colab": {
          "base_uri": "https://localhost:8080/"
        },
        "id": "dFuT95eGca3K",
        "outputId": "0c073586-3266-4a0f-9e78-eaf6e06292a7"
      },
      "execution_count": 91,
      "outputs": [
        {
          "output_type": "stream",
          "name": "stdout",
          "text": [
            "['one', 'two', 'three', 'four', 'five', 'six']\n"
          ]
        }
      ]
    },
    {
      "cell_type": "code",
      "source": [
        "var = (\"Machine\", \"Learning\", \"Python\")\n",
        "\n",
        "print(var)"
      ],
      "metadata": {
        "colab": {
          "base_uri": "https://localhost:8080/"
        },
        "id": "KHNlwju-ccRl",
        "outputId": "16632d68-f854-4206-aad3-28e65751f778"
      },
      "execution_count": 93,
      "outputs": [
        {
          "output_type": "stream",
          "name": "stdout",
          "text": [
            "('Machine', 'Learning', 'Python')\n"
          ]
        }
      ]
    },
    {
      "cell_type": "code",
      "source": [
        "# Code to create a tuple with repetition\n",
        " \n",
        "A = ('Python',)*4\n",
        "\n",
        "print(A)"
      ],
      "metadata": {
        "colab": {
          "base_uri": "https://localhost:8080/"
        },
        "id": "NbGJuhpZdkF5",
        "outputId": "dbc7108e-8f6b-4c52-dc45-b152e21ef42d"
      },
      "execution_count": 96,
      "outputs": [
        {
          "output_type": "stream",
          "name": "stdout",
          "text": [
            "('Python', 'Python', 'Python', 'Python')\n"
          ]
        }
      ]
    },
    {
      "cell_type": "code",
      "source": [
        "a = ('Machine', 'Learning' , 'Data' , 'Structure')\n",
        "\n",
        "print(a[1])\n",
        "\n",
        "print(a[3])"
      ],
      "metadata": {
        "colab": {
          "base_uri": "https://localhost:8080/"
        },
        "id": "skwtqOh4eNSq",
        "outputId": "500841bb-59f0-42a3-cecb-39adce5c4643"
      },
      "execution_count": 99,
      "outputs": [
        {
          "output_type": "stream",
          "name": "stdout",
          "text": [
            "Learning\n",
            "Structure\n"
          ]
        }
      ]
    },
    {
      "cell_type": "code",
      "source": [
        "myList = [\"Ryan\", \"Burl\", 63.76, \"Spark\", 9.64, \"Angular\", \"Lion\"]\n",
        " \n",
        "myList.remove(\"Spark\")\n",
        " \n",
        "myList"
      ],
      "metadata": {
        "colab": {
          "base_uri": "https://localhost:8080/"
        },
        "id": "mNybK84wftx9",
        "outputId": "47198e19-87a6-4da7-a402-a8bac1971a3c"
      },
      "execution_count": 102,
      "outputs": [
        {
          "output_type": "execute_result",
          "data": {
            "text/plain": [
              "['Ryan', 'Burl', 63.76, 9.64, 'Angular', 'Lion']"
            ]
          },
          "metadata": {},
          "execution_count": 102
        }
      ]
    },
    {
      "cell_type": "code",
      "source": [
        "var[-4:-1]"
      ],
      "metadata": {
        "colab": {
          "base_uri": "https://localhost:8080/"
        },
        "id": "5nrvF2axgoIL",
        "outputId": "d90c93a6-95ac-4fbb-bcd9-93e8ed73ca76"
      },
      "execution_count": 109,
      "outputs": [
        {
          "output_type": "execute_result",
          "data": {
            "text/plain": [
              "('Machine', 'Learning')"
            ]
          },
          "metadata": {},
          "execution_count": 109
        }
      ]
    }
  ]
}