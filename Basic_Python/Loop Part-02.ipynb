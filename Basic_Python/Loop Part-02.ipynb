{
 "cells": [
  {
   "cell_type": "code",
   "execution_count": 1,
   "id": "80c4c8f2",
   "metadata": {},
   "outputs": [],
   "source": [
    "v = [(2, 7), (8, 3), (3, 6), (1, 9), (5, 2), (9, 3)]\n",
    "\n",
    "list1 = []\n",
    "for i in v:\n",
    "    list1.append(i[1])"
   ]
  },
  {
   "cell_type": "code",
   "execution_count": 2,
   "id": "6042bfa1",
   "metadata": {},
   "outputs": [
    {
     "data": {
      "text/plain": [
       "[7, 3, 6, 9, 2, 3]"
      ]
     },
     "execution_count": 2,
     "metadata": {},
     "output_type": "execute_result"
    }
   ],
   "source": [
    "list1"
   ]
  },
  {
   "cell_type": "code",
   "execution_count": 3,
   "id": "6465ac2f",
   "metadata": {},
   "outputs": [
    {
     "name": "stdout",
     "output_type": "stream",
     "text": [
      "(2, 7)\n",
      "(8, 3)\n",
      "(9, 3)\n",
      "(2, 7)\n",
      "(8, 3)\n",
      "(9, 3)\n",
      "(3, 6)\n",
      "(2, 7)\n",
      "(8, 3)\n",
      "(9, 3)\n",
      "(3, 6)\n",
      "(2, 7)\n",
      "(1, 9)\n",
      "(5, 2)\n",
      "(8, 3)\n",
      "(9, 3)\n",
      "(3, 6)\n",
      "(2, 7)\n",
      "(1, 9)\n",
      "(5, 2)\n",
      "(8, 3)\n",
      "(9, 3)\n",
      "(8, 3)\n",
      "(9, 3)\n",
      "(3, 6)\n",
      "(2, 7)\n",
      "(1, 9)\n"
     ]
    }
   ],
   "source": [
    "v = [(2, 7), (8, 3), (3, 6), (1, 9), (5, 2), (9, 3)]\n",
    "\n",
    "list1 = []\n",
    "for i in v:\n",
    "    list1.append(i[1])\n",
    "    \n",
    "    list1.sort()\n",
    "    final=[]\n",
    "    for i in list1:\n",
    "        for j in v:\n",
    "            if j [1]==i:\n",
    "                print(j)"
   ]
  },
  {
   "cell_type": "code",
   "execution_count": 6,
   "id": "efacc7a5",
   "metadata": {},
   "outputs": [
    {
     "name": "stdout",
     "output_type": "stream",
     "text": [
      "(2, 7)\n",
      "(8, 3)\n",
      "(9, 3)\n",
      "(2, 7)\n",
      "(8, 3)\n",
      "(9, 3)\n",
      "(3, 6)\n",
      "(2, 7)\n",
      "(8, 3)\n",
      "(9, 3)\n",
      "(3, 6)\n",
      "(2, 7)\n",
      "(1, 9)\n",
      "(5, 2)\n",
      "(8, 3)\n",
      "(9, 3)\n",
      "(3, 6)\n",
      "(2, 7)\n",
      "(1, 9)\n",
      "(5, 2)\n",
      "(8, 3)\n",
      "(9, 3)\n",
      "(8, 3)\n",
      "(9, 3)\n",
      "(3, 6)\n",
      "(2, 7)\n",
      "(1, 9)\n"
     ]
    }
   ],
   "source": [
    "v = [(2, 7), (8, 3), (3, 6), (1, 9), (5, 2), (9, 3)]\n",
    "\n",
    "list1 = []\n",
    "for i in v:\n",
    "    list1.append(i[1])\n",
    "    \n",
    "    list1.sort()\n",
    "    \n",
    "    final=[]\n",
    "    for i in list1:\n",
    "        for j in v:\n",
    "            if j[1]==i:\n",
    "                print(j)"
   ]
  },
  {
   "cell_type": "code",
   "execution_count": 17,
   "id": "f35b2f61",
   "metadata": {},
   "outputs": [],
   "source": [
    "v = [(2, 7), (8, 3), (3, 6), (1, 9), (5, 2), (9, 3)]\n",
    "\n",
    "second_index_value = []\n",
    "for tuples in v:\n",
    "    second_index_value.append(tuples[1])\n",
    "    \n",
    "second_index_value.sort()\n",
    "    \n",
    "final=[]\n",
    "for value in second_index_value:\n",
    "        for tuples in v:\n",
    "            if tuples[1]==value:\n",
    "                final.append(tuples)"
   ]
  },
  {
   "cell_type": "code",
   "execution_count": 18,
   "id": "d01b91a4",
   "metadata": {},
   "outputs": [
    {
     "data": {
      "text/plain": [
       "[(5, 2), (8, 3), (9, 3), (8, 3), (9, 3), (3, 6), (2, 7), (1, 9)]"
      ]
     },
     "execution_count": 18,
     "metadata": {},
     "output_type": "execute_result"
    }
   ],
   "source": [
    "final"
   ]
  },
  {
   "cell_type": "code",
   "execution_count": 19,
   "id": "baf2163f",
   "metadata": {},
   "outputs": [
    {
     "name": "stdout",
     "output_type": "stream",
     "text": [
      "Tuples are (2, 7)\n",
      "Tuples are (8, 3)\n",
      "Tuples are (3, 6)\n",
      "Tuples are (1, 9)\n",
      "Tuples are (5, 2)\n",
      "Tuples are (9, 3)\n"
     ]
    }
   ],
   "source": [
    "v = [(2, 7), (8, 3), (3, 6), (1, 9), (5, 2), (9, 3)]\n",
    "\n",
    "second_index_value = []\n",
    "for tuples in v:\n",
    "    print('Tuples are', tuples)\n",
    "    second_index_value.append(tuples[1])\n",
    "    \n",
    "second_index_value.sort()\n",
    "    \n",
    "final=[]\n",
    "for value in second_index_value:\n",
    "        for tuples in v:\n",
    "            if tuples[1]==value:\n",
    "                final.append(tuples)"
   ]
  },
  {
   "cell_type": "code",
   "execution_count": 22,
   "id": "667843e6",
   "metadata": {},
   "outputs": [
    {
     "name": "stdout",
     "output_type": "stream",
     "text": [
      "Tuples are (2, 7)\n",
      "Last elements of tuple 7\n",
      "Tuples are (8, 3)\n",
      "Last elements of tuple 3\n",
      "Tuples are (3, 6)\n",
      "Last elements of tuple 6\n",
      "Tuples are (1, 9)\n",
      "Last elements of tuple 9\n",
      "Tuples are (5, 2)\n",
      "Last elements of tuple 2\n",
      "Tuples are (9, 3)\n",
      "Last elements of tuple 3\n"
     ]
    }
   ],
   "source": [
    "v = [(2, 7), (8, 3), (3, 6), (1, 9), (5, 2), (9, 3)]\n",
    "\n",
    "second_index_value = []\n",
    "for tuples in v:\n",
    "    print('Tuples are', tuples)\n",
    "    print('Last elements of tuple', tuples[1])\n",
    "    second_index_value.append(tuples[1])\n",
    "    \n",
    "second_index_value.sort()\n",
    "    \n",
    "final=[]\n",
    "for value in second_index_value:\n",
    "        for tuples in v:\n",
    "            if tuples[1]==value:\n",
    "                final.append(tuples)"
   ]
  },
  {
   "cell_type": "code",
   "execution_count": 23,
   "id": "51813ad1",
   "metadata": {},
   "outputs": [
    {
     "name": "stdout",
     "output_type": "stream",
     "text": [
      "Tuples are (2, 7)\n",
      "Last elements of tuple 7\n",
      "Tuples are (8, 3)\n",
      "Last elements of tuple 3\n",
      "Tuples are (3, 6)\n",
      "Last elements of tuple 6\n",
      "Tuples are (1, 9)\n",
      "Last elements of tuple 9\n",
      "Tuples are (5, 2)\n",
      "Last elements of tuple 2\n",
      "Tuples are (9, 3)\n",
      "Last elements of tuple 3\n",
      "All the last values of tuples are [7, 3, 6, 9, 2, 3]\n"
     ]
    }
   ],
   "source": [
    "v = [(2, 7), (8, 3), (3, 6), (1, 9), (5, 2), (9, 3)]\n",
    "\n",
    "second_index_value = []\n",
    "for tuples in v:\n",
    "    print('Tuples are', tuples)\n",
    "    print('Last elements of tuple', tuples[1])\n",
    "    second_index_value.append(tuples[1])\n",
    "    \n",
    "print('All the last values of tuples are', second_index_value)\n",
    "second_index_value.sort()\n",
    "    \n",
    "final=[]\n",
    "for value in second_index_value:\n",
    "        for tuples in v:\n",
    "            if tuples[1]==value:\n",
    "                final.append(tuples)"
   ]
  },
  {
   "cell_type": "code",
   "execution_count": 24,
   "id": "b04ec381",
   "metadata": {},
   "outputs": [
    {
     "name": "stdout",
     "output_type": "stream",
     "text": [
      "Tuples are (2, 7)\n",
      "Last elements of tuple 7\n",
      "Tuples are (8, 3)\n",
      "Last elements of tuple 3\n",
      "Tuples are (3, 6)\n",
      "Last elements of tuple 6\n",
      "Tuples are (1, 9)\n",
      "Last elements of tuple 9\n",
      "Tuples are (5, 2)\n",
      "Last elements of tuple 2\n",
      "Tuples are (9, 3)\n",
      "Last elements of tuple 3\n",
      "All the last values of tuples are [7, 3, 6, 9, 2, 3]\n",
      "All the last values of tuples after sorting [2, 3, 3, 6, 7, 9]\n"
     ]
    }
   ],
   "source": [
    "v = [(2, 7), (8, 3), (3, 6), (1, 9), (5, 2), (9, 3)]\n",
    "\n",
    "second_index_value = []\n",
    "for tuples in v:\n",
    "    print('Tuples are', tuples)\n",
    "    print('Last elements of tuple', tuples[1])\n",
    "    second_index_value.append(tuples[1])\n",
    "    \n",
    "print('All the last values of tuples are', second_index_value)\n",
    "second_index_value.sort()\n",
    "print('All the last values of tuples after sorting', second_index_value)    \n",
    "final=[]\n",
    "for value in second_index_value:\n",
    "        for tuples in v:\n",
    "            if tuples[1]==value:\n",
    "                final.append(tuples)"
   ]
  },
  {
   "cell_type": "code",
   "execution_count": 35,
   "id": "7d27b87f",
   "metadata": {},
   "outputs": [
    {
     "name": "stdout",
     "output_type": "stream",
     "text": [
      "All the last values of tuples after sorting [2, 3, 3, 6, 7, 9]\n",
      "2\n",
      "(2, 7)\n",
      "(8, 3)\n",
      "(3, 6)\n",
      "(1, 9)\n",
      "(5, 2)\n",
      "(9, 3)\n",
      "3\n",
      "(2, 7)\n",
      "(8, 3)\n",
      "(3, 6)\n",
      "(1, 9)\n",
      "(5, 2)\n",
      "(9, 3)\n",
      "3\n",
      "(2, 7)\n",
      "(8, 3)\n",
      "(3, 6)\n",
      "(1, 9)\n",
      "(5, 2)\n",
      "(9, 3)\n",
      "6\n",
      "(2, 7)\n",
      "(8, 3)\n",
      "(3, 6)\n",
      "(1, 9)\n",
      "(5, 2)\n",
      "(9, 3)\n",
      "7\n",
      "(2, 7)\n",
      "(8, 3)\n",
      "(3, 6)\n",
      "(1, 9)\n",
      "(5, 2)\n",
      "(9, 3)\n",
      "9\n",
      "(2, 7)\n",
      "(8, 3)\n",
      "(3, 6)\n",
      "(1, 9)\n",
      "(5, 2)\n",
      "(9, 3)\n"
     ]
    }
   ],
   "source": [
    "v = [(2, 7), (8, 3), (3, 6), (1, 9), (5, 2), (9, 3)]\n",
    "\n",
    "second_index_value = []\n",
    "for tuples in v:\n",
    "   # print('Tuples are', tuples)\n",
    "   # print('Last elements of tuple', tuples[1])\n",
    "    second_index_value.append(tuples[1])\n",
    "    \n",
    "# print('All the last values of tuples are', second_index_value)\n",
    "second_index_value.sort()\n",
    "print('All the last values of tuples after sorting', second_index_value)    \n",
    "final=[]\n",
    "for value in second_index_value:\n",
    "    print(value)\n",
    "    for tuples in v:\n",
    "            print(tuples)\n",
    "            if tuples[1]==value:\n",
    "                final.append(tuples)"
   ]
  },
  {
   "cell_type": "code",
   "execution_count": 32,
   "id": "5d1fd8de",
   "metadata": {},
   "outputs": [
    {
     "data": {
      "text/plain": [
       "[(5, 2), (8, 3), (9, 3), (8, 3), (9, 3), (3, 6), (2, 7), (1, 9)]"
      ]
     },
     "execution_count": 32,
     "metadata": {},
     "output_type": "execute_result"
    }
   ],
   "source": [
    "final"
   ]
  },
  {
   "cell_type": "code",
   "execution_count": 34,
   "id": "15b08ce8",
   "metadata": {},
   "outputs": [
    {
     "name": "stdout",
     "output_type": "stream",
     "text": [
      "All the last values of tuples after sorting [2, 3, 3, 6, 7, 9]\n",
      "2\n",
      "(2, 7)\n",
      "(8, 3)\n",
      "(3, 6)\n",
      "(1, 9)\n",
      "(5, 2)\n",
      "(9, 3)\n",
      "3\n",
      "(2, 7)\n",
      "(8, 3)\n",
      "(3, 6)\n",
      "(1, 9)\n",
      "(5, 2)\n",
      "(9, 3)\n",
      "3\n",
      "(2, 7)\n",
      "(8, 3)\n",
      "(3, 6)\n",
      "(1, 9)\n",
      "(5, 2)\n",
      "(9, 3)\n",
      "6\n",
      "(2, 7)\n",
      "(8, 3)\n",
      "(3, 6)\n",
      "(1, 9)\n",
      "(5, 2)\n",
      "(9, 3)\n",
      "7\n",
      "(2, 7)\n",
      "(8, 3)\n",
      "(3, 6)\n",
      "(1, 9)\n",
      "(5, 2)\n",
      "(9, 3)\n",
      "9\n",
      "(2, 7)\n",
      "(8, 3)\n",
      "(3, 6)\n",
      "(1, 9)\n",
      "(5, 2)\n",
      "(9, 3)\n"
     ]
    },
    {
     "data": {
      "text/plain": [
       "[(5, 2), (8, 3), (9, 3), (8, 3), (9, 3), (3, 6), (2, 7), (1, 9)]"
      ]
     },
     "execution_count": 34,
     "metadata": {},
     "output_type": "execute_result"
    }
   ],
   "source": [
    "v = [(2, 7), (8, 3), (3, 6), (1, 9), (5, 2), (9, 3)]\n",
    "\n",
    "second_index_value = []\n",
    "for tuples in v:\n",
    "   # print('Tuples are', tuples)\n",
    "   # print('Last elements of tuple', tuples[1])\n",
    "    second_index_value.append(tuples[1])\n",
    "    \n",
    "# print('All the last values of tuples are', second_index_value)\n",
    "second_index_value.sort()\n",
    "print('All the last values of tuples after sorting', second_index_value)\n",
    "\n",
    "final=[]\n",
    "for value in second_index_value:\n",
    "    print(value)\n",
    "    for tuples in v:\n",
    "            print(tuples)\n",
    "            if tuples[1]==value:\n",
    "                final.append(tuples)\n",
    "final"
   ]
  },
  {
   "cell_type": "code",
   "execution_count": 38,
   "id": "bc1c7567",
   "metadata": {},
   "outputs": [
    {
     "name": "stdout",
     "output_type": "stream",
     "text": [
      "Tuples are (2, 7)\n",
      "Last elements of tuple 7\n",
      "Tuples are (8, 3)\n",
      "Last elements of tuple 3\n",
      "Tuples are (3, 6)\n",
      "Last elements of tuple 6\n",
      "Tuples are (1, 9)\n",
      "Last elements of tuple 9\n",
      "Tuples are (5, 2)\n",
      "Last elements of tuple 2\n",
      "Tuples are (9, 3)\n",
      "Last elements of tuple 3\n",
      "All the last values of tuples are [7, 3, 6, 9, 2, 3]\n",
      "All the last values of tuples after sorting [2, 3, 3, 6, 7, 9]\n",
      "2\n",
      "3\n",
      "3\n",
      "6\n",
      "7\n",
      "9\n"
     ]
    },
    {
     "data": {
      "text/plain": [
       "[(5, 2), (8, 3), (9, 3), (8, 3), (9, 3), (3, 6), (2, 7), (1, 9)]"
      ]
     },
     "execution_count": 38,
     "metadata": {},
     "output_type": "execute_result"
    }
   ],
   "source": [
    "v = [(2, 7), (8, 3), (3, 6), (1, 9), (5, 2), (9, 3)]\n",
    "\n",
    "second_index_value = []\n",
    "for tuples in v:\n",
    "    print('Tuples are', tuples)\n",
    "    print('Last elements of tuple', tuples[1])\n",
    "    second_index_value.append(tuples[1])\n",
    "    \n",
    "print('All the last values of tuples are', second_index_value)\n",
    "second_index_value.sort()\n",
    "print('All the last values of tuples after sorting', second_index_value)    \n",
    "final=[]\n",
    "for value in second_index_value:\n",
    "    print(value)\n",
    "    for tuples in v:\n",
    "            if tuples[1]==value:\n",
    "                final.append(tuples)\n",
    "final"
   ]
  },
  {
   "cell_type": "code",
   "execution_count": 39,
   "id": "4cd99b99",
   "metadata": {},
   "outputs": [
    {
     "name": "stdout",
     "output_type": "stream",
     "text": [
      "All the last values of tuples after sorting [2, 3, 3, 6, 7, 9]\n",
      "2\n",
      "(2, 7)\n",
      "(8, 3)\n",
      "(3, 6)\n",
      "(1, 9)\n",
      "(5, 2)\n",
      "3\n",
      "(2, 7)\n",
      "(8, 3)\n",
      "3\n",
      "(2, 7)\n",
      "(8, 3)\n",
      "6\n",
      "(2, 7)\n",
      "(8, 3)\n",
      "(3, 6)\n",
      "7\n",
      "(2, 7)\n",
      "9\n",
      "(2, 7)\n",
      "(8, 3)\n",
      "(3, 6)\n",
      "(1, 9)\n"
     ]
    },
    {
     "data": {
      "text/plain": [
       "[(5, 2), (8, 3), (8, 3), (3, 6), (2, 7), (1, 9)]"
      ]
     },
     "execution_count": 39,
     "metadata": {},
     "output_type": "execute_result"
    }
   ],
   "source": [
    "v = [(2, 7), (8, 3), (3, 6), (1, 9), (5, 2), (9, 3)]\n",
    "\n",
    "second_index_value = []\n",
    "for tuples in v:\n",
    "   # print('Tuples are', tuples)\n",
    "   # print('Last elements of tuple', tuples[1])\n",
    "    second_index_value.append(tuples[1])\n",
    "    \n",
    "# print('All the last values of tuples are', second_index_value)\n",
    "second_index_value.sort()\n",
    "print('All the last values of tuples after sorting', second_index_value)\n",
    "\n",
    "final=[]\n",
    "for value in second_index_value:\n",
    "    print(value)\n",
    "    for tuples in v:\n",
    "            print(tuples)\n",
    "            if tuples[1]==value:\n",
    "                final.append(tuples)\n",
    "                break\n",
    "final"
   ]
  },
  {
   "cell_type": "code",
   "execution_count": 40,
   "id": "cd328371",
   "metadata": {},
   "outputs": [
    {
     "name": "stdout",
     "output_type": "stream",
     "text": [
      "All the last values of tuples after sorting [2, 3, 3, 6, 7, 9]\n",
      "value 2\n",
      "(2, 7)\n",
      "(8, 3)\n",
      "(3, 6)\n",
      "(1, 9)\n",
      "(5, 2)\n",
      "value 3\n",
      "(2, 7)\n",
      "(8, 3)\n",
      "value 3\n",
      "(2, 7)\n",
      "(8, 3)\n",
      "value 6\n",
      "(2, 7)\n",
      "(8, 3)\n",
      "(3, 6)\n",
      "value 7\n",
      "(2, 7)\n",
      "value 9\n",
      "(2, 7)\n",
      "(8, 3)\n",
      "(3, 6)\n",
      "(1, 9)\n"
     ]
    },
    {
     "data": {
      "text/plain": [
       "[(5, 2), (8, 3), (8, 3), (3, 6), (2, 7), (1, 9)]"
      ]
     },
     "execution_count": 40,
     "metadata": {},
     "output_type": "execute_result"
    }
   ],
   "source": [
    "v = [(2, 7), (8, 3), (3, 6), (1, 9), (5, 2), (9, 3)]\n",
    "\n",
    "second_index_value = []\n",
    "for tuples in v:\n",
    "   # print('Tuples are', tuples)\n",
    "   # print('Last elements of tuple', tuples[1])\n",
    "    second_index_value.append(tuples[1])\n",
    "    \n",
    "# print('All the last values of tuples are', second_index_value)\n",
    "second_index_value.sort()\n",
    "print('All the last values of tuples after sorting', second_index_value)\n",
    "\n",
    "final=[]\n",
    "for value in second_index_value:\n",
    "    print('value', value)\n",
    "    for tuples in v:\n",
    "            print(tuples)\n",
    "            if tuples[1]==value:\n",
    "                final.append(tuples)\n",
    "                break\n",
    "final"
   ]
  },
  {
   "cell_type": "code",
   "execution_count": 41,
   "id": "2e9642bd",
   "metadata": {},
   "outputs": [
    {
     "name": "stdout",
     "output_type": "stream",
     "text": [
      "All the last values of tuples after sorting [2, 3, 3, 6, 7, 9]\n",
      "value 2\n",
      "(2, 7) 7\n",
      "(8, 3) 3\n",
      "(3, 6) 6\n",
      "(1, 9) 9\n",
      "(5, 2) 2\n",
      "value 3\n",
      "(2, 7) 7\n",
      "(8, 3) 3\n",
      "value 3\n",
      "(2, 7) 7\n",
      "(8, 3) 3\n",
      "value 6\n",
      "(2, 7) 7\n",
      "(8, 3) 3\n",
      "(3, 6) 6\n",
      "value 7\n",
      "(2, 7) 7\n",
      "value 9\n",
      "(2, 7) 7\n",
      "(8, 3) 3\n",
      "(3, 6) 6\n",
      "(1, 9) 9\n"
     ]
    },
    {
     "data": {
      "text/plain": [
       "[(5, 2), (8, 3), (8, 3), (3, 6), (2, 7), (1, 9)]"
      ]
     },
     "execution_count": 41,
     "metadata": {},
     "output_type": "execute_result"
    }
   ],
   "source": [
    "v = [(2, 7), (8, 3), (3, 6), (1, 9), (5, 2), (9, 3)]\n",
    "\n",
    "second_index_value = []\n",
    "for tuples in v:\n",
    "   # print('Tuples are', tuples)\n",
    "   # print('Last elements of tuple', tuples[1])\n",
    "    second_index_value.append(tuples[1])\n",
    "    \n",
    "# print('All the last values of tuples are', second_index_value)\n",
    "second_index_value.sort()\n",
    "print('All the last values of tuples after sorting', second_index_value)\n",
    "\n",
    "final=[]\n",
    "for value in second_index_value:\n",
    "    print('value', value)\n",
    "    for tuples in v:\n",
    "            print(tuples, tuples[1])\n",
    "            if tuples[1]==value:\n",
    "                final.append(tuples)\n",
    "                break\n",
    "final"
   ]
  },
  {
   "cell_type": "code",
   "execution_count": 42,
   "id": "0aec034c",
   "metadata": {},
   "outputs": [
    {
     "name": "stdout",
     "output_type": "stream",
     "text": [
      "All the last values of tuples after sorting [2, 3, 3, 6, 7, 9]\n",
      "value 2\n",
      "7\n",
      "3\n",
      "6\n",
      "9\n",
      "2\n",
      "value 3\n",
      "7\n",
      "3\n",
      "value 3\n",
      "7\n",
      "3\n",
      "value 6\n",
      "7\n",
      "3\n",
      "6\n",
      "value 7\n",
      "7\n",
      "value 9\n",
      "7\n",
      "3\n",
      "6\n",
      "9\n"
     ]
    },
    {
     "data": {
      "text/plain": [
       "[(5, 2), (8, 3), (8, 3), (3, 6), (2, 7), (1, 9)]"
      ]
     },
     "execution_count": 42,
     "metadata": {},
     "output_type": "execute_result"
    }
   ],
   "source": [
    "v = [(2, 7), (8, 3), (3, 6), (1, 9), (5, 2), (9, 3)]\n",
    "\n",
    "second_index_value = []\n",
    "for tuples in v:\n",
    "   # print('Tuples are', tuples)\n",
    "   # print('Last elements of tuple', tuples[1])\n",
    "    second_index_value.append(tuples[1])\n",
    "    \n",
    "# print('All the last values of tuples are', second_index_value)\n",
    "second_index_value.sort()\n",
    "print('All the last values of tuples after sorting', second_index_value)\n",
    "\n",
    "final=[]\n",
    "for value in second_index_value:\n",
    "    print('value', value)\n",
    "    for tuples in v:\n",
    "            print(tuples[1])\n",
    "            if tuples[1]==value:\n",
    "                final.append(tuples)\n",
    "                break\n",
    "final"
   ]
  },
  {
   "cell_type": "code",
   "execution_count": 43,
   "id": "0a95fe16",
   "metadata": {},
   "outputs": [
    {
     "name": "stdout",
     "output_type": "stream",
     "text": [
      "All the last values of tuples after sorting [2, 3, 3, 6, 7, 9]\n",
      "value 2\n",
      "7\n",
      "3\n",
      "6\n",
      "9\n",
      "2\n",
      "[(5, 2)]\n",
      "value 3\n",
      "7\n",
      "3\n",
      "[(5, 2), (8, 3)]\n",
      "value 3\n",
      "7\n",
      "3\n",
      "[(5, 2), (8, 3), (8, 3)]\n",
      "value 6\n",
      "7\n",
      "3\n",
      "6\n",
      "[(5, 2), (8, 3), (8, 3), (3, 6)]\n",
      "value 7\n",
      "7\n",
      "[(5, 2), (8, 3), (8, 3), (3, 6), (2, 7)]\n",
      "value 9\n",
      "7\n",
      "3\n",
      "6\n",
      "9\n",
      "[(5, 2), (8, 3), (8, 3), (3, 6), (2, 7), (1, 9)]\n"
     ]
    },
    {
     "data": {
      "text/plain": [
       "[(5, 2), (8, 3), (8, 3), (3, 6), (2, 7), (1, 9)]"
      ]
     },
     "execution_count": 43,
     "metadata": {},
     "output_type": "execute_result"
    }
   ],
   "source": [
    "v = [(2, 7), (8, 3), (3, 6), (1, 9), (5, 2), (9, 3)]\n",
    "\n",
    "second_index_value = []\n",
    "for tuples in v:\n",
    "   # print('Tuples are', tuples)\n",
    "   # print('Last elements of tuple', tuples[1])\n",
    "    second_index_value.append(tuples[1])\n",
    "    \n",
    "# print('All the last values of tuples are', second_index_value)\n",
    "second_index_value.sort()\n",
    "print('All the last values of tuples after sorting', second_index_value)\n",
    "\n",
    "final=[]\n",
    "for value in second_index_value:\n",
    "    print('value', value)\n",
    "    for tuples in v:\n",
    "            print(tuples[1])\n",
    "            if tuples[1]==value:\n",
    "                final.append(tuples)\n",
    "                print(final)\n",
    "                break\n",
    "final"
   ]
  },
  {
   "cell_type": "code",
   "execution_count": 46,
   "id": "87fa65cf",
   "metadata": {},
   "outputs": [
    {
     "name": "stdout",
     "output_type": "stream",
     "text": [
      "Hello\n",
      "World\n"
     ]
    }
   ],
   "source": [
    "s = 'Hello World'\n",
    "\n",
    "for i in s.split():\n",
    "    print(i)"
   ]
  },
  {
   "cell_type": "code",
   "execution_count": 47,
   "id": "ff52516b",
   "metadata": {},
   "outputs": [
    {
     "name": "stdout",
     "output_type": "stream",
     "text": [
      "Hello\n",
      "H\n",
      "e\n",
      "l\n",
      "l\n",
      "o\n",
      "World\n",
      "W\n",
      "o\n",
      "r\n",
      "l\n",
      "d\n"
     ]
    }
   ],
   "source": [
    "s = 'Hello World'\n",
    "\n",
    "for word in s.split():\n",
    "    print(word)\n",
    "    \n",
    "    for char in word:\n",
    "        print(char)"
   ]
  },
  {
   "cell_type": "code",
   "execution_count": 48,
   "id": "d81ca088",
   "metadata": {},
   "outputs": [
    {
     "name": "stdout",
     "output_type": "stream",
     "text": [
      "H\n",
      "e\n",
      "l\n",
      "l\n",
      "o\n",
      " \n",
      "W\n",
      "o\n",
      "r\n",
      "l\n",
      "d\n"
     ]
    }
   ],
   "source": [
    "s = 'Hello World'\n",
    "\n",
    "for word in s:\n",
    "    print(word)"
   ]
  },
  {
   "cell_type": "code",
   "execution_count": 49,
   "id": "fd910633",
   "metadata": {},
   "outputs": [
    {
     "name": "stdout",
     "output_type": "stream",
     "text": [
      "Hello\n",
      "H\n",
      "e\n",
      "l\n",
      "l\n",
      "o\n",
      "World\n",
      "W\n",
      "o\n",
      "r\n",
      "l\n",
      "d\n"
     ]
    }
   ],
   "source": [
    "s = 'Hello World'\n",
    "\n",
    "for word in s.split():\n",
    "    print(word)\n",
    "    print(word[0].upper())    \n",
    "    for char in word[1:]:\n",
    "        print(char)"
   ]
  },
  {
   "cell_type": "code",
   "execution_count": 50,
   "id": "21dda21b",
   "metadata": {},
   "outputs": [
    {
     "name": "stdout",
     "output_type": "stream",
     "text": [
      "0\n",
      "1\n",
      "2\n",
      "3\n",
      "4\n"
     ]
    }
   ],
   "source": [
    "for i in range(0, 5):\n",
    "    print(i)"
   ]
  },
  {
   "cell_type": "code",
   "execution_count": 51,
   "id": "adc85770",
   "metadata": {},
   "outputs": [
    {
     "name": "stdout",
     "output_type": "stream",
     "text": [
      "1\n",
      "2\n",
      "3\n",
      "4\n",
      "5\n"
     ]
    }
   ],
   "source": [
    "for i in range(1, 6):\n",
    "    print(i)"
   ]
  },
  {
   "cell_type": "code",
   "execution_count": 53,
   "id": "7021a42c",
   "metadata": {},
   "outputs": [
    {
     "name": "stdout",
     "output_type": "stream",
     "text": [
      "1\n",
      "4\n",
      "9\n",
      "16\n",
      "25\n"
     ]
    }
   ],
   "source": [
    "for i in range(1, 6):\n",
    "    print(i*i)"
   ]
  },
  {
   "cell_type": "code",
   "execution_count": 54,
   "id": "775db58b",
   "metadata": {},
   "outputs": [
    {
     "name": "stdout",
     "output_type": "stream",
     "text": [
      "1\n",
      "22\n",
      "333\n",
      "4444\n",
      "55555\n"
     ]
    }
   ],
   "source": [
    "for i in range(1, 6):\n",
    "    print(str(i)*i)"
   ]
  },
  {
   "cell_type": "code",
   "execution_count": 55,
   "id": "86fd95bf",
   "metadata": {},
   "outputs": [
    {
     "data": {
      "text/plain": [
       "'aa'"
      ]
     },
     "execution_count": 55,
     "metadata": {},
     "output_type": "execute_result"
    }
   ],
   "source": [
    "'a'*2"
   ]
  },
  {
   "cell_type": "code",
   "execution_count": 56,
   "id": "52521eed",
   "metadata": {},
   "outputs": [
    {
     "data": {
      "text/plain": [
       "'11'"
      ]
     },
     "execution_count": 56,
     "metadata": {},
     "output_type": "execute_result"
    }
   ],
   "source": [
    "'1'*2"
   ]
  },
  {
   "cell_type": "code",
   "execution_count": 57,
   "id": "31dc3761",
   "metadata": {},
   "outputs": [
    {
     "data": {
      "text/plain": [
       "2"
      ]
     },
     "execution_count": 57,
     "metadata": {},
     "output_type": "execute_result"
    }
   ],
   "source": [
    "1*2"
   ]
  },
  {
   "cell_type": "code",
   "execution_count": 58,
   "id": "f96fdb62",
   "metadata": {},
   "outputs": [
    {
     "name": "stdout",
     "output_type": "stream",
     "text": [
      "1\n",
      "333\n",
      "55555\n",
      "7777777\n",
      "999999999\n",
      "1111111111111111111111\n"
     ]
    }
   ],
   "source": [
    "for i in range(1, 12, 2):\n",
    "    print(str(i)*i)"
   ]
  },
  {
   "cell_type": "code",
   "execution_count": 59,
   "id": "5e1c1ac3",
   "metadata": {},
   "outputs": [
    {
     "name": "stdout",
     "output_type": "stream",
     "text": [
      "*\n",
      "***\n",
      "*****\n",
      "*******\n",
      "*********\n",
      "***********\n"
     ]
    }
   ],
   "source": [
    "for i in range(1, 12, 2):\n",
    "    print('*'*i)"
   ]
  },
  {
   "cell_type": "code",
   "execution_count": 60,
   "id": "7289c183",
   "metadata": {},
   "outputs": [
    {
     "name": "stdout",
     "output_type": "stream",
     "text": [
      "****\n",
      "****\n",
      "****\n",
      "****\n",
      "****\n",
      "****\n"
     ]
    }
   ],
   "source": [
    "for i in range(1, 12, 2):\n",
    "    print('*'*4)"
   ]
  },
  {
   "cell_type": "code",
   "execution_count": 61,
   "id": "e98d1e64",
   "metadata": {},
   "outputs": [
    {
     "name": "stdout",
     "output_type": "stream",
     "text": [
      "1\n",
      "1\n",
      "1\n",
      "1\n",
      "1\n",
      "1\n"
     ]
    }
   ],
   "source": [
    "for i in range(1, 12, 2):\n",
    "    print(1)"
   ]
  },
  {
   "cell_type": "code",
   "execution_count": 62,
   "id": "9a8e5344",
   "metadata": {},
   "outputs": [
    {
     "name": "stdout",
     "output_type": "stream",
     "text": [
      "1\n",
      "3\n",
      "5\n",
      "7\n",
      "9\n",
      "11\n"
     ]
    }
   ],
   "source": [
    "for i in range(1, 12, 2):\n",
    "    print(i)"
   ]
  },
  {
   "cell_type": "code",
   "execution_count": 63,
   "id": "2922616a",
   "metadata": {},
   "outputs": [
    {
     "name": "stdout",
     "output_type": "stream",
     "text": [
      "1\n",
      "2\n",
      "3\n",
      "4\n",
      "5\n"
     ]
    }
   ],
   "source": [
    "for i in range(1, 6):\n",
    "    print(i)"
   ]
  },
  {
   "cell_type": "code",
   "execution_count": 66,
   "id": "bc62a85d",
   "metadata": {},
   "outputs": [
    {
     "name": "stdout",
     "output_type": "stream",
     "text": [
      "1\n",
      "1\n",
      "1\n",
      "1\n",
      "1\n",
      "1\n",
      "2\n",
      "2\n",
      "2\n",
      "2\n",
      "2\n",
      "2\n",
      "3\n",
      "3\n",
      "3\n",
      "3\n",
      "3\n",
      "3\n",
      "4\n",
      "4\n",
      "4\n",
      "4\n",
      "4\n",
      "4\n",
      "5\n",
      "5\n",
      "5\n",
      "5\n",
      "5\n",
      "5\n"
     ]
    }
   ],
   "source": [
    "for i in range(1, 6):\n",
    "    print(i)\n",
    "    for j in range(1, 6):\n",
    "         print(i)"
   ]
  },
  {
   "cell_type": "code",
   "execution_count": 67,
   "id": "4d192304",
   "metadata": {},
   "outputs": [
    {
     "name": "stdout",
     "output_type": "stream",
     "text": [
      "1\n",
      "1 1\n",
      "1 2\n",
      "1 3\n",
      "1 4\n",
      "1 5\n",
      "2\n",
      "2 1\n",
      "2 2\n",
      "2 3\n",
      "2 4\n",
      "2 5\n",
      "3\n",
      "3 1\n",
      "3 2\n",
      "3 3\n",
      "3 4\n",
      "3 5\n",
      "4\n",
      "4 1\n",
      "4 2\n",
      "4 3\n",
      "4 4\n",
      "4 5\n",
      "5\n",
      "5 1\n",
      "5 2\n",
      "5 3\n",
      "5 4\n",
      "5 5\n"
     ]
    }
   ],
   "source": [
    "for i in range(1, 6):\n",
    "    print(i)\n",
    "    for j in range(1, 6):\n",
    "         print(i, j)"
   ]
  },
  {
   "cell_type": "code",
   "execution_count": 68,
   "id": "01c4dfff",
   "metadata": {},
   "outputs": [
    {
     "name": "stdout",
     "output_type": "stream",
     "text": [
      "1 1\n",
      "1 2\n",
      "1 3\n",
      "1 4\n",
      "1 5\n",
      "2 1\n",
      "2 2\n",
      "2 3\n",
      "2 4\n",
      "2 5\n",
      "3 1\n",
      "3 2\n",
      "3 3\n",
      "3 4\n",
      "3 5\n",
      "4 1\n",
      "4 2\n",
      "4 3\n",
      "4 4\n",
      "4 5\n",
      "5 1\n",
      "5 2\n",
      "5 3\n",
      "5 4\n",
      "5 5\n"
     ]
    }
   ],
   "source": [
    "for i in range(1, 6):\n",
    "\n",
    "    for j in range(1, 6):\n",
    "         print(i, j)"
   ]
  },
  {
   "cell_type": "code",
   "execution_count": 69,
   "id": "2b8933e1",
   "metadata": {},
   "outputs": [
    {
     "name": "stdout",
     "output_type": "stream",
     "text": [
      "1\n",
      "1\n",
      "1\n",
      "1\n",
      "1\n"
     ]
    }
   ],
   "source": [
    "for i in range(1, 6):\n",
    "    print(1)"
   ]
  },
  {
   "cell_type": "code",
   "execution_count": 71,
   "id": "64a54871",
   "metadata": {},
   "outputs": [
    {
     "name": "stdout",
     "output_type": "stream",
     "text": [
      "1 2\n",
      "1 3\n",
      "1 4\n",
      "1 5\n"
     ]
    }
   ],
   "source": [
    "for i in range(1, 6):\n",
    "\n",
    "    for j in range(2, 6):\n",
    "         print(1, j)\n",
    "    break"
   ]
  },
  {
   "cell_type": "code",
   "execution_count": 72,
   "id": "caaea107",
   "metadata": {},
   "outputs": [
    {
     "name": "stdout",
     "output_type": "stream",
     "text": [
      "1 6\n",
      "1 5\n",
      "1 4\n",
      "1 3\n",
      "1 6\n",
      "1 5\n",
      "1 4\n",
      "1 3\n",
      "1 6\n",
      "1 5\n",
      "1 4\n",
      "1 3\n",
      "1 6\n",
      "1 5\n",
      "1 4\n",
      "1 3\n",
      "1 6\n",
      "1 5\n",
      "1 4\n",
      "1 3\n"
     ]
    }
   ],
   "source": [
    "for i in range(1, 6):\n",
    "\n",
    "    for j in range(6, 2, -1):\n",
    "         print(1, j)"
   ]
  },
  {
   "cell_type": "code",
   "execution_count": 73,
   "id": "16471c4b",
   "metadata": {},
   "outputs": [
    {
     "name": "stdout",
     "output_type": "stream",
     "text": [
      "6\n",
      "5\n",
      "4\n",
      "3\n"
     ]
    }
   ],
   "source": [
    "for j in range(6, 2, -1):\n",
    "    print(j)"
   ]
  },
  {
   "cell_type": "code",
   "execution_count": 74,
   "id": "5fbfe092",
   "metadata": {},
   "outputs": [
    {
     "name": "stdout",
     "output_type": "stream",
     "text": [
      "1\n",
      "1\n",
      "1\n",
      "1\n",
      "1\n",
      "1\n",
      "1\n",
      "1\n",
      "1\n",
      "1\n",
      "1\n",
      "1\n",
      "1\n",
      "1\n",
      "1\n",
      "1\n",
      "1\n",
      "1\n",
      "1\n",
      "1\n"
     ]
    }
   ],
   "source": [
    "for i in range(1, 6):\n",
    "\n",
    "    for j in range(6, 2, -1):\n",
    "         print(1)"
   ]
  },
  {
   "cell_type": "code",
   "execution_count": 76,
   "id": "7a00448e",
   "metadata": {},
   "outputs": [
    {
     "name": "stdout",
     "output_type": "stream",
     "text": [
      "[1, 2, 3, 4, 5]\n",
      "[1, 2, 3, 4]\n",
      "[1, 2, 3]\n",
      "[1, 2]\n",
      "[1, 2, 3, 4, 5]\n",
      "[1, 2, 3, 4]\n",
      "[1, 2, 3]\n",
      "[1, 2]\n",
      "[1, 2, 3, 4, 5]\n",
      "[1, 2, 3, 4]\n",
      "[1, 2, 3]\n",
      "[1, 2]\n",
      "[1, 2, 3, 4, 5]\n",
      "[1, 2, 3, 4]\n",
      "[1, 2, 3]\n",
      "[1, 2]\n",
      "[1, 2, 3, 4, 5]\n",
      "[1, 2, 3, 4]\n",
      "[1, 2, 3]\n",
      "[1, 2]\n"
     ]
    }
   ],
   "source": [
    "for i in range(1, 6):\n",
    "\n",
    "    for j in range(6, 2, -1):\n",
    "         print(list(range(1, j)))"
   ]
  },
  {
   "cell_type": "code",
   "execution_count": 77,
   "id": "c1afcc42",
   "metadata": {},
   "outputs": [
    {
     "name": "stdout",
     "output_type": "stream",
     "text": [
      "1 1\n",
      "1 2\n",
      "1 1\n",
      "1 3\n",
      "1 2\n",
      "1 1\n",
      "1 4\n",
      "1 3\n",
      "1 2\n",
      "1 1\n",
      "1 5\n",
      "1 4\n",
      "1 3\n",
      "1 2\n",
      "1 1\n"
     ]
    }
   ],
   "source": [
    "for i in range(1, 6):\n",
    "\n",
    "    for j in range(i, 0, -1):\n",
    "         print(1, j)"
   ]
  },
  {
   "cell_type": "code",
   "execution_count": 78,
   "id": "7aaae816",
   "metadata": {},
   "outputs": [
    {
     "name": "stdout",
     "output_type": "stream",
     "text": [
      "[]\n",
      "[1]\n",
      "[]\n",
      "[1, 2]\n",
      "[1]\n",
      "[]\n",
      "[1, 2, 3]\n",
      "[1, 2]\n",
      "[1]\n",
      "[]\n",
      "[1, 2, 3, 4]\n",
      "[1, 2, 3]\n",
      "[1, 2]\n",
      "[1]\n",
      "[]\n"
     ]
    }
   ],
   "source": [
    "for i in range(1, 6):\n",
    "\n",
    "    for j in range(i, 0, -1):\n",
    "         print(list(range(1, j)))"
   ]
  },
  {
   "cell_type": "code",
   "execution_count": 79,
   "id": "fb19f5f6",
   "metadata": {},
   "outputs": [
    {
     "name": "stdout",
     "output_type": "stream",
     "text": [
      "[]\n",
      "[1]\n",
      "[1, 2]\n",
      "[]\n",
      "[1, 2, 3]\n",
      "[1]\n",
      "[1, 2, 3, 4]\n",
      "[1, 2]\n",
      "[]\n"
     ]
    }
   ],
   "source": [
    "for i in range(1, 6):\n",
    "\n",
    "    for j in range(i, 0, -2):\n",
    "         print(list(range(1, j)))"
   ]
  },
  {
   "cell_type": "code",
   "execution_count": 80,
   "id": "c6d948d7",
   "metadata": {},
   "outputs": [
    {
     "name": "stdout",
     "output_type": "stream",
     "text": [
      "[]\n",
      "[1, 2]\n",
      "[]\n",
      "[1, 2, 3, 4]\n",
      "[1, 2]\n",
      "[]\n"
     ]
    }
   ],
   "source": [
    "for i in range(1, 6, 2):\n",
    "\n",
    "    for j in range(i, 0, -2):\n",
    "         print(list(range(1, j)))"
   ]
  },
  {
   "cell_type": "code",
   "execution_count": 85,
   "id": "c08b4299",
   "metadata": {},
   "outputs": [
    {
     "name": "stdout",
     "output_type": "stream",
     "text": [
      "1 1\n",
      "[]\n",
      "2 2\n",
      "[1]\n",
      "3 3\n",
      "[1, 2]\n",
      "3 1\n",
      "[]\n",
      "4 4\n",
      "[1, 2, 3]\n",
      "4 2\n",
      "[1]\n",
      "5 5\n",
      "[1, 2, 3, 4]\n",
      "5 3\n",
      "[1, 2]\n",
      "5 1\n",
      "[]\n"
     ]
    }
   ],
   "source": [
    "for i in range(1, 6):\n",
    "\n",
    "    for j in range(i, 0, -2):\n",
    "        print(i, j)\n",
    "        print(list(range(1, j)))"
   ]
  },
  {
   "cell_type": "code",
   "execution_count": 86,
   "id": "0ced383f",
   "metadata": {},
   "outputs": [
    {
     "name": "stdout",
     "output_type": "stream",
     "text": [
      "1 2\n",
      "[1]\n",
      "2 3\n",
      "[1, 2]\n",
      "2 1\n",
      "[]\n",
      "3 4\n",
      "[1, 2, 3]\n",
      "3 2\n",
      "[1]\n",
      "4 5\n",
      "[1, 2, 3, 4]\n",
      "4 3\n",
      "[1, 2]\n",
      "4 1\n",
      "[]\n",
      "5 6\n",
      "[1, 2, 3, 4, 5]\n",
      "5 4\n",
      "[1, 2, 3]\n",
      "5 2\n",
      "[1]\n"
     ]
    }
   ],
   "source": [
    "for i in range(1, 6):\n",
    "\n",
    "    for j in range(i+1, 0, -2):\n",
    "        print(i, j)\n",
    "        print(list(range(1, j)))"
   ]
  },
  {
   "cell_type": "code",
   "execution_count": 87,
   "id": "45eb44a3",
   "metadata": {},
   "outputs": [
    {
     "name": "stdout",
     "output_type": "stream",
     "text": [
      "[1]\n",
      "[1, 2]\n",
      "[]\n",
      "[1, 2, 3]\n",
      "[1]\n",
      "[1, 2, 3, 4]\n",
      "[1, 2]\n",
      "[]\n",
      "[1, 2, 3, 4, 5]\n",
      "[1, 2, 3]\n",
      "[1]\n"
     ]
    }
   ],
   "source": [
    "for i in range(1, 6):\n",
    "\n",
    "    for j in range(i+1, 0, -2):\n",
    "        print(list(range(1, j)))"
   ]
  },
  {
   "cell_type": "code",
   "execution_count": 88,
   "id": "56717f7d",
   "metadata": {},
   "outputs": [
    {
     "name": "stdout",
     "output_type": "stream",
     "text": [
      "-------------- 1\n",
      "1\n",
      "[]\n",
      "-------------- 2\n",
      "2\n",
      "[1]\n",
      "-------------- 3\n",
      "3\n",
      "[1, 2]\n",
      "1\n",
      "[]\n",
      "-------------- 4\n",
      "4\n",
      "[1, 2, 3]\n",
      "2\n",
      "[1]\n",
      "-------------- 5\n",
      "5\n",
      "[1, 2, 3, 4]\n",
      "3\n",
      "[1, 2]\n",
      "1\n",
      "[]\n"
     ]
    }
   ],
   "source": [
    "for i in range(1, 6):\n",
    "    print('--------------', i)\n",
    "\n",
    "    for j in range(i, 0, -2):        \n",
    "        print(j)\n",
    "        print(list(range(1, j)))"
   ]
  },
  {
   "cell_type": "code",
   "execution_count": 89,
   "id": "26d365d2",
   "metadata": {},
   "outputs": [
    {
     "name": "stdout",
     "output_type": "stream",
     "text": [
      "-------------- 1\n",
      "2\n",
      "[1]\n",
      "-------------- 2\n",
      "3\n",
      "[1, 2]\n",
      "1\n",
      "[]\n",
      "-------------- 3\n",
      "4\n",
      "[1, 2, 3]\n",
      "2\n",
      "[1]\n",
      "-------------- 4\n",
      "5\n",
      "[1, 2, 3, 4]\n",
      "3\n",
      "[1, 2]\n",
      "1\n",
      "[]\n",
      "-------------- 5\n",
      "6\n",
      "[1, 2, 3, 4, 5]\n",
      "4\n",
      "[1, 2, 3]\n",
      "2\n",
      "[1]\n"
     ]
    }
   ],
   "source": [
    "for i in range(1, 6):\n",
    "    print('--------------', i)\n",
    "\n",
    "    for j in range(i+1, 0, -2):        \n",
    "        print(j)\n",
    "        print(list(range(1, j)))"
   ]
  },
  {
   "cell_type": "code",
   "execution_count": 90,
   "id": "2ddb902c",
   "metadata": {},
   "outputs": [
    {
     "name": "stdout",
     "output_type": "stream",
     "text": [
      "-------------- 1\n",
      "[1]\n",
      "-------------- 2\n",
      "[1, 2]\n",
      "[]\n",
      "-------------- 3\n",
      "[1, 2, 3]\n",
      "[1]\n",
      "-------------- 4\n",
      "[1, 2, 3, 4]\n",
      "[1, 2]\n",
      "[]\n",
      "-------------- 5\n",
      "[1, 2, 3, 4, 5]\n",
      "[1, 2, 3]\n",
      "[1]\n"
     ]
    }
   ],
   "source": [
    "for i in range(1, 6):\n",
    "    print('--------------', i)\n",
    "\n",
    "    for j in range(i+1, 0, -2):        \n",
    "        print(list(range(1, j)))"
   ]
  },
  {
   "cell_type": "code",
   "execution_count": 93,
   "id": "ecc42bae",
   "metadata": {},
   "outputs": [
    {
     "name": "stdout",
     "output_type": "stream",
     "text": [
      "-------------- 1\n",
      "[1]\n",
      "-------------- 2\n",
      "[1, 2]\n",
      "-------------- 3\n",
      "[1, 2, 3]\n",
      "-------------- 4\n",
      "[1, 2, 3, 4]\n",
      "-------------- 5\n",
      "[1, 2, 3, 4, 5]\n"
     ]
    }
   ],
   "source": [
    "for i in range(1, 6):\n",
    "    print('--------------', i)\n",
    "\n",
    "    for j in range(i+1, 0, -2):        \n",
    "        print(list(range(1, j)))\n",
    "        break"
   ]
  },
  {
   "cell_type": "code",
   "execution_count": 95,
   "id": "3f679a0f",
   "metadata": {},
   "outputs": [
    {
     "name": "stdout",
     "output_type": "stream",
     "text": [
      "1\n",
      "12\n",
      "123\n",
      "1234\n",
      "12345\n"
     ]
    }
   ],
   "source": [
    "for i in range(1, 6):\n",
    "\n",
    "    for j in range(1, i+1):        \n",
    "        print(j, end='')\n",
    "    print()"
   ]
  },
  {
   "cell_type": "code",
   "execution_count": 96,
   "id": "4e1519d1",
   "metadata": {},
   "outputs": [
    {
     "name": "stdout",
     "output_type": "stream",
     "text": [
      "0\n",
      "1\n",
      "2\n",
      "3\n"
     ]
    }
   ],
   "source": [
    "for j in range(0,4):\n",
    "    print(j)"
   ]
  },
  {
   "cell_type": "code",
   "execution_count": 97,
   "id": "3dfefcc0",
   "metadata": {},
   "outputs": [
    {
     "name": "stdout",
     "output_type": "stream",
     "text": [
      "0123"
     ]
    }
   ],
   "source": [
    "for j in range(0,4):\n",
    "    print(j, end = '')"
   ]
  },
  {
   "cell_type": "code",
   "execution_count": 99,
   "id": "0721928a",
   "metadata": {},
   "outputs": [
    {
     "name": "stdout",
     "output_type": "stream",
     "text": [
      "112123123412345"
     ]
    }
   ],
   "source": [
    "for i in range(1, 6):\n",
    "\n",
    "    for j in range(1, i+1):  \n",
    "        print(j, end='')"
   ]
  },
  {
   "cell_type": "code",
   "execution_count": 100,
   "id": "a77a4a1c",
   "metadata": {},
   "outputs": [
    {
     "name": "stdout",
     "output_type": "stream",
     "text": [
      "1\n",
      "12\n",
      "123\n",
      "1234\n",
      "12345\n"
     ]
    }
   ],
   "source": [
    "for i in range(1, 6):\n",
    "\n",
    "    for j in range(1, i+1):  \n",
    "        print(j, end='')\n",
    "    print()"
   ]
  },
  {
   "cell_type": "code",
   "execution_count": 102,
   "id": "2f45fba4",
   "metadata": {},
   "outputs": [
    {
     "name": "stdout",
     "output_type": "stream",
     "text": [
      "1\n",
      "1\n",
      "1\n",
      "12\n",
      "2\n",
      "1\n",
      "12\n",
      "23\n",
      "3\n",
      "1\n",
      "12\n",
      "23\n",
      "34\n",
      "4\n",
      "1\n",
      "12\n",
      "23\n",
      "34\n",
      "45\n",
      "5\n"
     ]
    }
   ],
   "source": [
    "for i in range(1, 6):\n",
    "\n",
    "    for j in range(1, i+1):\n",
    "        print(j)\n",
    "        print(j, end='')\n",
    "    print()"
   ]
  },
  {
   "cell_type": "code",
   "execution_count": 103,
   "id": "0995d306",
   "metadata": {},
   "outputs": [
    {
     "name": "stdout",
     "output_type": "stream",
     "text": [
      "--------------------- 1\n",
      "1\n",
      "--------------------- 1\n",
      "1--------------------- 2\n",
      "2\n",
      "--------------------- 1\n",
      "1--------------------- 2\n",
      "2--------------------- 3\n",
      "3\n",
      "--------------------- 1\n",
      "1--------------------- 2\n",
      "2--------------------- 3\n",
      "3--------------------- 4\n",
      "4\n",
      "--------------------- 1\n",
      "1--------------------- 2\n",
      "2--------------------- 3\n",
      "3--------------------- 4\n",
      "4--------------------- 5\n",
      "5\n"
     ]
    }
   ],
   "source": [
    "for i in range(1, 6):\n",
    "\n",
    "    for j in range(1, i+1):\n",
    "        print('---------------------', j)\n",
    "        print(j, end='')\n",
    "    print()"
   ]
  },
  {
   "cell_type": "code",
   "execution_count": 104,
   "id": "45a5cc78",
   "metadata": {},
   "outputs": [
    {
     "name": "stdout",
     "output_type": "stream",
     "text": [
      "--------------------- 1\n",
      "1\n",
      "\n",
      "--------------------- 1\n",
      "1\n",
      "--------------------- 2\n",
      "2\n",
      "\n",
      "--------------------- 1\n",
      "1\n",
      "--------------------- 2\n",
      "2\n",
      "--------------------- 3\n",
      "3\n",
      "\n",
      "--------------------- 1\n",
      "1\n",
      "--------------------- 2\n",
      "2\n",
      "--------------------- 3\n",
      "3\n",
      "--------------------- 4\n",
      "4\n",
      "\n",
      "--------------------- 1\n",
      "1\n",
      "--------------------- 2\n",
      "2\n",
      "--------------------- 3\n",
      "3\n",
      "--------------------- 4\n",
      "4\n",
      "--------------------- 5\n",
      "5\n",
      "\n"
     ]
    }
   ],
   "source": [
    "for i in range(1, 6):\n",
    "\n",
    "    for j in range(1, i+1):\n",
    "        print('---------------------', j)\n",
    "        print(j)\n",
    "    print()"
   ]
  },
  {
   "cell_type": "code",
   "execution_count": 105,
   "id": "d922e41f",
   "metadata": {},
   "outputs": [
    {
     "name": "stdout",
     "output_type": "stream",
     "text": [
      "112123123412345"
     ]
    }
   ],
   "source": [
    "for i in range(1, 6):\n",
    "\n",
    "    for j in range(1, i+1):\n",
    "        print(j, end='')"
   ]
  },
  {
   "cell_type": "code",
   "execution_count": 106,
   "id": "999f8821",
   "metadata": {},
   "outputs": [
    {
     "name": "stdout",
     "output_type": "stream",
     "text": [
      "1\n",
      "12\n",
      "123\n",
      "1234\n",
      "12345\n"
     ]
    }
   ],
   "source": [
    "for i in range(1, 6):\n",
    "\n",
    "    for j in range(1, i+1):\n",
    "        print(j, end='')\n",
    "    print()"
   ]
  },
  {
   "cell_type": "code",
   "execution_count": 107,
   "id": "2efa46f3",
   "metadata": {},
   "outputs": [
    {
     "name": "stdout",
     "output_type": "stream",
     "text": [
      "0\n",
      "1\n",
      "2\n",
      "3\n"
     ]
    }
   ],
   "source": [
    "for j in range(0, 4):\n",
    "    print(j)"
   ]
  },
  {
   "cell_type": "code",
   "execution_count": 109,
   "id": "ed86b3ad",
   "metadata": {},
   "outputs": [
    {
     "name": "stdout",
     "output_type": "stream",
     "text": [
      "0123"
     ]
    }
   ],
   "source": [
    "for j in range(0, 4):\n",
    "    print(j, end = '')"
   ]
  },
  {
   "cell_type": "code",
   "execution_count": 110,
   "id": "8dbb15d4",
   "metadata": {},
   "outputs": [
    {
     "name": "stdout",
     "output_type": "stream",
     "text": [
      "0\n",
      "1\n",
      "2\n",
      "3\n",
      "4\n",
      "5\n",
      "6\n",
      "7\n"
     ]
    }
   ],
   "source": [
    "for i in range(0, 8):\n",
    "    print(i)"
   ]
  },
  {
   "cell_type": "code",
   "execution_count": 112,
   "id": "9fcd5529",
   "metadata": {},
   "outputs": [
    {
     "name": "stdout",
     "output_type": "stream",
     "text": [
      "0\n",
      "1\n",
      "2\n",
      "3\n",
      "4\n"
     ]
    }
   ],
   "source": [
    "start = 0\n",
    "\n",
    "end = 5\n",
    "\n",
    "while(start < end):\n",
    "    \n",
    "    print(start)\n",
    "    start = start+1"
   ]
  },
  {
   "cell_type": "code",
   "execution_count": null,
   "id": "7aa39631",
   "metadata": {},
   "outputs": [],
   "source": [
    "list1 = [6, 4, 3, 7, 2, 6, 1, 8, 9, 0]\n",
    "\n",
    "i=0\n",
    "\n",
    "while(i<len(list1)):\n",
    "    if list1[i]%2==0:\n",
    "        print(list1[i])\n",
    "    i = i+1"
   ]
  },
  {
   "cell_type": "code",
   "execution_count": null,
   "id": "48299ba5",
   "metadata": {},
   "outputs": [],
   "source": [
    "list1 = [6, 4, 3, 7, 2, 6, 1, 8, 9, 0]\n",
    "\n",
    "i=0\n",
    "\n",
    "while(i<len(list1)):\n",
    "    if list1[i]%2!=0:\n",
    "        print(list1[i])\n",
    "    i = i+1"
   ]
  },
  {
   "cell_type": "code",
   "execution_count": null,
   "id": "16ca2e62",
   "metadata": {},
   "outputs": [],
   "source": [
    "list1 = [6, 4, 3, 7, 2, 6, 1, 8, 9, 0]\n",
    "\n",
    "i=0\n",
    "\n",
    "while(i<len(list1)):\n",
    "    if i%2==0:\n",
    "        print(list1[i])\n",
    "    i = i+1"
   ]
  },
  {
   "cell_type": "code",
   "execution_count": 115,
   "id": "5e9384f7",
   "metadata": {},
   "outputs": [
    {
     "name": "stdout",
     "output_type": "stream",
     "text": [
      "4\n",
      "7\n",
      "6\n",
      "8\n",
      "0\n"
     ]
    }
   ],
   "source": [
    "list1 = [6, 4, 3, 7, 2, 6, 1, 8, 9, 0]\n",
    "\n",
    "i=0\n",
    "\n",
    "while(i<len(list1)):\n",
    "    if i%2!=0:\n",
    "        print(list1[i])\n",
    "    i = i+1"
   ]
  },
  {
   "cell_type": "code",
   "execution_count": 116,
   "id": "9812547b",
   "metadata": {},
   "outputs": [
    {
     "name": "stdout",
     "output_type": "stream",
     "text": [
      "1\n",
      "2\n",
      "3\n",
      "4\n",
      "5\n"
     ]
    }
   ],
   "source": [
    "i = 1\n",
    "while i < 6:\n",
    "  print(i)\n",
    "  i += 1"
   ]
  },
  {
   "cell_type": "code",
   "execution_count": 117,
   "id": "240f557f",
   "metadata": {},
   "outputs": [
    {
     "name": "stdout",
     "output_type": "stream",
     "text": [
      "1\n",
      "2\n",
      "3\n",
      "4\n",
      "5\n"
     ]
    }
   ],
   "source": [
    "# program to display numbers from 1 to 5\n",
    "\n",
    "# initialize the variable\n",
    "i = 1\n",
    "n = 5\n",
    "\n",
    "# while loop from i = 1 to 5\n",
    "while i <= n:\n",
    "    print(i)\n",
    "    i = i + 1"
   ]
  },
  {
   "cell_type": "code",
   "execution_count": null,
   "id": "37f0a48b",
   "metadata": {},
   "outputs": [],
   "source": [
    "counter = 0\n",
    "\n",
    "while counter < 3:\n",
    "    print('Inside loop')\n",
    "    counter = counter + 1\n",
    "else:\n",
    "    print('Inside else')"
   ]
  },
  {
   "cell_type": "code",
   "execution_count": null,
   "id": "fe46cd9a",
   "metadata": {},
   "outputs": [],
   "source": [
    "count = 0\n",
    "while (count < 9):\n",
    "   print 'The count is:', count\n",
    "   count = count + 1\n",
    "\n",
    "print \"Good bye!\""
   ]
  },
  {
   "cell_type": "code",
   "execution_count": null,
   "id": "1eedcd6d",
   "metadata": {},
   "outputs": [],
   "source": [
    "# A default function for Prime checking conditions  \n",
    "def PrimeChecker(a):  \n",
    "    # Checking that given number is more than 1  \n",
    "    if a > 1:  \n",
    "        # Iterating over the given number with for loop  \n",
    "        for j in range(2, int(a/2) + 1):  \n",
    "            # If the given number is divisible or not  \n",
    "            if (a % j) == 0:  \n",
    "                print(a, \"is not a prime number\")  \n",
    "                break  \n",
    "        # Else it is a prime number  \n",
    "        else:  \n",
    "            print(a, \"is a prime number\")  \n",
    "    # If the given number is 1  \n",
    "    else:  \n",
    "        print(a, \"is not a prime number\")  \n",
    "# Taking an input number from the user  \n",
    "a = int(input(\"Enter an input number:\"))  \n",
    "# Printing result  \n",
    "PrimeChecker(a)  "
   ]
  },
  {
   "cell_type": "code",
   "execution_count": null,
   "id": "ed6b030e",
   "metadata": {},
   "outputs": [],
   "source": [
    "# Program to check if a number is prime or not\n",
    "\n",
    "num = 29\n",
    "\n",
    "# To take input from the user\n",
    "#num = int(input(\"Enter a number: \"))\n",
    "\n",
    "# define a flag variable\n",
    "flag = False\n",
    "\n",
    "if num == 1:\n",
    "    print(num, \"is not a prime number\")\n",
    "elif num > 1:\n",
    "    # check for factors\n",
    "    for i in range(2, num):\n",
    "        if (num % i) == 0:\n",
    "            # if factor is found, set flag to True\n",
    "            flag = True\n",
    "            # break out of loop\n",
    "            break\n",
    "\n",
    "    # check if flag is True\n",
    "    if flag:\n",
    "        print(num, \"is not a prime number\")\n",
    "    else:\n",
    "        print(num, \"is a prime number\")"
   ]
  },
  {
   "cell_type": "code",
   "execution_count": null,
   "id": "da9c4172",
   "metadata": {},
   "outputs": [],
   "source": [
    "# Program to check if a number is prime or not\n",
    "# Input from the user\n",
    "num = int(input(\"Enter a number: \"))\n",
    "\n",
    "# If number is greater than 1\n",
    "if num > 1:\n",
    "   # Check if factor exist  \n",
    "   for i in range(2,num):\n",
    "       if (num % i) == 0:\n",
    "           print(num,\"is not a prime number\")\n",
    "           break\n",
    "   else:\n",
    "       print(num,\"is a prime number\")\n",
    "       \n",
    "# Else if the input number is less than or equal to 1\n",
    "else:\n",
    "   print(num,\"is not a prime number\")"
   ]
  },
  {
   "cell_type": "code",
   "execution_count": null,
   "id": "fdf91b84",
   "metadata": {},
   "outputs": [],
   "source": [
    "# Program to check if a number is prime or not\n",
    "\n",
    "# Input from the user\n",
    "num = int(input('Please enter a number:'))\n",
    "# Declaring and Initialization of two integer type variable\n",
    "i = 2\n",
    "flag = 0\n",
    "while i<num:\n",
    "    if num%i == 0:\n",
    "        #If Yes,update flag value\n",
    "        flag = 1\n",
    "        print (num,\"is NOT a prime number!\");\n",
    "    #Updating the value of i on every iteration by 1\n",
    "    i = i + 1\n",
    "#checking the value of flag\n",
    "if flag == 0:\n",
    "    #If Yes, Then it is a prime number\n",
    "    print (num,\"is a prime number!\");"
   ]
  },
  {
   "cell_type": "code",
   "execution_count": null,
   "id": "f7fda44e",
   "metadata": {},
   "outputs": [],
   "source": []
  }
 ],
 "metadata": {
  "kernelspec": {
   "display_name": "Python 3 (ipykernel)",
   "language": "python",
   "name": "python3"
  },
  "language_info": {
   "codemirror_mode": {
    "name": "ipython",
    "version": 3
   },
   "file_extension": ".py",
   "mimetype": "text/x-python",
   "name": "python",
   "nbconvert_exporter": "python",
   "pygments_lexer": "ipython3",
   "version": "3.9.13"
  }
 },
 "nbformat": 4,
 "nbformat_minor": 5
}
