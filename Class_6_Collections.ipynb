{
  "nbformat": 4,
  "nbformat_minor": 0,
  "metadata": {
    "colab": {
      "provenance": [],
      "authorship_tag": "ABX9TyMcbOHoQQLPWFhpmNhny6Hk",
      "include_colab_link": true
    },
    "kernelspec": {
      "name": "python3",
      "display_name": "Python 3"
    },
    "language_info": {
      "name": "python"
    }
  },
  "cells": [
    {
      "cell_type": "markdown",
      "metadata": {
        "id": "view-in-github",
        "colab_type": "text"
      },
      "source": [
        "<a href=\"https://colab.research.google.com/github/shfarhaan/Python-Basics/blob/main/Class_6_Collections.ipynb\" target=\"_parent\"><img src=\"https://colab.research.google.com/assets/colab-badge.svg\" alt=\"Open In Colab\"/></a>"
      ]
    },
    {
      "cell_type": "markdown",
      "source": [
        "# **Python Data Structures**\n",
        "\n",
        "Data Structure are containers where we can store other datatypes in a structured manner."
      ],
      "metadata": {
        "id": "vqiDOtskmCPT"
      }
    },
    {
      "cell_type": "markdown",
      "source": [
        "## **Python Lists**\n",
        "\n",
        "List is a python data type that can `store multiple numerically ordered sequence` of elements as a collection. This means that each element is associated with a number. That number is called an `index` which starts with 0 (not 1!). So the first element is associated with an index 0, the second with 1, and so on.\n",
        "\n",
        "Lists are `mutable`, `ordered`, `allows duplicates`.\n",
        "\n",
        "```python\n",
        "[\"PYTHON\", \"C\", \"C++\", -11, 0, 100, (1, 45, \"AM\",\"PM\"), {\"Pikachu\", \"Squirtle\", \"Baulbasaur\", \"Charmander\"}]\n",
        "\n",
        "```\n"
      ],
      "metadata": {
        "id": "CIZozmxHdn2W"
      }
    },
    {
      "cell_type": "markdown",
      "source": [
        "### List Methods\n",
        "\n",
        "Here are some other common list methods.\n",
        "\n",
        "1. `list.append(elem)` -- adds a single element to the end of the list. Common error: does not return the new list, just modifies the original.\n",
        "2. `list.insert(index, elem)` -- inserts the element at the given index, shifting elements to the right.\n",
        "3. `list.extend(list2)` adds the elements in list2 to the end of the list. Using + or += on a list is similar to using extend().\n",
        "4. `list.index(elem)` -- searches for the given element from the start of the list and returns its index. Throws a ValueError if the element does not appear (use \"in\" to check without a ValueError).\n",
        "5. `list.remove(elem)` -- searches for the first instance of the given element and removes it (throws ValueError if not present)\n",
        "6. `list.sort()` -- sorts the list in place (does not return it). (The sorted() function shown later is preferred.)\n",
        "7. `list.reverse()` -- reverses the list in place (does not return it)\n",
        "8. `list.pop(index)` -- removes and returns the element at the given index. Returns the rightmost element if index is omitted (roughly the opposite of append()).\n",
        "\n",
        "Notice that these are *methods* on a list object, while len() is a function that takes the list (or string or whatever) as an argument."
      ],
      "metadata": {
        "id": "B_ownQTQ0-Vy"
      }
    },
    {
      "cell_type": "code",
      "source": [
        "jumboList = [\"PYTHON\", \"C\", \"C++\", -11, 0, 100, (1, 45, \"AM\",\"PM\"), {\"Pikachu\", \"Squirtle\", \"Baulbasaur\", \"Charmander\"}]"
      ],
      "metadata": {
        "id": "2CI-cVvYaM3t"
      },
      "execution_count": null,
      "outputs": []
    },
    {
      "cell_type": "code",
      "source": [
        "jumboList.append(\"234\")"
      ],
      "metadata": {
        "id": "tDRgqybPTvr2"
      },
      "execution_count": null,
      "outputs": []
    },
    {
      "cell_type": "code",
      "source": [
        "jumboList.insert(3, [1, 2, 10])\n",
        "\n",
        "jumboList.reverse()"
      ],
      "metadata": {
        "id": "XS4EEe9FUQjn"
      },
      "execution_count": null,
      "outputs": []
    },
    {
      "cell_type": "code",
      "source": [
        "jumboList"
      ],
      "metadata": {
        "colab": {
          "base_uri": "https://localhost:8080/"
        },
        "id": "CTMKtV_BUz4F",
        "outputId": "619d7549-fd0c-4988-b01c-ba0817d8d428"
      },
      "execution_count": null,
      "outputs": [
        {
          "output_type": "execute_result",
          "data": {
            "text/plain": [
              "['234',\n",
              " '234',\n",
              " '234',\n",
              " {'Baulbasaur', 'Charmander', 'Pikachu', 'Squirtle'},\n",
              " (1, 45, 'AM', 'PM'),\n",
              " 100,\n",
              " 0,\n",
              " -11,\n",
              " [1, 2, 10],\n",
              " [1, 2, 10],\n",
              " 'C++',\n",
              " 'C',\n",
              " 'PYTHON']"
            ]
          },
          "metadata": {},
          "execution_count": 14
        }
      ]
    },
    {
      "cell_type": "code",
      "execution_count": null,
      "metadata": {
        "id": "SGQ2bLXXlyZP"
      },
      "outputs": [],
      "source": [
        "lis = ['larry', 'curly', 'moe']\n",
        "\n",
        "print(lis)\n",
        "lis.append('shemp')          ## append elem at end\n",
        "lis.insert(0, 'popo')        ## insert elem at index 0\n",
        "lis.extend(['yyy', 'zzz'])   ## add list of elems at end\n",
        "print(lis)                   ## ['xxx', 'larry', 'curly', 'moe', 'shemp', 'yyy', 'zzz']\n",
        "print(lis.index('curly'))    ## 2\n",
        "\n",
        "lis.remove('curly')          ## search and remove that element\n",
        "lis.pop(1)                   ## removes and returns 'larry'\n",
        "print(lis)                   ## ['xxx', 'moe', 'shemp', 'yyy', 'zzz']"
      ]
    },
    {
      "cell_type": "code",
      "source": [
        "my_list = ['p', 'r', 'o', 'b', 'e']\n",
        "\n"
      ],
      "metadata": {
        "id": "Qyq67hTouXnF"
      },
      "execution_count": null,
      "outputs": []
    },
    {
      "cell_type": "code",
      "source": [
        "# first item\n",
        "print(my_list[0])  # p\n",
        "\n",
        "# third item\n",
        "print(my_list[2])  # o\n",
        "\n",
        "# fifth item\n",
        "print(my_list[4])  # e\n",
        "\n"
      ],
      "metadata": {
        "colab": {
          "base_uri": "https://localhost:8080/"
        },
        "id": "Y2UiWGDmVoUX",
        "outputId": "1e3b791e-86ac-4c48-c143-90419e644e46"
      },
      "execution_count": null,
      "outputs": [
        {
          "output_type": "stream",
          "name": "stdout",
          "text": [
            "p\n",
            "o\n",
            "e\n"
          ]
        }
      ]
    },
    {
      "cell_type": "code",
      "source": [
        "# Nested List\n",
        "n_list = [\"Happy\", [2, 0, 1, 5]]\n",
        "\n",
        "# Nested indexing\n",
        "print(n_list[0][1])\n",
        "\n",
        "print(n_list[1][3])\n",
        "\n",
        "# Error! Only integer can be used for indexing\n",
        "print(my_list[3])"
      ],
      "metadata": {
        "colab": {
          "base_uri": "https://localhost:8080/"
        },
        "id": "4_K-hiiaVsPb",
        "outputId": "35a824fd-d778-4bb9-c901-9fcd3a0d5cbd"
      },
      "execution_count": null,
      "outputs": [
        {
          "output_type": "stream",
          "name": "stdout",
          "text": [
            "a\n",
            "5\n",
            "b\n"
          ]
        }
      ]
    },
    {
      "cell_type": "code",
      "source": [
        "# List slicing in Python\n",
        "\n",
        "poke_name = ['C','H','A','R','I','Z','A','R','D']\n",
        "\n",
        "# range(start, n)\n",
        "# print(start----n-1)\n",
        "\n",
        "# elements from index 2 to index 4\n",
        "print(poke_name[0:5])\n",
        "\n",
        "# elements from index 5 to end\n",
        "print(poke_name[5:])\n",
        "\n",
        "# elements beginning to end\n",
        "print(poke_name[:])"
      ],
      "metadata": {
        "id": "hpS3Aw2Ex5Fy",
        "colab": {
          "base_uri": "https://localhost:8080/"
        },
        "outputId": "7bd73227-5be0-4248-cccc-980505215ee9"
      },
      "execution_count": null,
      "outputs": [
        {
          "output_type": "stream",
          "name": "stdout",
          "text": [
            "['C', 'H', 'A', 'R', 'I']\n",
            "['Z', 'A', 'R', 'D']\n",
            "['C', 'H', 'A', 'R', 'I', 'Z', 'A', 'R', 'D']\n"
          ]
        }
      ]
    },
    {
      "cell_type": "code",
      "source": [
        "# Correcting mistake values in a list\n",
        "odd = [2, 4, 6, 8]\n",
        "\n",
        "# change the 1st item\n",
        "odd[0] = 1\n",
        "\n",
        "print(odd)\n",
        "\n",
        "# change 2nd to 4th items\n",
        "odd[1:4] = [3, 5, 7]\n",
        "\n",
        "print(odd)\n"
      ],
      "metadata": {
        "id": "XjTaLUhCyQY0",
        "colab": {
          "base_uri": "https://localhost:8080/"
        },
        "outputId": "81e25c6e-29e6-42c3-e364-0e9903ed65dd"
      },
      "execution_count": null,
      "outputs": [
        {
          "output_type": "stream",
          "name": "stdout",
          "text": [
            "[1, 4, 6, 8]\n",
            "[1, 3, 5, 7]\n"
          ]
        }
      ]
    },
    {
      "cell_type": "code",
      "source": [
        "name = [\"Pencil\", 233, \"Mouse\", 34, \"dlcjvfbsdijuvghs\", \"losihrgioue\"]"
      ],
      "metadata": {
        "id": "OnjalB9YYBzp"
      },
      "execution_count": null,
      "outputs": []
    },
    {
      "cell_type": "code",
      "source": [
        "# listName[start_index : last_index-1]\n",
        "\n",
        "name[3:5] = [\"Paper\", \"Rock\", \"Scissors\"]\n",
        "\n",
        "name"
      ],
      "metadata": {
        "colab": {
          "base_uri": "https://localhost:8080/"
        },
        "id": "44dd9eB_YUa6",
        "outputId": "a7e286d3-ebdf-4c65-b448-c2e4ec90ad3a"
      },
      "execution_count": null,
      "outputs": [
        {
          "output_type": "execute_result",
          "data": {
            "text/plain": [
              "['Pencil', 233, 'Mouse', 'Paper', 'Rock', 'Scissors', 'losihrgioue']"
            ]
          },
          "metadata": {},
          "execution_count": 23
        }
      ]
    },
    {
      "cell_type": "code",
      "source": [
        "# Appending and Extending lists in Python\n",
        "odd = [1, 3, 5]\n",
        "\n",
        "odd.append(7)\n",
        "\n",
        "print(odd)\n",
        "\n",
        "odd.extend([9, 11, 13])\n",
        "\n",
        "print(odd)"
      ],
      "metadata": {
        "id": "eJxFzWoiyWJn"
      },
      "execution_count": null,
      "outputs": []
    },
    {
      "cell_type": "code",
      "source": [
        "# Concatenating and repeating lists\n",
        "odd = [1, 3, 5]\n",
        "\n",
        "print(odd + [9, 7, 5])\n",
        "\n",
        "print([\"re\"] * 3)"
      ],
      "metadata": {
        "id": "KlH49Vzyya7Y"
      },
      "execution_count": null,
      "outputs": []
    },
    {
      "cell_type": "code",
      "source": [
        "# Demonstration of list insert() method\n",
        "odd = [1, 9]\n",
        "odd.insert(1,3)\n",
        "\n",
        "print(odd)\n",
        "\n",
        "odd[2:2] = [5, 7]\n",
        "\n",
        "print(odd)"
      ],
      "metadata": {
        "id": "sl_ppuaty3Pr"
      },
      "execution_count": null,
      "outputs": []
    },
    {
      "cell_type": "code",
      "source": [
        "# Deleting list items\n",
        "my_list = ['p', 'r', 'o', 'b', 'l', 'e', 'm']\n",
        "\n",
        "# delete one item\n",
        "del my_list[2]\n",
        "\n",
        "print(my_list)\n",
        "\n",
        "# delete multiple items\n",
        "del my_list[1:5]\n",
        "\n",
        "print(my_list)\n",
        "\n",
        "# delete the entire list\n",
        "del my_list\n",
        "\n",
        "# Error: List not defined\n",
        "print(my_list)"
      ],
      "metadata": {
        "id": "A8LKcs85y64e"
      },
      "execution_count": null,
      "outputs": []
    },
    {
      "cell_type": "markdown",
      "source": [
        "We can use `remove()` to remove the given item or `pop()` to remove an item at the given index.\n",
        "\n",
        "The `pop()` method removes and returns the last item if the index is not provided. This helps us implement lists as stacks (first in, last out data structure).\n",
        "\n",
        "And, if we have to empty the whole list, we can use the `clear()` method."
      ],
      "metadata": {
        "id": "1Q8MbUeDzO9u"
      }
    },
    {
      "cell_type": "code",
      "source": [
        "my_list = ['p','r','o','b','l','e','m']\n",
        "my_list.remove('p')\n",
        "\n",
        "# Output: ['r', 'o', 'b', 'l', 'e', 'm']\n",
        "print(my_list)\n",
        "\n",
        "# Output: 'o'\n",
        "print(my_list.pop(1))\n",
        "\n",
        "# Output: ['r', 'b', 'l', 'e', 'm']\n",
        "print(my_list)\n",
        "\n",
        "# Output: 'm'\n",
        "print(my_list.pop())\n",
        "\n",
        "# Output: ['r', 'b', 'l', 'e']\n",
        "print(my_list)\n",
        "\n",
        "my_list.clear()\n",
        "\n",
        "# Output: []\n",
        "print(my_list)"
      ],
      "metadata": {
        "id": "2c5H5oHvzaTX"
      },
      "execution_count": null,
      "outputs": []
    },
    {
      "cell_type": "code",
      "source": [
        "for fruit in ['apple','banana','mango']:\n",
        "    print(\"I like\",fruit)"
      ],
      "metadata": {
        "id": "4IWdmrGwzcHy",
        "colab": {
          "base_uri": "https://localhost:8080/"
        },
        "outputId": "d1d86da0-48ec-4e34-9b6d-7ba7288714fd"
      },
      "execution_count": null,
      "outputs": [
        {
          "output_type": "stream",
          "name": "stdout",
          "text": [
            "I like apple\n",
            "I like banana\n",
            "I like mango\n"
          ]
        }
      ]
    },
    {
      "cell_type": "code",
      "source": [
        "iftar = ['Alur chop','Piyaju','Somucha', 'Tang']\n",
        "for iftari in iftar:\n",
        "    print(\"I love\",iftari)"
      ],
      "metadata": {
        "colab": {
          "base_uri": "https://localhost:8080/"
        },
        "id": "_kQAeUalatGD",
        "outputId": "9354bf22-0384-488b-9060-1ce4e6460438"
      },
      "execution_count": null,
      "outputs": [
        {
          "output_type": "stream",
          "name": "stdout",
          "text": [
            "I love Alur chop\n",
            "I love Piyaju\n",
            "I love Somucha\n",
            "I love Tang\n"
          ]
        }
      ]
    },
    {
      "cell_type": "markdown",
      "source": [
        "## **Python Dictionaries**\n",
        "\n",
        "## Consider Python Dictionaries as a regular dictionary having a concept/word and its Definition in the form of `Concept : Definition`\n",
        "\n",
        "Dictionary is a data structure that store information in\n",
        "`key : value` pairs. They are especially useful for saving and\n",
        "retrieving information from the names of their keys (not using\n",
        "indexes).\n",
        "\n",
        "Dictionaries are also known as an associative array. A dictionary consists of a collection of key-value pairs. Each key-value pair maps the key to its associated value.\n",
        "\n",
        "You can define a dictionary by enclosing a comma-separated list of key-value pairs in curly braces ({}). A colon (:) separates each key from its associated value.\n",
        "\n",
        "- A dictionary has unique `key` and it can not be indexed unlike a list and it can not also use the sort function\n",
        "- While the values can be of any data type and can repeat, keys must be of immutable type (string, number or tuple with immutable elements) and must be unique.\n",
        "\n"
      ],
      "metadata": {
        "id": "5UxURPnetyaw"
      }
    },
    {
      "cell_type": "code",
      "source": [
        "# empty dictionary\n",
        "my_dict = {}\n",
        "\n",
        "# dictionary with integer keys\n",
        "my_dict = {1: 'apple', 2: 'ball'}\n",
        "\n",
        "# dictionary with mixed keys\n",
        "my_dict = {'name': 'John', 1: [2, 4, 3]}\n",
        "\n",
        "# using dict()\n",
        "my_dict = dict({1:'apple', 2:'ball'})\n",
        "\n",
        "# from sequence having each item as a pair\n",
        "my_dict = dict([(1,'apple'), (2,'ball')])"
      ],
      "metadata": {
        "id": "-pSNmNmv4v6W"
      },
      "execution_count": null,
      "outputs": []
    },
    {
      "cell_type": "code",
      "source": [
        "# from sequence having each item as a pair\n",
        "my_dict = dict([(1,'apple'), (2,'ball')])\n",
        "\n",
        "my_dict\n"
      ],
      "metadata": {
        "colab": {
          "base_uri": "https://localhost:8080/"
        },
        "id": "dsF3XBP_dNPf",
        "outputId": "da26cb9b-fdf3-4f48-b4c3-b8a22e38ee14"
      },
      "execution_count": null,
      "outputs": [
        {
          "output_type": "execute_result",
          "data": {
            "text/plain": [
              "{1: 'apple', 2: 'ball'}"
            ]
          },
          "metadata": {},
          "execution_count": 30
        }
      ]
    },
    {
      "cell_type": "code",
      "source": [
        "# get vs [] for retrieving elements\n",
        "my_dict = {'name': 'Jack', 'age': 26}\n",
        "\n",
        "# Output: Jack\n",
        "print(my_dict['name'])\n",
        "\n",
        "# Output: 26\n",
        "print(my_dict.get('age'))\n",
        "\n",
        "# Trying to access keys which doesn't exist throws error\n",
        "# Output None\n",
        "print(my_dict.get('address'))\n",
        "\n",
        "# KeyError\n",
        "print(my_dict['address'])"
      ],
      "metadata": {
        "id": "sQFL8tB_4xM_"
      },
      "execution_count": null,
      "outputs": []
    },
    {
      "cell_type": "code",
      "source": [
        "iftari_items = {1: 'Alur chop', 2: 'Piyaju', 3: 'Somucha', 4: 'Tang'}"
      ],
      "metadata": {
        "id": "SdEC5Y1yeE9f"
      },
      "execution_count": null,
      "outputs": []
    },
    {
      "cell_type": "code",
      "source": [
        "print(iftari_items.get(8))"
      ],
      "metadata": {
        "colab": {
          "base_uri": "https://localhost:8080/"
        },
        "id": "H-oLaW0QeX23",
        "outputId": "dd1cbc11-c366-494f-c5dc-7491314e780c"
      },
      "execution_count": null,
      "outputs": [
        {
          "output_type": "stream",
          "name": "stdout",
          "text": [
            "None\n"
          ]
        }
      ]
    },
    {
      "cell_type": "code",
      "source": [
        "# Changing and adding Dictionary Elements\n",
        "my_dict = {'name': 'Jack', 'age': 26}\n",
        "\n",
        "# update value\n",
        "my_dict['age'] = 27\n",
        "\n",
        "#Output: {'age': 27, 'name': 'Jack'}\n",
        "print(my_dict)\n",
        "\n",
        "# add item\n",
        "my_dict['address'] = 'Downtown'\n",
        "\n",
        "# Output: {'address': 'Downtown', 'age': 27, 'name': 'Jack'}\n",
        "print(my_dict)"
      ],
      "metadata": {
        "id": "9A53Wuxf5pTr"
      },
      "execution_count": null,
      "outputs": []
    },
    {
      "cell_type": "code",
      "source": [
        "# Removing elements from a dictionary\n",
        "\n",
        "# create a dictionary\n",
        "squares = {1: 1, 2: 4, 3: 9, 4: 16, 5: 25}\n",
        "\n",
        "# remove a particular item, returns its value\n",
        "# Output: 16\n",
        "print(squares.pop(4))\n",
        "\n",
        "# Output: {1: 1, 2: 4, 3: 9, 5: 25}\n",
        "print(squares)\n",
        "\n",
        "# remove an arbitrary item, return (key,value)\n",
        "# Output: (5, 25)\n",
        "print(squares.popitem())\n",
        "\n",
        "# Output: {1: 1, 2: 4, 3: 9}\n",
        "print(squares)\n",
        "\n",
        "# remove all items\n",
        "squares.clear()\n",
        "\n",
        "# Output: {}\n",
        "print(squares)\n",
        "\n",
        "# delete the dictionary itself\n",
        "del squares\n",
        "\n",
        "# Throws Error\n",
        "print(squares)"
      ],
      "metadata": {
        "id": "ZXB570CH5pR9"
      },
      "execution_count": null,
      "outputs": []
    },
    {
      "cell_type": "code",
      "source": [
        "# Iterating through a Dictionary\n",
        "squares = {1: 1, 3: 9, 5: 25, 7: 49, 9: 81}\n",
        "for i in squares:\n",
        "    print(squares[i])"
      ],
      "metadata": {
        "id": "5ffbE0AX8cVO",
        "colab": {
          "base_uri": "https://localhost:8080/"
        },
        "outputId": "d923c42d-0891-4b4c-b360-8fcfb2560b3c"
      },
      "execution_count": null,
      "outputs": [
        {
          "output_type": "stream",
          "name": "stdout",
          "text": [
            "1\n",
            "9\n",
            "25\n",
            "49\n",
            "81\n"
          ]
        }
      ]
    },
    {
      "cell_type": "markdown",
      "source": [
        "## Dictionary Built-in Functions\n",
        "Built-in functions like all(), any(), len(), cmp(), sorted(), etc. are commonly used with dictionaries to perform different tasks.\n",
        "\n",
        "- `all()`\tReturn True if all keys of the dictionary are True (or if the dictionary is empty).\n",
        "- `any()`\tReturn True if any key of the dictionary is true. If the dictionary is empty, return False.\n",
        "- `len()`\tReturn the length (the number of items) in the dictionary.\n",
        "- `cmp()`\tCompares items of two dictionaries. (Not available in Python 3)\n",
        "- `sorted()`\tReturn a new sorted list of keys in the dictionary."
      ],
      "metadata": {
        "id": "AHPq_kzz8gOv"
      }
    },
    {
      "cell_type": "code",
      "source": [
        "a  = [1, 2, 3, 4, 5]\n",
        "b = [1213, 232, 343, 4949,3,2]\n",
        "c = []\n",
        "\n",
        "print(all(c))"
      ],
      "metadata": {
        "colab": {
          "base_uri": "https://localhost:8080/"
        },
        "id": "nqhbatJl33l4",
        "outputId": "02697fd5-fa41-49de-d87b-13d74050112f"
      },
      "execution_count": null,
      "outputs": [
        {
          "output_type": "stream",
          "name": "stdout",
          "text": [
            "True\n"
          ]
        }
      ]
    },
    {
      "cell_type": "code",
      "source": [
        "# Dictionary Built-in Functions\n",
        "squares = {0: 0, 1: 1, 3: 9, 5: 25, 7: 49, 9: 81}\n",
        "\n",
        "# Output: False\n",
        "print(all(squares))\n",
        "\n",
        "# Output: True\n",
        "print(any(squares))\n",
        "\n",
        "# Output: 6\n",
        "print(len(squares))\n",
        "\n",
        "# Output: [0, 1, 3, 5, 7, 9]\n",
        "print(sorted(squares))"
      ],
      "metadata": {
        "id": "GtMAK-bg9F3R"
      },
      "execution_count": null,
      "outputs": []
    },
    {
      "cell_type": "markdown",
      "source": [
        "## Python Dictionary Methods\n",
        "Methods that are available with a dictionary are listed below. Some of them have already been used in the above examples.\n",
        "\n",
        "- `clear()`\tRemoves all items from the dictionary.\n",
        "- `copy()`\tReturns a shallow copy of the dictionary.\n",
        "- `fromkeys(seq[, v])`\tReturns a new dictionary with keys from seq and value equal to v (defaults to None).\n",
        "- `get(key[,d])`\tReturns the value of the key. If the key does not exist, returns d (defaults to None).\n",
        "- `items()`\tReturn a new object of the dictionary's items in (key, value) format.\n",
        "- `keys()`\tReturns a new object of the dictionary's keys.\n",
        "- `pop(key[,d])`\tRemoves the item with the key and returns its value or d if key is not found. If d is not provided and the key is not found, it raises KeyError.\n",
        "- `popitem()`\tRemoves and returns an arbitrary item (key, value). Raises KeyError if the dictionary is empty.\n",
        "- `setdefault(key[,d])`\tReturns the corresponding value if the key is in the dictionary. If not, inserts the key with a value of d and returns d (defaults to None).\n",
        "- `update([other])`\tUpdates the dictionary with the key/value pairs from other, overwriting existing keys.\n",
        "- `values()`\tReturns a new object of the dictionary's values//"
      ],
      "metadata": {
        "id": "TR1QVScE5-x5"
      }
    },
    {
      "cell_type": "code",
      "source": [
        "# Dictionary Methods\n",
        "marks = {}.fromkeys(['Math', 'English', 'Science'], 0)\n",
        "\n",
        "# Output: {'English': 0, 'Math': 0, 'Science': 0}\n",
        "print(marks)\n",
        "\n",
        "for item in marks.items():\n",
        "    print(item)\n",
        "\n",
        "# Output: ['English', 'Math', 'Science']\n",
        "print(list(sorted(marks.keys())))"
      ],
      "metadata": {
        "id": "GXH5as8152gx"
      },
      "execution_count": null,
      "outputs": []
    },
    {
      "cell_type": "code",
      "source": [
        "pokemon = {\"name\" : \"Pikachu\", \"type\" : \"Electric\"}\n",
        "\n",
        "print(type(pokemon))"
      ],
      "metadata": {
        "colab": {
          "base_uri": "https://localhost:8080/"
        },
        "id": "OBYZOgED1vxS",
        "outputId": "fd155253-a3da-4efd-d691-cb3f48e40817"
      },
      "execution_count": null,
      "outputs": [
        {
          "output_type": "stream",
          "name": "stdout",
          "text": [
            "<class 'dict'>\n"
          ]
        }
      ]
    },
    {
      "cell_type": "code",
      "source": [
        "print(help(dict))"
      ],
      "metadata": {
        "colab": {
          "base_uri": "https://localhost:8080/"
        },
        "id": "0TWEOwk32aDH",
        "outputId": "1eb731a0-2f51-4c6c-96ee-e3c4fff85304"
      },
      "execution_count": null,
      "outputs": [
        {
          "output_type": "stream",
          "name": "stdout",
          "text": [
            "Help on class dict in module builtins:\n",
            "\n",
            "class dict(object)\n",
            " |  dict() -> new empty dictionary\n",
            " |  dict(mapping) -> new dictionary initialized from a mapping object's\n",
            " |      (key, value) pairs\n",
            " |  dict(iterable) -> new dictionary initialized as if via:\n",
            " |      d = {}\n",
            " |      for k, v in iterable:\n",
            " |          d[k] = v\n",
            " |  dict(**kwargs) -> new dictionary initialized with the name=value pairs\n",
            " |      in the keyword argument list.  For example:  dict(one=1, two=2)\n",
            " |  \n",
            " |  Methods defined here:\n",
            " |  \n",
            " |  __contains__(self, key, /)\n",
            " |      True if the dictionary has the specified key, else False.\n",
            " |  \n",
            " |  __delitem__(self, key, /)\n",
            " |      Delete self[key].\n",
            " |  \n",
            " |  __eq__(self, value, /)\n",
            " |      Return self==value.\n",
            " |  \n",
            " |  __ge__(self, value, /)\n",
            " |      Return self>=value.\n",
            " |  \n",
            " |  __getattribute__(self, name, /)\n",
            " |      Return getattr(self, name).\n",
            " |  \n",
            " |  __getitem__(...)\n",
            " |      x.__getitem__(y) <==> x[y]\n",
            " |  \n",
            " |  __gt__(self, value, /)\n",
            " |      Return self>value.\n",
            " |  \n",
            " |  __init__(self, /, *args, **kwargs)\n",
            " |      Initialize self.  See help(type(self)) for accurate signature.\n",
            " |  \n",
            " |  __iter__(self, /)\n",
            " |      Implement iter(self).\n",
            " |  \n",
            " |  __le__(self, value, /)\n",
            " |      Return self<=value.\n",
            " |  \n",
            " |  __len__(self, /)\n",
            " |      Return len(self).\n",
            " |  \n",
            " |  __lt__(self, value, /)\n",
            " |      Return self<value.\n",
            " |  \n",
            " |  __ne__(self, value, /)\n",
            " |      Return self!=value.\n",
            " |  \n",
            " |  __repr__(self, /)\n",
            " |      Return repr(self).\n",
            " |  \n",
            " |  __setitem__(self, key, value, /)\n",
            " |      Set self[key] to value.\n",
            " |  \n",
            " |  __sizeof__(...)\n",
            " |      D.__sizeof__() -> size of D in memory, in bytes\n",
            " |  \n",
            " |  clear(...)\n",
            " |      D.clear() -> None.  Remove all items from D.\n",
            " |  \n",
            " |  copy(...)\n",
            " |      D.copy() -> a shallow copy of D\n",
            " |  \n",
            " |  get(self, key, default=None, /)\n",
            " |      Return the value for key if key is in the dictionary, else default.\n",
            " |  \n",
            " |  items(...)\n",
            " |      D.items() -> a set-like object providing a view on D's items\n",
            " |  \n",
            " |  keys(...)\n",
            " |      D.keys() -> a set-like object providing a view on D's keys\n",
            " |  \n",
            " |  pop(...)\n",
            " |      D.pop(k[,d]) -> v, remove specified key and return the corresponding value.\n",
            " |      If key is not found, d is returned if given, otherwise KeyError is raised\n",
            " |  \n",
            " |  popitem(...)\n",
            " |      D.popitem() -> (k, v), remove and return some (key, value) pair as a\n",
            " |      2-tuple; but raise KeyError if D is empty.\n",
            " |  \n",
            " |  setdefault(self, key, default=None, /)\n",
            " |      Insert key with a value of default if key is not in the dictionary.\n",
            " |      \n",
            " |      Return the value for key if key is in the dictionary, else default.\n",
            " |  \n",
            " |  update(...)\n",
            " |      D.update([E, ]**F) -> None.  Update D from dict/iterable E and F.\n",
            " |      If E is present and has a .keys() method, then does:  for k in E: D[k] = E[k]\n",
            " |      If E is present and lacks a .keys() method, then does:  for k, v in E: D[k] = v\n",
            " |      In either case, this is followed by: for k in F:  D[k] = F[k]\n",
            " |  \n",
            " |  values(...)\n",
            " |      D.values() -> an object providing a view on D's values\n",
            " |  \n",
            " |  ----------------------------------------------------------------------\n",
            " |  Class methods defined here:\n",
            " |  \n",
            " |  fromkeys(iterable, value=None, /) from builtins.type\n",
            " |      Create a new dictionary with keys from iterable and values set to value.\n",
            " |  \n",
            " |  ----------------------------------------------------------------------\n",
            " |  Static methods defined here:\n",
            " |  \n",
            " |  __new__(*args, **kwargs) from builtins.type\n",
            " |      Create and return a new object.  See help(type) for accurate signature.\n",
            " |  \n",
            " |  ----------------------------------------------------------------------\n",
            " |  Data and other attributes defined here:\n",
            " |  \n",
            " |  __hash__ = None\n",
            "\n",
            "None\n"
          ]
        }
      ]
    },
    {
      "cell_type": "markdown",
      "source": [
        "## **Dictionaries and lists share the following characteristics:**\n",
        "\n",
        "- Both are mutable.\n",
        "- Both are dynamic. They can grow and shrink as needed.\n",
        "- Both can be nested. A list can contain another list. A dictionary can contain another dictionary. A dictionary can also contain a list, and vice versa.\n",
        "\n",
        "## **Dictionaries differ from lists primarily in how elements are accessed:**\n",
        "\n",
        "- List elements are accessed by their position in the list, via indexing.\n",
        "- Dictionary elements are accessed via keys."
      ],
      "metadata": {
        "id": "XCj5AFIIwvF6"
      }
    },
    {
      "cell_type": "code",
      "source": [],
      "metadata": {
        "id": "ldTk_gw052cE"
      },
      "execution_count": null,
      "outputs": []
    },
    {
      "cell_type": "markdown",
      "source": [],
      "metadata": {
        "id": "vRKNN4V17Ud5"
      }
    },
    {
      "cell_type": "code",
      "source": [],
      "metadata": {
        "id": "Cc4g17RS52aN"
      },
      "execution_count": null,
      "outputs": []
    },
    {
      "cell_type": "markdown",
      "source": [],
      "metadata": {
        "id": "5MZ173cOXmvg"
      }
    },
    {
      "cell_type": "markdown",
      "source": [],
      "metadata": {
        "id": "SX_aW8j63B1i"
      }
    },
    {
      "cell_type": "markdown",
      "source": [
        "## **Tuples**\n",
        "\n",
        "Tuples are data structures that store multiple elements in a\n",
        "single variable. They are characterized by being ordered and\n",
        "immutable. This feature makes them more memory efficient\n",
        "and damage-proof. Thus they take lesser space than lists."
      ],
      "metadata": {
        "id": "5swsulU_8Mxi"
      }
    },
    {
      "cell_type": "code",
      "source": [
        "# Different types of tuples\n",
        "\n",
        "# Empty tuple\n",
        "my_tuple = ()\n",
        "print(my_tuple)\n",
        "\n",
        "# Tuple having integers\n",
        "my_tuple = (1, 2, 3)\n",
        "print(my_tuple)\n",
        "\n",
        "# tuple with mixed datatypes\n",
        "my_tuple = (1, \"Hello\", 3.4)\n",
        "print(my_tuple)\n",
        "\n",
        "# nested tuple\n",
        "my_tuple = (\"mouse\", [8, 4, 6], (1, 2, 3))\n",
        "print(my_tuple)"
      ],
      "metadata": {
        "id": "ZRj-Sq0t2Ncd"
      },
      "execution_count": null,
      "outputs": []
    },
    {
      "cell_type": "markdown",
      "source": [
        "A tuple can also be created without using parentheses. This is known as tuple packing."
      ],
      "metadata": {
        "id": "nt-krRIT8MuI"
      }
    },
    {
      "cell_type": "code",
      "source": [
        "my_tuple = 3, 4.6, \"dog\"\n",
        "print(my_tuple)\n",
        "\n",
        "# tuple unpacking is also possible\n",
        "a, b, c = my_tuple\n",
        "\n",
        "print(a)      # 3\n",
        "print(b)      # 4.6\n",
        "print(c)      # dog"
      ],
      "metadata": {
        "id": "DNHy2v6h2Oyl"
      },
      "execution_count": null,
      "outputs": []
    },
    {
      "cell_type": "markdown",
      "source": [
        "Creating a tuple with one element is a bit tricky.\n",
        "\n",
        "Having one element within parentheses is not enough. We will need a trailing comma to indicate that it is, in fact, a tuple."
      ],
      "metadata": {
        "id": "nASOlZDF8Mp9"
      }
    },
    {
      "cell_type": "code",
      "source": [
        "my_tuple = (\"hello\")\n",
        "print(type(my_tuple))  # <class 'str'>\n",
        "\n",
        "# Creating a tuple having one element\n",
        "my_tuple = (\"hello\",)\n",
        "print(type(my_tuple))  # <class 'tuple'>\n",
        "\n",
        "# Parentheses is optional\n",
        "my_tuple = \"hello\",\n",
        "print(type(my_tuple))  # <class 'tuple'>"
      ],
      "metadata": {
        "id": "6C5PPquJ2p11"
      },
      "execution_count": null,
      "outputs": []
    },
    {
      "cell_type": "code",
      "source": [
        "# Accessing tuple elements using indexing\n",
        "my_tuple = ('p','e','r','m','i','t')\n",
        "\n",
        "print(my_tuple[0])   # 'p'\n",
        "print(my_tuple[5])   # 't'\n",
        "\n",
        "# IndexError: list index out of range\n",
        "# print(my_tuple[6])\n",
        "\n",
        "# Index must be an integer\n",
        "# TypeError: list indices must be integers, not float\n",
        "# my_tuple[2.0]\n",
        "\n",
        "# nested tuple\n",
        "n_tuple = (\"mouse\", [8, 4, 6], (1, 2, 3))\n",
        "\n",
        "# nested index\n",
        "print(n_tuple[0][3])       # 's'\n",
        "print(n_tuple[1][1])       # 4"
      ],
      "metadata": {
        "id": "R7xV-qvn3EY1"
      },
      "execution_count": null,
      "outputs": []
    },
    {
      "cell_type": "code",
      "source": [
        "# Negative indexing for accessing tuple elements\n",
        "my_tuple = ('p', 'e', 'r', 'm', 'i', 't')\n",
        "\n",
        "# Output: 't'\n",
        "print(my_tuple[-1])\n",
        "\n",
        "# Output: 'p'\n",
        "print(my_tuple[-6])"
      ],
      "metadata": {
        "id": "0I_YODfF3TfW"
      },
      "execution_count": null,
      "outputs": []
    },
    {
      "cell_type": "code",
      "source": [
        "# Accessing tuple elements using slicing\n",
        "my_tuple = ('p','r','o','g','r','a','m','i','z')\n",
        "\n",
        "# elements 2nd to 4th\n",
        "# Output: ('r', 'o', 'g')\n",
        "print(my_tuple[1:4])\n",
        "\n",
        "# elements beginning to 2nd\n",
        "# Output: ('p', 'r')\n",
        "print(my_tuple[:-7])\n",
        "\n",
        "# elements 8th to end\n",
        "# Output: ('i', 'z')\n",
        "print(my_tuple[7:])\n",
        "\n",
        "# elements beginning to end\n",
        "# Output: ('p', 'r', 'o', 'g', 'r', 'a', 'm', 'i', 'z')\n",
        "print(my_tuple[:])"
      ],
      "metadata": {
        "id": "tomsFjz23EV3"
      },
      "execution_count": null,
      "outputs": []
    },
    {
      "cell_type": "markdown",
      "source": [
        "## Changing a Tuple\n",
        "Unlike lists, tuples are immutable/unchangeable.\n",
        "\n",
        "This means that elements of a tuple cannot be changed once they have been assigned. But, if the element is itself a mutable data type like a list, its nested items can be changed.\n",
        "\n",
        "We can also assign a tuple to different values (reassignment).\n",
        "\n"
      ],
      "metadata": {
        "id": "1tONFSWi3sfs"
      }
    },
    {
      "cell_type": "code",
      "source": [
        "# Changing tuple values\n",
        "my_tuple = (4, 2, 3, [6, 5])\n",
        "\n",
        "\n",
        "# TypeError: 'tuple' object does not support item assignment\n",
        "# my_tuple[1] = 9\n",
        "\n",
        "# However, item of mutable element can be changed\n",
        "my_tuple[3][0] = 9    # Output: (4, 2, 3, [9, 5])\n",
        "print(my_tuple)\n",
        "\n",
        "# Tuples can be reassigned\n",
        "my_tuple = ('p', 'r', 'o', 'g', 'r', 'a', 'm', 'i', 'z')\n",
        "\n",
        "# Output: ('p', 'r', 'o', 'g', 'r', 'a', 'm', 'i', 'z')\n",
        "print(my_tuple)"
      ],
      "metadata": {
        "id": "tsLW04rp3sMm"
      },
      "execution_count": null,
      "outputs": []
    },
    {
      "cell_type": "code",
      "source": [
        "# Concatenation\n",
        "# Output: (1, 2, 3, 4, 5, 6)\n",
        "print((1, 2, 3) + (4, 5, 6))\n",
        "\n",
        "# Repeat\n",
        "# Output: ('Repeat', 'Repeat', 'Repeat')\n",
        "print((\"Repeat\",) * 3)"
      ],
      "metadata": {
        "id": "W3PMBSzi3ET7"
      },
      "execution_count": null,
      "outputs": []
    },
    {
      "cell_type": "code",
      "source": [
        "# Deleting tuples\n",
        "my_tuple = ('p', 'r', 'o', 'g', 'r', 'a', 'm', 'i', 'z')\n",
        "\n",
        "# can't delete items\n",
        "# TypeError: 'tuple' object doesn't support item deletion\n",
        "# del my_tuple[3]\n",
        "\n",
        "# Can delete an entire tuple\n",
        "del my_tuple\n",
        "\n",
        "# NameError: name 'my_tuple' is not defined\n",
        "print(my_tuple)"
      ],
      "metadata": {
        "id": "17q-qeKL3EO-"
      },
      "execution_count": null,
      "outputs": []
    },
    {
      "cell_type": "code",
      "source": [
        "my_tuple = ('a', 'p', 'p', 'l', 'e',)\n",
        "\n",
        "print(my_tuple.count('p'))  # Output: 2\n",
        "print(my_tuple.index('l'))  # Output: 3"
      ],
      "metadata": {
        "id": "Ewqw6UiG3ENd"
      },
      "execution_count": null,
      "outputs": []
    },
    {
      "cell_type": "code",
      "source": [
        "# Using a for loop to iterate through a tuple\n",
        "for name in ('Professor', 'Peter'):\n",
        "    print(\"Hello\", name)"
      ],
      "metadata": {
        "id": "gp8_YYJV4Qce"
      },
      "execution_count": null,
      "outputs": []
    },
    {
      "cell_type": "code",
      "source": [
        "tup = (1, 2, 45, \"qwerty\", {\"username\": \"password\", \"name\": \"farhaan\"})\n",
        "\n",
        "print(tup[4][1])"
      ],
      "metadata": {
        "colab": {
          "base_uri": "https://localhost:8080/",
          "height": 200
        },
        "id": "aZicpzOeRpUg",
        "outputId": "a7204e9c-d770-42a2-da2f-6018df06a4da"
      },
      "execution_count": null,
      "outputs": [
        {
          "output_type": "error",
          "ename": "KeyError",
          "evalue": "ignored",
          "traceback": [
            "\u001b[0;31m---------------------------------------------------------------------------\u001b[0m",
            "\u001b[0;31mKeyError\u001b[0m                                  Traceback (most recent call last)",
            "\u001b[0;32m<ipython-input-11-24bf1125fa87>\u001b[0m in \u001b[0;36m<module>\u001b[0;34m\u001b[0m\n\u001b[1;32m      1\u001b[0m \u001b[0mtup\u001b[0m \u001b[0;34m=\u001b[0m \u001b[0;34m(\u001b[0m\u001b[0;36m1\u001b[0m\u001b[0;34m,\u001b[0m \u001b[0;36m2\u001b[0m\u001b[0;34m,\u001b[0m \u001b[0;36m45\u001b[0m\u001b[0;34m,\u001b[0m \u001b[0;34m\"qwerty\"\u001b[0m\u001b[0;34m,\u001b[0m \u001b[0;34m{\u001b[0m\u001b[0;34m\"username\"\u001b[0m\u001b[0;34m:\u001b[0m \u001b[0;34m\"password\"\u001b[0m\u001b[0;34m,\u001b[0m \u001b[0;34m\"name\"\u001b[0m\u001b[0;34m:\u001b[0m \u001b[0;34m\"farhaan\"\u001b[0m\u001b[0;34m}\u001b[0m\u001b[0;34m)\u001b[0m\u001b[0;34m\u001b[0m\u001b[0;34m\u001b[0m\u001b[0m\n\u001b[1;32m      2\u001b[0m \u001b[0;34m\u001b[0m\u001b[0m\n\u001b[0;32m----> 3\u001b[0;31m \u001b[0mprint\u001b[0m\u001b[0;34m(\u001b[0m\u001b[0mtup\u001b[0m\u001b[0;34m[\u001b[0m\u001b[0;36m4\u001b[0m\u001b[0;34m]\u001b[0m\u001b[0;34m[\u001b[0m\u001b[0;36m1\u001b[0m\u001b[0;34m]\u001b[0m\u001b[0;34m)\u001b[0m\u001b[0;34m\u001b[0m\u001b[0;34m\u001b[0m\u001b[0m\n\u001b[0m",
            "\u001b[0;31mKeyError\u001b[0m: 1"
          ]
        }
      ]
    },
    {
      "cell_type": "code",
      "source": [
        "tup = (1, 2, 45, \"qwerty\", [\"username\", \"password\", \"name\", \"farhaan\"])\n",
        "\n",
        "print(tup[4][1])"
      ],
      "metadata": {
        "colab": {
          "base_uri": "https://localhost:8080/"
        },
        "id": "0sPDV5hYSAbc",
        "outputId": "fc7b7008-eb81-4de8-d724-331b9c5ef152"
      },
      "execution_count": null,
      "outputs": [
        {
          "output_type": "stream",
          "name": "stdout",
          "text": [
            "password\n"
          ]
        }
      ]
    },
    {
      "cell_type": "markdown",
      "source": [
        "## Advantages of Tuple over List\n",
        "Since tuples are quite similar to lists, both of them are used in similar situations. However, there are certain advantages of implementing a tuple over a list. Below listed are some of the main advantages:\n",
        "\n",
        "- We generally use tuples for heterogeneous (different) data types and lists for homogeneous (similar) data types.\n",
        "- Since tuples are immutable, iterating through a tuple is faster than with list. So there is a slight performance boost.\n",
        "- Tuples that contain immutable elements can be used as a key for a dictionary. With lists, this is not possible.\n",
        "-If you have data that doesn't change, implementing it as tuple will guarantee that it remains write-protected."
      ],
      "metadata": {
        "id": "LHWF1F164cme"
      }
    },
    {
      "cell_type": "code",
      "source": [],
      "metadata": {
        "id": "t3IL4wZt4Qan"
      },
      "execution_count": null,
      "outputs": []
    },
    {
      "cell_type": "markdown",
      "source": [
        "List Comprehension:"
      ],
      "metadata": {
        "id": "8mWWZYQh8Mj6"
      }
    },
    {
      "cell_type": "code",
      "source": [
        "pow2 = [2 ** each_x for each_x in range(10)]\n",
        "print(pow2)"
      ],
      "metadata": {
        "colab": {
          "base_uri": "https://localhost:8080/"
        },
        "id": "kCoyaDGxz3Vk",
        "outputId": "a4720f15-ec12-400d-9c33-de53402d2762"
      },
      "execution_count": null,
      "outputs": [
        {
          "output_type": "stream",
          "name": "stdout",
          "text": [
            "[1, 2, 4, 8, 16, 32, 64, 128, 256, 512]\n"
          ]
        }
      ]
    },
    {
      "cell_type": "markdown",
      "source": [
        "SAME AS:"
      ],
      "metadata": {
        "id": "o_seTnd50SID"
      }
    },
    {
      "cell_type": "code",
      "source": [
        "pe2 = []\n",
        "for x in range(10):\n",
        "   pe2.append(2 ** x)\n",
        "\n",
        "print(pe2)"
      ],
      "metadata": {
        "colab": {
          "base_uri": "https://localhost:8080/"
        },
        "id": "Y1quoeSQz6Xs",
        "outputId": "cf976d02-d08d-4d40-9c92-25622f20b7a8"
      },
      "execution_count": null,
      "outputs": [
        {
          "output_type": "stream",
          "name": "stdout",
          "text": [
            "[1, 2, 4, 8, 16, 32, 64, 128, 256, 512]\n"
          ]
        }
      ]
    },
    {
      "cell_type": "code",
      "source": [
        "pow2 = [2 ** x for x in range(10) if x > 5]"
      ],
      "metadata": {
        "id": "BsTNozYw0FTE"
      },
      "execution_count": null,
      "outputs": []
    },
    {
      "cell_type": "markdown",
      "source": [],
      "metadata": {
        "id": "Q86fHXXF8MXh"
      }
    },
    {
      "cell_type": "markdown",
      "source": [
        "## Python Dictionary Comprehension\n",
        "Dictionary comprehension is an elegant and concise way to create a new dictionary from an iterable in Python.\n",
        "\n",
        "Dictionary comprehension consists of an expression pair `(key: value) followed by a for statement inside curly braces {}.`\n",
        "\n",
        "Here is an example to make a dictionary with each item being a pair of a number and its square.\n",
        "\n",
        "The Syntax\n",
        "\n",
        "```python\n",
        "newlist = [`expression` for `item` in `iterable` if condition == True]\n",
        "```\n",
        "The return value is a new list, leaving the old list unchanged."
      ],
      "metadata": {
        "id": "uWmhpPIi6yIf"
      }
    },
    {
      "cell_type": "code",
      "source": [
        "# Dictionary Comprehension\n",
        "squares = {x: x*x for x in range(6)}\n",
        "\n",
        "print(squares)"
      ],
      "metadata": {
        "id": "6AreFUfM8BBH"
      },
      "execution_count": null,
      "outputs": []
    },
    {
      "cell_type": "markdown",
      "source": [
        "This code is equivalent to\n"
      ],
      "metadata": {
        "id": "NR_aaySc8J5r"
      }
    },
    {
      "cell_type": "code",
      "source": [
        "squares = {}\n",
        "for x in range(6):\n",
        "    squares[x] = x*x\n",
        "print(squares)"
      ],
      "metadata": {
        "id": "COIh_z9z8LmX"
      },
      "execution_count": null,
      "outputs": []
    },
    {
      "cell_type": "code",
      "source": [],
      "metadata": {
        "id": "SIMvWk86fSkG"
      },
      "execution_count": null,
      "outputs": []
    },
    {
      "cell_type": "markdown",
      "source": [
        "A dictionary comprehension can optionally contain more for or if statements.\n",
        "\n",
        "An optional if statement can filter out items to form the new dictionary.\n",
        "\n",
        "Here are some examples to make a dictionary with only odd items."
      ],
      "metadata": {
        "id": "ZWeQB1uM8SCg"
      }
    },
    {
      "cell_type": "code",
      "source": [
        "# Dictionary Comprehension with if conditional\n",
        "odd_squares = {x: x*x for x in range(11) if x % 2 == 1}\n",
        "\n",
        "print(odd_squares)"
      ],
      "metadata": {
        "id": "Y9UUQ2Na8RRu"
      },
      "execution_count": null,
      "outputs": []
    }
  ]
}