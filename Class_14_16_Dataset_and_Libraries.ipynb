{
  "nbformat": 4,
  "nbformat_minor": 0,
  "metadata": {
    "colab": {
      "provenance": [],
      "toc_visible": true,
      "authorship_tag": "ABX9TyMlNy9NsjqB0keWmwwsZC7J",
      "include_colab_link": true
    },
    "kernelspec": {
      "name": "python3",
      "display_name": "Python 3"
    },
    "language_info": {
      "name": "python"
    }
  },
  "cells": [
    {
      "cell_type": "markdown",
      "metadata": {
        "id": "view-in-github",
        "colab_type": "text"
      },
      "source": [
        "<a href=\"https://colab.research.google.com/github/shfarhaan/Python-Basics/blob/main/Class_14_16_Dataset_and_Libraries.ipynb\" target=\"_parent\"><img src=\"https://colab.research.google.com/assets/colab-badge.svg\" alt=\"Open In Colab\"/></a>"
      ]
    },
    {
      "cell_type": "markdown",
      "source": [
        "# Tools\n",
        "\n",
        "## Visualization Tools:\n",
        "1. [Lucid Chart](www.lucidchart.com)\n",
        "2. [OmniGraffle](www.omnigroup.com/omnigraffle)\n",
        "3. [Coolors.co](www.coolors.co)\n",
        "4. [Visme](www.visme.co)\n",
        "5. [Slidesgo](https://slidesgo.com)\n",
        "6. [Infogram](https://infogram.com/)\n",
        "\n",
        "\n",
        "\n",
        "## Research Tools:\n",
        "1. [Sci-hub](https://sci-hub.do)\n",
        "2. [Temporary Email](https://temp-mail.org/en/)\n",
        "3. [Cite This For Me](https://citethisforme.com)\n",
        "4. [PaperwithCode](https://paperswithcode.com)\n",
        "5. [Z Library](https://b-ok.asia/)\n",
        "6. [Open Source Finder](https://awesomeopensource.com/)\n",
        "7. [Connected Papers](https://www.connectedpapers.com/)\n",
        "\n",
        "\n",
        "\n",
        "## Article Writing Tools:\n",
        "1. [Wordblot](https://app.wordblot.ai/register)\n",
        "2. [Pre Post SEO](https://www.prepostseo.com)\n",
        "3. [Quil Bot](https://quillbot.com/)\n",
        "4. Sci Summary\n",
        "5. Elicit\n",
        "\n",
        "\n",
        "## Miscellaneous\n",
        "1. [10015](https://10015.io/)\n",
        "2. [Futurepedia.io](https://www.futurepedia.io/)\n",
        "3. Unpaywall  OpenAccess\n",
        "4. Overleaf\n",
        "5. Zotero\n",
        "6. SciSpace Copilot https://typeset.io/\n",
        "7. Paper Digest\n",
        "8. [Scholarcy](https://www.scholarcy.com/)\n"
      ],
      "metadata": {
        "id": "xQe53MG8sdht"
      }
    },
    {
      "cell_type": "code",
      "source": [],
      "metadata": {
        "id": "80Y4nhPXsdLn"
      },
      "execution_count": null,
      "outputs": []
    },
    {
      "cell_type": "markdown",
      "source": [
        "# **Numpy Introduction:**\n",
        "\n",
        "NumPy has many built-in functions and capabilities. We won't cover them all but instead we will focus on some of the most important aspects of NumPy: vectors, arrays, matrices and number generation. Let's start by discussing arrays.\n",
        "\n",
        "# NumPy Arrays\n",
        "\n",
        "NumPy arrays are the main way we will use NumPy. NumPy arrays essentially come in two flavors: vectors and matrices. Vectors are strictly 1-dimensional (1D) arrays and matrices are 2D (but you should note a matrix can still have only one row or one column).\n",
        "\n",
        "## Why use Numpy array? Why not just a list?\n",
        "\n",
        "There are lot's of reasons to use a Numpy array instead of a \"standard\" python list object. Our main reasons are:\n",
        "* Memory Efficiency of Numpy Array vs list\n",
        "* Easily expands to N-dimensional objects\n",
        "* Speed of calculations of numpy array\n",
        "* Broadcasting operations and functions with numpy\n",
        "* All the data science and machine learning libraries we use are built with Numpy\n",
        "\n",
        "## Simple Example of what numpy array can do\n",
        "\n",
        "\n",
        "**Table of Contents:**\n",
        "\n",
        "1. Installing NumPy\n",
        "2. Importing NumPy\n",
        "3. NumPy Arrays\n",
        "4. Array Creation\n",
        "5. Array Attributes\n",
        "6. Indexing and Slicing\n",
        "7. Array Operations\n",
        "8. Universal Functions\n",
        "9. Array Shape Manipulation\n",
        "10. File Input and Output\n",
        "\n"
      ],
      "metadata": {
        "id": "HJOrs5SpVb0Z"
      }
    },
    {
      "cell_type": "markdown",
      "source": [
        "\n",
        "## **1. Installing NumPy:**\n",
        "Before we begin, let's make sure NumPy is installed on your system. You can install it using pip, a package installer for Python. Open your terminal or command prompt and type the following command:\n",
        "\n",
        "```\n",
        "pip install numpy\n",
        "```\n"
      ],
      "metadata": {
        "id": "28kGW--7nFB1"
      }
    },
    {
      "cell_type": "code",
      "source": [
        "pip install numpy\n"
      ],
      "metadata": {
        "id": "IYx-_Y9jnDsk",
        "colab": {
          "base_uri": "https://localhost:8080/"
        },
        "outputId": "93aeca2b-966e-4699-b011-9a758dcfcd06"
      },
      "execution_count": null,
      "outputs": [
        {
          "output_type": "stream",
          "name": "stdout",
          "text": [
            "Looking in indexes: https://pypi.org/simple, https://us-python.pkg.dev/colab-wheels/public/simple/\n",
            "Requirement already satisfied: numpy in /usr/local/lib/python3.10/dist-packages (1.22.4)\n"
          ]
        }
      ]
    },
    {
      "cell_type": "markdown",
      "source": [
        "## **2. Importing NumPy:**\n",
        "To use NumPy in your Python code, you need to import it. Add the following line at the beginning of your Python script or notebook:\n",
        "\n",
        "```python\n",
        "import numpy as np\n",
        "```\n"
      ],
      "metadata": {
        "id": "CmculYgdnHuc"
      }
    },
    {
      "cell_type": "code",
      "source": [
        "import numpy as np"
      ],
      "metadata": {
        "id": "_LV3kTnDnIVN"
      },
      "execution_count": null,
      "outputs": []
    },
    {
      "cell_type": "markdown",
      "source": [
        "## **3. NumPy Arrays:**\n",
        "At the core of NumPy is the ndarray (n-dimensional array) object, which is a versatile data structure capable of representing multi-dimensional data. It provides efficient operations on arrays of homogeneous data.\n"
      ],
      "metadata": {
        "id": "dSSOqcganPv0"
      }
    },
    {
      "cell_type": "markdown",
      "source": [
        "## **4. Array Creation:**\n",
        "You can create NumPy arrays using various methods. Here are a few commonly used ones:\n",
        "\n",
        "**a) Creating an array from a Python list:**\n",
        "```python\n",
        "my_list = [1, 2, 3, 4, 5]\n",
        "my_array = np.array(my_list)\n",
        "print(my_array)\n",
        "```\n"
      ],
      "metadata": {
        "id": "eWTunCaAnd51"
      }
    },
    {
      "cell_type": "code",
      "source": [
        "my_list = [[1, 2, 3, 4, 5], [1, 2, 3, 4, 5],[1, 2, 3, 4, 5]]\n",
        "my_array = np.array(my_list)\n",
        "print(my_array)"
      ],
      "metadata": {
        "colab": {
          "base_uri": "https://localhost:8080/"
        },
        "id": "BHcv0Gzuni0J",
        "outputId": "3baf0a3e-f656-4290-f23b-3b38750b3c3e"
      },
      "execution_count": null,
      "outputs": [
        {
          "output_type": "stream",
          "name": "stdout",
          "text": [
            "[[1 2 3 4 5]\n",
            " [1 2 3 4 5]\n",
            " [1 2 3 4 5]]\n"
          ]
        }
      ]
    },
    {
      "cell_type": "code",
      "source": [
        "type(my_array)"
      ],
      "metadata": {
        "colab": {
          "base_uri": "https://localhost:8080/"
        },
        "id": "MYg5z6a9BEhw",
        "outputId": "9e95c2ae-4d16-4682-8d73-b5a4343235f7"
      },
      "execution_count": null,
      "outputs": [
        {
          "output_type": "execute_result",
          "data": {
            "text/plain": [
              "numpy.ndarray"
            ]
          },
          "metadata": {},
          "execution_count": 4
        }
      ]
    },
    {
      "cell_type": "markdown",
      "source": [
        "\n",
        "**b) Creating an array with a specified range:**\n",
        "```python\n",
        "my_range_array = np.arange(1, 6)  # Creates an array [1, 2, 3, 4, 5]\n",
        "print(my_range_array)\n",
        "```\n"
      ],
      "metadata": {
        "id": "dVtR_ZZ-njN0"
      }
    },
    {
      "cell_type": "markdown",
      "source": [
        "\n",
        "**c) Creating an array of zeros or ones:**\n",
        "```python\n",
        "zeros_array = np.zeros((3, 4))  # Creates a 3x4 array of zeros\n",
        "ones_array = np.ones((2, 2))    # Creates a 2x2 array of ones\n",
        "print(zeros_array)\n",
        "print(ones_array)\n",
        "```\n"
      ],
      "metadata": {
        "id": "w3zpdW-DnV-l"
      }
    },
    {
      "cell_type": "code",
      "source": [
        "zeros_array = np.zeros((3, 4))  # Creates a 3x4 array of zeros\n",
        "ones_array = np.ones((2, 2))    # Creates a 2x2 array of ones\n",
        "print(zeros_array)\n",
        "print(ones_array)"
      ],
      "metadata": {
        "colab": {
          "base_uri": "https://localhost:8080/"
        },
        "id": "3rxsn7hqnm4m",
        "outputId": "52b119df-f3e3-4c41-c426-4404ed205f6c"
      },
      "execution_count": null,
      "outputs": [
        {
          "output_type": "stream",
          "name": "stdout",
          "text": [
            "[[0. 0. 0. 0.]\n",
            " [0. 0. 0. 0.]\n",
            " [0. 0. 0. 0.]]\n",
            "[[1. 1.]\n",
            " [1. 1.]]\n"
          ]
        }
      ]
    },
    {
      "cell_type": "markdown",
      "source": [
        "## **5. Array Attributes:**\n",
        "\n",
        "NumPy arrays have several important attributes that provide information about the array's shape, size, data type, etc. Here are a few examples:\n",
        "\n",
        "```python\n",
        "my_array = np.array([1, 2, 3, 4, 5])\n",
        "print(my_array.shape)       # Prints the shape of the array\n",
        "print(my_array.size)        # Prints the number of elements in the array\n",
        "print(my_array.dtype)       # Prints the data type of the array elements\n",
        "```\n"
      ],
      "metadata": {
        "id": "-cc1B_pgnrbV"
      }
    },
    {
      "cell_type": "code",
      "source": [
        "# Boolean Logic\n",
        "\n",
        "x = 0%  || 0\n",
        "y = 100% || 1"
      ],
      "metadata": {
        "id": "S0kGAERTHjdv"
      },
      "execution_count": null,
      "outputs": []
    },
    {
      "cell_type": "code",
      "source": [
        "# Fuzzy Logic\n",
        "\n",
        "a = 20%   || bad\n",
        "b = 40%   || less bad\n",
        "c = 60%   || average\n",
        "d = 80%   || Above average\n",
        "e = 100%  || Best"
      ],
      "metadata": {
        "id": "LcQwEdoVnsIm"
      },
      "execution_count": null,
      "outputs": []
    },
    {
      "cell_type": "markdown",
      "source": [
        "\n",
        "## **6. Indexing and Slicing:**\n",
        "\n",
        "You can access individual elements or sub-arrays of a NumPy array using indexing and slicing. Here are some examples:\n",
        "\n",
        "```python\n",
        "my_array = np.array([1, 2, 3, 4, 5])\n",
        "print(my_array[0])          # Accesses the first element (index 0)\n",
        "print(my_array[1:4])        # Accesses a sub-array from index 2 to 3 (exclusive)\n",
        "print(my_array[::-1])       # Reverses the array using slicing\n",
        "```"
      ],
      "metadata": {
        "id": "QodNPq7Jnvdd"
      }
    },
    {
      "cell_type": "code",
      "source": [],
      "metadata": {
        "id": "4oBUi-VhnwoN"
      },
      "execution_count": null,
      "outputs": []
    },
    {
      "cell_type": "markdown",
      "source": [
        "\n",
        "## **7. Array Operations:**\n",
        "\n",
        "NumPy provides a wide range of mathematical and logical operations that can be performed on arrays. Here are a few examples:\n",
        "\n",
        "```python\n",
        "a = np.array([1, 2, 3])\n",
        "b = np.array([4, 5, 6])\n",
        "\n",
        "print(np.add(a, b))         # Element-wise addition\n",
        "print(np.multiply(a, b))    # Element-wise multiplication\n",
        "print(np.dot(a, b))         # Dot product of two arrays\n",
        "```\n"
      ],
      "metadata": {
        "id": "YauSlAlDny49"
      }
    },
    {
      "cell_type": "code",
      "source": [],
      "metadata": {
        "id": "nZCS42bpnzpd"
      },
      "execution_count": null,
      "outputs": []
    },
    {
      "cell_type": "markdown",
      "source": [
        "## **8. Universal Functions:**\n",
        "\n",
        "NumPy's universal functions (ufuncs) are mathematical functions that operate element-wise on arrays. They are optimized for performance and can be applied to arrays of any size. Here are a few examples:\n",
        "\n",
        "```python\n",
        "my_array = np.array([1, 2, 3, 4, 5])\n",
        "print(np.sin(my_array))     # Computes the sine of each element\n",
        "print(np.sqrt(my_array))    # Computes the square root of each element\n",
        "```\n"
      ],
      "metadata": {
        "id": "8eoT28EQn_81"
      }
    },
    {
      "cell_type": "code",
      "source": [],
      "metadata": {
        "id": "MdvqdeWzoAud"
      },
      "execution_count": null,
      "outputs": []
    },
    {
      "cell_type": "markdown",
      "source": [
        "\n",
        "## **9. Array Shape Manipulation:**\n",
        "\n",
        "NumPy provides functions to reshape, transpose, and resize arrays. Here are some common operations:\n",
        "\n",
        "```python\n",
        "my_array = np.array([[1, 2, 3], [4, 5, 6]])\n",
        "\n",
        "reshaped_array = my_array.reshape((3, 2))  # Reshapes the array to 3x2\n",
        "transposed_array = my_array.T              # Transposes the array\n",
        "resized_array = np.resize(my_array, (2, 4)) # Resizes the array to 2x4\n",
        "```\n"
      ],
      "metadata": {
        "id": "lkVvQfQIoCdE"
      }
    },
    {
      "cell_type": "code",
      "source": [],
      "metadata": {
        "id": "QLg6_9nSoH4N"
      },
      "execution_count": null,
      "outputs": []
    },
    {
      "cell_type": "markdown",
      "source": [
        "\n",
        "## **10. File Input and Output:**\n",
        "\n",
        "NumPy allows you to save and load arrays from files. Here's how you can do it:\n",
        "\n",
        "```python\n",
        "my_array = np.array([1, 2, 3, 4, 5])\n",
        "np.save('my_array.npy', my_array)          # Saves the array to a file\n",
        "\n",
        "loaded_array = np.load('my_array.npy')     # Loads the array from the file\n",
        "print(loaded_array)\n",
        "```"
      ],
      "metadata": {
        "id": "Sa0yeP3poIR1"
      }
    },
    {
      "cell_type": "markdown",
      "source": [
        "\n",
        "\n",
        "## **Conclusion:**\n",
        "\n",
        "NumPy is an essential library for any data scientist or machine learning practitioner. It provides powerful tools for efficient data manipulation, mathematical operations, and array handling. This guide covered the installation process, basic concepts, and practical examples of using NumPy. By mastering NumPy, you'll be well-equipped to work with large datasets and perform complex computations in your data analysis and machine learning projects."
      ],
      "metadata": {
        "id": "XIw09-lNWxYY"
      }
    },
    {
      "cell_type": "code",
      "source": [],
      "metadata": {
        "id": "TWGIiN1ood1c"
      },
      "execution_count": null,
      "outputs": []
    },
    {
      "cell_type": "code",
      "source": [],
      "metadata": {
        "id": "ODLKDBQoodq9"
      },
      "execution_count": null,
      "outputs": []
    },
    {
      "cell_type": "code",
      "source": [],
      "metadata": {
        "id": "etRDrcIbodc1"
      },
      "execution_count": null,
      "outputs": []
    },
    {
      "cell_type": "markdown",
      "source": [
        "60% Training\n",
        "40% Testing"
      ],
      "metadata": {
        "id": "EhKUkCVyXza0"
      }
    },
    {
      "cell_type": "markdown",
      "source": [
        "# **Pandas Introduction:**\n",
        "Pandas is a powerful and popular Python library used for data manipulation and analysis. It provides easy-to-use data structures and data analysis tools, making it an essential tool for any data scientist or machine learning practitioner.\n",
        "\n",
        "Table of Contents:\n",
        "1. Installation\n",
        "2. Why Use Pandas?\n",
        "3. Importing the Pandas Library\n",
        "4. Loading Data into Pandas\n",
        "5. Exploring the Data\n",
        "6. Data Manipulation\n",
        "7. Data Cleaning\n",
        "8. Data Filtering\n",
        "9. Data Aggregation and Grouping\n",
        "10. Data Visualization\n",
        "11. Saving Data\n",
        "12. Conclusion\n"
      ],
      "metadata": {
        "id": "MyJZCOyTXIp4"
      }
    },
    {
      "cell_type": "markdown",
      "source": [
        "\n",
        "## **1. Installation:**\n",
        "Before we get started with Pandas, you need to have it installed on your system. You can install Pandas using the following command:\n",
        "\n",
        "```\n",
        "pip install pandas\n",
        "```\n"
      ],
      "metadata": {
        "id": "UGC9LSpap3vy"
      }
    },
    {
      "cell_type": "code",
      "source": [],
      "metadata": {
        "id": "NoGh4SqPp7Dc"
      },
      "execution_count": null,
      "outputs": []
    },
    {
      "cell_type": "markdown",
      "source": [
        "\n",
        "## **2. Why Use Pandas?**\n",
        "Pandas offers a range of features that make data manipulation and analysis efficient and straightforward. Here are some reasons to use Pandas:\n",
        "\n",
        "- **Easy data manipulation:** Pandas provides intuitive data structures like DataFrames and Series, which allow you to handle and manipulate structured data easily.\n",
        "- **Data cleaning and preprocessing:** Pandas offers powerful tools to clean and preprocess data, handling missing values, data type conversions, and more.\n",
        "- **Data filtering:** Pandas provides convenient methods to filter data based on specific conditions or criteria, enabling you to extract relevant information from large datasets.\n",
        "- **Data aggregation and grouping:** Pandas allows you to group data based on specific attributes and perform aggregate calculations, such as sum, mean, count, etc.\n",
        "- **Data visualization:** Pandas integrates well with other Python libraries like Matplotlib and Seaborn, allowing you to create visualizations and gain insights from your data effortlessly.\n"
      ],
      "metadata": {
        "id": "SdhufvSup7cS"
      }
    },
    {
      "cell_type": "markdown",
      "source": [
        "## **3. Importing the Pandas Library:**\n",
        "To start using Pandas in your Python program, you need to import the library. Here's how you can import Pandas:\n",
        "\n",
        "```python\n",
        "import pandas as pd\n",
        "```"
      ],
      "metadata": {
        "id": "gcPanp0sqJ8c"
      }
    },
    {
      "cell_type": "code",
      "source": [],
      "metadata": {
        "id": "IUWxQQVCqKhr"
      },
      "execution_count": null,
      "outputs": []
    },
    {
      "cell_type": "markdown",
      "source": [
        "## **4. Loading Data into Pandas:**\n",
        "Before you can start manipulating data with Pandas, you need to load your data into a Pandas DataFrame. A DataFrame is a two-dimensional table-like data structure that organizes your data.\n",
        "\n",
        "```python\n",
        "# Import Pandas library\n",
        "import pandas as pd\n",
        "\n",
        "# Load data from a CSV file\n",
        "data = pd.read_csv('data.csv')\n",
        "```\n"
      ],
      "metadata": {
        "id": "V-x1YsfTqO0E"
      }
    },
    {
      "cell_type": "code",
      "source": [
        "# Import Pandas library\n",
        "import pandas as pd\n",
        "\n",
        "# Load data from a CSV file\n",
        "data = pd.read_csv('data.csv')"
      ],
      "metadata": {
        "id": "8UVbnoUHqQuM"
      },
      "execution_count": null,
      "outputs": []
    },
    {
      "cell_type": "markdown",
      "source": [],
      "metadata": {
        "id": "eG-9MlhyZc_m"
      }
    },
    {
      "cell_type": "markdown",
      "source": [
        "## **5. Exploring the Data:**\n",
        "Once you have loaded the data, it's important to understand its structure and contents. Pandas provides several methods to explore the data:\n",
        "\n",
        "```python\n",
        "# Check the first few rows of the DataFrame\n",
        "print(data.head())\n",
        "\n",
        "# Get the summary statistics of the data\n",
        "print(data.describe())\n",
        "\n",
        "# Get the number of rows and columns in the DataFrame\n",
        "print(data.shape)\n",
        "\n",
        "# Get the column names\n",
        "print(data.columns)\n",
        "\n",
        "# Access specific columns\n",
        "print(data['column_name'])\n",
        "```\n"
      ],
      "metadata": {
        "id": "xvgT7r4FqWJ8"
      }
    },
    {
      "cell_type": "code",
      "source": [],
      "metadata": {
        "id": "jfP_PzO8qaak"
      },
      "execution_count": null,
      "outputs": []
    },
    {
      "cell_type": "markdown",
      "source": [
        "## **6. Data Manipulation:**\n",
        "Pandas offers a wide range of methods for manipulating data. Here are some common data manipulation operations:\n",
        "\n",
        "```python\n",
        "# Selecting specific rows and columns\n",
        "subset = data.loc[2:5, ['column1', 'column2']]\n",
        "\n",
        "# Adding a new column\n",
        "data['new_column'] = [1, 2, 3, 4, 5]\n",
        "\n",
        "# Removing columns\n",
        "data.drop(['column1', 'column2'], axis=1, inplace=True)\n",
        "\n",
        "# Renaming columns\n",
        "data.rename(columns={'old_name': 'new_name'}, inplace=True)\n",
        "\n",
        "# Sorting data\n",
        "sorted_data = data.sort_values(by='column_name')\n",
        "```"
      ],
      "metadata": {
        "id": "mrTY-2aUqa7F"
      }
    },
    {
      "cell_type": "code",
      "source": [],
      "metadata": {
        "id": "cjO-utsJqgvM"
      },
      "execution_count": null,
      "outputs": []
    },
    {
      "cell_type": "markdown",
      "source": [
        "## **7. Data Cleaning:**\n",
        "Data often contains missing values or inconsistent entries. Pandas provides methods for data cleaning:\n",
        "\n",
        "```python\n",
        "# Check for missing values\n",
        "print(data.isnull().sum())\n",
        "\n",
        "# Handling missing values\n",
        "data.dropna()  # Remove rows with missing values\n",
        "data.fillna(0)  # Fill missing values with a specific value\n",
        "\n",
        "# Data type conversions\n",
        "data['column_name'] = data['column_name'].astype(int)\n",
        "```\n"
      ],
      "metadata": {
        "id": "fBQU6EbpqpBc"
      }
    },
    {
      "cell_type": "code",
      "source": [],
      "metadata": {
        "id": "UTJefogTqp3c"
      },
      "execution_count": null,
      "outputs": []
    },
    {
      "cell_type": "markdown",
      "source": [
        "## **8. Data Filtering:**\n",
        "Pandas allows you to filter data based on specific conditions or criteria:\n",
        "\n",
        "```python\n",
        "# Filter data based on a condition\n",
        "filtered_data = data[data['column_name'] > 100]\n",
        "\n",
        "# Multiple conditions\n",
        "filtered_data = data[(data['column1'] > 100) & (data['column2'] == 'value')]\n",
        "```\n"
      ],
      "metadata": {
        "id": "CrfNa_O3qtMs"
      }
    },
    {
      "cell_type": "code",
      "source": [],
      "metadata": {
        "id": "tRB6TR6iqt-O"
      },
      "execution_count": null,
      "outputs": []
    },
    {
      "cell_type": "markdown",
      "source": [
        "## **9. Data Aggregation and Grouping:**\n",
        "Pandas provides functions to aggregate and group data based on specific attributes:\n",
        "\n",
        "```python\n",
        "# Calculate the mean of a column\n",
        "mean_value = data['column_name'].mean()\n",
        "\n",
        "# Group data and perform aggregations\n",
        "grouped_data = data.groupby('column_name').sum()\n",
        "```\n"
      ],
      "metadata": {
        "id": "_uXBwd3wqwlc"
      }
    },
    {
      "cell_type": "code",
      "source": [],
      "metadata": {
        "id": "tBfvCaqBqwyc"
      },
      "execution_count": null,
      "outputs": []
    },
    {
      "cell_type": "markdown",
      "source": [
        "## **10. Data Visualization:**\n",
        "Pandas integrates well with data visualization libraries like Matplotlib and Seaborn, allowing you to create visualizations:\n",
        "\n",
        "```python\n",
        "import matplotlib.pyplot as plt\n",
        "\n",
        "# Create a histogram\n",
        "data['column_name'].hist()\n",
        "plt.show()\n",
        "\n",
        "# Create a scatter plot\n",
        "plt.scatter(data['column1'], data['column2'])\n",
        "plt.show()\n",
        "```\n"
      ],
      "metadata": {
        "id": "e_af9mE5q2y1"
      }
    },
    {
      "cell_type": "code",
      "source": [],
      "metadata": {
        "id": "F8jqMa_lq3r0"
      },
      "execution_count": null,
      "outputs": []
    },
    {
      "cell_type": "markdown",
      "source": [
        "## **11. Saving Data:**\n",
        "After processing and analyzing data, you may want to save the results. Pandas provides various methods for saving data:\n",
        "\n",
        "```python\n",
        "# Save data to a CSV file\n",
        "data.to_csv('output.csv', index=False)\n",
        "\n",
        "# Save data to an Excel file\n",
        "data.to_excel('output.xlsx', index=False)\n",
        "```\n"
      ],
      "metadata": {
        "id": "qv4H9d0zq5q0"
      }
    },
    {
      "cell_type": "code",
      "source": [],
      "metadata": {
        "id": "O8fqR7Sgq79M"
      },
      "execution_count": null,
      "outputs": []
    },
    {
      "cell_type": "markdown",
      "source": [
        "## **12. Conclusion:**\n",
        "Pandas is a powerful tool for data manipulation and analysis in Python. In this guide, we covered the basics of Pandas, from installation to data manipulation, cleaning, filtering, aggregation, visualization, and saving data. By mastering Pandas, you will be equipped to handle and analyze large datasets efficiently.\n",
        "\n",
        "Remember to explore the official Pandas documentation and experiment with various functions to gain a deeper understanding of the library's capabilities. Happy data manipulation!"
      ],
      "metadata": {
        "id": "U1ackEj_pzCF"
      }
    },
    {
      "cell_type": "code",
      "execution_count": null,
      "metadata": {
        "id": "0rPb-JJ0AoFU"
      },
      "outputs": [],
      "source": []
    },
    {
      "cell_type": "markdown",
      "source": [
        "# **Matplotlib: Data Visualization in Python**\n",
        "\n",
        "## Table of Contents\n",
        "1. Introduction to Matplotlib\n",
        "2. Why Use Matplotlib?\n",
        "3. Installation and Setup\n",
        "4. Basic Plotting with Matplotlib\n",
        "5. Customizing Plots\n",
        "6. Multiple Plots and Subplots\n",
        "7. Saving and Exporting Plots\n",
        "8. Conclusion\n"
      ],
      "metadata": {
        "id": "pH5oGrKV7MIY"
      }
    },
    {
      "cell_type": "markdown",
      "source": [
        "## **1. Introduction to Matplotlib**\n",
        "Matplotlib is a popular data visualization library in Python. It provides a flexible and comprehensive toolkit for creating static, animated, and interactive visualizations in Python. With Matplotlib, you can create various types of plots, including line plots, scatter plots, bar plots, histograms, and more."
      ],
      "metadata": {
        "id": "SdInCPjw-LU4"
      }
    },
    {
      "cell_type": "markdown",
      "source": [
        "\n",
        "\n",
        "## **2. Why Use Matplotlib?**\n",
        "Matplotlib is widely used for data visualization due to its simplicity and versatility. Here are a few reasons why you should consider using Matplotlib:\n",
        "\n",
        "- **Ease of Use**: Matplotlib is easy to learn and use, making it accessible for beginners.\n",
        "- **Flexibility**: It offers a wide range of customization options, allowing you to create visually appealing plots.\n",
        "- **Publication Quality**: Matplotlib produces high-quality, publication-ready plots suitable for scientific papers and reports.\n",
        "- **Integration**: Matplotlib integrates well with other Python libraries like NumPy, Pandas, and SciPy.\n",
        "- **Large Community**: Being a popular library, Matplotlib has a large community of users, which means you can find plenty of resources and support.\n",
        "\n",
        "Now, let's move on to the installation and setup process.\n"
      ],
      "metadata": {
        "id": "EtpAg1SY7Paf"
      }
    },
    {
      "cell_type": "markdown",
      "source": [
        "\n",
        "## **3. Installation and Setup**\n",
        "Before using Matplotlib, you need to install it on your system. The easiest way to install Matplotlib, along with other scientific computing libraries, is by using the Anaconda distribution. Follow these steps:\n",
        "\n",
        "1. Download and install Anaconda from the official website (https://www.anaconda.com/products/individual).\n",
        "2. Launch Anaconda Navigator, which provides a graphical interface for managing environments and packages.\n",
        "3. Create a new environment (if desired) or select an existing environment.\n",
        "4. Search for \"matplotlib\" in the \"Search Packages\" field.\n",
        "5. Click the checkbox next to \"matplotlib\" and then click the \"Apply\" button to install it.\n",
        "\n",
        "Alternatively, you can install Matplotlib using the pip package manager. Open a terminal or command prompt and run the following command:\n",
        "\n",
        "```\n",
        "pip install matplotlib\n",
        "```\n",
        "\n",
        "Once Matplotlib is installed, you can import it into your Python script or Jupyter Notebook using the following line of code:\n",
        "\n",
        "```python\n",
        "import matplotlib.pyplot as plt\n",
        "```\n",
        "\n",
        "Now that you have Matplotlib installed and imported, we can start exploring its functionalities."
      ],
      "metadata": {
        "id": "ra8_OyqX7TG_"
      }
    },
    {
      "cell_type": "code",
      "source": [],
      "metadata": {
        "id": "wKvHf8S87UA_"
      },
      "execution_count": null,
      "outputs": []
    },
    {
      "cell_type": "markdown",
      "source": [
        "\n",
        "## **4. Basic Plotting with Matplotlib**\n",
        "Matplotlib provides a simple interface for creating basic plots. Let's start with a simple line plot:\n",
        "\n",
        "```python\n",
        "import matplotlib.pyplot as plt\n",
        "\n",
        "# Data\n",
        "x = [1, 2, 3, 4, 5]\n",
        "y = [2, 4, 6, 8, 10]\n",
        "\n",
        "# Create a figure and axes\n",
        "fig, ax = plt.subplots()\n",
        "\n",
        "# Plot the data\n",
        "ax.plot(x, y)\n",
        "\n",
        "# Show the plot\n",
        "plt.show()\n",
        "```\n",
        "\n",
        "Explanation:\n",
        "- We import the `matplotlib.pyplot` module and alias it as `plt` for convenience.\n",
        "- We define two lists `x` and `y` to hold our data points.\n",
        "- We create a figure and axes using `plt.subplots()`. The `fig` object represents the entire figure, while the `ax` object represents a set of axes.\n",
        "- We plot the data using the `plot()` function, passing in the `x` and `y` values.\n",
        "- Finally, we use `plt.show()` to display the plot.\n",
        "\n",
        "Run the code, and you should see a simple line plot with the points connected by a line."
      ],
      "metadata": {
        "id": "o3bAaeYD7ciQ"
      }
    },
    {
      "cell_type": "code",
      "source": [
        "import matplotlib.pyplot as plt\n",
        "\n",
        "# Data\n",
        "x = [1, 2, 3, 4, 5]\n",
        "y = [2, 4, 6, 8, 10]\n",
        "\n",
        "# Create a figure and axes\n",
        "fig, ax = plt.subplots()\n",
        "\n",
        "# Plot the data\n",
        "ax.plot(x, y)\n",
        "\n",
        "# Show the plot\n",
        "plt.show()"
      ],
      "metadata": {
        "colab": {
          "base_uri": "https://localhost:8080/",
          "height": 430
        },
        "id": "7NckwEqH7XmQ",
        "outputId": "00294710-39af-4fee-cfaf-7c3395b74fde"
      },
      "execution_count": null,
      "outputs": [
        {
          "output_type": "display_data",
          "data": {
            "text/plain": [
              "<Figure size 640x480 with 1 Axes>"
            ],
            "image/png": "[encoded data removed]"
          },
          "metadata": {}
        }
      ]
    },
    {
      "cell_type": "markdown",
      "source": [
        "\n",
        "## **5. Customizing Plots**\n",
        "Matplotlib provides numerous customization options to enhance your plots. Here are a few common customization techniques:\n",
        "\n",
        "- **Labels and Titles**: You can add labels to the x-axis and y-axis and provide a title for the plot.\n",
        "- **Line and Marker Styles**: You can change the line style, color, and marker style for your plot.\n",
        "- **Axis Limits**: You can set custom limits for the x-axis and y-axis.\n",
        "- **Grids**: You can enable grids to assist with readability.\n",
        "- **Legends**: You can add a legend to indicate the meaning of different elements in the plot.\n",
        "\n",
        "Here's an example that demonstrates some of these customizations:\n",
        "\n",
        "```python\n",
        "import matplotlib.pyplot as plt\n",
        "\n",
        "# Data\n",
        "x = [1, 2, 3, 4, 5]\n",
        "y = [2, 4, 6, 8, 10]\n",
        "\n",
        "# Create a figure and axes\n",
        "fig, ax = plt.subplots()\n",
        "\n",
        "# Plot the data with customizations\n",
        "ax.plot(x, y, linestyle='--', marker='o', color='g', label='Data')\n",
        "\n",
        "# Add labels and title\n",
        "ax.set_xlabel('X')\n",
        "ax.set_ylabel('Y')\n",
        "ax.set_title('Custom Plot')\n",
        "\n",
        "# Set axis limits\n",
        "ax.set_xlim(0, 6)\n",
        "ax.set_ylim(0, 12)\n",
        "\n",
        "# Enable grid\n",
        "ax.grid(True)\n",
        "\n",
        "# Add legend\n",
        "ax.legend()\n",
        "\n",
        "# Show the plot\n",
        "plt.show()\n",
        "```\n",
        "\n",
        "In this example, we've added customizations to the plot:\n",
        "- We set the line style to dashed (`linestyle='--'`), marker style to circles (`marker='o'`), and color to green (`color='g'`).\n",
        "- We added labels to the x-axis and y-axis and provided a title using `ax.set_xlabel()`, `ax.set_ylabel()`, and `ax.set_title()` methods.\n",
        "- We set custom limits for the x-axis and y-axis using `ax.set_xlim()` and `ax.set_ylim()`.\n",
        "- We enabled grid lines using `ax.grid(True)`.\n",
        "- Finally, we added a legend using `ax.legend()`.\n"
      ],
      "metadata": {
        "id": "ae7gIIxq8UTo"
      }
    },
    {
      "cell_type": "code",
      "source": [
        "import matplotlib.pyplot as plt\n",
        "\n",
        "# Data\n",
        "x = [1, 2, 3, 4, 5]\n",
        "y = [2, 4, 6, 8, 10]\n",
        "\n",
        "# Create a figure and axes\n",
        "fig, ax = plt.subplots()\n",
        "\n",
        "# Plot the data with customizations\n",
        "ax.plot(x, y, linestyle='--', marker='o', color='g', label='Data')\n",
        "\n",
        "# Add labels and title\n",
        "ax.set_xlabel('X')\n",
        "ax.set_ylabel('Y')\n",
        "ax.set_title('Custom Plot')\n",
        "\n",
        "# Set axis limits\n",
        "ax.set_xlim(0, 6)\n",
        "ax.set_ylim(0, 12)\n",
        "\n",
        "# Enable grid\n",
        "ax.grid(True)\n",
        "\n",
        "# Add legend\n",
        "ax.legend()\n",
        "\n",
        "# Show the plot\n",
        "plt.show()"
      ],
      "metadata": {
        "colab": {
          "base_uri": "https://localhost:8080/",
          "height": 472
        },
        "id": "UyxSkSj-8VVh",
        "outputId": "f188fc6e-a654-4450-e5e5-66ee2a353255"
      },
      "execution_count": null,
      "outputs": [
        {
          "output_type": "display_data",
          "data": {
            "text/plain": [
              "<Figure size 640x480 with 1 Axes>"
            ],
            "image/png": "[encoded data removed]"
          },
          "metadata": {}
        }
      ]
    },
    {
      "cell_type": "markdown",
      "source": [
        "\n",
        "## **6. Multiple Plots and Subplots**\n",
        "Matplotlib allows you to create multiple plots within a single figure. You can also arrange subplots in a grid layout. Here's an example:\n",
        "\n",
        "```python\n",
        "import matplotlib.pyplot as plt\n",
        "\n",
        "# Data\n",
        "x = [1, 2, 3, 4, 5]\n",
        "y1 = [2, 4, 6, 8, 10]\n",
        "y2 = [1, 3, 5, 7, 9]\n",
        "\n",
        "# Create a figure with subplots\n",
        "fig, axes = plt.subplots(nrows=1, ncols=2)\n",
        "\n",
        "# Plot on the first subplot\n",
        "axes[0].plot(x, y1)\n",
        "axes[0].set_title('Plot 1')\n",
        "\n",
        "# Plot on the second subplot\n",
        "axes[1].plot(x, y2)\n",
        "axes[1].set_title('Plot 2')\n",
        "\n",
        "# Adjust spacing between subplots\n",
        "plt.tight_layout()\n",
        "\n",
        "# Show the plot\n",
        "plt.show()\n",
        "```\n",
        "\n",
        "In this example, we:\n",
        "- Use `plt.subplots()` to create a figure with two subplots arranged side by side (`nrows=1, ncols=2`).\n",
        "- Plot `y1` on the first subplot (`axes[0]`) and `y2` on the second subplot (`axes[1]`).\n",
        "- Set titles for each subplot using `axes[0].set_title()` and `axes[1].set_title()`.\n",
        "- Finally, we use `plt.tight_layout()` to adjust the spacing between subplots.\n"
      ],
      "metadata": {
        "id": "Ipr_PKro8YEA"
      }
    },
    {
      "cell_type": "code",
      "source": [
        "import matplotlib.pyplot as plt\n",
        "\n",
        "# Data\n",
        "x = [1, 2, 3, 4, 5]\n",
        "y1 = [2, 4, 6, 8, 10]\n",
        "y2 = [1, 3, 5, 7, 9]\n",
        "\n",
        "# Create a figure with subplots\n",
        "fig, axes = plt.subplots(nrows=1, ncols=2)\n",
        "\n",
        "# Plot on the first subplot\n",
        "axes[0].plot(x, y1)\n",
        "axes[0].set_title('Plot 1')\n",
        "\n",
        "# Plot on the second subplot\n",
        "axes[1].plot(x, y2)\n",
        "axes[1].set_title('Plot 2')\n",
        "\n",
        "# Adjust spacing between subplots\n",
        "plt.tight_layout()\n",
        "\n",
        "# Show the plot\n",
        "plt.show()"
      ],
      "metadata": {
        "colab": {
          "base_uri": "https://localhost:8080/",
          "height": 487
        },
        "id": "nkOHTss68Y4g",
        "outputId": "5d58fdee-1209-46ab-f1f8-f183b1a98980"
      },
      "execution_count": null,
      "outputs": [
        {
          "output_type": "display_data",
          "data": {
            "text/plain": [
              "<Figure size 640x480 with 2 Axes>"
            ],
            "image/png": "[encoded data removed]"
          },
          "metadata": {}
        }
      ]
    },
    {
      "cell_type": "code",
      "source": [
        "# https://www.geeksforgeeks.org/introduction-to-3d-plotting-with-matplotlib/\n",
        "\n",
        "# importing numpy package from\n",
        "# python library\n",
        "import numpy as np\n",
        "\n",
        "# importing matplotlib.pyplot package from\n",
        "# python\n",
        "import matplotlib.pyplot as plt\n",
        "\n",
        "# Creating an empty figure\n",
        "# or plot\n",
        "fig = plt.figure()\n",
        "\n",
        "# Defining the axes as a\n",
        "# 3D axes so that we can plot 3D\n",
        "# data into it.\n",
        "ax = plt.axes(projection=\"3d\")\n",
        "\n",
        "# Showing the above plot\n",
        "plt.show()"
      ],
      "metadata": {
        "colab": {
          "base_uri": "https://localhost:8080/",
          "height": 418
        },
        "id": "UP4ROby1liaG",
        "outputId": "5c50b601-a5b1-4b46-fe8e-e9c957947cc9"
      },
      "execution_count": null,
      "outputs": [
        {
          "output_type": "display_data",
          "data": {
            "text/plain": [
              "<Figure size 640x480 with 1 Axes>"
            ],
            "image/png": "[encoded data removed]"
          },
          "metadata": {}
        }
      ]
    },
    {
      "cell_type": "markdown",
      "source": [
        "\n",
        "## **7. Saving and Exporting Plots**\n",
        "Matplotlib allows you to save your plots in various formats, including PNG, PDF, SVG, and more. Here's how you can save a plot:\n",
        "\n",
        "```python\n",
        "import matplotlib.pyplot as plt\n",
        "\n",
        "# Data\n",
        "x = [1, 2, 3, 4, 5]\n",
        "y = [2, 4, 6, 8, 10]\n",
        "\n",
        "# Create a figure and axes\n",
        "fig, ax = plt.subplots()\n",
        "\n",
        "# Plot the data\n",
        "ax.plot(x, y)\n",
        "\n",
        "# Save the plot as PNG\n",
        "plt.savefig('my_plot.png')\n",
        "\n",
        "# Save the plot as PDF\n",
        "plt.savefig('my_plot.pdf')\n",
        "\n",
        "# Save the plot as SVG\n",
        "plt.savefig('my_plot.svg')\n",
        "```\n",
        "\n",
        "In this example, we save the plot in three different formats: PNG, PDF, and SVG. The `plt.savefig()` function is used to save the plot with the specified filename and format.\n"
      ],
      "metadata": {
        "id": "db7_Wrg68bj4"
      }
    },
    {
      "cell_type": "code",
      "source": [
        "import matplotlib.pyplot as plt\n",
        "\n",
        "# Data\n",
        "x = [1, 2, 3, 4, 5]\n",
        "y = [2, 4, 6, 8, 10]\n",
        "\n",
        "# Create a figure and axes\n",
        "fig, ax = plt.subplots()\n",
        "\n",
        "# Plot the data\n",
        "ax.plot(x, y)\n",
        "\n",
        "# Save the plot as PNG\n",
        "plt.savefig('my_plot.png')\n",
        "\n",
        "# Save the plot as PDF\n",
        "plt.savefig('my_plot.pdf')\n",
        "\n",
        "# Save the plot as SVG\n",
        "plt.savefig('my_plot.svg')"
      ],
      "metadata": {
        "colab": {
          "base_uri": "https://localhost:8080/",
          "height": 430
        },
        "id": "Jdq8rJAA8c0g",
        "outputId": "1cf09261-3d0a-4370-b554-8eb97979926f"
      },
      "execution_count": null,
      "outputs": [
        {
          "output_type": "display_data",
          "data": {
            "text/plain": [
              "<Figure size 640x480 with 1 Axes>"
            ],
            "image/png": "[encoded data removed]"
          },
          "metadata": {}
        }
      ]
    },
    {
      "cell_type": "markdown",
      "source": [
        "## **8. Conclusion**\n",
        "Congratulations! You have now learned the basics of Matplotlib and how to create various types of plots, customize them, and save them. Matplotlib offers a wide range of functionalities to explore and experiment with, making it a powerful tool for data visualization in Python.\n",
        "\n",
        "Remember to refer to the Matplotlib documentation (https://matplotlib.org/stable/contents.html) for more detailed information and additional plot types.\n",
        "\n"
      ],
      "metadata": {
        "id": "DscpmhMP7BTx"
      }
    },
    {
      "cell_type": "code",
      "source": [],
      "metadata": {
        "id": "L0m89rrh8fJQ"
      },
      "execution_count": null,
      "outputs": []
    },
    {
      "cell_type": "markdown",
      "source": [
        "# **Plotly: Interactive Data Visualization**\n",
        "\n",
        "## Table of Contents\n",
        "1. Introduction to Plotly\n",
        "2. Why Use Plotly?\n",
        "3. Installation and Setup\n",
        "4. Basic Line Plot\n",
        "5. Scatter Plot\n",
        "6. Bar Chart\n",
        "7. Pie Chart\n",
        "8. Histogram\n",
        "9. Box Plot\n",
        "10. Heatmap\n",
        "11. 3D Plotting\n",
        "12. Interactive Dashboards\n",
        "13. Conclusion\n"
      ],
      "metadata": {
        "id": "55QZxUGlEM1u"
      }
    },
    {
      "cell_type": "markdown",
      "source": [
        "## **1. Introduction to Plotly**\n",
        "Plotly is a powerful Python library for creating interactive visualizations. It offers a wide range of chart types, including line plots, scatter plots, bar charts, pie charts, histograms, box plots, heatmaps, and 3D plots. Plotly allows users to create dynamic and interactive plots that can be easily customized and shared.\n"
      ],
      "metadata": {
        "id": "12b4DirKEYfG"
      }
    },
    {
      "cell_type": "markdown",
      "source": [
        "\n",
        "\n",
        "\n",
        "## **2. Why Use Plotly?**\n",
        "Plotly provides several advantages for data visualization:\n",
        "\n",
        "- **Interactive Visualizations:** Plotly allows users to create interactive plots that respond to user input. This makes it easier to explore and analyze data from different perspectives.\n",
        "- **Wide Range of Chart Types:** Plotly offers a diverse set of chart types, making it suitable for visualizing different types of data and solving various analytical problems.\n",
        "- **Customization Options:** Plotly provides extensive customization options, including color schemes, labels, annotations, and styling. This enables users to create visually appealing plots tailored to their specific needs.\n",
        "- **Collaboration and Sharing:** Plotly allows users to easily share their plots online and collaborate with others. Plots can be embedded in websites or shared as standalone files.\n",
        "- **Integration with Other Libraries:** Plotly integrates well with other Python libraries, such as Pandas, NumPy, and Scikit-learn, enabling seamless data manipulation and analysis.\n",
        "\n",
        "Now, let's get started with the installation and setup process.\n",
        "\n",
        "\n",
        "\n",
        "\n",
        "\n"
      ],
      "metadata": {
        "id": "utyYKP7V8ecw"
      }
    },
    {
      "cell_type": "markdown",
      "source": [
        "## **3. Installation and Setup**\n",
        "To use Plotly, we need to install the Plotly library and any necessary dependencies. Open your terminal or command prompt and run the following command to install Plotly using pip:\n",
        "\n",
        "```\n",
        "pip install plotly\n",
        "```\n",
        "\n",
        "Once the installation is complete, we can import Plotly in our Python script using the following statement:\n",
        "\n",
        "```python\n",
        "import plotly.graph_objects as go\n",
        "```\n",
        "\n",
        "With Plotly successfully installed and imported, we can now proceed to create our first plot.\n"
      ],
      "metadata": {
        "id": "UYb6NDbRCGVG"
      }
    },
    {
      "cell_type": "code",
      "source": [],
      "metadata": {
        "id": "q9YMTn7SCFIe"
      },
      "execution_count": null,
      "outputs": []
    },
    {
      "cell_type": "markdown",
      "source": [
        "## **4. Basic Line Plot**\n",
        "A line plot is a common type of plot used to visualize the relationship between two variables. Let's create a simple line plot using Plotly.\n",
        "\n",
        "```python\n",
        "import plotly.graph_objects as go\n",
        "\n",
        "# Create data\n",
        "x = [1, 2, 3, 4, 5]\n",
        "y = [2, 4, 1, 3, 5]\n",
        "\n",
        "# Create line plot\n",
        "fig = go.Figure(data=go.Scatter(x=x, y=y))\n",
        "\n",
        "# Add title and axis labels\n",
        "fig.update_layout(title='Line Plot', xaxis_title='X-axis', yaxis_title='Y-axis')\n",
        "\n",
        "# Display the plot\n",
        "fig.show()\n",
        "```\n",
        "\n",
        "In the code above, we first import the necessary module from Plotly. Then, we create two lists `x` and `y` to represent the x-axis and y-axis values, respectively. Next, we create a `Figure` object and pass in our data using the `Scatter` trace. We then update the layout to add a title and axis labels. Finally, we display the plot using `fig.show()`.\n"
      ],
      "metadata": {
        "id": "cyEBEd0mB8Qe"
      }
    },
    {
      "cell_type": "code",
      "source": [
        "import plotly.graph_objects as go\n",
        "\n",
        "# Create data\n",
        "x = [1, 2, 3, 4, 5]\n",
        "y = [2, 4, 1, 3, 5]\n",
        "\n",
        "# Create line plot\n",
        "fig = go.Figure(data=go.Scatter(x=x, y=y))\n",
        "\n",
        "# Add title and axis labels\n",
        "fig.update_layout(title='Line Plot', xaxis_title='X-axis', yaxis_title='Y-axis')\n",
        "\n",
        "# Display the plot\n",
        "fig.show()"
      ],
      "metadata": {
        "colab": {
          "base_uri": "https://localhost:8080/",
          "height": 542
        },
        "id": "LRFJjg4gB7oW",
        "outputId": "46128077-f5fa-4735-a3f7-edfcbcc1f799"
      },
      "execution_count": null,
      "outputs": [
        {
          "output_type": "display_data",
          "data": {
            "text/html": [
              "<html>\n",
              "<head><meta charset=\"utf-8\" /></head>\n",
              "<body>\n",
              "    <div>            <script src=\"https://cdnjs.cloudflare.com/ajax/libs/mathjax/2.7.5/MathJax.js?config=TeX-AMS-MML_SVG\"></script><script type=\"text/javascript\">if (window.MathJax && window.MathJax.Hub && window.MathJax.Hub.Config) {window.MathJax.Hub.Config({SVG: {font: \"STIX-Web\"}});}</script>                <script type=\"text/javascript\">window.PlotlyConfig = {MathJaxConfig: 'local'};</script>\n",
              "        <script src=\"https://cdn.plot.ly/plotly-2.18.2.min.js\"></script>                <div id=\"4cf996c4-c1ff-4ba4-86a2-3d0c5a6169c2\" class=\"plotly-graph-div\" style=\"height:525px; width:100%;\"></div>            <script type=\"text/javascript\">                                    window.PLOTLYENV=window.PLOTLYENV || {};                                    if (document.getElementById(\"4cf996c4-c1ff-4ba4-86a2-3d0c5a6169c2\")) {                    Plotly.newPlot(                        \"4cf996c4-c1ff-4ba4-86a2-3d0c5a6169c2\",                        [{\"x\":[1,2,3,4,5],\"y\":[2,4,1,3,5],\"type\":\"scatter\"}],                        {\"template\":{\"data\":{\"histogram2dcontour\":[{\"type\":\"histogram2dcontour\",\"colorbar\":{\"outlinewidth\":0,\"ticks\":\"\"},\"colorscale\":[[0.0,\"#0d0887\"],[0.1111111111111111,\"#46039f\"],[0.2222222222222222,\"#7201a8\"],[0.3333333333333333,\"#9c179e\"],[0.4444444444444444,\"#bd3786\"],[0.5555555555555556,\"#d8576b\"],[0.6666666666666666,\"#ed7953\"],[0.7777777777777778,\"#fb9f3a\"],[0.8888888888888888,\"#fdca26\"],[1.0,\"#f0f921\"]]}],\"choropleth\":[{\"type\":\"choropleth\",\"colorbar\":{\"outlinewidth\":0,\"ticks\":\"\"}}],\"histogram2d\":[{\"type\":\"histogram2d\",\"colorbar\":{\"outlinewidth\":0,\"ticks\":\"\"},\"colorscale\":[[0.0,\"#0d0887\"],[0.1111111111111111,\"#46039f\"],[0.2222222222222222,\"#7201a8\"],[0.3333333333333333,\"#9c179e\"],[0.4444444444444444,\"#bd3786\"],[0.5555555555555556,\"#d8576b\"],[0.6666666666666666,\"#ed7953\"],[0.7777777777777778,\"#fb9f3a\"],[0.8888888888888888,\"#fdca26\"],[1.0,\"#f0f921\"]]}],\"heatmap\":[{\"type\":\"heatmap\",\"colorbar\":{\"outlinewidth\":0,\"ticks\":\"\"},\"colorscale\":[[0.0,\"#0d0887\"],[0.1111111111111111,\"#46039f\"],[0.2222222222222222,\"#7201a8\"],[0.3333333333333333,\"#9c179e\"],[0.4444444444444444,\"#bd3786\"],[0.5555555555555556,\"#d8576b\"],[0.6666666666666666,\"#ed7953\"],[0.7777777777777778,\"#fb9f3a\"],[0.8888888888888888,\"#fdca26\"],[1.0,\"#f0f921\"]]}],\"heatmapgl\":[{\"type\":\"heatmapgl\",\"colorbar\":{\"outlinewidth\":0,\"ticks\":\"\"},\"colorscale\":[[0.0,\"#0d0887\"],[0.1111111111111111,\"#46039f\"],[0.2222222222222222,\"#7201a8\"],[0.3333333333333333,\"#9c179e\"],[0.4444444444444444,\"#bd3786\"],[0.5555555555555556,\"#d8576b\"],[0.6666666666666666,\"#ed7953\"],[0.7777777777777778,\"#fb9f3a\"],[0.8888888888888888,\"#fdca26\"],[1.0,\"#f0f921\"]]}],\"contourcarpet\":[{\"type\":\"contourcarpet\",\"colorbar\":{\"outlinewidth\":0,\"ticks\":\"\"}}],\"contour\":[{\"type\":\"contour\",\"colorbar\":{\"outlinewidth\":0,\"ticks\":\"\"},\"colorscale\":[[0.0,\"#0d0887\"],[0.1111111111111111,\"#46039f\"],[0.2222222222222222,\"#7201a8\"],[0.3333333333333333,\"#9c179e\"],[0.4444444444444444,\"#bd3786\"],[0.5555555555555556,\"#d8576b\"],[0.6666666666666666,\"#ed7953\"],[0.7777777777777778,\"#fb9f3a\"],[0.8888888888888888,\"#fdca26\"],[1.0,\"#f0f921\"]]}],\"surface\":[{\"type\":\"surface\",\"colorbar\":{\"outlinewidth\":0,\"ticks\":\"\"},\"colorscale\":[[0.0,\"#0d0887\"],[0.1111111111111111,\"#46039f\"],[0.2222222222222222,\"#7201a8\"],[0.3333333333333333,\"#9c179e\"],[0.4444444444444444,\"#bd3786\"],[0.5555555555555556,\"#d8576b\"],[0.6666666666666666,\"#ed7953\"],[0.7777777777777778,\"#fb9f3a\"],[0.8888888888888888,\"#fdca26\"],[1.0,\"#f0f921\"]]}],\"mesh3d\":[{\"type\":\"mesh3d\",\"colorbar\":{\"outlinewidth\":0,\"ticks\":\"\"}}],\"scatter\":[{\"fillpattern\":{\"fillmode\":\"overlay\",\"size\":10,\"solidity\":0.2},\"type\":\"scatter\"}],\"parcoords\":[{\"type\":\"parcoords\",\"line\":{\"colorbar\":{\"outlinewidth\":0,\"ticks\":\"\"}}}],\"scatterpolargl\":[{\"type\":\"scatterpolargl\",\"marker\":{\"colorbar\":{\"outlinewidth\":0,\"ticks\":\"\"}}}],\"bar\":[{\"error_x\":{\"color\":\"#2a3f5f\"},\"error_y\":{\"color\":\"#2a3f5f\"},\"marker\":{\"line\":{\"color\":\"#E5ECF6\",\"width\":0.5},\"pattern\":{\"fillmode\":\"overlay\",\"size\":10,\"solidity\":0.2}},\"type\":\"bar\"}],\"scattergeo\":[{\"type\":\"scattergeo\",\"marker\":{\"colorbar\":{\"outlinewidth\":0,\"ticks\":\"\"}}}],\"scatterpolar\":[{\"type\":\"scatterpolar\",\"marker\":{\"colorbar\":{\"outlinewidth\":0,\"ticks\":\"\"}}}],\"histogram\":[{\"marker\":{\"pattern\":{\"fillmode\":\"overlay\",\"size\":10,\"solidity\":0.2}},\"type\":\"histogram\"}],\"scattergl\":[{\"type\":\"scattergl\",\"marker\":{\"colorbar\":{\"outlinewidth\":0,\"ticks\":\"\"}}}],\"scatter3d\":[{\"type\":\"scatter3d\",\"line\":{\"colorbar\":{\"outlinewidth\":0,\"ticks\":\"\"}},\"marker\":{\"colorbar\":{\"outlinewidth\":0,\"ticks\":\"\"}}}],\"scattermapbox\":[{\"type\":\"scattermapbox\",\"marker\":{\"colorbar\":{\"outlinewidth\":0,\"ticks\":\"\"}}}],\"scatterternary\":[{\"type\":\"scatterternary\",\"marker\":{\"colorbar\":{\"outlinewidth\":0,\"ticks\":\"\"}}}],\"scattercarpet\":[{\"type\":\"scattercarpet\",\"marker\":{\"colorbar\":{\"outlinewidth\":0,\"ticks\":\"\"}}}],\"carpet\":[{\"aaxis\":{\"endlinecolor\":\"#2a3f5f\",\"gridcolor\":\"white\",\"linecolor\":\"white\",\"minorgridcolor\":\"white\",\"startlinecolor\":\"#2a3f5f\"},\"baxis\":{\"endlinecolor\":\"#2a3f5f\",\"gridcolor\":\"white\",\"linecolor\":\"white\",\"minorgridcolor\":\"white\",\"startlinecolor\":\"#2a3f5f\"},\"type\":\"carpet\"}],\"table\":[{\"cells\":{\"fill\":{\"color\":\"#EBF0F8\"},\"line\":{\"color\":\"white\"}},\"header\":{\"fill\":{\"color\":\"#C8D4E3\"},\"line\":{\"color\":\"white\"}},\"type\":\"table\"}],\"barpolar\":[{\"marker\":{\"line\":{\"color\":\"#E5ECF6\",\"width\":0.5},\"pattern\":{\"fillmode\":\"overlay\",\"size\":10,\"solidity\":0.2}},\"type\":\"barpolar\"}],\"pie\":[{\"automargin\":true,\"type\":\"pie\"}]},\"layout\":{\"autotypenumbers\":\"strict\",\"colorway\":[\"#636efa\",\"#EF553B\",\"#00cc96\",\"#ab63fa\",\"#FFA15A\",\"#19d3f3\",\"#FF6692\",\"#B6E880\",\"#FF97FF\",\"#FECB52\"],\"font\":{\"color\":\"#2a3f5f\"},\"hovermode\":\"closest\",\"hoverlabel\":{\"align\":\"left\"},\"paper_bgcolor\":\"white\",\"plot_bgcolor\":\"#E5ECF6\",\"polar\":{\"bgcolor\":\"#E5ECF6\",\"angularaxis\":{\"gridcolor\":\"white\",\"linecolor\":\"white\",\"ticks\":\"\"},\"radialaxis\":{\"gridcolor\":\"white\",\"linecolor\":\"white\",\"ticks\":\"\"}},\"ternary\":{\"bgcolor\":\"#E5ECF6\",\"aaxis\":{\"gridcolor\":\"white\",\"linecolor\":\"white\",\"ticks\":\"\"},\"baxis\":{\"gridcolor\":\"white\",\"linecolor\":\"white\",\"ticks\":\"\"},\"caxis\":{\"gridcolor\":\"white\",\"linecolor\":\"white\",\"ticks\":\"\"}},\"coloraxis\":{\"colorbar\":{\"outlinewidth\":0,\"ticks\":\"\"}},\"colorscale\":{\"sequential\":[[0.0,\"#0d0887\"],[0.1111111111111111,\"#46039f\"],[0.2222222222222222,\"#7201a8\"],[0.3333333333333333,\"#9c179e\"],[0.4444444444444444,\"#bd3786\"],[0.5555555555555556,\"#d8576b\"],[0.6666666666666666,\"#ed7953\"],[0.7777777777777778,\"#fb9f3a\"],[0.8888888888888888,\"#fdca26\"],[1.0,\"#f0f921\"]],\"sequentialminus\":[[0.0,\"#0d0887\"],[0.1111111111111111,\"#46039f\"],[0.2222222222222222,\"#7201a8\"],[0.3333333333333333,\"#9c179e\"],[0.4444444444444444,\"#bd3786\"],[0.5555555555555556,\"#d8576b\"],[0.6666666666666666,\"#ed7953\"],[0.7777777777777778,\"#fb9f3a\"],[0.8888888888888888,\"#fdca26\"],[1.0,\"#f0f921\"]],\"diverging\":[[0,\"#8e0152\"],[0.1,\"#c51b7d\"],[0.2,\"#de77ae\"],[0.3,\"#f1b6da\"],[0.4,\"#fde0ef\"],[0.5,\"#f7f7f7\"],[0.6,\"#e6f5d0\"],[0.7,\"#b8e186\"],[0.8,\"#7fbc41\"],[0.9,\"#4d9221\"],[1,\"#276419\"]]},\"xaxis\":{\"gridcolor\":\"white\",\"linecolor\":\"white\",\"ticks\":\"\",\"title\":{\"standoff\":15},\"zerolinecolor\":\"white\",\"automargin\":true,\"zerolinewidth\":2},\"yaxis\":{\"gridcolor\":\"white\",\"linecolor\":\"white\",\"ticks\":\"\",\"title\":{\"standoff\":15},\"zerolinecolor\":\"white\",\"automargin\":true,\"zerolinewidth\":2},\"scene\":{\"xaxis\":{\"backgroundcolor\":\"#E5ECF6\",\"gridcolor\":\"white\",\"linecolor\":\"white\",\"showbackground\":true,\"ticks\":\"\",\"zerolinecolor\":\"white\",\"gridwidth\":2},\"yaxis\":{\"backgroundcolor\":\"#E5ECF6\",\"gridcolor\":\"white\",\"linecolor\":\"white\",\"showbackground\":true,\"ticks\":\"\",\"zerolinecolor\":\"white\",\"gridwidth\":2},\"zaxis\":{\"backgroundcolor\":\"#E5ECF6\",\"gridcolor\":\"white\",\"linecolor\":\"white\",\"showbackground\":true,\"ticks\":\"\",\"zerolinecolor\":\"white\",\"gridwidth\":2}},\"shapedefaults\":{\"line\":{\"color\":\"#2a3f5f\"}},\"annotationdefaults\":{\"arrowcolor\":\"#2a3f5f\",\"arrowhead\":0,\"arrowwidth\":1},\"geo\":{\"bgcolor\":\"white\",\"landcolor\":\"#E5ECF6\",\"subunitcolor\":\"white\",\"showland\":true,\"showlakes\":true,\"lakecolor\":\"white\"},\"title\":{\"x\":0.05},\"mapbox\":{\"style\":\"light\"}}},\"title\":{\"text\":\"Line Plot\"},\"xaxis\":{\"title\":{\"text\":\"X-axis\"}},\"yaxis\":{\"title\":{\"text\":\"Y-axis\"}}},                        {\"responsive\": true}                    ).then(function(){\n",
              "                            \n",
              "var gd = document.getElementById('4cf996c4-c1ff-4ba4-86a2-3d0c5a6169c2');\n",
              "var x = new MutationObserver(function (mutations, observer) {{\n",
              "        var display = window.getComputedStyle(gd).display;\n",
              "        if (!display || display === 'none') {{\n",
              "            console.log([gd, 'removed!']);\n",
              "            Plotly.purge(gd);\n",
              "            observer.disconnect();\n",
              "        }}\n",
              "}});\n",
              "\n",
              "// Listen for the removal of the full notebook cells\n",
              "var notebookContainer = gd.closest('#notebook-container');\n",
              "if (notebookContainer) {{\n",
              "    x.observe(notebookContainer, {childList: true});\n",
              "}}\n",
              "\n",
              "// Listen for the clearing of the current output cell\n",
              "var outputEl = gd.closest('.output');\n",
              "if (outputEl) {{\n",
              "    x.observe(outputEl, {childList: true});\n",
              "}}\n",
              "\n",
              "                        })                };                            </script>        </div>\n",
              "</body>\n",
              "</html>"
            ]
          },
          "metadata": {}
        }
      ]
    },
    {
      "cell_type": "markdown",
      "source": [
        "\n",
        "## **5. Scatter Plot**\n",
        "A scatter plot is useful for visualizing the relationship between two continuous variables. Let's create a scatter plot using Plotly.\n",
        "\n",
        "```python\n",
        "import plotly.graph_objects as go\n",
        "\n",
        "# Create data\n",
        "x = [1, 2, 3, 4, 5]\n",
        "y = [2, 4, 1, 3, 5]\n",
        "\n",
        "# Create scatter plot\n",
        "fig = go.Figure(data=go.Scatter(x=x, y=y, mode='markers'))\n",
        "\n",
        "# Add title and axis labels\n",
        "fig.update_layout(title='Scatter Plot', xaxis_title='X-axis', yaxis_title='Y-axis')\n",
        "\n",
        "# Display the plot\n",
        "fig.show()\n",
        "```\n",
        "\n",
        "In the code above, we create a scatter plot by setting the `mode` parameter to `'markers'` in the `Scatter` trace. This ensures that each data point is represented as a marker on the plot."
      ],
      "metadata": {
        "id": "hzFFMVCLBzp2"
      }
    },
    {
      "cell_type": "code",
      "source": [
        "import plotly.graph_objects as go\n",
        "\n",
        "# Create data\n",
        "x = [1, 2, 3, 4, 5]\n",
        "y = [2, 4, 1, 3, 5]\n",
        "\n",
        "# Create scatter plot\n",
        "fig = go.Figure(data=go.Scatter(x=x, y=y, mode='markers'))\n",
        "\n",
        "# Add title and axis labels\n",
        "fig.update_layout(title='Scatter Plot', xaxis_title='X-axis', yaxis_title='Y-axis')\n",
        "\n",
        "# Display the plot\n",
        "fig.show()"
      ],
      "metadata": {
        "colab": {
          "base_uri": "https://localhost:8080/",
          "height": 542
        },
        "id": "ksJineRRBy_2",
        "outputId": "7fbd9bc6-1b98-413d-d6fe-8d580c114813"
      },
      "execution_count": null,
      "outputs": [
        {
          "output_type": "display_data",
          "data": {
            "text/html": [
              "<html>\n",
              "<head><meta charset=\"utf-8\" /></head>\n",
              "<body>\n",
              "    <div>            <script src=\"https://cdnjs.cloudflare.com/ajax/libs/mathjax/2.7.5/MathJax.js?config=TeX-AMS-MML_SVG\"></script><script type=\"text/javascript\">if (window.MathJax && window.MathJax.Hub && window.MathJax.Hub.Config) {window.MathJax.Hub.Config({SVG: {font: \"STIX-Web\"}});}</script>                <script type=\"text/javascript\">window.PlotlyConfig = {MathJaxConfig: 'local'};</script>\n",
              "        <script src=\"https://cdn.plot.ly/plotly-2.18.2.min.js\"></script>                <div id=\"7b292616-031e-4f2c-9bde-13a40b633e23\" class=\"plotly-graph-div\" style=\"height:525px; width:100%;\"></div>            <script type=\"text/javascript\">                                    window.PLOTLYENV=window.PLOTLYENV || {};                                    if (document.getElementById(\"7b292616-031e-4f2c-9bde-13a40b633e23\")) {                    Plotly.newPlot(                        \"7b292616-031e-4f2c-9bde-13a40b633e23\",                        [{\"mode\":\"markers\",\"x\":[1,2,3,4,5],\"y\":[2,4,1,3,5],\"type\":\"scatter\"}],                        {\"template\":{\"data\":{\"histogram2dcontour\":[{\"type\":\"histogram2dcontour\",\"colorbar\":{\"outlinewidth\":0,\"ticks\":\"\"},\"colorscale\":[[0.0,\"#0d0887\"],[0.1111111111111111,\"#46039f\"],[0.2222222222222222,\"#7201a8\"],[0.3333333333333333,\"#9c179e\"],[0.4444444444444444,\"#bd3786\"],[0.5555555555555556,\"#d8576b\"],[0.6666666666666666,\"#ed7953\"],[0.7777777777777778,\"#fb9f3a\"],[0.8888888888888888,\"#fdca26\"],[1.0,\"#f0f921\"]]}],\"choropleth\":[{\"type\":\"choropleth\",\"colorbar\":{\"outlinewidth\":0,\"ticks\":\"\"}}],\"histogram2d\":[{\"type\":\"histogram2d\",\"colorbar\":{\"outlinewidth\":0,\"ticks\":\"\"},\"colorscale\":[[0.0,\"#0d0887\"],[0.1111111111111111,\"#46039f\"],[0.2222222222222222,\"#7201a8\"],[0.3333333333333333,\"#9c179e\"],[0.4444444444444444,\"#bd3786\"],[0.5555555555555556,\"#d8576b\"],[0.6666666666666666,\"#ed7953\"],[0.7777777777777778,\"#fb9f3a\"],[0.8888888888888888,\"#fdca26\"],[1.0,\"#f0f921\"]]}],\"heatmap\":[{\"type\":\"heatmap\",\"colorbar\":{\"outlinewidth\":0,\"ticks\":\"\"},\"colorscale\":[[0.0,\"#0d0887\"],[0.1111111111111111,\"#46039f\"],[0.2222222222222222,\"#7201a8\"],[0.3333333333333333,\"#9c179e\"],[0.4444444444444444,\"#bd3786\"],[0.5555555555555556,\"#d8576b\"],[0.6666666666666666,\"#ed7953\"],[0.7777777777777778,\"#fb9f3a\"],[0.8888888888888888,\"#fdca26\"],[1.0,\"#f0f921\"]]}],\"heatmapgl\":[{\"type\":\"heatmapgl\",\"colorbar\":{\"outlinewidth\":0,\"ticks\":\"\"},\"colorscale\":[[0.0,\"#0d0887\"],[0.1111111111111111,\"#46039f\"],[0.2222222222222222,\"#7201a8\"],[0.3333333333333333,\"#9c179e\"],[0.4444444444444444,\"#bd3786\"],[0.5555555555555556,\"#d8576b\"],[0.6666666666666666,\"#ed7953\"],[0.7777777777777778,\"#fb9f3a\"],[0.8888888888888888,\"#fdca26\"],[1.0,\"#f0f921\"]]}],\"contourcarpet\":[{\"type\":\"contourcarpet\",\"colorbar\":{\"outlinewidth\":0,\"ticks\":\"\"}}],\"contour\":[{\"type\":\"contour\",\"colorbar\":{\"outlinewidth\":0,\"ticks\":\"\"},\"colorscale\":[[0.0,\"#0d0887\"],[0.1111111111111111,\"#46039f\"],[0.2222222222222222,\"#7201a8\"],[0.3333333333333333,\"#9c179e\"],[0.4444444444444444,\"#bd3786\"],[0.5555555555555556,\"#d8576b\"],[0.6666666666666666,\"#ed7953\"],[0.7777777777777778,\"#fb9f3a\"],[0.8888888888888888,\"#fdca26\"],[1.0,\"#f0f921\"]]}],\"surface\":[{\"type\":\"surface\",\"colorbar\":{\"outlinewidth\":0,\"ticks\":\"\"},\"colorscale\":[[0.0,\"#0d0887\"],[0.1111111111111111,\"#46039f\"],[0.2222222222222222,\"#7201a8\"],[0.3333333333333333,\"#9c179e\"],[0.4444444444444444,\"#bd3786\"],[0.5555555555555556,\"#d8576b\"],[0.6666666666666666,\"#ed7953\"],[0.7777777777777778,\"#fb9f3a\"],[0.8888888888888888,\"#fdca26\"],[1.0,\"#f0f921\"]]}],\"mesh3d\":[{\"type\":\"mesh3d\",\"colorbar\":{\"outlinewidth\":0,\"ticks\":\"\"}}],\"scatter\":[{\"fillpattern\":{\"fillmode\":\"overlay\",\"size\":10,\"solidity\":0.2},\"type\":\"scatter\"}],\"parcoords\":[{\"type\":\"parcoords\",\"line\":{\"colorbar\":{\"outlinewidth\":0,\"ticks\":\"\"}}}],\"scatterpolargl\":[{\"type\":\"scatterpolargl\",\"marker\":{\"colorbar\":{\"outlinewidth\":0,\"ticks\":\"\"}}}],\"bar\":[{\"error_x\":{\"color\":\"#2a3f5f\"},\"error_y\":{\"color\":\"#2a3f5f\"},\"marker\":{\"line\":{\"color\":\"#E5ECF6\",\"width\":0.5},\"pattern\":{\"fillmode\":\"overlay\",\"size\":10,\"solidity\":0.2}},\"type\":\"bar\"}],\"scattergeo\":[{\"type\":\"scattergeo\",\"marker\":{\"colorbar\":{\"outlinewidth\":0,\"ticks\":\"\"}}}],\"scatterpolar\":[{\"type\":\"scatterpolar\",\"marker\":{\"colorbar\":{\"outlinewidth\":0,\"ticks\":\"\"}}}],\"histogram\":[{\"marker\":{\"pattern\":{\"fillmode\":\"overlay\",\"size\":10,\"solidity\":0.2}},\"type\":\"histogram\"}],\"scattergl\":[{\"type\":\"scattergl\",\"marker\":{\"colorbar\":{\"outlinewidth\":0,\"ticks\":\"\"}}}],\"scatter3d\":[{\"type\":\"scatter3d\",\"line\":{\"colorbar\":{\"outlinewidth\":0,\"ticks\":\"\"}},\"marker\":{\"colorbar\":{\"outlinewidth\":0,\"ticks\":\"\"}}}],\"scattermapbox\":[{\"type\":\"scattermapbox\",\"marker\":{\"colorbar\":{\"outlinewidth\":0,\"ticks\":\"\"}}}],\"scatterternary\":[{\"type\":\"scatterternary\",\"marker\":{\"colorbar\":{\"outlinewidth\":0,\"ticks\":\"\"}}}],\"scattercarpet\":[{\"type\":\"scattercarpet\",\"marker\":{\"colorbar\":{\"outlinewidth\":0,\"ticks\":\"\"}}}],\"carpet\":[{\"aaxis\":{\"endlinecolor\":\"#2a3f5f\",\"gridcolor\":\"white\",\"linecolor\":\"white\",\"minorgridcolor\":\"white\",\"startlinecolor\":\"#2a3f5f\"},\"baxis\":{\"endlinecolor\":\"#2a3f5f\",\"gridcolor\":\"white\",\"linecolor\":\"white\",\"minorgridcolor\":\"white\",\"startlinecolor\":\"#2a3f5f\"},\"type\":\"carpet\"}],\"table\":[{\"cells\":{\"fill\":{\"color\":\"#EBF0F8\"},\"line\":{\"color\":\"white\"}},\"header\":{\"fill\":{\"color\":\"#C8D4E3\"},\"line\":{\"color\":\"white\"}},\"type\":\"table\"}],\"barpolar\":[{\"marker\":{\"line\":{\"color\":\"#E5ECF6\",\"width\":0.5},\"pattern\":{\"fillmode\":\"overlay\",\"size\":10,\"solidity\":0.2}},\"type\":\"barpolar\"}],\"pie\":[{\"automargin\":true,\"type\":\"pie\"}]},\"layout\":{\"autotypenumbers\":\"strict\",\"colorway\":[\"#636efa\",\"#EF553B\",\"#00cc96\",\"#ab63fa\",\"#FFA15A\",\"#19d3f3\",\"#FF6692\",\"#B6E880\",\"#FF97FF\",\"#FECB52\"],\"font\":{\"color\":\"#2a3f5f\"},\"hovermode\":\"closest\",\"hoverlabel\":{\"align\":\"left\"},\"paper_bgcolor\":\"white\",\"plot_bgcolor\":\"#E5ECF6\",\"polar\":{\"bgcolor\":\"#E5ECF6\",\"angularaxis\":{\"gridcolor\":\"white\",\"linecolor\":\"white\",\"ticks\":\"\"},\"radialaxis\":{\"gridcolor\":\"white\",\"linecolor\":\"white\",\"ticks\":\"\"}},\"ternary\":{\"bgcolor\":\"#E5ECF6\",\"aaxis\":{\"gridcolor\":\"white\",\"linecolor\":\"white\",\"ticks\":\"\"},\"baxis\":{\"gridcolor\":\"white\",\"linecolor\":\"white\",\"ticks\":\"\"},\"caxis\":{\"gridcolor\":\"white\",\"linecolor\":\"white\",\"ticks\":\"\"}},\"coloraxis\":{\"colorbar\":{\"outlinewidth\":0,\"ticks\":\"\"}},\"colorscale\":{\"sequential\":[[0.0,\"#0d0887\"],[0.1111111111111111,\"#46039f\"],[0.2222222222222222,\"#7201a8\"],[0.3333333333333333,\"#9c179e\"],[0.4444444444444444,\"#bd3786\"],[0.5555555555555556,\"#d8576b\"],[0.6666666666666666,\"#ed7953\"],[0.7777777777777778,\"#fb9f3a\"],[0.8888888888888888,\"#fdca26\"],[1.0,\"#f0f921\"]],\"sequentialminus\":[[0.0,\"#0d0887\"],[0.1111111111111111,\"#46039f\"],[0.2222222222222222,\"#7201a8\"],[0.3333333333333333,\"#9c179e\"],[0.4444444444444444,\"#bd3786\"],[0.5555555555555556,\"#d8576b\"],[0.6666666666666666,\"#ed7953\"],[0.7777777777777778,\"#fb9f3a\"],[0.8888888888888888,\"#fdca26\"],[1.0,\"#f0f921\"]],\"diverging\":[[0,\"#8e0152\"],[0.1,\"#c51b7d\"],[0.2,\"#de77ae\"],[0.3,\"#f1b6da\"],[0.4,\"#fde0ef\"],[0.5,\"#f7f7f7\"],[0.6,\"#e6f5d0\"],[0.7,\"#b8e186\"],[0.8,\"#7fbc41\"],[0.9,\"#4d9221\"],[1,\"#276419\"]]},\"xaxis\":{\"gridcolor\":\"white\",\"linecolor\":\"white\",\"ticks\":\"\",\"title\":{\"standoff\":15},\"zerolinecolor\":\"white\",\"automargin\":true,\"zerolinewidth\":2},\"yaxis\":{\"gridcolor\":\"white\",\"linecolor\":\"white\",\"ticks\":\"\",\"title\":{\"standoff\":15},\"zerolinecolor\":\"white\",\"automargin\":true,\"zerolinewidth\":2},\"scene\":{\"xaxis\":{\"backgroundcolor\":\"#E5ECF6\",\"gridcolor\":\"white\",\"linecolor\":\"white\",\"showbackground\":true,\"ticks\":\"\",\"zerolinecolor\":\"white\",\"gridwidth\":2},\"yaxis\":{\"backgroundcolor\":\"#E5ECF6\",\"gridcolor\":\"white\",\"linecolor\":\"white\",\"showbackground\":true,\"ticks\":\"\",\"zerolinecolor\":\"white\",\"gridwidth\":2},\"zaxis\":{\"backgroundcolor\":\"#E5ECF6\",\"gridcolor\":\"white\",\"linecolor\":\"white\",\"showbackground\":true,\"ticks\":\"\",\"zerolinecolor\":\"white\",\"gridwidth\":2}},\"shapedefaults\":{\"line\":{\"color\":\"#2a3f5f\"}},\"annotationdefaults\":{\"arrowcolor\":\"#2a3f5f\",\"arrowhead\":0,\"arrowwidth\":1},\"geo\":{\"bgcolor\":\"white\",\"landcolor\":\"#E5ECF6\",\"subunitcolor\":\"white\",\"showland\":true,\"showlakes\":true,\"lakecolor\":\"white\"},\"title\":{\"x\":0.05},\"mapbox\":{\"style\":\"light\"}}},\"title\":{\"text\":\"Scatter Plot\"},\"xaxis\":{\"title\":{\"text\":\"X-axis\"}},\"yaxis\":{\"title\":{\"text\":\"Y-axis\"}}},                        {\"responsive\": true}                    ).then(function(){\n",
              "                            \n",
              "var gd = document.getElementById('7b292616-031e-4f2c-9bde-13a40b633e23');\n",
              "var x = new MutationObserver(function (mutations, observer) {{\n",
              "        var display = window.getComputedStyle(gd).display;\n",
              "        if (!display || display === 'none') {{\n",
              "            console.log([gd, 'removed!']);\n",
              "            Plotly.purge(gd);\n",
              "            observer.disconnect();\n",
              "        }}\n",
              "}});\n",
              "\n",
              "// Listen for the removal of the full notebook cells\n",
              "var notebookContainer = gd.closest('#notebook-container');\n",
              "if (notebookContainer) {{\n",
              "    x.observe(notebookContainer, {childList: true});\n",
              "}}\n",
              "\n",
              "// Listen for the clearing of the current output cell\n",
              "var outputEl = gd.closest('.output');\n",
              "if (outputEl) {{\n",
              "    x.observe(outputEl, {childList: true});\n",
              "}}\n",
              "\n",
              "                        })                };                            </script>        </div>\n",
              "</body>\n",
              "</html>"
            ]
          },
          "metadata": {}
        }
      ]
    },
    {
      "cell_type": "markdown",
      "source": [
        "\n",
        "## **6. Bar Chart**\n",
        "A bar chart is commonly used to compare categorical data. Let's create a bar chart using Plotly.\n",
        "\n",
        "```python\n",
        "import plotly.graph_objects as go\n",
        "\n",
        "# Create data\n",
        "categories = ['A', 'B', 'C', 'D']\n",
        "values = [10, 20, 15, 25]\n",
        "\n",
        "# Create bar chart\n",
        "fig = go.Figure(data=go.Bar(x=categories, y=values))\n",
        "\n",
        "# Add title and axis labels\n",
        "fig.update_layout(title='Bar Chart', xaxis_title='Categories', yaxis_title='Values')\n",
        "\n",
        "# Display the plot\n",
        "fig.show()\n",
        "```\n",
        "\n",
        "In the code above, we provide two lists: `categories` representing the categorical data and `values` representing the corresponding values. We then create a bar chart by passing these lists to the `Bar` trace.\n",
        "\n"
      ],
      "metadata": {
        "id": "U7m9mqvaBrT-"
      }
    },
    {
      "cell_type": "code",
      "source": [
        "import plotly.graph_objects as go\n",
        "\n",
        "# Create data\n",
        "categories = ['A', 'B', 'C', 'D']\n",
        "values = [10, 20, 15, 25]\n",
        "\n",
        "# Create bar chart\n",
        "fig = go.Figure(data=go.Bar(x=categories, y=values))\n",
        "\n",
        "# Add title and axis labels\n",
        "fig.update_layout(title='Bar Chart', xaxis_title='Categories', yaxis_title='Values')\n",
        "\n",
        "# Display the plot\n",
        "fig.show()"
      ],
      "metadata": {
        "colab": {
          "base_uri": "https://localhost:8080/",
          "height": 542
        },
        "id": "9ejb42VaBq8m",
        "outputId": "2267daf5-3bf2-47ee-d73d-95df26754358"
      },
      "execution_count": null,
      "outputs": [
        {
          "output_type": "display_data",
          "data": {
            "text/html": [
              "<html>\n",
              "<head><meta charset=\"utf-8\" /></head>\n",
              "<body>\n",
              "    <div>            <script src=\"https://cdnjs.cloudflare.com/ajax/libs/mathjax/2.7.5/MathJax.js?config=TeX-AMS-MML_SVG\"></script><script type=\"text/javascript\">if (window.MathJax && window.MathJax.Hub && window.MathJax.Hub.Config) {window.MathJax.Hub.Config({SVG: {font: \"STIX-Web\"}});}</script>                <script type=\"text/javascript\">window.PlotlyConfig = {MathJaxConfig: 'local'};</script>\n",
              "        <script src=\"https://cdn.plot.ly/plotly-2.18.2.min.js\"></script>                <div id=\"6d658b48-6e3e-48c2-8014-bc690bb601c5\" class=\"plotly-graph-div\" style=\"height:525px; width:100%;\"></div>            <script type=\"text/javascript\">                                    window.PLOTLYENV=window.PLOTLYENV || {};                                    if (document.getElementById(\"6d658b48-6e3e-48c2-8014-bc690bb601c5\")) {                    Plotly.newPlot(                        \"6d658b48-6e3e-48c2-8014-bc690bb601c5\",                        [{\"x\":[\"A\",\"B\",\"C\",\"D\"],\"y\":[10,20,15,25],\"type\":\"bar\"}],                        {\"template\":{\"data\":{\"histogram2dcontour\":[{\"type\":\"histogram2dcontour\",\"colorbar\":{\"outlinewidth\":0,\"ticks\":\"\"},\"colorscale\":[[0.0,\"#0d0887\"],[0.1111111111111111,\"#46039f\"],[0.2222222222222222,\"#7201a8\"],[0.3333333333333333,\"#9c179e\"],[0.4444444444444444,\"#bd3786\"],[0.5555555555555556,\"#d8576b\"],[0.6666666666666666,\"#ed7953\"],[0.7777777777777778,\"#fb9f3a\"],[0.8888888888888888,\"#fdca26\"],[1.0,\"#f0f921\"]]}],\"choropleth\":[{\"type\":\"choropleth\",\"colorbar\":{\"outlinewidth\":0,\"ticks\":\"\"}}],\"histogram2d\":[{\"type\":\"histogram2d\",\"colorbar\":{\"outlinewidth\":0,\"ticks\":\"\"},\"colorscale\":[[0.0,\"#0d0887\"],[0.1111111111111111,\"#46039f\"],[0.2222222222222222,\"#7201a8\"],[0.3333333333333333,\"#9c179e\"],[0.4444444444444444,\"#bd3786\"],[0.5555555555555556,\"#d8576b\"],[0.6666666666666666,\"#ed7953\"],[0.7777777777777778,\"#fb9f3a\"],[0.8888888888888888,\"#fdca26\"],[1.0,\"#f0f921\"]]}],\"heatmap\":[{\"type\":\"heatmap\",\"colorbar\":{\"outlinewidth\":0,\"ticks\":\"\"},\"colorscale\":[[0.0,\"#0d0887\"],[0.1111111111111111,\"#46039f\"],[0.2222222222222222,\"#7201a8\"],[0.3333333333333333,\"#9c179e\"],[0.4444444444444444,\"#bd3786\"],[0.5555555555555556,\"#d8576b\"],[0.6666666666666666,\"#ed7953\"],[0.7777777777777778,\"#fb9f3a\"],[0.8888888888888888,\"#fdca26\"],[1.0,\"#f0f921\"]]}],\"heatmapgl\":[{\"type\":\"heatmapgl\",\"colorbar\":{\"outlinewidth\":0,\"ticks\":\"\"},\"colorscale\":[[0.0,\"#0d0887\"],[0.1111111111111111,\"#46039f\"],[0.2222222222222222,\"#7201a8\"],[0.3333333333333333,\"#9c179e\"],[0.4444444444444444,\"#bd3786\"],[0.5555555555555556,\"#d8576b\"],[0.6666666666666666,\"#ed7953\"],[0.7777777777777778,\"#fb9f3a\"],[0.8888888888888888,\"#fdca26\"],[1.0,\"#f0f921\"]]}],\"contourcarpet\":[{\"type\":\"contourcarpet\",\"colorbar\":{\"outlinewidth\":0,\"ticks\":\"\"}}],\"contour\":[{\"type\":\"contour\",\"colorbar\":{\"outlinewidth\":0,\"ticks\":\"\"},\"colorscale\":[[0.0,\"#0d0887\"],[0.1111111111111111,\"#46039f\"],[0.2222222222222222,\"#7201a8\"],[0.3333333333333333,\"#9c179e\"],[0.4444444444444444,\"#bd3786\"],[0.5555555555555556,\"#d8576b\"],[0.6666666666666666,\"#ed7953\"],[0.7777777777777778,\"#fb9f3a\"],[0.8888888888888888,\"#fdca26\"],[1.0,\"#f0f921\"]]}],\"surface\":[{\"type\":\"surface\",\"colorbar\":{\"outlinewidth\":0,\"ticks\":\"\"},\"colorscale\":[[0.0,\"#0d0887\"],[0.1111111111111111,\"#46039f\"],[0.2222222222222222,\"#7201a8\"],[0.3333333333333333,\"#9c179e\"],[0.4444444444444444,\"#bd3786\"],[0.5555555555555556,\"#d8576b\"],[0.6666666666666666,\"#ed7953\"],[0.7777777777777778,\"#fb9f3a\"],[0.8888888888888888,\"#fdca26\"],[1.0,\"#f0f921\"]]}],\"mesh3d\":[{\"type\":\"mesh3d\",\"colorbar\":{\"outlinewidth\":0,\"ticks\":\"\"}}],\"scatter\":[{\"fillpattern\":{\"fillmode\":\"overlay\",\"size\":10,\"solidity\":0.2},\"type\":\"scatter\"}],\"parcoords\":[{\"type\":\"parcoords\",\"line\":{\"colorbar\":{\"outlinewidth\":0,\"ticks\":\"\"}}}],\"scatterpolargl\":[{\"type\":\"scatterpolargl\",\"marker\":{\"colorbar\":{\"outlinewidth\":0,\"ticks\":\"\"}}}],\"bar\":[{\"error_x\":{\"color\":\"#2a3f5f\"},\"error_y\":{\"color\":\"#2a3f5f\"},\"marker\":{\"line\":{\"color\":\"#E5ECF6\",\"width\":0.5},\"pattern\":{\"fillmode\":\"overlay\",\"size\":10,\"solidity\":0.2}},\"type\":\"bar\"}],\"scattergeo\":[{\"type\":\"scattergeo\",\"marker\":{\"colorbar\":{\"outlinewidth\":0,\"ticks\":\"\"}}}],\"scatterpolar\":[{\"type\":\"scatterpolar\",\"marker\":{\"colorbar\":{\"outlinewidth\":0,\"ticks\":\"\"}}}],\"histogram\":[{\"marker\":{\"pattern\":{\"fillmode\":\"overlay\",\"size\":10,\"solidity\":0.2}},\"type\":\"histogram\"}],\"scattergl\":[{\"type\":\"scattergl\",\"marker\":{\"colorbar\":{\"outlinewidth\":0,\"ticks\":\"\"}}}],\"scatter3d\":[{\"type\":\"scatter3d\",\"line\":{\"colorbar\":{\"outlinewidth\":0,\"ticks\":\"\"}},\"marker\":{\"colorbar\":{\"outlinewidth\":0,\"ticks\":\"\"}}}],\"scattermapbox\":[{\"type\":\"scattermapbox\",\"marker\":{\"colorbar\":{\"outlinewidth\":0,\"ticks\":\"\"}}}],\"scatterternary\":[{\"type\":\"scatterternary\",\"marker\":{\"colorbar\":{\"outlinewidth\":0,\"ticks\":\"\"}}}],\"scattercarpet\":[{\"type\":\"scattercarpet\",\"marker\":{\"colorbar\":{\"outlinewidth\":0,\"ticks\":\"\"}}}],\"carpet\":[{\"aaxis\":{\"endlinecolor\":\"#2a3f5f\",\"gridcolor\":\"white\",\"linecolor\":\"white\",\"minorgridcolor\":\"white\",\"startlinecolor\":\"#2a3f5f\"},\"baxis\":{\"endlinecolor\":\"#2a3f5f\",\"gridcolor\":\"white\",\"linecolor\":\"white\",\"minorgridcolor\":\"white\",\"startlinecolor\":\"#2a3f5f\"},\"type\":\"carpet\"}],\"table\":[{\"cells\":{\"fill\":{\"color\":\"#EBF0F8\"},\"line\":{\"color\":\"white\"}},\"header\":{\"fill\":{\"color\":\"#C8D4E3\"},\"line\":{\"color\":\"white\"}},\"type\":\"table\"}],\"barpolar\":[{\"marker\":{\"line\":{\"color\":\"#E5ECF6\",\"width\":0.5},\"pattern\":{\"fillmode\":\"overlay\",\"size\":10,\"solidity\":0.2}},\"type\":\"barpolar\"}],\"pie\":[{\"automargin\":true,\"type\":\"pie\"}]},\"layout\":{\"autotypenumbers\":\"strict\",\"colorway\":[\"#636efa\",\"#EF553B\",\"#00cc96\",\"#ab63fa\",\"#FFA15A\",\"#19d3f3\",\"#FF6692\",\"#B6E880\",\"#FF97FF\",\"#FECB52\"],\"font\":{\"color\":\"#2a3f5f\"},\"hovermode\":\"closest\",\"hoverlabel\":{\"align\":\"left\"},\"paper_bgcolor\":\"white\",\"plot_bgcolor\":\"#E5ECF6\",\"polar\":{\"bgcolor\":\"#E5ECF6\",\"angularaxis\":{\"gridcolor\":\"white\",\"linecolor\":\"white\",\"ticks\":\"\"},\"radialaxis\":{\"gridcolor\":\"white\",\"linecolor\":\"white\",\"ticks\":\"\"}},\"ternary\":{\"bgcolor\":\"#E5ECF6\",\"aaxis\":{\"gridcolor\":\"white\",\"linecolor\":\"white\",\"ticks\":\"\"},\"baxis\":{\"gridcolor\":\"white\",\"linecolor\":\"white\",\"ticks\":\"\"},\"caxis\":{\"gridcolor\":\"white\",\"linecolor\":\"white\",\"ticks\":\"\"}},\"coloraxis\":{\"colorbar\":{\"outlinewidth\":0,\"ticks\":\"\"}},\"colorscale\":{\"sequential\":[[0.0,\"#0d0887\"],[0.1111111111111111,\"#46039f\"],[0.2222222222222222,\"#7201a8\"],[0.3333333333333333,\"#9c179e\"],[0.4444444444444444,\"#bd3786\"],[0.5555555555555556,\"#d8576b\"],[0.6666666666666666,\"#ed7953\"],[0.7777777777777778,\"#fb9f3a\"],[0.8888888888888888,\"#fdca26\"],[1.0,\"#f0f921\"]],\"sequentialminus\":[[0.0,\"#0d0887\"],[0.1111111111111111,\"#46039f\"],[0.2222222222222222,\"#7201a8\"],[0.3333333333333333,\"#9c179e\"],[0.4444444444444444,\"#bd3786\"],[0.5555555555555556,\"#d8576b\"],[0.6666666666666666,\"#ed7953\"],[0.7777777777777778,\"#fb9f3a\"],[0.8888888888888888,\"#fdca26\"],[1.0,\"#f0f921\"]],\"diverging\":[[0,\"#8e0152\"],[0.1,\"#c51b7d\"],[0.2,\"#de77ae\"],[0.3,\"#f1b6da\"],[0.4,\"#fde0ef\"],[0.5,\"#f7f7f7\"],[0.6,\"#e6f5d0\"],[0.7,\"#b8e186\"],[0.8,\"#7fbc41\"],[0.9,\"#4d9221\"],[1,\"#276419\"]]},\"xaxis\":{\"gridcolor\":\"white\",\"linecolor\":\"white\",\"ticks\":\"\",\"title\":{\"standoff\":15},\"zerolinecolor\":\"white\",\"automargin\":true,\"zerolinewidth\":2},\"yaxis\":{\"gridcolor\":\"white\",\"linecolor\":\"white\",\"ticks\":\"\",\"title\":{\"standoff\":15},\"zerolinecolor\":\"white\",\"automargin\":true,\"zerolinewidth\":2},\"scene\":{\"xaxis\":{\"backgroundcolor\":\"#E5ECF6\",\"gridcolor\":\"white\",\"linecolor\":\"white\",\"showbackground\":true,\"ticks\":\"\",\"zerolinecolor\":\"white\",\"gridwidth\":2},\"yaxis\":{\"backgroundcolor\":\"#E5ECF6\",\"gridcolor\":\"white\",\"linecolor\":\"white\",\"showbackground\":true,\"ticks\":\"\",\"zerolinecolor\":\"white\",\"gridwidth\":2},\"zaxis\":{\"backgroundcolor\":\"#E5ECF6\",\"gridcolor\":\"white\",\"linecolor\":\"white\",\"showbackground\":true,\"ticks\":\"\",\"zerolinecolor\":\"white\",\"gridwidth\":2}},\"shapedefaults\":{\"line\":{\"color\":\"#2a3f5f\"}},\"annotationdefaults\":{\"arrowcolor\":\"#2a3f5f\",\"arrowhead\":0,\"arrowwidth\":1},\"geo\":{\"bgcolor\":\"white\",\"landcolor\":\"#E5ECF6\",\"subunitcolor\":\"white\",\"showland\":true,\"showlakes\":true,\"lakecolor\":\"white\"},\"title\":{\"x\":0.05},\"mapbox\":{\"style\":\"light\"}}},\"title\":{\"text\":\"Bar Chart\"},\"xaxis\":{\"title\":{\"text\":\"Categories\"}},\"yaxis\":{\"title\":{\"text\":\"Values\"}}},                        {\"responsive\": true}                    ).then(function(){\n",
              "                            \n",
              "var gd = document.getElementById('6d658b48-6e3e-48c2-8014-bc690bb601c5');\n",
              "var x = new MutationObserver(function (mutations, observer) {{\n",
              "        var display = window.getComputedStyle(gd).display;\n",
              "        if (!display || display === 'none') {{\n",
              "            console.log([gd, 'removed!']);\n",
              "            Plotly.purge(gd);\n",
              "            observer.disconnect();\n",
              "        }}\n",
              "}});\n",
              "\n",
              "// Listen for the removal of the full notebook cells\n",
              "var notebookContainer = gd.closest('#notebook-container');\n",
              "if (notebookContainer) {{\n",
              "    x.observe(notebookContainer, {childList: true});\n",
              "}}\n",
              "\n",
              "// Listen for the clearing of the current output cell\n",
              "var outputEl = gd.closest('.output');\n",
              "if (outputEl) {{\n",
              "    x.observe(outputEl, {childList: true});\n",
              "}}\n",
              "\n",
              "                        })                };                            </script>        </div>\n",
              "</body>\n",
              "</html>"
            ]
          },
          "metadata": {}
        }
      ]
    },
    {
      "cell_type": "markdown",
      "source": [
        "## **7. Pie Chart**\n",
        "A pie chart is useful for representing proportions or percentages of a whole. Let's create a pie chart using Plotly.\n",
        "\n",
        "```python\n",
        "import plotly.graph_objects as go\n",
        "\n",
        "# Create data\n",
        "labels = ['A', 'B', 'C', 'D']\n",
        "values = [30, 15, 20, 35]\n",
        "\n",
        "# Create pie chart\n",
        "fig = go.Figure(data=go.Pie(labels=labels, values=values))\n",
        "\n",
        "# Add title\n",
        "fig.update_layout(title='Pie Chart')\n",
        "\n",
        "# Display the plot\n",
        "fig.show()\n",
        "```\n",
        "\n",
        "In the code above, we provide two lists: `labels` representing the categories or labels for each slice of the pie and `values` representing the corresponding values. We then create a pie chart by passing these lists to the `Pie` trace.\n"
      ],
      "metadata": {
        "id": "sB8zLiOfBoU3"
      }
    },
    {
      "cell_type": "code",
      "source": [
        "import plotly.graph_objects as go\n",
        "\n",
        "# Create data\n",
        "labels = ['A', 'B', 'C', 'D']\n",
        "values = [30, 15, 20, 35]\n",
        "\n",
        "# Create pie chart\n",
        "fig = go.Figure(data=go.Pie(labels=labels, values=values))\n",
        "\n",
        "# Add title\n",
        "fig.update_layout(title='Pie Chart')\n",
        "\n",
        "# Display the plot\n",
        "fig.show()"
      ],
      "metadata": {
        "colab": {
          "base_uri": "https://localhost:8080/",
          "height": 542
        },
        "id": "dcaQ6blmBnoR",
        "outputId": "235be784-f0d4-40e6-c1e9-27bd1de9061f"
      },
      "execution_count": null,
      "outputs": [
        {
          "output_type": "display_data",
          "data": {
            "text/html": [
              "<html>\n",
              "<head><meta charset=\"utf-8\" /></head>\n",
              "<body>\n",
              "    <div>            <script src=\"https://cdnjs.cloudflare.com/ajax/libs/mathjax/2.7.5/MathJax.js?config=TeX-AMS-MML_SVG\"></script><script type=\"text/javascript\">if (window.MathJax && window.MathJax.Hub && window.MathJax.Hub.Config) {window.MathJax.Hub.Config({SVG: {font: \"STIX-Web\"}});}</script>                <script type=\"text/javascript\">window.PlotlyConfig = {MathJaxConfig: 'local'};</script>\n",
              "        <script src=\"https://cdn.plot.ly/plotly-2.18.2.min.js\"></script>                <div id=\"5314dca3-eaf8-49d9-8e12-b6a714b32fc3\" class=\"plotly-graph-div\" style=\"height:525px; width:100%;\"></div>            <script type=\"text/javascript\">                                    window.PLOTLYENV=window.PLOTLYENV || {};                                    if (document.getElementById(\"5314dca3-eaf8-49d9-8e12-b6a714b32fc3\")) {                    Plotly.newPlot(                        \"5314dca3-eaf8-49d9-8e12-b6a714b32fc3\",                        [{\"labels\":[\"A\",\"B\",\"C\",\"D\"],\"values\":[30,15,20,35],\"type\":\"pie\"}],                        {\"template\":{\"data\":{\"histogram2dcontour\":[{\"type\":\"histogram2dcontour\",\"colorbar\":{\"outlinewidth\":0,\"ticks\":\"\"},\"colorscale\":[[0.0,\"#0d0887\"],[0.1111111111111111,\"#46039f\"],[0.2222222222222222,\"#7201a8\"],[0.3333333333333333,\"#9c179e\"],[0.4444444444444444,\"#bd3786\"],[0.5555555555555556,\"#d8576b\"],[0.6666666666666666,\"#ed7953\"],[0.7777777777777778,\"#fb9f3a\"],[0.8888888888888888,\"#fdca26\"],[1.0,\"#f0f921\"]]}],\"choropleth\":[{\"type\":\"choropleth\",\"colorbar\":{\"outlinewidth\":0,\"ticks\":\"\"}}],\"histogram2d\":[{\"type\":\"histogram2d\",\"colorbar\":{\"outlinewidth\":0,\"ticks\":\"\"},\"colorscale\":[[0.0,\"#0d0887\"],[0.1111111111111111,\"#46039f\"],[0.2222222222222222,\"#7201a8\"],[0.3333333333333333,\"#9c179e\"],[0.4444444444444444,\"#bd3786\"],[0.5555555555555556,\"#d8576b\"],[0.6666666666666666,\"#ed7953\"],[0.7777777777777778,\"#fb9f3a\"],[0.8888888888888888,\"#fdca26\"],[1.0,\"#f0f921\"]]}],\"heatmap\":[{\"type\":\"heatmap\",\"colorbar\":{\"outlinewidth\":0,\"ticks\":\"\"},\"colorscale\":[[0.0,\"#0d0887\"],[0.1111111111111111,\"#46039f\"],[0.2222222222222222,\"#7201a8\"],[0.3333333333333333,\"#9c179e\"],[0.4444444444444444,\"#bd3786\"],[0.5555555555555556,\"#d8576b\"],[0.6666666666666666,\"#ed7953\"],[0.7777777777777778,\"#fb9f3a\"],[0.8888888888888888,\"#fdca26\"],[1.0,\"#f0f921\"]]}],\"heatmapgl\":[{\"type\":\"heatmapgl\",\"colorbar\":{\"outlinewidth\":0,\"ticks\":\"\"},\"colorscale\":[[0.0,\"#0d0887\"],[0.1111111111111111,\"#46039f\"],[0.2222222222222222,\"#7201a8\"],[0.3333333333333333,\"#9c179e\"],[0.4444444444444444,\"#bd3786\"],[0.5555555555555556,\"#d8576b\"],[0.6666666666666666,\"#ed7953\"],[0.7777777777777778,\"#fb9f3a\"],[0.8888888888888888,\"#fdca26\"],[1.0,\"#f0f921\"]]}],\"contourcarpet\":[{\"type\":\"contourcarpet\",\"colorbar\":{\"outlinewidth\":0,\"ticks\":\"\"}}],\"contour\":[{\"type\":\"contour\",\"colorbar\":{\"outlinewidth\":0,\"ticks\":\"\"},\"colorscale\":[[0.0,\"#0d0887\"],[0.1111111111111111,\"#46039f\"],[0.2222222222222222,\"#7201a8\"],[0.3333333333333333,\"#9c179e\"],[0.4444444444444444,\"#bd3786\"],[0.5555555555555556,\"#d8576b\"],[0.6666666666666666,\"#ed7953\"],[0.7777777777777778,\"#fb9f3a\"],[0.8888888888888888,\"#fdca26\"],[1.0,\"#f0f921\"]]}],\"surface\":[{\"type\":\"surface\",\"colorbar\":{\"outlinewidth\":0,\"ticks\":\"\"},\"colorscale\":[[0.0,\"#0d0887\"],[0.1111111111111111,\"#46039f\"],[0.2222222222222222,\"#7201a8\"],[0.3333333333333333,\"#9c179e\"],[0.4444444444444444,\"#bd3786\"],[0.5555555555555556,\"#d8576b\"],[0.6666666666666666,\"#ed7953\"],[0.7777777777777778,\"#fb9f3a\"],[0.8888888888888888,\"#fdca26\"],[1.0,\"#f0f921\"]]}],\"mesh3d\":[{\"type\":\"mesh3d\",\"colorbar\":{\"outlinewidth\":0,\"ticks\":\"\"}}],\"scatter\":[{\"fillpattern\":{\"fillmode\":\"overlay\",\"size\":10,\"solidity\":0.2},\"type\":\"scatter\"}],\"parcoords\":[{\"type\":\"parcoords\",\"line\":{\"colorbar\":{\"outlinewidth\":0,\"ticks\":\"\"}}}],\"scatterpolargl\":[{\"type\":\"scatterpolargl\",\"marker\":{\"colorbar\":{\"outlinewidth\":0,\"ticks\":\"\"}}}],\"bar\":[{\"error_x\":{\"color\":\"#2a3f5f\"},\"error_y\":{\"color\":\"#2a3f5f\"},\"marker\":{\"line\":{\"color\":\"#E5ECF6\",\"width\":0.5},\"pattern\":{\"fillmode\":\"overlay\",\"size\":10,\"solidity\":0.2}},\"type\":\"bar\"}],\"scattergeo\":[{\"type\":\"scattergeo\",\"marker\":{\"colorbar\":{\"outlinewidth\":0,\"ticks\":\"\"}}}],\"scatterpolar\":[{\"type\":\"scatterpolar\",\"marker\":{\"colorbar\":{\"outlinewidth\":0,\"ticks\":\"\"}}}],\"histogram\":[{\"marker\":{\"pattern\":{\"fillmode\":\"overlay\",\"size\":10,\"solidity\":0.2}},\"type\":\"histogram\"}],\"scattergl\":[{\"type\":\"scattergl\",\"marker\":{\"colorbar\":{\"outlinewidth\":0,\"ticks\":\"\"}}}],\"scatter3d\":[{\"type\":\"scatter3d\",\"line\":{\"colorbar\":{\"outlinewidth\":0,\"ticks\":\"\"}},\"marker\":{\"colorbar\":{\"outlinewidth\":0,\"ticks\":\"\"}}}],\"scattermapbox\":[{\"type\":\"scattermapbox\",\"marker\":{\"colorbar\":{\"outlinewidth\":0,\"ticks\":\"\"}}}],\"scatterternary\":[{\"type\":\"scatterternary\",\"marker\":{\"colorbar\":{\"outlinewidth\":0,\"ticks\":\"\"}}}],\"scattercarpet\":[{\"type\":\"scattercarpet\",\"marker\":{\"colorbar\":{\"outlinewidth\":0,\"ticks\":\"\"}}}],\"carpet\":[{\"aaxis\":{\"endlinecolor\":\"#2a3f5f\",\"gridcolor\":\"white\",\"linecolor\":\"white\",\"minorgridcolor\":\"white\",\"startlinecolor\":\"#2a3f5f\"},\"baxis\":{\"endlinecolor\":\"#2a3f5f\",\"gridcolor\":\"white\",\"linecolor\":\"white\",\"minorgridcolor\":\"white\",\"startlinecolor\":\"#2a3f5f\"},\"type\":\"carpet\"}],\"table\":[{\"cells\":{\"fill\":{\"color\":\"#EBF0F8\"},\"line\":{\"color\":\"white\"}},\"header\":{\"fill\":{\"color\":\"#C8D4E3\"},\"line\":{\"color\":\"white\"}},\"type\":\"table\"}],\"barpolar\":[{\"marker\":{\"line\":{\"color\":\"#E5ECF6\",\"width\":0.5},\"pattern\":{\"fillmode\":\"overlay\",\"size\":10,\"solidity\":0.2}},\"type\":\"barpolar\"}],\"pie\":[{\"automargin\":true,\"type\":\"pie\"}]},\"layout\":{\"autotypenumbers\":\"strict\",\"colorway\":[\"#636efa\",\"#EF553B\",\"#00cc96\",\"#ab63fa\",\"#FFA15A\",\"#19d3f3\",\"#FF6692\",\"#B6E880\",\"#FF97FF\",\"#FECB52\"],\"font\":{\"color\":\"#2a3f5f\"},\"hovermode\":\"closest\",\"hoverlabel\":{\"align\":\"left\"},\"paper_bgcolor\":\"white\",\"plot_bgcolor\":\"#E5ECF6\",\"polar\":{\"bgcolor\":\"#E5ECF6\",\"angularaxis\":{\"gridcolor\":\"white\",\"linecolor\":\"white\",\"ticks\":\"\"},\"radialaxis\":{\"gridcolor\":\"white\",\"linecolor\":\"white\",\"ticks\":\"\"}},\"ternary\":{\"bgcolor\":\"#E5ECF6\",\"aaxis\":{\"gridcolor\":\"white\",\"linecolor\":\"white\",\"ticks\":\"\"},\"baxis\":{\"gridcolor\":\"white\",\"linecolor\":\"white\",\"ticks\":\"\"},\"caxis\":{\"gridcolor\":\"white\",\"linecolor\":\"white\",\"ticks\":\"\"}},\"coloraxis\":{\"colorbar\":{\"outlinewidth\":0,\"ticks\":\"\"}},\"colorscale\":{\"sequential\":[[0.0,\"#0d0887\"],[0.1111111111111111,\"#46039f\"],[0.2222222222222222,\"#7201a8\"],[0.3333333333333333,\"#9c179e\"],[0.4444444444444444,\"#bd3786\"],[0.5555555555555556,\"#d8576b\"],[0.6666666666666666,\"#ed7953\"],[0.7777777777777778,\"#fb9f3a\"],[0.8888888888888888,\"#fdca26\"],[1.0,\"#f0f921\"]],\"sequentialminus\":[[0.0,\"#0d0887\"],[0.1111111111111111,\"#46039f\"],[0.2222222222222222,\"#7201a8\"],[0.3333333333333333,\"#9c179e\"],[0.4444444444444444,\"#bd3786\"],[0.5555555555555556,\"#d8576b\"],[0.6666666666666666,\"#ed7953\"],[0.7777777777777778,\"#fb9f3a\"],[0.8888888888888888,\"#fdca26\"],[1.0,\"#f0f921\"]],\"diverging\":[[0,\"#8e0152\"],[0.1,\"#c51b7d\"],[0.2,\"#de77ae\"],[0.3,\"#f1b6da\"],[0.4,\"#fde0ef\"],[0.5,\"#f7f7f7\"],[0.6,\"#e6f5d0\"],[0.7,\"#b8e186\"],[0.8,\"#7fbc41\"],[0.9,\"#4d9221\"],[1,\"#276419\"]]},\"xaxis\":{\"gridcolor\":\"white\",\"linecolor\":\"white\",\"ticks\":\"\",\"title\":{\"standoff\":15},\"zerolinecolor\":\"white\",\"automargin\":true,\"zerolinewidth\":2},\"yaxis\":{\"gridcolor\":\"white\",\"linecolor\":\"white\",\"ticks\":\"\",\"title\":{\"standoff\":15},\"zerolinecolor\":\"white\",\"automargin\":true,\"zerolinewidth\":2},\"scene\":{\"xaxis\":{\"backgroundcolor\":\"#E5ECF6\",\"gridcolor\":\"white\",\"linecolor\":\"white\",\"showbackground\":true,\"ticks\":\"\",\"zerolinecolor\":\"white\",\"gridwidth\":2},\"yaxis\":{\"backgroundcolor\":\"#E5ECF6\",\"gridcolor\":\"white\",\"linecolor\":\"white\",\"showbackground\":true,\"ticks\":\"\",\"zerolinecolor\":\"white\",\"gridwidth\":2},\"zaxis\":{\"backgroundcolor\":\"#E5ECF6\",\"gridcolor\":\"white\",\"linecolor\":\"white\",\"showbackground\":true,\"ticks\":\"\",\"zerolinecolor\":\"white\",\"gridwidth\":2}},\"shapedefaults\":{\"line\":{\"color\":\"#2a3f5f\"}},\"annotationdefaults\":{\"arrowcolor\":\"#2a3f5f\",\"arrowhead\":0,\"arrowwidth\":1},\"geo\":{\"bgcolor\":\"white\",\"landcolor\":\"#E5ECF6\",\"subunitcolor\":\"white\",\"showland\":true,\"showlakes\":true,\"lakecolor\":\"white\"},\"title\":{\"x\":0.05},\"mapbox\":{\"style\":\"light\"}}},\"title\":{\"text\":\"Pie Chart\"}},                        {\"responsive\": true}                    ).then(function(){\n",
              "                            \n",
              "var gd = document.getElementById('5314dca3-eaf8-49d9-8e12-b6a714b32fc3');\n",
              "var x = new MutationObserver(function (mutations, observer) {{\n",
              "        var display = window.getComputedStyle(gd).display;\n",
              "        if (!display || display === 'none') {{\n",
              "            console.log([gd, 'removed!']);\n",
              "            Plotly.purge(gd);\n",
              "            observer.disconnect();\n",
              "        }}\n",
              "}});\n",
              "\n",
              "// Listen for the removal of the full notebook cells\n",
              "var notebookContainer = gd.closest('#notebook-container');\n",
              "if (notebookContainer) {{\n",
              "    x.observe(notebookContainer, {childList: true});\n",
              "}}\n",
              "\n",
              "// Listen for the clearing of the current output cell\n",
              "var outputEl = gd.closest('.output');\n",
              "if (outputEl) {{\n",
              "    x.observe(outputEl, {childList: true});\n",
              "}}\n",
              "\n",
              "                        })                };                            </script>        </div>\n",
              "</body>\n",
              "</html>"
            ]
          },
          "metadata": {}
        }
      ]
    },
    {
      "cell_type": "markdown",
      "source": [
        "## **8. Histogram**\n",
        "A histogram is useful for visualizing the distribution of a continuous variable. Let's create a histogram using Plotly.\n",
        "\n",
        "```python\n",
        "import plotly.graph_objects as go\n",
        "import numpy as np\n",
        "\n",
        "# Create random data\n",
        "np.random.seed(0)\n",
        "data = np.random.randn(1000)\n",
        "\n",
        "# Create histogram\n",
        "fig = go.Figure(data=go.Histogram(x=data))\n",
        "\n",
        "# Add title and axis labels\n",
        "fig.update_layout(title='Histogram', xaxis_title='Value', yaxis_title='Frequency')\n",
        "\n",
        "# Display the plot\n",
        "fig.show()\n",
        "```\n",
        "\n",
        "In the code above, we generate random data using NumPy's `random.randn()` function. We then create a histogram by passing the data to the `Histogram` trace.\n"
      ],
      "metadata": {
        "id": "wR96oVY2BPHF"
      }
    },
    {
      "cell_type": "code",
      "source": [
        "import plotly.graph_objects as go\n",
        "import numpy as np\n",
        "\n",
        "# Create random data\n",
        "np.random.seed(0)\n",
        "data = np.random.randn(1000)\n",
        "\n",
        "# Create histogram\n",
        "fig = go.Figure(data=go.Histogram(x=data))\n",
        "\n",
        "# Add title and axis labels\n",
        "fig.update_layout(title='Histogram', xaxis_title='Value', yaxis_title='Frequency')\n",
        "\n",
        "# Display the plot\n",
        "fig.show()"
      ],
      "metadata": {
        "colab": {
          "base_uri": "https://localhost:8080/",
          "height": 542
        },
        "id": "ywoPxWrGBOif",
        "outputId": "03cd87a0-f727-4e28-ec0d-2f09672f5de6"
      },
      "execution_count": null,
      "outputs": [
        {
          "output_type": "display_data",
          "data": {
            "text/html": [
              "<html>\n",
              "<head><meta charset=\"utf-8\" /></head>\n",
              "<body>\n",
              "    <div>            <script src=\"https://cdnjs.cloudflare.com/ajax/libs/mathjax/2.7.5/MathJax.js?config=TeX-AMS-MML_SVG\"></script><script type=\"text/javascript\">if (window.MathJax && window.MathJax.Hub && window.MathJax.Hub.Config) {window.MathJax.Hub.Config({SVG: {font: \"STIX-Web\"}});}</script>                <script type=\"text/javascript\">window.PlotlyConfig = {MathJaxConfig: 'local'};</script>\n",
              "        <script src=\"https://cdn.plot.ly/plotly-2.18.2.min.js\"></script>                <div id=\"46e04f7a-820b-4327-bd98-32c73dcc875c\" class=\"plotly-graph-div\" style=\"height:525px; width:100%;\"></div>            <script type=\"text/javascript\">                                    window.PLOTLYENV=window.PLOTLYENV || {};                                    if (document.getElementById(\"46e04f7a-820b-4327-bd98-32c73dcc875c\")) {                    Plotly.newPlot(                        \"46e04f7a-820b-4327-bd98-32c73dcc875c\",                        [{\"x\":[1.764052345967664,0.4001572083672233,0.9787379841057392,2.240893199201458,1.8675579901499675,-0.977277879876411,0.9500884175255894,-0.1513572082976979,-0.10321885179355784,0.41059850193837233,0.144043571160878,1.454273506962975,0.7610377251469934,0.12167501649282841,0.44386323274542566,0.33367432737426683,1.4940790731576061,-0.20515826376580087,0.31306770165090136,-0.8540957393017248,-2.5529898158340787,0.6536185954403606,0.8644361988595057,-0.7421650204064419,2.2697546239876076,-1.4543656745987648,0.04575851730144607,-0.1871838500258336,1.5327792143584575,1.469358769900285,0.1549474256969163,0.37816251960217356,-0.8877857476301128,-1.980796468223927,-0.3479121493261526,0.15634896910398005,1.2302906807277207,1.2023798487844113,-0.3873268174079523,-0.30230275057533557,-1.0485529650670926,-1.4200179371789752,-1.7062701906250126,1.9507753952317897,-0.5096521817516535,-0.4380743016111864,-1.2527953600499262,0.7774903558319101,-1.6138978475579515,-0.2127402802139687,-0.8954665611936756,0.386902497859262,-0.510805137568873,-1.180632184122412,-0.028182228338654868,0.42833187053041766,0.06651722238316789,0.3024718977397814,-0.6343220936809636,-0.3627411659871381,-0.672460447775951,-0.3595531615405413,-0.813146282044454,-1.7262826023316769,0.17742614225375283,-0.4017809362082619,-1.6301983469660446,0.4627822555257742,-0.9072983643832422,0.05194539579613895,0.7290905621775369,0.12898291075741067,1.1394006845433007,-1.2348258203536526,0.402341641177549,-0.6848100909403132,-0.8707971491818818,-0.5788496647644155,-0.31155253212737266,0.05616534222974544,-1.1651498407833565,0.9008264869541871,0.46566243973045984,-1.5362436862772237,1.4882521937955997,1.8958891760305832,1.1787795711596507,-0.17992483581235091,-1.0707526215105425,1.0544517269311366,-0.40317694697317963,1.2224450703824274,0.2082749780768603,0.9766390364837128,0.3563663971744019,0.7065731681919482,0.010500020720820478,1.7858704939058352,0.12691209270361992,0.40198936344470165,1.8831506970562544,-1.3477590611424464,-1.2704849984857336,0.9693967081580112,-1.17312340511416,1.9436211856492926,-0.41361898075974735,-0.7474548114407578,1.9229420264803847,1.4805147914344243,1.8675589604265699,0.9060446582753853,-0.8612256850547025,1.9100649530990337,-0.2680033709513804,0.8024563957963952,0.947251967773748,-0.1550100930908342,0.6140793703460803,0.9222066715665268,0.37642553115562943,-1.0994007905841945,0.298238174206056,1.3263858966870303,-0.6945678597313655,-0.14963454032767076,-0.43515355172163744,1.8492637284793418,0.6722947570124355,0.40746183624111043,-0.7699160744453164,0.5392491912918173,-0.6743326606573761,0.03183055827435118,-0.635846078378881,0.6764332949464997,0.5765908166149409,-0.20829875557799488,0.3960067126616453,-1.0930615087305058,-1.4912575927056055,0.4393917012645369,0.16667349537252904,0.6350314368921064,2.383144774863942,0.9444794869904138,-0.9128222254441586,1.117016288095853,-1.3159074105115212,-0.461584604814709,-0.06824160532463124,1.7133427216493666,-0.7447548220484399,-0.8264385386590144,-0.0984525244254323,-0.6634782863621074,1.126635922106507,-1.0799315083634233,-1.1474686524111024,-0.43782004474443403,-0.4980324506923049,1.9295320538169858,0.9494208069257608,0.0875512413851909,-1.225435518830168,0.8443629764015471,-1.0002153473895647,-1.5447710967776116,1.1880297923523018,0.3169426119248496,0.920858823780819,0.3187276529430212,0.8568306119026912,-0.6510255933001469,-1.0342428417844647,0.681594518281627,-0.8034096641738411,-0.6895497777502005,-0.45553250351734315,0.01747915902505673,-0.35399391125348395,-1.3749512934180188,-0.6436184028328905,-2.2234031522244266,0.6252314510271875,-1.6020576556067476,-1.1043833394284506,0.052165079260974405,-0.7395629963913133,1.5430145954067358,-1.2928569097234486,0.26705086934918293,-0.0392828182274956,-1.1680934977411974,0.5232766605317537,-0.1715463312222481,0.7717905512136674,0.8235041539637314,2.16323594928069,1.336527949436392,-0.3691818379424436,-0.2393791775759264,1.0996595958871132,0.6552637307225978,0.640131526097592,-1.6169560443108344,-0.024326124398935636,-0.7380309092056887,0.27992459904323824,-0.09815038964295794,0.9101789080925919,0.31721821519130206,0.7863279621089762,-0.46641909673594306,-0.9444462559182504,-0.41004969320254847,-0.017020413861440594,0.3791517355550818,2.259308950690852,-0.04225715166064269,-0.955945000492777,-0.34598177569938643,-0.4635959746460942,0.4814814737734622,-1.5407970144446248,0.06326199420033171,0.1565065379653756,0.23218103620027578,-0.5973160689653627,-0.237921729736007,-1.4240609089825316,-0.49331988336219407,-0.5428614760167177,0.4160500462614255,-1.1561824318219127,0.7811981017099934,1.4944845444913688,-2.0699850250135325,0.42625873077810095,0.6769080350302455,-0.637437025552229,-0.39727181432879766,-0.13288057758695562,-0.2977908794017283,-0.3090129690471222,-1.6760038063299767,1.15233156478312,1.079618592036821,-0.8133642592042029,-1.466424327802514,0.5210648764527586,-0.5757879698130661,0.14195316332077967,-0.3193284171450952,0.6915387510701866,0.6947491436560059,-0.7255973784635843,-1.3833639553950554,-1.582938397335082,0.6103793791072052,-1.188859257784029,-0.5068163542986875,-0.5963140384505081,-0.05256729626954629,-1.936279805846507,0.18877859679382855,0.5238910238342056,0.08842208704466141,-0.3108861716984717,0.09740016626878341,0.3990463456401302,-2.77259275642665,1.9559123082506942,0.39009332268792646,-0.65240858238702,-0.3909533751876011,0.49374177734918845,-0.11610393903436653,-2.0306844677814944,2.0644928613593194,-0.11054065723247261,1.0201727117157997,-0.6920498477843912,1.5363770542457977,0.28634368889227957,0.6088438344754508,-1.0452533661469547,1.2111452896827009,0.6898181645347884,1.3018462295649984,-0.6280875596415789,-0.4810271184607877,2.303916697683942,-1.0600158227215473,-0.13594970067832082,1.1368913626026953,0.0977249677148556,0.5829536797532936,-0.3994490292628752,0.37005588784751875,-1.3065268517353166,1.658130679618188,-0.11816404512856976,-0.6801782039968504,0.6663830820319143,-0.4607197873885533,-1.3342584714027534,-1.3467175057975553,0.6937731526901325,-0.1595734381462669,-0.13370155966843916,1.0777438059762627,-1.1268258087567435,-0.7306777528648248,-0.38487980918127546,0.094351589317074,-0.042171451290578935,-0.2868871923899076,-0.0616264020956474,-0.10730527629117469,-0.7196043885517929,-0.8129929885540773,0.2745163577239395,-0.8909150829955279,-1.1573552591908536,-0.3122922511256933,-0.1576670161638159,2.2567234972982093,-0.7047002758562337,0.9432607249694948,0.7471883342046318,-1.188944955203736,0.7732529774025997,-1.1838806401933177,-2.659172237996741,0.6063195243593807,-1.7558905834377194,0.45093446180591484,-0.6840108977372166,1.6595507961898721,1.068509399316009,-0.45338580385138766,-0.6878376110286823,-1.2140774030941206,-0.4409226322925914,-0.2803554951845091,-0.3646935443916854,0.15670385527236397,0.5785214977288784,0.349654456993174,-0.764143923906443,-1.4377914738015785,1.3645318481024713,-0.6894491845499376,-0.6522935999350191,-0.5211893123011109,-1.8430695501566485,-0.4779740040404867,-0.47965581400794766,0.6203582983435125,0.698457149107336,0.00377088908626934,0.9318483741143037,0.339964983801262,-0.01568211160255477,0.16092816829822298,-0.19065349358139935,-0.3948495140334503,-0.26773353689396645,-1.1280113314700069,0.280441705316296,-0.9931236109295807,0.8416312640736364,-0.24945858016094885,0.04949498165009074,0.49383677628095635,0.6433144650629279,-1.5706234086334527,-0.20690367616397173,0.8801789120807822,-1.6981058194322545,0.3872804753950634,-2.2555642294021894,-1.0225068436356035,0.0386305518401881,-1.6567151023219537,-0.9855107376841507,-1.4718350074635869,1.6481349322075596,0.16422775548733395,0.5672902778526694,-0.2226751005151545,-0.35343174875719907,-1.6164741886510325,-0.2918373627478628,-0.7614922118116233,0.8579239242923363,1.1411018666575734,1.4665787155741776,0.852551939461232,-0.5986539369229861,-1.1158969859603944,0.7666631816450861,0.3562928174722889,-1.7685384506770307,0.35548179274376907,0.8145198224878664,0.05892558918162996,-0.18505367100934153,-0.8076484876163557,-1.4465346995633879,0.8002979493400275,-0.3091144447717088,-0.23346666154369272,1.7327211869191332,0.6845011068591904,0.3708250012811021,0.14206180518723566,1.5199948607657727,1.7195893074161945,0.9295051114795281,0.5822245913979243,-2.0946030712061448,0.12372191423350658,-0.130106954193704,0.09395322938556872,0.9430460873225178,-2.7396771671895563,-0.5693120534701851,0.26990435494076137,-0.4668455460527625,-1.4169061131262595,0.8689634868967954,0.27687190584612803,-0.9711045704444846,0.3148172045158238,0.8215857120497958,0.005292646299360854,0.8005648034309968,0.07826017516166135,-0.39522898265435435,-1.159420516399913,-0.08593076697161273,0.19429293804577166,0.8758327615873309,-0.11510746848722672,0.4574156062209908,-0.9646120137337284,-0.7826291558275251,-0.11038929902688775,-1.0546284639850139,0.8202478373246812,0.4631303293186071,0.2790957643924534,0.33890412521594454,2.0210435614847975,-0.46886418796679563,-2.201441285500558,0.1993001968964652,-0.050603540961665895,-0.5175190425104033,-0.9788298593587699,-0.43918952180214793,0.18133842921782128,-0.5028167006425383,2.4124536795437486,-0.960504381633148,-0.7931173627076716,-2.2886200400145285,0.251484415021537,-2.01640662779976,-0.5394546333745014,-0.27567053456055696,-0.7097279658468882,1.738872677454511,0.9943943913154989,1.3191368763015756,-0.8824188185499185,1.1285940645145685,0.4960009463439622,0.7714059486768455,1.0294388287827672,-0.9087632459590531,-0.4243176209779015,0.8625960113284511,-2.655619092974933,1.5133280825732052,0.553132064207584,-0.045703960660234855,0.2205076557571733,-1.0299352833089765,-0.34994336458910474,1.1002843382203737,1.2980219723262212,2.6962240525635797,-0.07392466628041514,-0.6585529668050037,-0.5142339659399888,-1.0180418752873648,-0.07785475594085076,0.38273243001226814,-0.03424228053195387,1.0963468456657985,-0.23421580134453654,-0.3474506524985633,-0.5812684768603252,-1.6326345262344952,-1.567767724308454,-1.1791579306376878,1.3014280716647608,0.8952602728899299,1.3749640663929898,-1.3322116545945017,-1.9686246897860202,-0.6600563201340829,0.175818953296028,0.4986902749098275,1.0479721559680528,0.2842796708072146,1.7426687806556311,-0.22260568094832048,-0.9130792180417964,-1.6812182154944335,-0.8889713580954499,0.242117960985123,-0.8887202573536308,0.9367424635352571,1.412327706037443,-2.369586905226603,0.8640523004976479,-2.2396040586617367,0.4014990550902875,1.2248705641936597,0.06485610634357618,-1.2796891732042395,-0.5854312042777726,-0.2616454457109007,-0.18224478378994294,-0.20289684076666706,-0.1098827793093138,0.2134800489101689,-1.2085736537332212,-0.2420198298702195,1.5182611703557054,-0.38464542314251776,-0.4438360931551978,1.0781973037142378,-2.5591846663440965,1.1813786012882859,-0.6319037580051673,0.16392857245258663,0.09632135592119682,0.9424681192203938,-0.2675947462353477,-0.6780257815644504,1.2978457906510987,-2.36417381714118,0.02033418170524325,-1.3479254226291204,-0.761573388256559,2.011256681463137,-0.044595426455857026,0.19506969715138117,-1.7815628557055914,-0.7290446587946957,0.19655740072878491,0.3547576931132181,0.6168865543932788,0.008627898917576322,0.5270042084546597,0.453781912635684,-1.8297404110045314,0.03700572191014953,0.7679024077327037,0.5898798207345195,-0.3638588099707899,-0.8056265075393678,-1.1183119243216322,-0.13105401154141233,1.133079879559722,-1.951804101481602,-0.659891729729498,-1.139802455426774,0.7849575212405001,-0.5543096265713009,-0.4706376581547914,-0.216949569936649,0.4453932508947973,-0.39238899814963674,-3.0461430547999266,0.5433118913875197,0.43904295767204254,-0.21954102833121325,-1.0840366206719345,0.3517801106813583,0.37923553353558676,-0.4700328827008748,-0.21673147057553863,-0.9301565025243212,-0.17858909208732915,-1.550429345083481,0.4173188210318355,-0.9443684908242939,0.23810314783231212,-1.4059629162678993,-0.5900576458695397,-0.11048940506592783,-1.6606998118692633,0.11514787314009216,-0.37914756287992274,-1.7423561978092306,-1.3032427541123157,0.6051200840821667,0.895555985551324,-0.13190863977996706,0.4047618120404975,0.2238435633129107,0.32962298212773805,1.285984007080293,-1.506998398214272,0.6764607323616232,-0.3820089555778202,-0.22425893425164034,-0.30224973045507003,-0.37514711666128386,-1.226196191783019,0.18333919925760125,1.6709430327888573,-0.056133020448757114,-0.001385042735095726,-0.6872990371566635,-0.11747454641811148,0.46616642603403075,-0.3702424407043429,-0.45380404105200106,0.4032645401632468,-0.9180047698190454,0.2524966270768724,0.8203217972614217,1.3599485416794843,-0.09038200727694681,1.3675972398067135,1.034409886481518,-0.9962126403710662,-1.217938511593151,-0.30496363785442043,1.0289354925948542,-0.0722870075600049,-0.6006575576577885,1.5522431800485608,0.2869044880033464,-2.3205942757907416,0.31716062629268876,0.5200406145708678,0.2256086544711038,0.44971210023199254,-0.06727560892298173,-1.3183958696447342,-0.37070400322045344,-0.9456157955562914,-0.9327409107943778,-1.2630683491022754,0.45248909263964643,0.0978961454126271,-0.44816536268070806,-0.6493379277303881,-0.02342310502145217,1.0791947281124892,-2.004215715498915,0.37687652085089274,-0.5457119740177824,-1.8845858449794477,-1.9457030831639588,-0.9127834941352918,0.21950955579304526,0.3930629339800916,-0.9389815726777853,1.0170209914132446,1.4229834965161061,0.3960865849565602,-0.5914026678081108,1.1244191845103682,0.7553956956633383,0.867407411354918,-0.6564636749715315,-2.8345545052747023,2.1167910214836754,-1.6108784034499337,-0.03576807186022113,2.3807453512197503,0.330576756274374,0.9492464735582357,-1.5023965693817127,-1.7776669547337063,-0.5327027919795545,1.0907497344345,-0.34624944764730997,-0.7946363210714987,0.19796728994496746,1.0819352184772653,-1.4449401990733717,-1.2105429941233516,-0.7886692545093662,1.0946383747120914,0.2348215259487319,2.1321534105704436,0.9364457258311158,-0.03509517686967038,1.265077838088766,0.21149701273187801,-0.7049213525074449,0.6799748442451024,-0.6963266538610828,-0.29039710080386677,1.327782695957983,-0.10128148621739935,-0.8031413873416283,-0.46433769143549164,1.021790585588673,-0.5525406734167292,-0.38687084685064654,-0.5102927396336285,0.18392549434030994,-0.3854897603756083,-1.601836048972537,-0.8871809418450403,-0.9327890415064383,1.2433193844551549,0.8126740421090424,0.587259379399826,-0.5053583172644099,-0.8157915419939713,-0.507517601657357,-1.051880102551674,2.497200391587007,-2.245321648371402,0.5640085350738091,-1.2845522979925272,-0.10434349149469264,-0.9880019424937344,-1.1776289624826308,-1.1401963009349616,1.7549861537420586,-0.13298842230959199,-0.7657021944780863,0.555786964082873,0.010349314566299353,0.7200337593416528,-1.82425665593783,0.3036039044620014,0.7726948371023817,-1.6615982911145637,0.44819528442331247,1.6961815728281606,-0.014857703354702717,0.8214059370248112,0.6705704503109099,-0.7075056975105769,0.03976673458649517,-1.5669947108616025,-0.4513030371025261,0.2656879749662359,0.7231004937377982,0.024612125247911617,0.7199837301431654,-1.1029062129553697,-0.1016972745548716,0.019279384513077216,1.8495912466796365,-0.21416665620008424,-0.4990166379941829,0.02135122384354861,-0.9191134448699437,0.19275384906521617,-0.36505521654625767,-1.7913275480411837,-0.05858655113386085,-0.31754309393019925,-1.6324233020679833,-0.06713415461452177,1.4893559620744803,0.5213037482757137,0.6119271927311578,-1.3414967255830426,0.4768983689222224,0.14844958138007808,0.5290452383344316,0.42262862170882565,-1.3597807255038137,-0.04140081155796743,-0.757870860425166,-0.05008409428482209,-0.8974009269018305,1.3124703671409963,-0.8589723884443423,-0.898942156465536,0.07458640654355353,-1.0770990694039948,-0.4246633024328657,-0.8299645975379619,1.4111720638896117,0.7858038268311726,-0.057469518465394644,-0.39121705217401626,0.9409176145751134,0.40520408032288807,0.4980524046828567,-0.026192237344250482,-1.6882300277714322,-0.11246598255955272,-0.5324899192090677,0.6450552734598769,1.011842432994189,-0.6579510447611686,0.46838523427705164,1.7358789976857132,-0.667712720570559,1.6819217400731377,-0.852585847170647,0.022959755607951444,-0.011145611841841251,0.011498899870062375,-0.8376780419079453,-0.5911831037644297,-0.6677202863593994,0.3269625954044574,0.33003511451031164,2.225944331738259,1.3709890062911214,-0.5098432421384791,0.32486961579618606,0.9971179807917595,0.030601824338517807,-0.06964157844693558,0.05157494276988904,0.8672766288084278,-0.8483205228052325,-0.32566946882017417,0.47043314484648185,0.3114470715541555,0.23958275985639133,-0.3698011663038032,0.9725357891425369,2.1338682472045374,0.4064154936762062,-0.1931767015498399,0.7557402888945426,-0.53913263675299,-0.7496903447028966,0.0328087476137118,-2.5827966329699446,-1.1539503636520094,-0.34796185592084583,-1.3533888581477134,-1.0326431018921296,-0.4367483374580074,-1.6429652935306092,-0.4060717962598319,-0.5352701645328445,0.025405208385016018,1.1541840304940192,0.1725044164928659,0.021062021342063624,0.09945445703071175,0.22739277512112846,-1.016738648609769,-0.11477532477079817,0.3087512418366131,-1.3707599825430605,0.8656529228158533,1.0813760344581897,-0.6313759884493888,-0.24133779145310455,-0.8781903428100731,0.6993804835878171,-1.0612222874459092,-0.2224770102429203,-0.8589199078076716,0.050954277011289496,-1.794229271489721,1.3264616423656934,-0.964606424206264,0.05989468311627605,-0.2125230447703092,-0.7621145119224981,-0.8877801366359354,0.9363985435524596,-0.5256405931019397,0.2711701846373109,-0.8014968853943748,-0.6471814318477607,0.47224715008784873,0.9304084961111163,-0.17531640232701995,-1.4219198716404369,1.9979560797500047,-0.8565493082342095,-1.5415873996717875,2.594424587768152,-0.40403229385093714,-1.4617326882614081,-0.6834397667886818,0.36754489602226903,0.1903115575939397,-0.85172919725359,1.8227236001279594,-0.5215796779933731,-1.184686590411552,0.9606933984606597,1.3290628465396823,-0.8174930976162265,-1.4013472930393105,1.0304382674156047,-2.0473236130579617,-1.2266216593966155,0.967446150050235,-0.05535254802238957,-0.26393734859268786,0.35281660649437835,-0.15277442354540868,-1.2986867221630902,1.2760753460061875,1.3250140528868153,0.2053325637779597,0.045134015432010274,2.339624806020058,-0.2764328450158372,-0.25957698183403943,0.36448124924050557,1.4713219561423383,1.5927707544174836,-0.25857263167677125,0.30833124595934525,-1.3780834670640771,-0.31197610791621294,-0.8402903954793065,-1.0068317522989838,1.6815767162673276,-0.7922866618061449,-0.5316059080114549,0.3658487879168582,1.2978252669735855,0.4811151263888354,2.759355114021582,-0.07466797825114957,0.25871644022974605,0.27560067398405635,1.4350493867891545,0.5072389511096153,-0.1162297003871491,-0.9474885949068795,0.24444345596163258,1.4013448312919596,-0.4103817936578706,0.5289436184165822,0.24614778868484416,0.8635196583813146,-0.8047537406378693,2.3466470305265617,-1.2791611070282582,-0.3655510899860373,0.9380925409056455,0.29673317249411335,0.8299861590811032,-0.49610233398256237,-0.07480498268034107,0.012231983638817386,1.5692596145359043,0.690429024383049,0.7966721083646714,-0.6579260925367952,0.9688826385630508,0.22558166356880352,1.3891453156779274,2.014060154918468,-0.30676577602700456,-0.40630313044506255,-0.8640449911023695,-0.14357951171632055,-0.3820254489503836,0.35950439957101016,-0.14456681693373594,-0.3615992807816198,1.0645851361278518,-0.9378802311514517,0.43310795315134365,-0.4059417271884834,0.7243685048699644,1.3852615467222305,-0.3030982534240727,0.44103290727315136,0.17879286573317985,-0.7994223995430966,0.24078750974193844,0.28912050527881217,0.4128708204461747,-0.19839889682004574,0.09419230031014657,-1.1476109448431353,-0.35811407547985674],\"type\":\"histogram\"}],                        {\"template\":{\"data\":{\"histogram2dcontour\":[{\"type\":\"histogram2dcontour\",\"colorbar\":{\"outlinewidth\":0,\"ticks\":\"\"},\"colorscale\":[[0.0,\"#0d0887\"],[0.1111111111111111,\"#46039f\"],[0.2222222222222222,\"#7201a8\"],[0.3333333333333333,\"#9c179e\"],[0.4444444444444444,\"#bd3786\"],[0.5555555555555556,\"#d8576b\"],[0.6666666666666666,\"#ed7953\"],[0.7777777777777778,\"#fb9f3a\"],[0.8888888888888888,\"#fdca26\"],[1.0,\"#f0f921\"]]}],\"choropleth\":[{\"type\":\"choropleth\",\"colorbar\":{\"outlinewidth\":0,\"ticks\":\"\"}}],\"histogram2d\":[{\"type\":\"histogram2d\",\"colorbar\":{\"outlinewidth\":0,\"ticks\":\"\"},\"colorscale\":[[0.0,\"#0d0887\"],[0.1111111111111111,\"#46039f\"],[0.2222222222222222,\"#7201a8\"],[0.3333333333333333,\"#9c179e\"],[0.4444444444444444,\"#bd3786\"],[0.5555555555555556,\"#d8576b\"],[0.6666666666666666,\"#ed7953\"],[0.7777777777777778,\"#fb9f3a\"],[0.8888888888888888,\"#fdca26\"],[1.0,\"#f0f921\"]]}],\"heatmap\":[{\"type\":\"heatmap\",\"colorbar\":{\"outlinewidth\":0,\"ticks\":\"\"},\"colorscale\":[[0.0,\"#0d0887\"],[0.1111111111111111,\"#46039f\"],[0.2222222222222222,\"#7201a8\"],[0.3333333333333333,\"#9c179e\"],[0.4444444444444444,\"#bd3786\"],[0.5555555555555556,\"#d8576b\"],[0.6666666666666666,\"#ed7953\"],[0.7777777777777778,\"#fb9f3a\"],[0.8888888888888888,\"#fdca26\"],[1.0,\"#f0f921\"]]}],\"heatmapgl\":[{\"type\":\"heatmapgl\",\"colorbar\":{\"outlinewidth\":0,\"ticks\":\"\"},\"colorscale\":[[0.0,\"#0d0887\"],[0.1111111111111111,\"#46039f\"],[0.2222222222222222,\"#7201a8\"],[0.3333333333333333,\"#9c179e\"],[0.4444444444444444,\"#bd3786\"],[0.5555555555555556,\"#d8576b\"],[0.6666666666666666,\"#ed7953\"],[0.7777777777777778,\"#fb9f3a\"],[0.8888888888888888,\"#fdca26\"],[1.0,\"#f0f921\"]]}],\"contourcarpet\":[{\"type\":\"contourcarpet\",\"colorbar\":{\"outlinewidth\":0,\"ticks\":\"\"}}],\"contour\":[{\"type\":\"contour\",\"colorbar\":{\"outlinewidth\":0,\"ticks\":\"\"},\"colorscale\":[[0.0,\"#0d0887\"],[0.1111111111111111,\"#46039f\"],[0.2222222222222222,\"#7201a8\"],[0.3333333333333333,\"#9c179e\"],[0.4444444444444444,\"#bd3786\"],[0.5555555555555556,\"#d8576b\"],[0.6666666666666666,\"#ed7953\"],[0.7777777777777778,\"#fb9f3a\"],[0.8888888888888888,\"#fdca26\"],[1.0,\"#f0f921\"]]}],\"surface\":[{\"type\":\"surface\",\"colorbar\":{\"outlinewidth\":0,\"ticks\":\"\"},\"colorscale\":[[0.0,\"#0d0887\"],[0.1111111111111111,\"#46039f\"],[0.2222222222222222,\"#7201a8\"],[0.3333333333333333,\"#9c179e\"],[0.4444444444444444,\"#bd3786\"],[0.5555555555555556,\"#d8576b\"],[0.6666666666666666,\"#ed7953\"],[0.7777777777777778,\"#fb9f3a\"],[0.8888888888888888,\"#fdca26\"],[1.0,\"#f0f921\"]]}],\"mesh3d\":[{\"type\":\"mesh3d\",\"colorbar\":{\"outlinewidth\":0,\"ticks\":\"\"}}],\"scatter\":[{\"fillpattern\":{\"fillmode\":\"overlay\",\"size\":10,\"solidity\":0.2},\"type\":\"scatter\"}],\"parcoords\":[{\"type\":\"parcoords\",\"line\":{\"colorbar\":{\"outlinewidth\":0,\"ticks\":\"\"}}}],\"scatterpolargl\":[{\"type\":\"scatterpolargl\",\"marker\":{\"colorbar\":{\"outlinewidth\":0,\"ticks\":\"\"}}}],\"bar\":[{\"error_x\":{\"color\":\"#2a3f5f\"},\"error_y\":{\"color\":\"#2a3f5f\"},\"marker\":{\"line\":{\"color\":\"#E5ECF6\",\"width\":0.5},\"pattern\":{\"fillmode\":\"overlay\",\"size\":10,\"solidity\":0.2}},\"type\":\"bar\"}],\"scattergeo\":[{\"type\":\"scattergeo\",\"marker\":{\"colorbar\":{\"outlinewidth\":0,\"ticks\":\"\"}}}],\"scatterpolar\":[{\"type\":\"scatterpolar\",\"marker\":{\"colorbar\":{\"outlinewidth\":0,\"ticks\":\"\"}}}],\"histogram\":[{\"marker\":{\"pattern\":{\"fillmode\":\"overlay\",\"size\":10,\"solidity\":0.2}},\"type\":\"histogram\"}],\"scattergl\":[{\"type\":\"scattergl\",\"marker\":{\"colorbar\":{\"outlinewidth\":0,\"ticks\":\"\"}}}],\"scatter3d\":[{\"type\":\"scatter3d\",\"line\":{\"colorbar\":{\"outlinewidth\":0,\"ticks\":\"\"}},\"marker\":{\"colorbar\":{\"outlinewidth\":0,\"ticks\":\"\"}}}],\"scattermapbox\":[{\"type\":\"scattermapbox\",\"marker\":{\"colorbar\":{\"outlinewidth\":0,\"ticks\":\"\"}}}],\"scatterternary\":[{\"type\":\"scatterternary\",\"marker\":{\"colorbar\":{\"outlinewidth\":0,\"ticks\":\"\"}}}],\"scattercarpet\":[{\"type\":\"scattercarpet\",\"marker\":{\"colorbar\":{\"outlinewidth\":0,\"ticks\":\"\"}}}],\"carpet\":[{\"aaxis\":{\"endlinecolor\":\"#2a3f5f\",\"gridcolor\":\"white\",\"linecolor\":\"white\",\"minorgridcolor\":\"white\",\"startlinecolor\":\"#2a3f5f\"},\"baxis\":{\"endlinecolor\":\"#2a3f5f\",\"gridcolor\":\"white\",\"linecolor\":\"white\",\"minorgridcolor\":\"white\",\"startlinecolor\":\"#2a3f5f\"},\"type\":\"carpet\"}],\"table\":[{\"cells\":{\"fill\":{\"color\":\"#EBF0F8\"},\"line\":{\"color\":\"white\"}},\"header\":{\"fill\":{\"color\":\"#C8D4E3\"},\"line\":{\"color\":\"white\"}},\"type\":\"table\"}],\"barpolar\":[{\"marker\":{\"line\":{\"color\":\"#E5ECF6\",\"width\":0.5},\"pattern\":{\"fillmode\":\"overlay\",\"size\":10,\"solidity\":0.2}},\"type\":\"barpolar\"}],\"pie\":[{\"automargin\":true,\"type\":\"pie\"}]},\"layout\":{\"autotypenumbers\":\"strict\",\"colorway\":[\"#636efa\",\"#EF553B\",\"#00cc96\",\"#ab63fa\",\"#FFA15A\",\"#19d3f3\",\"#FF6692\",\"#B6E880\",\"#FF97FF\",\"#FECB52\"],\"font\":{\"color\":\"#2a3f5f\"},\"hovermode\":\"closest\",\"hoverlabel\":{\"align\":\"left\"},\"paper_bgcolor\":\"white\",\"plot_bgcolor\":\"#E5ECF6\",\"polar\":{\"bgcolor\":\"#E5ECF6\",\"angularaxis\":{\"gridcolor\":\"white\",\"linecolor\":\"white\",\"ticks\":\"\"},\"radialaxis\":{\"gridcolor\":\"white\",\"linecolor\":\"white\",\"ticks\":\"\"}},\"ternary\":{\"bgcolor\":\"#E5ECF6\",\"aaxis\":{\"gridcolor\":\"white\",\"linecolor\":\"white\",\"ticks\":\"\"},\"baxis\":{\"gridcolor\":\"white\",\"linecolor\":\"white\",\"ticks\":\"\"},\"caxis\":{\"gridcolor\":\"white\",\"linecolor\":\"white\",\"ticks\":\"\"}},\"coloraxis\":{\"colorbar\":{\"outlinewidth\":0,\"ticks\":\"\"}},\"colorscale\":{\"sequential\":[[0.0,\"#0d0887\"],[0.1111111111111111,\"#46039f\"],[0.2222222222222222,\"#7201a8\"],[0.3333333333333333,\"#9c179e\"],[0.4444444444444444,\"#bd3786\"],[0.5555555555555556,\"#d8576b\"],[0.6666666666666666,\"#ed7953\"],[0.7777777777777778,\"#fb9f3a\"],[0.8888888888888888,\"#fdca26\"],[1.0,\"#f0f921\"]],\"sequentialminus\":[[0.0,\"#0d0887\"],[0.1111111111111111,\"#46039f\"],[0.2222222222222222,\"#7201a8\"],[0.3333333333333333,\"#9c179e\"],[0.4444444444444444,\"#bd3786\"],[0.5555555555555556,\"#d8576b\"],[0.6666666666666666,\"#ed7953\"],[0.7777777777777778,\"#fb9f3a\"],[0.8888888888888888,\"#fdca26\"],[1.0,\"#f0f921\"]],\"diverging\":[[0,\"#8e0152\"],[0.1,\"#c51b7d\"],[0.2,\"#de77ae\"],[0.3,\"#f1b6da\"],[0.4,\"#fde0ef\"],[0.5,\"#f7f7f7\"],[0.6,\"#e6f5d0\"],[0.7,\"#b8e186\"],[0.8,\"#7fbc41\"],[0.9,\"#4d9221\"],[1,\"#276419\"]]},\"xaxis\":{\"gridcolor\":\"white\",\"linecolor\":\"white\",\"ticks\":\"\",\"title\":{\"standoff\":15},\"zerolinecolor\":\"white\",\"automargin\":true,\"zerolinewidth\":2},\"yaxis\":{\"gridcolor\":\"white\",\"linecolor\":\"white\",\"ticks\":\"\",\"title\":{\"standoff\":15},\"zerolinecolor\":\"white\",\"automargin\":true,\"zerolinewidth\":2},\"scene\":{\"xaxis\":{\"backgroundcolor\":\"#E5ECF6\",\"gridcolor\":\"white\",\"linecolor\":\"white\",\"showbackground\":true,\"ticks\":\"\",\"zerolinecolor\":\"white\",\"gridwidth\":2},\"yaxis\":{\"backgroundcolor\":\"#E5ECF6\",\"gridcolor\":\"white\",\"linecolor\":\"white\",\"showbackground\":true,\"ticks\":\"\",\"zerolinecolor\":\"white\",\"gridwidth\":2},\"zaxis\":{\"backgroundcolor\":\"#E5ECF6\",\"gridcolor\":\"white\",\"linecolor\":\"white\",\"showbackground\":true,\"ticks\":\"\",\"zerolinecolor\":\"white\",\"gridwidth\":2}},\"shapedefaults\":{\"line\":{\"color\":\"#2a3f5f\"}},\"annotationdefaults\":{\"arrowcolor\":\"#2a3f5f\",\"arrowhead\":0,\"arrowwidth\":1},\"geo\":{\"bgcolor\":\"white\",\"landcolor\":\"#E5ECF6\",\"subunitcolor\":\"white\",\"showland\":true,\"showlakes\":true,\"lakecolor\":\"white\"},\"title\":{\"x\":0.05},\"mapbox\":{\"style\":\"light\"}}},\"title\":{\"text\":\"Histogram\"},\"xaxis\":{\"title\":{\"text\":\"Value\"}},\"yaxis\":{\"title\":{\"text\":\"Frequency\"}}},                        {\"responsive\": true}                    ).then(function(){\n",
              "                            \n",
              "var gd = document.getElementById('46e04f7a-820b-4327-bd98-32c73dcc875c');\n",
              "var x = new MutationObserver(function (mutations, observer) {{\n",
              "        var display = window.getComputedStyle(gd).display;\n",
              "        if (!display || display === 'none') {{\n",
              "            console.log([gd, 'removed!']);\n",
              "            Plotly.purge(gd);\n",
              "            observer.disconnect();\n",
              "        }}\n",
              "}});\n",
              "\n",
              "// Listen for the removal of the full notebook cells\n",
              "var notebookContainer = gd.closest('#notebook-container');\n",
              "if (notebookContainer) {{\n",
              "    x.observe(notebookContainer, {childList: true});\n",
              "}}\n",
              "\n",
              "// Listen for the clearing of the current output cell\n",
              "var outputEl = gd.closest('.output');\n",
              "if (outputEl) {{\n",
              "    x.observe(outputEl, {childList: true});\n",
              "}}\n",
              "\n",
              "                        })                };                            </script>        </div>\n",
              "</body>\n",
              "</html>"
            ]
          },
          "metadata": {}
        }
      ]
    },
    {
      "cell_type": "markdown",
      "source": [
        "## **9. Box Plot**\n",
        "A box plot is useful for visualizing the distribution and identifying outliers in a dataset. Let's create a box plot using Plotly.\n",
        "\n",
        "```python\n",
        "import plotly.graph_objects as go\n",
        "import numpy as np\n",
        "\n",
        "# Create random data\n",
        "np.random.seed(0)\n",
        "data = np.random.randn(100)\n",
        "\n",
        "# Create box plot\n",
        "fig = go.Figure(data=go.Box(y=data))\n",
        "\n",
        "# Add title and axis labels\n",
        "fig.update_layout(title='Box Plot', yaxis_title='Value')\n",
        "\n",
        "# Display the plot\n",
        "fig.show()\n",
        "```\n",
        "\n",
        "In the code above, we generate random data using NumPy's `random.randn()` function. We then create a box plot by passing the data to the `Box` trace.\n",
        "\n"
      ],
      "metadata": {
        "id": "xkXR0YEABLs-"
      }
    },
    {
      "cell_type": "code",
      "source": [
        "import plotly.graph_objects as go\n",
        "import numpy as np\n",
        "\n",
        "# Create random data\n",
        "np.random.seed(0)\n",
        "data = np.random.randn(100)\n",
        "\n",
        "# Create box plot\n",
        "fig = go.Figure(data=go.Box(y=data))\n",
        "\n",
        "# Add title and axis labels\n",
        "fig.update_layout(title='Box Plot', yaxis_title='Value')\n",
        "\n",
        "# Display the plot\n",
        "fig.show()"
      ],
      "metadata": {
        "colab": {
          "base_uri": "https://localhost:8080/",
          "height": 542
        },
        "id": "fWA-7apfBF8G",
        "outputId": "e92f88db-599b-4e9b-e05a-ddc482577fd6"
      },
      "execution_count": null,
      "outputs": [
        {
          "output_type": "display_data",
          "data": {
            "text/html": [
              "<html>\n",
              "<head><meta charset=\"utf-8\" /></head>\n",
              "<body>\n",
              "    <div>            <script src=\"https://cdnjs.cloudflare.com/ajax/libs/mathjax/2.7.5/MathJax.js?config=TeX-AMS-MML_SVG\"></script><script type=\"text/javascript\">if (window.MathJax && window.MathJax.Hub && window.MathJax.Hub.Config) {window.MathJax.Hub.Config({SVG: {font: \"STIX-Web\"}});}</script>                <script type=\"text/javascript\">window.PlotlyConfig = {MathJaxConfig: 'local'};</script>\n",
              "        <script src=\"https://cdn.plot.ly/plotly-2.18.2.min.js\"></script>                <div id=\"7ae8aaf9-2955-4826-928c-828d0136dd35\" class=\"plotly-graph-div\" style=\"height:525px; width:100%;\"></div>            <script type=\"text/javascript\">                                    window.PLOTLYENV=window.PLOTLYENV || {};                                    if (document.getElementById(\"7ae8aaf9-2955-4826-928c-828d0136dd35\")) {                    Plotly.newPlot(                        \"7ae8aaf9-2955-4826-928c-828d0136dd35\",                        [{\"y\":[1.764052345967664,0.4001572083672233,0.9787379841057392,2.240893199201458,1.8675579901499675,-0.977277879876411,0.9500884175255894,-0.1513572082976979,-0.10321885179355784,0.41059850193837233,0.144043571160878,1.454273506962975,0.7610377251469934,0.12167501649282841,0.44386323274542566,0.33367432737426683,1.4940790731576061,-0.20515826376580087,0.31306770165090136,-0.8540957393017248,-2.5529898158340787,0.6536185954403606,0.8644361988595057,-0.7421650204064419,2.2697546239876076,-1.4543656745987648,0.04575851730144607,-0.1871838500258336,1.5327792143584575,1.469358769900285,0.1549474256969163,0.37816251960217356,-0.8877857476301128,-1.980796468223927,-0.3479121493261526,0.15634896910398005,1.2302906807277207,1.2023798487844113,-0.3873268174079523,-0.30230275057533557,-1.0485529650670926,-1.4200179371789752,-1.7062701906250126,1.9507753952317897,-0.5096521817516535,-0.4380743016111864,-1.2527953600499262,0.7774903558319101,-1.6138978475579515,-0.2127402802139687,-0.8954665611936756,0.386902497859262,-0.510805137568873,-1.180632184122412,-0.028182228338654868,0.42833187053041766,0.06651722238316789,0.3024718977397814,-0.6343220936809636,-0.3627411659871381,-0.672460447775951,-0.3595531615405413,-0.813146282044454,-1.7262826023316769,0.17742614225375283,-0.4017809362082619,-1.6301983469660446,0.4627822555257742,-0.9072983643832422,0.05194539579613895,0.7290905621775369,0.12898291075741067,1.1394006845433007,-1.2348258203536526,0.402341641177549,-0.6848100909403132,-0.8707971491818818,-0.5788496647644155,-0.31155253212737266,0.05616534222974544,-1.1651498407833565,0.9008264869541871,0.46566243973045984,-1.5362436862772237,1.4882521937955997,1.8958891760305832,1.1787795711596507,-0.17992483581235091,-1.0707526215105425,1.0544517269311366,-0.40317694697317963,1.2224450703824274,0.2082749780768603,0.9766390364837128,0.3563663971744019,0.7065731681919482,0.010500020720820478,1.7858704939058352,0.12691209270361992,0.40198936344470165],\"type\":\"box\"}],                        {\"template\":{\"data\":{\"histogram2dcontour\":[{\"type\":\"histogram2dcontour\",\"colorbar\":{\"outlinewidth\":0,\"ticks\":\"\"},\"colorscale\":[[0.0,\"#0d0887\"],[0.1111111111111111,\"#46039f\"],[0.2222222222222222,\"#7201a8\"],[0.3333333333333333,\"#9c179e\"],[0.4444444444444444,\"#bd3786\"],[0.5555555555555556,\"#d8576b\"],[0.6666666666666666,\"#ed7953\"],[0.7777777777777778,\"#fb9f3a\"],[0.8888888888888888,\"#fdca26\"],[1.0,\"#f0f921\"]]}],\"choropleth\":[{\"type\":\"choropleth\",\"colorbar\":{\"outlinewidth\":0,\"ticks\":\"\"}}],\"histogram2d\":[{\"type\":\"histogram2d\",\"colorbar\":{\"outlinewidth\":0,\"ticks\":\"\"},\"colorscale\":[[0.0,\"#0d0887\"],[0.1111111111111111,\"#46039f\"],[0.2222222222222222,\"#7201a8\"],[0.3333333333333333,\"#9c179e\"],[0.4444444444444444,\"#bd3786\"],[0.5555555555555556,\"#d8576b\"],[0.6666666666666666,\"#ed7953\"],[0.7777777777777778,\"#fb9f3a\"],[0.8888888888888888,\"#fdca26\"],[1.0,\"#f0f921\"]]}],\"heatmap\":[{\"type\":\"heatmap\",\"colorbar\":{\"outlinewidth\":0,\"ticks\":\"\"},\"colorscale\":[[0.0,\"#0d0887\"],[0.1111111111111111,\"#46039f\"],[0.2222222222222222,\"#7201a8\"],[0.3333333333333333,\"#9c179e\"],[0.4444444444444444,\"#bd3786\"],[0.5555555555555556,\"#d8576b\"],[0.6666666666666666,\"#ed7953\"],[0.7777777777777778,\"#fb9f3a\"],[0.8888888888888888,\"#fdca26\"],[1.0,\"#f0f921\"]]}],\"heatmapgl\":[{\"type\":\"heatmapgl\",\"colorbar\":{\"outlinewidth\":0,\"ticks\":\"\"},\"colorscale\":[[0.0,\"#0d0887\"],[0.1111111111111111,\"#46039f\"],[0.2222222222222222,\"#7201a8\"],[0.3333333333333333,\"#9c179e\"],[0.4444444444444444,\"#bd3786\"],[0.5555555555555556,\"#d8576b\"],[0.6666666666666666,\"#ed7953\"],[0.7777777777777778,\"#fb9f3a\"],[0.8888888888888888,\"#fdca26\"],[1.0,\"#f0f921\"]]}],\"contourcarpet\":[{\"type\":\"contourcarpet\",\"colorbar\":{\"outlinewidth\":0,\"ticks\":\"\"}}],\"contour\":[{\"type\":\"contour\",\"colorbar\":{\"outlinewidth\":0,\"ticks\":\"\"},\"colorscale\":[[0.0,\"#0d0887\"],[0.1111111111111111,\"#46039f\"],[0.2222222222222222,\"#7201a8\"],[0.3333333333333333,\"#9c179e\"],[0.4444444444444444,\"#bd3786\"],[0.5555555555555556,\"#d8576b\"],[0.6666666666666666,\"#ed7953\"],[0.7777777777777778,\"#fb9f3a\"],[0.8888888888888888,\"#fdca26\"],[1.0,\"#f0f921\"]]}],\"surface\":[{\"type\":\"surface\",\"colorbar\":{\"outlinewidth\":0,\"ticks\":\"\"},\"colorscale\":[[0.0,\"#0d0887\"],[0.1111111111111111,\"#46039f\"],[0.2222222222222222,\"#7201a8\"],[0.3333333333333333,\"#9c179e\"],[0.4444444444444444,\"#bd3786\"],[0.5555555555555556,\"#d8576b\"],[0.6666666666666666,\"#ed7953\"],[0.7777777777777778,\"#fb9f3a\"],[0.8888888888888888,\"#fdca26\"],[1.0,\"#f0f921\"]]}],\"mesh3d\":[{\"type\":\"mesh3d\",\"colorbar\":{\"outlinewidth\":0,\"ticks\":\"\"}}],\"scatter\":[{\"fillpattern\":{\"fillmode\":\"overlay\",\"size\":10,\"solidity\":0.2},\"type\":\"scatter\"}],\"parcoords\":[{\"type\":\"parcoords\",\"line\":{\"colorbar\":{\"outlinewidth\":0,\"ticks\":\"\"}}}],\"scatterpolargl\":[{\"type\":\"scatterpolargl\",\"marker\":{\"colorbar\":{\"outlinewidth\":0,\"ticks\":\"\"}}}],\"bar\":[{\"error_x\":{\"color\":\"#2a3f5f\"},\"error_y\":{\"color\":\"#2a3f5f\"},\"marker\":{\"line\":{\"color\":\"#E5ECF6\",\"width\":0.5},\"pattern\":{\"fillmode\":\"overlay\",\"size\":10,\"solidity\":0.2}},\"type\":\"bar\"}],\"scattergeo\":[{\"type\":\"scattergeo\",\"marker\":{\"colorbar\":{\"outlinewidth\":0,\"ticks\":\"\"}}}],\"scatterpolar\":[{\"type\":\"scatterpolar\",\"marker\":{\"colorbar\":{\"outlinewidth\":0,\"ticks\":\"\"}}}],\"histogram\":[{\"marker\":{\"pattern\":{\"fillmode\":\"overlay\",\"size\":10,\"solidity\":0.2}},\"type\":\"histogram\"}],\"scattergl\":[{\"type\":\"scattergl\",\"marker\":{\"colorbar\":{\"outlinewidth\":0,\"ticks\":\"\"}}}],\"scatter3d\":[{\"type\":\"scatter3d\",\"line\":{\"colorbar\":{\"outlinewidth\":0,\"ticks\":\"\"}},\"marker\":{\"colorbar\":{\"outlinewidth\":0,\"ticks\":\"\"}}}],\"scattermapbox\":[{\"type\":\"scattermapbox\",\"marker\":{\"colorbar\":{\"outlinewidth\":0,\"ticks\":\"\"}}}],\"scatterternary\":[{\"type\":\"scatterternary\",\"marker\":{\"colorbar\":{\"outlinewidth\":0,\"ticks\":\"\"}}}],\"scattercarpet\":[{\"type\":\"scattercarpet\",\"marker\":{\"colorbar\":{\"outlinewidth\":0,\"ticks\":\"\"}}}],\"carpet\":[{\"aaxis\":{\"endlinecolor\":\"#2a3f5f\",\"gridcolor\":\"white\",\"linecolor\":\"white\",\"minorgridcolor\":\"white\",\"startlinecolor\":\"#2a3f5f\"},\"baxis\":{\"endlinecolor\":\"#2a3f5f\",\"gridcolor\":\"white\",\"linecolor\":\"white\",\"minorgridcolor\":\"white\",\"startlinecolor\":\"#2a3f5f\"},\"type\":\"carpet\"}],\"table\":[{\"cells\":{\"fill\":{\"color\":\"#EBF0F8\"},\"line\":{\"color\":\"white\"}},\"header\":{\"fill\":{\"color\":\"#C8D4E3\"},\"line\":{\"color\":\"white\"}},\"type\":\"table\"}],\"barpolar\":[{\"marker\":{\"line\":{\"color\":\"#E5ECF6\",\"width\":0.5},\"pattern\":{\"fillmode\":\"overlay\",\"size\":10,\"solidity\":0.2}},\"type\":\"barpolar\"}],\"pie\":[{\"automargin\":true,\"type\":\"pie\"}]},\"layout\":{\"autotypenumbers\":\"strict\",\"colorway\":[\"#636efa\",\"#EF553B\",\"#00cc96\",\"#ab63fa\",\"#FFA15A\",\"#19d3f3\",\"#FF6692\",\"#B6E880\",\"#FF97FF\",\"#FECB52\"],\"font\":{\"color\":\"#2a3f5f\"},\"hovermode\":\"closest\",\"hoverlabel\":{\"align\":\"left\"},\"paper_bgcolor\":\"white\",\"plot_bgcolor\":\"#E5ECF6\",\"polar\":{\"bgcolor\":\"#E5ECF6\",\"angularaxis\":{\"gridcolor\":\"white\",\"linecolor\":\"white\",\"ticks\":\"\"},\"radialaxis\":{\"gridcolor\":\"white\",\"linecolor\":\"white\",\"ticks\":\"\"}},\"ternary\":{\"bgcolor\":\"#E5ECF6\",\"aaxis\":{\"gridcolor\":\"white\",\"linecolor\":\"white\",\"ticks\":\"\"},\"baxis\":{\"gridcolor\":\"white\",\"linecolor\":\"white\",\"ticks\":\"\"},\"caxis\":{\"gridcolor\":\"white\",\"linecolor\":\"white\",\"ticks\":\"\"}},\"coloraxis\":{\"colorbar\":{\"outlinewidth\":0,\"ticks\":\"\"}},\"colorscale\":{\"sequential\":[[0.0,\"#0d0887\"],[0.1111111111111111,\"#46039f\"],[0.2222222222222222,\"#7201a8\"],[0.3333333333333333,\"#9c179e\"],[0.4444444444444444,\"#bd3786\"],[0.5555555555555556,\"#d8576b\"],[0.6666666666666666,\"#ed7953\"],[0.7777777777777778,\"#fb9f3a\"],[0.8888888888888888,\"#fdca26\"],[1.0,\"#f0f921\"]],\"sequentialminus\":[[0.0,\"#0d0887\"],[0.1111111111111111,\"#46039f\"],[0.2222222222222222,\"#7201a8\"],[0.3333333333333333,\"#9c179e\"],[0.4444444444444444,\"#bd3786\"],[0.5555555555555556,\"#d8576b\"],[0.6666666666666666,\"#ed7953\"],[0.7777777777777778,\"#fb9f3a\"],[0.8888888888888888,\"#fdca26\"],[1.0,\"#f0f921\"]],\"diverging\":[[0,\"#8e0152\"],[0.1,\"#c51b7d\"],[0.2,\"#de77ae\"],[0.3,\"#f1b6da\"],[0.4,\"#fde0ef\"],[0.5,\"#f7f7f7\"],[0.6,\"#e6f5d0\"],[0.7,\"#b8e186\"],[0.8,\"#7fbc41\"],[0.9,\"#4d9221\"],[1,\"#276419\"]]},\"xaxis\":{\"gridcolor\":\"white\",\"linecolor\":\"white\",\"ticks\":\"\",\"title\":{\"standoff\":15},\"zerolinecolor\":\"white\",\"automargin\":true,\"zerolinewidth\":2},\"yaxis\":{\"gridcolor\":\"white\",\"linecolor\":\"white\",\"ticks\":\"\",\"title\":{\"standoff\":15},\"zerolinecolor\":\"white\",\"automargin\":true,\"zerolinewidth\":2},\"scene\":{\"xaxis\":{\"backgroundcolor\":\"#E5ECF6\",\"gridcolor\":\"white\",\"linecolor\":\"white\",\"showbackground\":true,\"ticks\":\"\",\"zerolinecolor\":\"white\",\"gridwidth\":2},\"yaxis\":{\"backgroundcolor\":\"#E5ECF6\",\"gridcolor\":\"white\",\"linecolor\":\"white\",\"showbackground\":true,\"ticks\":\"\",\"zerolinecolor\":\"white\",\"gridwidth\":2},\"zaxis\":{\"backgroundcolor\":\"#E5ECF6\",\"gridcolor\":\"white\",\"linecolor\":\"white\",\"showbackground\":true,\"ticks\":\"\",\"zerolinecolor\":\"white\",\"gridwidth\":2}},\"shapedefaults\":{\"line\":{\"color\":\"#2a3f5f\"}},\"annotationdefaults\":{\"arrowcolor\":\"#2a3f5f\",\"arrowhead\":0,\"arrowwidth\":1},\"geo\":{\"bgcolor\":\"white\",\"landcolor\":\"#E5ECF6\",\"subunitcolor\":\"white\",\"showland\":true,\"showlakes\":true,\"lakecolor\":\"white\"},\"title\":{\"x\":0.05},\"mapbox\":{\"style\":\"light\"}}},\"title\":{\"text\":\"Box Plot\"},\"yaxis\":{\"title\":{\"text\":\"Value\"}}},                        {\"responsive\": true}                    ).then(function(){\n",
              "                            \n",
              "var gd = document.getElementById('7ae8aaf9-2955-4826-928c-828d0136dd35');\n",
              "var x = new MutationObserver(function (mutations, observer) {{\n",
              "        var display = window.getComputedStyle(gd).display;\n",
              "        if (!display || display === 'none') {{\n",
              "            console.log([gd, 'removed!']);\n",
              "            Plotly.purge(gd);\n",
              "            observer.disconnect();\n",
              "        }}\n",
              "}});\n",
              "\n",
              "// Listen for the removal of the full notebook cells\n",
              "var notebookContainer = gd.closest('#notebook-container');\n",
              "if (notebookContainer) {{\n",
              "    x.observe(notebookContainer, {childList: true});\n",
              "}}\n",
              "\n",
              "// Listen for the clearing of the current output cell\n",
              "var outputEl = gd.closest('.output');\n",
              "if (outputEl) {{\n",
              "    x.observe(outputEl, {childList: true});\n",
              "}}\n",
              "\n",
              "                        })                };                            </script>        </div>\n",
              "</body>\n",
              "</html>"
            ]
          },
          "metadata": {}
        }
      ]
    },
    {
      "cell_type": "markdown",
      "source": [
        "## **10. Heatmap**\n",
        "A heatmap is useful for visualizing the relationship between two categorical variables using colors. Let's create a heatmap using Plotly.\n",
        "\n",
        "```python\n",
        "import plotly.graph_objects as go\n",
        "\n",
        "# Create data\n",
        "x = ['A', 'B', 'C', 'D']\n",
        "y = ['W', 'X', 'Y', 'Z']\n",
        "z = [[1, 2, 3, 4], [5, 6, 7, 8], [9, 10, 11, 12], [13, 14, 15, 16]]\n",
        "\n",
        "# Create heatmap\n",
        "fig = go.Figure(data=go.Heatmap(x=x, y=y, z=z))\n",
        "\n",
        "# Add title and axis labels\n",
        "fig.update_layout(title='Heatmap', xaxis_title='X-axis', yaxis_title='Y-axis')\n",
        "\n",
        "# Display the plot\n",
        "fig.show()\n",
        "```\n",
        "\n",
        "In the code above, we provide three lists: `x` representing the categories for the x-axis, `y` representing the categories for the y-axis, and `z` representing the corresponding values. We then create a heatmap by passing these lists to the `Heatmap` trace.\n"
      ],
      "metadata": {
        "id": "K5_6AOA8BEKR"
      }
    },
    {
      "cell_type": "code",
      "source": [
        "import plotly.graph_objects as go\n",
        "\n",
        "# Create data\n",
        "x = ['A', 'B', 'C', 'D']\n",
        "y = ['W', 'X', 'Y', 'Z']\n",
        "z = [[1, 2, 3, 4], [5, 6, 7, 8], [9, 10, 11, 12], [13, 14, 15, 16]]\n",
        "\n",
        "# Create heatmap\n",
        "fig = go.Figure(data=go.Heatmap(x=x, y=y, z=z))\n",
        "\n",
        "# Add title and axis labels\n",
        "fig.update_layout(title='Heatmap', xaxis_title='X-axis', yaxis_title='Y-axis')\n",
        "\n",
        "# Display the plot\n",
        "fig.show()"
      ],
      "metadata": {
        "colab": {
          "base_uri": "https://localhost:8080/",
          "height": 542
        },
        "id": "IlyAlf_pBCtm",
        "outputId": "a23a44f9-ef05-4468-923c-b6ce29188a91"
      },
      "execution_count": null,
      "outputs": [
        {
          "output_type": "display_data",
          "data": {
            "text/html": [
              "<html>\n",
              "<head><meta charset=\"utf-8\" /></head>\n",
              "<body>\n",
              "    <div>            <script src=\"https://cdnjs.cloudflare.com/ajax/libs/mathjax/2.7.5/MathJax.js?config=TeX-AMS-MML_SVG\"></script><script type=\"text/javascript\">if (window.MathJax && window.MathJax.Hub && window.MathJax.Hub.Config) {window.MathJax.Hub.Config({SVG: {font: \"STIX-Web\"}});}</script>                <script type=\"text/javascript\">window.PlotlyConfig = {MathJaxConfig: 'local'};</script>\n",
              "        <script src=\"https://cdn.plot.ly/plotly-2.18.2.min.js\"></script>                <div id=\"0bf22375-3da8-44b3-83c4-8eca15e70f50\" class=\"plotly-graph-div\" style=\"height:525px; width:100%;\"></div>            <script type=\"text/javascript\">                                    window.PLOTLYENV=window.PLOTLYENV || {};                                    if (document.getElementById(\"0bf22375-3da8-44b3-83c4-8eca15e70f50\")) {                    Plotly.newPlot(                        \"0bf22375-3da8-44b3-83c4-8eca15e70f50\",                        [{\"x\":[\"A\",\"B\",\"C\",\"D\"],\"y\":[\"W\",\"X\",\"Y\",\"Z\"],\"z\":[[1,2,3,4],[5,6,7,8],[9,10,11,12],[13,14,15,16]],\"type\":\"heatmap\"}],                        {\"template\":{\"data\":{\"histogram2dcontour\":[{\"type\":\"histogram2dcontour\",\"colorbar\":{\"outlinewidth\":0,\"ticks\":\"\"},\"colorscale\":[[0.0,\"#0d0887\"],[0.1111111111111111,\"#46039f\"],[0.2222222222222222,\"#7201a8\"],[0.3333333333333333,\"#9c179e\"],[0.4444444444444444,\"#bd3786\"],[0.5555555555555556,\"#d8576b\"],[0.6666666666666666,\"#ed7953\"],[0.7777777777777778,\"#fb9f3a\"],[0.8888888888888888,\"#fdca26\"],[1.0,\"#f0f921\"]]}],\"choropleth\":[{\"type\":\"choropleth\",\"colorbar\":{\"outlinewidth\":0,\"ticks\":\"\"}}],\"histogram2d\":[{\"type\":\"histogram2d\",\"colorbar\":{\"outlinewidth\":0,\"ticks\":\"\"},\"colorscale\":[[0.0,\"#0d0887\"],[0.1111111111111111,\"#46039f\"],[0.2222222222222222,\"#7201a8\"],[0.3333333333333333,\"#9c179e\"],[0.4444444444444444,\"#bd3786\"],[0.5555555555555556,\"#d8576b\"],[0.6666666666666666,\"#ed7953\"],[0.7777777777777778,\"#fb9f3a\"],[0.8888888888888888,\"#fdca26\"],[1.0,\"#f0f921\"]]}],\"heatmap\":[{\"type\":\"heatmap\",\"colorbar\":{\"outlinewidth\":0,\"ticks\":\"\"},\"colorscale\":[[0.0,\"#0d0887\"],[0.1111111111111111,\"#46039f\"],[0.2222222222222222,\"#7201a8\"],[0.3333333333333333,\"#9c179e\"],[0.4444444444444444,\"#bd3786\"],[0.5555555555555556,\"#d8576b\"],[0.6666666666666666,\"#ed7953\"],[0.7777777777777778,\"#fb9f3a\"],[0.8888888888888888,\"#fdca26\"],[1.0,\"#f0f921\"]]}],\"heatmapgl\":[{\"type\":\"heatmapgl\",\"colorbar\":{\"outlinewidth\":0,\"ticks\":\"\"},\"colorscale\":[[0.0,\"#0d0887\"],[0.1111111111111111,\"#46039f\"],[0.2222222222222222,\"#7201a8\"],[0.3333333333333333,\"#9c179e\"],[0.4444444444444444,\"#bd3786\"],[0.5555555555555556,\"#d8576b\"],[0.6666666666666666,\"#ed7953\"],[0.7777777777777778,\"#fb9f3a\"],[0.8888888888888888,\"#fdca26\"],[1.0,\"#f0f921\"]]}],\"contourcarpet\":[{\"type\":\"contourcarpet\",\"colorbar\":{\"outlinewidth\":0,\"ticks\":\"\"}}],\"contour\":[{\"type\":\"contour\",\"colorbar\":{\"outlinewidth\":0,\"ticks\":\"\"},\"colorscale\":[[0.0,\"#0d0887\"],[0.1111111111111111,\"#46039f\"],[0.2222222222222222,\"#7201a8\"],[0.3333333333333333,\"#9c179e\"],[0.4444444444444444,\"#bd3786\"],[0.5555555555555556,\"#d8576b\"],[0.6666666666666666,\"#ed7953\"],[0.7777777777777778,\"#fb9f3a\"],[0.8888888888888888,\"#fdca26\"],[1.0,\"#f0f921\"]]}],\"surface\":[{\"type\":\"surface\",\"colorbar\":{\"outlinewidth\":0,\"ticks\":\"\"},\"colorscale\":[[0.0,\"#0d0887\"],[0.1111111111111111,\"#46039f\"],[0.2222222222222222,\"#7201a8\"],[0.3333333333333333,\"#9c179e\"],[0.4444444444444444,\"#bd3786\"],[0.5555555555555556,\"#d8576b\"],[0.6666666666666666,\"#ed7953\"],[0.7777777777777778,\"#fb9f3a\"],[0.8888888888888888,\"#fdca26\"],[1.0,\"#f0f921\"]]}],\"mesh3d\":[{\"type\":\"mesh3d\",\"colorbar\":{\"outlinewidth\":0,\"ticks\":\"\"}}],\"scatter\":[{\"fillpattern\":{\"fillmode\":\"overlay\",\"size\":10,\"solidity\":0.2},\"type\":\"scatter\"}],\"parcoords\":[{\"type\":\"parcoords\",\"line\":{\"colorbar\":{\"outlinewidth\":0,\"ticks\":\"\"}}}],\"scatterpolargl\":[{\"type\":\"scatterpolargl\",\"marker\":{\"colorbar\":{\"outlinewidth\":0,\"ticks\":\"\"}}}],\"bar\":[{\"error_x\":{\"color\":\"#2a3f5f\"},\"error_y\":{\"color\":\"#2a3f5f\"},\"marker\":{\"line\":{\"color\":\"#E5ECF6\",\"width\":0.5},\"pattern\":{\"fillmode\":\"overlay\",\"size\":10,\"solidity\":0.2}},\"type\":\"bar\"}],\"scattergeo\":[{\"type\":\"scattergeo\",\"marker\":{\"colorbar\":{\"outlinewidth\":0,\"ticks\":\"\"}}}],\"scatterpolar\":[{\"type\":\"scatterpolar\",\"marker\":{\"colorbar\":{\"outlinewidth\":0,\"ticks\":\"\"}}}],\"histogram\":[{\"marker\":{\"pattern\":{\"fillmode\":\"overlay\",\"size\":10,\"solidity\":0.2}},\"type\":\"histogram\"}],\"scattergl\":[{\"type\":\"scattergl\",\"marker\":{\"colorbar\":{\"outlinewidth\":0,\"ticks\":\"\"}}}],\"scatter3d\":[{\"type\":\"scatter3d\",\"line\":{\"colorbar\":{\"outlinewidth\":0,\"ticks\":\"\"}},\"marker\":{\"colorbar\":{\"outlinewidth\":0,\"ticks\":\"\"}}}],\"scattermapbox\":[{\"type\":\"scattermapbox\",\"marker\":{\"colorbar\":{\"outlinewidth\":0,\"ticks\":\"\"}}}],\"scatterternary\":[{\"type\":\"scatterternary\",\"marker\":{\"colorbar\":{\"outlinewidth\":0,\"ticks\":\"\"}}}],\"scattercarpet\":[{\"type\":\"scattercarpet\",\"marker\":{\"colorbar\":{\"outlinewidth\":0,\"ticks\":\"\"}}}],\"carpet\":[{\"aaxis\":{\"endlinecolor\":\"#2a3f5f\",\"gridcolor\":\"white\",\"linecolor\":\"white\",\"minorgridcolor\":\"white\",\"startlinecolor\":\"#2a3f5f\"},\"baxis\":{\"endlinecolor\":\"#2a3f5f\",\"gridcolor\":\"white\",\"linecolor\":\"white\",\"minorgridcolor\":\"white\",\"startlinecolor\":\"#2a3f5f\"},\"type\":\"carpet\"}],\"table\":[{\"cells\":{\"fill\":{\"color\":\"#EBF0F8\"},\"line\":{\"color\":\"white\"}},\"header\":{\"fill\":{\"color\":\"#C8D4E3\"},\"line\":{\"color\":\"white\"}},\"type\":\"table\"}],\"barpolar\":[{\"marker\":{\"line\":{\"color\":\"#E5ECF6\",\"width\":0.5},\"pattern\":{\"fillmode\":\"overlay\",\"size\":10,\"solidity\":0.2}},\"type\":\"barpolar\"}],\"pie\":[{\"automargin\":true,\"type\":\"pie\"}]},\"layout\":{\"autotypenumbers\":\"strict\",\"colorway\":[\"#636efa\",\"#EF553B\",\"#00cc96\",\"#ab63fa\",\"#FFA15A\",\"#19d3f3\",\"#FF6692\",\"#B6E880\",\"#FF97FF\",\"#FECB52\"],\"font\":{\"color\":\"#2a3f5f\"},\"hovermode\":\"closest\",\"hoverlabel\":{\"align\":\"left\"},\"paper_bgcolor\":\"white\",\"plot_bgcolor\":\"#E5ECF6\",\"polar\":{\"bgcolor\":\"#E5ECF6\",\"angularaxis\":{\"gridcolor\":\"white\",\"linecolor\":\"white\",\"ticks\":\"\"},\"radialaxis\":{\"gridcolor\":\"white\",\"linecolor\":\"white\",\"ticks\":\"\"}},\"ternary\":{\"bgcolor\":\"#E5ECF6\",\"aaxis\":{\"gridcolor\":\"white\",\"linecolor\":\"white\",\"ticks\":\"\"},\"baxis\":{\"gridcolor\":\"white\",\"linecolor\":\"white\",\"ticks\":\"\"},\"caxis\":{\"gridcolor\":\"white\",\"linecolor\":\"white\",\"ticks\":\"\"}},\"coloraxis\":{\"colorbar\":{\"outlinewidth\":0,\"ticks\":\"\"}},\"colorscale\":{\"sequential\":[[0.0,\"#0d0887\"],[0.1111111111111111,\"#46039f\"],[0.2222222222222222,\"#7201a8\"],[0.3333333333333333,\"#9c179e\"],[0.4444444444444444,\"#bd3786\"],[0.5555555555555556,\"#d8576b\"],[0.6666666666666666,\"#ed7953\"],[0.7777777777777778,\"#fb9f3a\"],[0.8888888888888888,\"#fdca26\"],[1.0,\"#f0f921\"]],\"sequentialminus\":[[0.0,\"#0d0887\"],[0.1111111111111111,\"#46039f\"],[0.2222222222222222,\"#7201a8\"],[0.3333333333333333,\"#9c179e\"],[0.4444444444444444,\"#bd3786\"],[0.5555555555555556,\"#d8576b\"],[0.6666666666666666,\"#ed7953\"],[0.7777777777777778,\"#fb9f3a\"],[0.8888888888888888,\"#fdca26\"],[1.0,\"#f0f921\"]],\"diverging\":[[0,\"#8e0152\"],[0.1,\"#c51b7d\"],[0.2,\"#de77ae\"],[0.3,\"#f1b6da\"],[0.4,\"#fde0ef\"],[0.5,\"#f7f7f7\"],[0.6,\"#e6f5d0\"],[0.7,\"#b8e186\"],[0.8,\"#7fbc41\"],[0.9,\"#4d9221\"],[1,\"#276419\"]]},\"xaxis\":{\"gridcolor\":\"white\",\"linecolor\":\"white\",\"ticks\":\"\",\"title\":{\"standoff\":15},\"zerolinecolor\":\"white\",\"automargin\":true,\"zerolinewidth\":2},\"yaxis\":{\"gridcolor\":\"white\",\"linecolor\":\"white\",\"ticks\":\"\",\"title\":{\"standoff\":15},\"zerolinecolor\":\"white\",\"automargin\":true,\"zerolinewidth\":2},\"scene\":{\"xaxis\":{\"backgroundcolor\":\"#E5ECF6\",\"gridcolor\":\"white\",\"linecolor\":\"white\",\"showbackground\":true,\"ticks\":\"\",\"zerolinecolor\":\"white\",\"gridwidth\":2},\"yaxis\":{\"backgroundcolor\":\"#E5ECF6\",\"gridcolor\":\"white\",\"linecolor\":\"white\",\"showbackground\":true,\"ticks\":\"\",\"zerolinecolor\":\"white\",\"gridwidth\":2},\"zaxis\":{\"backgroundcolor\":\"#E5ECF6\",\"gridcolor\":\"white\",\"linecolor\":\"white\",\"showbackground\":true,\"ticks\":\"\",\"zerolinecolor\":\"white\",\"gridwidth\":2}},\"shapedefaults\":{\"line\":{\"color\":\"#2a3f5f\"}},\"annotationdefaults\":{\"arrowcolor\":\"#2a3f5f\",\"arrowhead\":0,\"arrowwidth\":1},\"geo\":{\"bgcolor\":\"white\",\"landcolor\":\"#E5ECF6\",\"subunitcolor\":\"white\",\"showland\":true,\"showlakes\":true,\"lakecolor\":\"white\"},\"title\":{\"x\":0.05},\"mapbox\":{\"style\":\"light\"}}},\"title\":{\"text\":\"Heatmap\"},\"xaxis\":{\"title\":{\"text\":\"X-axis\"}},\"yaxis\":{\"title\":{\"text\":\"Y-axis\"}}},                        {\"responsive\": true}                    ).then(function(){\n",
              "                            \n",
              "var gd = document.getElementById('0bf22375-3da8-44b3-83c4-8eca15e70f50');\n",
              "var x = new MutationObserver(function (mutations, observer) {{\n",
              "        var display = window.getComputedStyle(gd).display;\n",
              "        if (!display || display === 'none') {{\n",
              "            console.log([gd, 'removed!']);\n",
              "            Plotly.purge(gd);\n",
              "            observer.disconnect();\n",
              "        }}\n",
              "}});\n",
              "\n",
              "// Listen for the removal of the full notebook cells\n",
              "var notebookContainer = gd.closest('#notebook-container');\n",
              "if (notebookContainer) {{\n",
              "    x.observe(notebookContainer, {childList: true});\n",
              "}}\n",
              "\n",
              "// Listen for the clearing of the current output cell\n",
              "var outputEl = gd.closest('.output');\n",
              "if (outputEl) {{\n",
              "    x.observe(outputEl, {childList: true});\n",
              "}}\n",
              "\n",
              "                        })                };                            </script>        </div>\n",
              "</body>\n",
              "</html>"
            ]
          },
          "metadata": {}
        }
      ]
    },
    {
      "cell_type": "markdown",
      "source": [
        "\n",
        "## **11. 3D Plotting**\n",
        "Plotly also supports 3D plotting, which is useful for visualizing three-dimensional data. Let's create a 3D scatter plot using Plotly.\n",
        "\n",
        "```python\n",
        "import plotly.graph_objects as go\n",
        "import numpy as np\n",
        "\n",
        "# Create random data\n",
        "np.random.seed(0)\n",
        "x = np.random.randn(100)\n",
        "y = np.random.randn(100)\n",
        "z = np.random.randn(100)\n",
        "\n",
        "# Create 3D scatter plot\n",
        "fig = go.Figure(data=go.Scatter3d(x=x, y=y, z=z, mode='markers'))\n",
        "\n",
        "# Add title and axis labels\n",
        "fig.update_layout(title='3D Scatter Plot', scene=dict(xaxis_title='X-axis', yaxis_title='Y-axis', zaxis_title='Z-axis'))\n",
        "\n",
        "# Display the plot\n",
        "fig.show()\n",
        "```\n",
        "\n",
        "In the code above, we generate random data using NumPy's `random.randn()` function for the x, y, and z coordinates. We then create a 3D scatter plot by passing these coordinates to the `Scatter3d` trace.\n",
        "\n"
      ],
      "metadata": {
        "id": "hnvJYgbZAxp-"
      }
    },
    {
      "cell_type": "code",
      "source": [
        "import plotly.graph_objects as go\n",
        "import numpy as np\n",
        "\n",
        "# Create random data\n",
        "np.random.seed(0)\n",
        "x = np.random.randn(100)\n",
        "y = np.random.randn(100)\n",
        "z = np.random.randn(100)\n",
        "\n",
        "# Create 3D scatter plot\n",
        "fig = go.Figure(data=go.Scatter3d(x=x, y=y, z=z, mode='markers'))\n",
        "\n",
        "# Add title and axis labels\n",
        "fig.update_layout(title='3D Scatter Plot', scene=dict(xaxis_title='X-axis', yaxis_title='Y-axis', zaxis_title='Z-axis'))\n",
        "\n",
        "# Display the plot\n",
        "fig.show()"
      ],
      "metadata": {
        "colab": {
          "base_uri": "https://localhost:8080/",
          "height": 542
        },
        "id": "q4duK1GV8d_o",
        "outputId": "6408366d-bafb-4f3b-c03b-a89f123ca1ee"
      },
      "execution_count": null,
      "outputs": [
        {
          "output_type": "display_data",
          "data": {
            "text/html": [
              "<html>\n",
              "<head><meta charset=\"utf-8\" /></head>\n",
              "<body>\n",
              "    <div>            <script src=\"https://cdnjs.cloudflare.com/ajax/libs/mathjax/2.7.5/MathJax.js?config=TeX-AMS-MML_SVG\"></script><script type=\"text/javascript\">if (window.MathJax && window.MathJax.Hub && window.MathJax.Hub.Config) {window.MathJax.Hub.Config({SVG: {font: \"STIX-Web\"}});}</script>                <script type=\"text/javascript\">window.PlotlyConfig = {MathJaxConfig: 'local'};</script>\n",
              "        <script src=\"https://cdn.plot.ly/plotly-2.18.2.min.js\"></script>                <div id=\"40419e50-57db-490f-b06a-58fb1a377240\" class=\"plotly-graph-div\" style=\"height:525px; width:100%;\"></div>            <script type=\"text/javascript\">                                    window.PLOTLYENV=window.PLOTLYENV || {};                                    if (document.getElementById(\"40419e50-57db-490f-b06a-58fb1a377240\")) {                    Plotly.newPlot(                        \"40419e50-57db-490f-b06a-58fb1a377240\",                        [{\"mode\":\"markers\",\"x\":[1.764052345967664,0.4001572083672233,0.9787379841057392,2.240893199201458,1.8675579901499675,-0.977277879876411,0.9500884175255894,-0.1513572082976979,-0.10321885179355784,0.41059850193837233,0.144043571160878,1.454273506962975,0.7610377251469934,0.12167501649282841,0.44386323274542566,0.33367432737426683,1.4940790731576061,-0.20515826376580087,0.31306770165090136,-0.8540957393017248,-2.5529898158340787,0.6536185954403606,0.8644361988595057,-0.7421650204064419,2.2697546239876076,-1.4543656745987648,0.04575851730144607,-0.1871838500258336,1.5327792143584575,1.469358769900285,0.1549474256969163,0.37816251960217356,-0.8877857476301128,-1.980796468223927,-0.3479121493261526,0.15634896910398005,1.2302906807277207,1.2023798487844113,-0.3873268174079523,-0.30230275057533557,-1.0485529650670926,-1.4200179371789752,-1.7062701906250126,1.9507753952317897,-0.5096521817516535,-0.4380743016111864,-1.2527953600499262,0.7774903558319101,-1.6138978475579515,-0.2127402802139687,-0.8954665611936756,0.386902497859262,-0.510805137568873,-1.180632184122412,-0.028182228338654868,0.42833187053041766,0.06651722238316789,0.3024718977397814,-0.6343220936809636,-0.3627411659871381,-0.672460447775951,-0.3595531615405413,-0.813146282044454,-1.7262826023316769,0.17742614225375283,-0.4017809362082619,-1.6301983469660446,0.4627822555257742,-0.9072983643832422,0.05194539579613895,0.7290905621775369,0.12898291075741067,1.1394006845433007,-1.2348258203536526,0.402341641177549,-0.6848100909403132,-0.8707971491818818,-0.5788496647644155,-0.31155253212737266,0.05616534222974544,-1.1651498407833565,0.9008264869541871,0.46566243973045984,-1.5362436862772237,1.4882521937955997,1.8958891760305832,1.1787795711596507,-0.17992483581235091,-1.0707526215105425,1.0544517269311366,-0.40317694697317963,1.2224450703824274,0.2082749780768603,0.9766390364837128,0.3563663971744019,0.7065731681919482,0.010500020720820478,1.7858704939058352,0.12691209270361992,0.40198936344470165],\"y\":[1.8831506970562544,-1.3477590611424464,-1.2704849984857336,0.9693967081580112,-1.17312340511416,1.9436211856492926,-0.41361898075974735,-0.7474548114407578,1.9229420264803847,1.4805147914344243,1.8675589604265699,0.9060446582753853,-0.8612256850547025,1.9100649530990337,-0.2680033709513804,0.8024563957963952,0.947251967773748,-0.1550100930908342,0.6140793703460803,0.9222066715665268,0.37642553115562943,-1.0994007905841945,0.298238174206056,1.3263858966870303,-0.6945678597313655,-0.14963454032767076,-0.43515355172163744,1.8492637284793418,0.6722947570124355,0.40746183624111043,-0.7699160744453164,0.5392491912918173,-0.6743326606573761,0.03183055827435118,-0.635846078378881,0.6764332949464997,0.5765908166149409,-0.20829875557799488,0.3960067126616453,-1.0930615087305058,-1.4912575927056055,0.4393917012645369,0.16667349537252904,0.6350314368921064,2.383144774863942,0.9444794869904138,-0.9128222254441586,1.117016288095853,-1.3159074105115212,-0.461584604814709,-0.06824160532463124,1.7133427216493666,-0.7447548220484399,-0.8264385386590144,-0.0984525244254323,-0.6634782863621074,1.126635922106507,-1.0799315083634233,-1.1474686524111024,-0.43782004474443403,-0.4980324506923049,1.9295320538169858,0.9494208069257608,0.0875512413851909,-1.225435518830168,0.8443629764015471,-1.0002153473895647,-1.5447710967776116,1.1880297923523018,0.3169426119248496,0.920858823780819,0.3187276529430212,0.8568306119026912,-0.6510255933001469,-1.0342428417844647,0.681594518281627,-0.8034096641738411,-0.6895497777502005,-0.45553250351734315,0.01747915902505673,-0.35399391125348395,-1.3749512934180188,-0.6436184028328905,-2.2234031522244266,0.6252314510271875,-1.6020576556067476,-1.1043833394284506,0.052165079260974405,-0.7395629963913133,1.5430145954067358,-1.2928569097234486,0.26705086934918293,-0.0392828182274956,-1.1680934977411974,0.5232766605317537,-0.1715463312222481,0.7717905512136674,0.8235041539637314,2.16323594928069,1.336527949436392],\"z\":[-0.3691818379424436,-0.2393791775759264,1.0996595958871132,0.6552637307225978,0.640131526097592,-1.6169560443108344,-0.024326124398935636,-0.7380309092056887,0.27992459904323824,-0.09815038964295794,0.9101789080925919,0.31721821519130206,0.7863279621089762,-0.46641909673594306,-0.9444462559182504,-0.41004969320254847,-0.017020413861440594,0.3791517355550818,2.259308950690852,-0.04225715166064269,-0.955945000492777,-0.34598177569938643,-0.4635959746460942,0.4814814737734622,-1.5407970144446248,0.06326199420033171,0.1565065379653756,0.23218103620027578,-0.5973160689653627,-0.237921729736007,-1.4240609089825316,-0.49331988336219407,-0.5428614760167177,0.4160500462614255,-1.1561824318219127,0.7811981017099934,1.4944845444913688,-2.0699850250135325,0.42625873077810095,0.6769080350302455,-0.637437025552229,-0.39727181432879766,-0.13288057758695562,-0.2977908794017283,-0.3090129690471222,-1.6760038063299767,1.15233156478312,1.079618592036821,-0.8133642592042029,-1.466424327802514,0.5210648764527586,-0.5757879698130661,0.14195316332077967,-0.3193284171450952,0.6915387510701866,0.6947491436560059,-0.7255973784635843,-1.3833639553950554,-1.582938397335082,0.6103793791072052,-1.188859257784029,-0.5068163542986875,-0.5963140384505081,-0.05256729626954629,-1.936279805846507,0.18877859679382855,0.5238910238342056,0.08842208704466141,-0.3108861716984717,0.09740016626878341,0.3990463456401302,-2.77259275642665,1.9559123082506942,0.39009332268792646,-0.65240858238702,-0.3909533751876011,0.49374177734918845,-0.11610393903436653,-2.0306844677814944,2.0644928613593194,-0.11054065723247261,1.0201727117157997,-0.6920498477843912,1.5363770542457977,0.28634368889227957,0.6088438344754508,-1.0452533661469547,1.2111452896827009,0.6898181645347884,1.3018462295649984,-0.6280875596415789,-0.4810271184607877,2.303916697683942,-1.0600158227215473,-0.13594970067832082,1.1368913626026953,0.0977249677148556,0.5829536797532936,-0.3994490292628752,0.37005588784751875],\"type\":\"scatter3d\"}],                        {\"template\":{\"data\":{\"histogram2dcontour\":[{\"type\":\"histogram2dcontour\",\"colorbar\":{\"outlinewidth\":0,\"ticks\":\"\"},\"colorscale\":[[0.0,\"#0d0887\"],[0.1111111111111111,\"#46039f\"],[0.2222222222222222,\"#7201a8\"],[0.3333333333333333,\"#9c179e\"],[0.4444444444444444,\"#bd3786\"],[0.5555555555555556,\"#d8576b\"],[0.6666666666666666,\"#ed7953\"],[0.7777777777777778,\"#fb9f3a\"],[0.8888888888888888,\"#fdca26\"],[1.0,\"#f0f921\"]]}],\"choropleth\":[{\"type\":\"choropleth\",\"colorbar\":{\"outlinewidth\":0,\"ticks\":\"\"}}],\"histogram2d\":[{\"type\":\"histogram2d\",\"colorbar\":{\"outlinewidth\":0,\"ticks\":\"\"},\"colorscale\":[[0.0,\"#0d0887\"],[0.1111111111111111,\"#46039f\"],[0.2222222222222222,\"#7201a8\"],[0.3333333333333333,\"#9c179e\"],[0.4444444444444444,\"#bd3786\"],[0.5555555555555556,\"#d8576b\"],[0.6666666666666666,\"#ed7953\"],[0.7777777777777778,\"#fb9f3a\"],[0.8888888888888888,\"#fdca26\"],[1.0,\"#f0f921\"]]}],\"heatmap\":[{\"type\":\"heatmap\",\"colorbar\":{\"outlinewidth\":0,\"ticks\":\"\"},\"colorscale\":[[0.0,\"#0d0887\"],[0.1111111111111111,\"#46039f\"],[0.2222222222222222,\"#7201a8\"],[0.3333333333333333,\"#9c179e\"],[0.4444444444444444,\"#bd3786\"],[0.5555555555555556,\"#d8576b\"],[0.6666666666666666,\"#ed7953\"],[0.7777777777777778,\"#fb9f3a\"],[0.8888888888888888,\"#fdca26\"],[1.0,\"#f0f921\"]]}],\"heatmapgl\":[{\"type\":\"heatmapgl\",\"colorbar\":{\"outlinewidth\":0,\"ticks\":\"\"},\"colorscale\":[[0.0,\"#0d0887\"],[0.1111111111111111,\"#46039f\"],[0.2222222222222222,\"#7201a8\"],[0.3333333333333333,\"#9c179e\"],[0.4444444444444444,\"#bd3786\"],[0.5555555555555556,\"#d8576b\"],[0.6666666666666666,\"#ed7953\"],[0.7777777777777778,\"#fb9f3a\"],[0.8888888888888888,\"#fdca26\"],[1.0,\"#f0f921\"]]}],\"contourcarpet\":[{\"type\":\"contourcarpet\",\"colorbar\":{\"outlinewidth\":0,\"ticks\":\"\"}}],\"contour\":[{\"type\":\"contour\",\"colorbar\":{\"outlinewidth\":0,\"ticks\":\"\"},\"colorscale\":[[0.0,\"#0d0887\"],[0.1111111111111111,\"#46039f\"],[0.2222222222222222,\"#7201a8\"],[0.3333333333333333,\"#9c179e\"],[0.4444444444444444,\"#bd3786\"],[0.5555555555555556,\"#d8576b\"],[0.6666666666666666,\"#ed7953\"],[0.7777777777777778,\"#fb9f3a\"],[0.8888888888888888,\"#fdca26\"],[1.0,\"#f0f921\"]]}],\"surface\":[{\"type\":\"surface\",\"colorbar\":{\"outlinewidth\":0,\"ticks\":\"\"},\"colorscale\":[[0.0,\"#0d0887\"],[0.1111111111111111,\"#46039f\"],[0.2222222222222222,\"#7201a8\"],[0.3333333333333333,\"#9c179e\"],[0.4444444444444444,\"#bd3786\"],[0.5555555555555556,\"#d8576b\"],[0.6666666666666666,\"#ed7953\"],[0.7777777777777778,\"#fb9f3a\"],[0.8888888888888888,\"#fdca26\"],[1.0,\"#f0f921\"]]}],\"mesh3d\":[{\"type\":\"mesh3d\",\"colorbar\":{\"outlinewidth\":0,\"ticks\":\"\"}}],\"scatter\":[{\"fillpattern\":{\"fillmode\":\"overlay\",\"size\":10,\"solidity\":0.2},\"type\":\"scatter\"}],\"parcoords\":[{\"type\":\"parcoords\",\"line\":{\"colorbar\":{\"outlinewidth\":0,\"ticks\":\"\"}}}],\"scatterpolargl\":[{\"type\":\"scatterpolargl\",\"marker\":{\"colorbar\":{\"outlinewidth\":0,\"ticks\":\"\"}}}],\"bar\":[{\"error_x\":{\"color\":\"#2a3f5f\"},\"error_y\":{\"color\":\"#2a3f5f\"},\"marker\":{\"line\":{\"color\":\"#E5ECF6\",\"width\":0.5},\"pattern\":{\"fillmode\":\"overlay\",\"size\":10,\"solidity\":0.2}},\"type\":\"bar\"}],\"scattergeo\":[{\"type\":\"scattergeo\",\"marker\":{\"colorbar\":{\"outlinewidth\":0,\"ticks\":\"\"}}}],\"scatterpolar\":[{\"type\":\"scatterpolar\",\"marker\":{\"colorbar\":{\"outlinewidth\":0,\"ticks\":\"\"}}}],\"histogram\":[{\"marker\":{\"pattern\":{\"fillmode\":\"overlay\",\"size\":10,\"solidity\":0.2}},\"type\":\"histogram\"}],\"scattergl\":[{\"type\":\"scattergl\",\"marker\":{\"colorbar\":{\"outlinewidth\":0,\"ticks\":\"\"}}}],\"scatter3d\":[{\"type\":\"scatter3d\",\"line\":{\"colorbar\":{\"outlinewidth\":0,\"ticks\":\"\"}},\"marker\":{\"colorbar\":{\"outlinewidth\":0,\"ticks\":\"\"}}}],\"scattermapbox\":[{\"type\":\"scattermapbox\",\"marker\":{\"colorbar\":{\"outlinewidth\":0,\"ticks\":\"\"}}}],\"scatterternary\":[{\"type\":\"scatterternary\",\"marker\":{\"colorbar\":{\"outlinewidth\":0,\"ticks\":\"\"}}}],\"scattercarpet\":[{\"type\":\"scattercarpet\",\"marker\":{\"colorbar\":{\"outlinewidth\":0,\"ticks\":\"\"}}}],\"carpet\":[{\"aaxis\":{\"endlinecolor\":\"#2a3f5f\",\"gridcolor\":\"white\",\"linecolor\":\"white\",\"minorgridcolor\":\"white\",\"startlinecolor\":\"#2a3f5f\"},\"baxis\":{\"endlinecolor\":\"#2a3f5f\",\"gridcolor\":\"white\",\"linecolor\":\"white\",\"minorgridcolor\":\"white\",\"startlinecolor\":\"#2a3f5f\"},\"type\":\"carpet\"}],\"table\":[{\"cells\":{\"fill\":{\"color\":\"#EBF0F8\"},\"line\":{\"color\":\"white\"}},\"header\":{\"fill\":{\"color\":\"#C8D4E3\"},\"line\":{\"color\":\"white\"}},\"type\":\"table\"}],\"barpolar\":[{\"marker\":{\"line\":{\"color\":\"#E5ECF6\",\"width\":0.5},\"pattern\":{\"fillmode\":\"overlay\",\"size\":10,\"solidity\":0.2}},\"type\":\"barpolar\"}],\"pie\":[{\"automargin\":true,\"type\":\"pie\"}]},\"layout\":{\"autotypenumbers\":\"strict\",\"colorway\":[\"#636efa\",\"#EF553B\",\"#00cc96\",\"#ab63fa\",\"#FFA15A\",\"#19d3f3\",\"#FF6692\",\"#B6E880\",\"#FF97FF\",\"#FECB52\"],\"font\":{\"color\":\"#2a3f5f\"},\"hovermode\":\"closest\",\"hoverlabel\":{\"align\":\"left\"},\"paper_bgcolor\":\"white\",\"plot_bgcolor\":\"#E5ECF6\",\"polar\":{\"bgcolor\":\"#E5ECF6\",\"angularaxis\":{\"gridcolor\":\"white\",\"linecolor\":\"white\",\"ticks\":\"\"},\"radialaxis\":{\"gridcolor\":\"white\",\"linecolor\":\"white\",\"ticks\":\"\"}},\"ternary\":{\"bgcolor\":\"#E5ECF6\",\"aaxis\":{\"gridcolor\":\"white\",\"linecolor\":\"white\",\"ticks\":\"\"},\"baxis\":{\"gridcolor\":\"white\",\"linecolor\":\"white\",\"ticks\":\"\"},\"caxis\":{\"gridcolor\":\"white\",\"linecolor\":\"white\",\"ticks\":\"\"}},\"coloraxis\":{\"colorbar\":{\"outlinewidth\":0,\"ticks\":\"\"}},\"colorscale\":{\"sequential\":[[0.0,\"#0d0887\"],[0.1111111111111111,\"#46039f\"],[0.2222222222222222,\"#7201a8\"],[0.3333333333333333,\"#9c179e\"],[0.4444444444444444,\"#bd3786\"],[0.5555555555555556,\"#d8576b\"],[0.6666666666666666,\"#ed7953\"],[0.7777777777777778,\"#fb9f3a\"],[0.8888888888888888,\"#fdca26\"],[1.0,\"#f0f921\"]],\"sequentialminus\":[[0.0,\"#0d0887\"],[0.1111111111111111,\"#46039f\"],[0.2222222222222222,\"#7201a8\"],[0.3333333333333333,\"#9c179e\"],[0.4444444444444444,\"#bd3786\"],[0.5555555555555556,\"#d8576b\"],[0.6666666666666666,\"#ed7953\"],[0.7777777777777778,\"#fb9f3a\"],[0.8888888888888888,\"#fdca26\"],[1.0,\"#f0f921\"]],\"diverging\":[[0,\"#8e0152\"],[0.1,\"#c51b7d\"],[0.2,\"#de77ae\"],[0.3,\"#f1b6da\"],[0.4,\"#fde0ef\"],[0.5,\"#f7f7f7\"],[0.6,\"#e6f5d0\"],[0.7,\"#b8e186\"],[0.8,\"#7fbc41\"],[0.9,\"#4d9221\"],[1,\"#276419\"]]},\"xaxis\":{\"gridcolor\":\"white\",\"linecolor\":\"white\",\"ticks\":\"\",\"title\":{\"standoff\":15},\"zerolinecolor\":\"white\",\"automargin\":true,\"zerolinewidth\":2},\"yaxis\":{\"gridcolor\":\"white\",\"linecolor\":\"white\",\"ticks\":\"\",\"title\":{\"standoff\":15},\"zerolinecolor\":\"white\",\"automargin\":true,\"zerolinewidth\":2},\"scene\":{\"xaxis\":{\"backgroundcolor\":\"#E5ECF6\",\"gridcolor\":\"white\",\"linecolor\":\"white\",\"showbackground\":true,\"ticks\":\"\",\"zerolinecolor\":\"white\",\"gridwidth\":2},\"yaxis\":{\"backgroundcolor\":\"#E5ECF6\",\"gridcolor\":\"white\",\"linecolor\":\"white\",\"showbackground\":true,\"ticks\":\"\",\"zerolinecolor\":\"white\",\"gridwidth\":2},\"zaxis\":{\"backgroundcolor\":\"#E5ECF6\",\"gridcolor\":\"white\",\"linecolor\":\"white\",\"showbackground\":true,\"ticks\":\"\",\"zerolinecolor\":\"white\",\"gridwidth\":2}},\"shapedefaults\":{\"line\":{\"color\":\"#2a3f5f\"}},\"annotationdefaults\":{\"arrowcolor\":\"#2a3f5f\",\"arrowhead\":0,\"arrowwidth\":1},\"geo\":{\"bgcolor\":\"white\",\"landcolor\":\"#E5ECF6\",\"subunitcolor\":\"white\",\"showland\":true,\"showlakes\":true,\"lakecolor\":\"white\"},\"title\":{\"x\":0.05},\"mapbox\":{\"style\":\"light\"}}},\"title\":{\"text\":\"3D Scatter Plot\"},\"scene\":{\"xaxis\":{\"title\":{\"text\":\"X-axis\"}},\"yaxis\":{\"title\":{\"text\":\"Y-axis\"}},\"zaxis\":{\"title\":{\"text\":\"Z-axis\"}}}},                        {\"responsive\": true}                    ).then(function(){\n",
              "                            \n",
              "var gd = document.getElementById('40419e50-57db-490f-b06a-58fb1a377240');\n",
              "var x = new MutationObserver(function (mutations, observer) {{\n",
              "        var display = window.getComputedStyle(gd).display;\n",
              "        if (!display || display === 'none') {{\n",
              "            console.log([gd, 'removed!']);\n",
              "            Plotly.purge(gd);\n",
              "            observer.disconnect();\n",
              "        }}\n",
              "}});\n",
              "\n",
              "// Listen for the removal of the full notebook cells\n",
              "var notebookContainer = gd.closest('#notebook-container');\n",
              "if (notebookContainer) {{\n",
              "    x.observe(notebookContainer, {childList: true});\n",
              "}}\n",
              "\n",
              "// Listen for the clearing of the current output cell\n",
              "var outputEl = gd.closest('.output');\n",
              "if (outputEl) {{\n",
              "    x.observe(outputEl, {childList: true});\n",
              "}}\n",
              "\n",
              "                        })                };                            </script>        </div>\n",
              "</body>\n",
              "</html>"
            ]
          },
          "metadata": {}
        }
      ]
    },
    {
      "cell_type": "markdown",
      "source": [
        "## **12. Interactive Dashboards**\n",
        "Plotly can be used to create interactive dashboards that allow users to explore and analyze data. Let's create a simple interactive dashboard using Plotly's `Dash` library.\n",
        "\n",
        "```python\n",
        "import dash\n",
        "import dash_core_components as dcc\n",
        "import dash_html_components as html\n",
        "\n",
        "# Initialize the app\n",
        "app = dash.Dash(__name__)\n",
        "\n",
        "# Define the layout\n",
        "app.layout = html.Div(children=[\n",
        "    html.H1('Interactive Dashboard'),\n",
        "    dcc.Graph(\n",
        "        id='example-graph',\n",
        "        figure={\n",
        "            'data': [\n",
        "                {'x': [1, 2, 3], 'y': [4, 1, 2], 'type': 'bar', 'name': 'Category 1'},\n",
        "                {'x': [1, 2, 3], 'y': [2, 4, 5], 'type': 'bar', 'name': 'Category 2'},\n",
        "            ],\n",
        "            'layout': {\n",
        "                'title': 'Bar Chart',\n",
        "                'xaxis': {'title': 'X-axis'},\n",
        "                'yaxis': {'title': 'Y-axis'},\n",
        "            }\n",
        "        }\n",
        "    )\n",
        "])\n",
        "\n",
        "# Run the app\n",
        "if __name__ == '__main__':\n",
        "    app.run_server(debug=True)\n",
        "```\n",
        "\n",
        "In the code above, we import the necessary modules from `dash` to create the app and define the layout. We create a simple dashboard with a title and a bar chart using `dcc.Graph`. The layout of the chart is defined within the `figure` dictionary.\n",
        "\n",
        "To run the app, save the code in a Python file (e.g., `dashboard.py`) and execute it in your terminal or command prompt using the command `python dashboard.py`.\n"
      ],
      "metadata": {
        "id": "EmfOkl60Al4v"
      }
    },
    {
      "cell_type": "code",
      "source": [
        "pip install dash"
      ],
      "metadata": {
        "colab": {
          "base_uri": "https://localhost:8080/"
        },
        "id": "r6uZb5yqFn5d",
        "outputId": "1cd3630b-dbc9-4b72-8f94-dd2d6654ea8d"
      },
      "execution_count": null,
      "outputs": [
        {
          "output_type": "stream",
          "name": "stdout",
          "text": [
            "Looking in indexes: https://pypi.org/simple, https://us-python.pkg.dev/colab-wheels/public/simple/\n",
            "Collecting dash\n",
            "  Downloading dash-2.10.0-py3-none-any.whl (10.3 MB)\n",
            "\u001b[2K     \u001b[90m━━━━━━━━━━━━━━━━━━━━━━━━━━━━━━━━━━━━━━━━\u001b[0m \u001b[32m10.3/10.3 MB\u001b[0m \u001b[31m79.4 MB/s\u001b[0m eta \u001b[36m0:00:00\u001b[0m\n",
            "\u001b[?25hCollecting Flask<=2.2.3,>=1.0.4 (from dash)\n",
            "  Downloading Flask-2.2.3-py3-none-any.whl (101 kB)\n",
            "\u001b[2K     \u001b[90m━━━━━━━━━━━━━━━━━━━━━━━━━━━━━━━━━━━━━━\u001b[0m \u001b[32m101.8/101.8 kB\u001b[0m \u001b[31m16.5 MB/s\u001b[0m eta \u001b[36m0:00:00\u001b[0m\n",
            "\u001b[?25hCollecting Werkzeug<=2.2.3 (from dash)\n",
            "  Downloading Werkzeug-2.2.3-py3-none-any.whl (233 kB)\n",
            "\u001b[2K     \u001b[90m━━━━━━━━━━━━━━━━━━━━━━━━━━━━━━━━━━━━━━\u001b[0m \u001b[32m233.6/233.6 kB\u001b[0m \u001b[31m25.0 MB/s\u001b[0m eta \u001b[36m0:00:00\u001b[0m\n",
            "\u001b[?25hRequirement already satisfied: plotly>=5.0.0 in /usr/local/lib/python3.10/dist-packages (from dash) (5.13.1)\n",
            "Collecting dash-html-components==2.0.0 (from dash)\n",
            "  Downloading dash_html_components-2.0.0-py3-none-any.whl (4.1 kB)\n",
            "Collecting dash-core-components==2.0.0 (from dash)\n",
            "  Downloading dash_core_components-2.0.0-py3-none-any.whl (3.8 kB)\n",
            "Collecting dash-table==5.0.0 (from dash)\n",
            "  Downloading dash_table-5.0.0-py3-none-any.whl (3.9 kB)\n",
            "Requirement already satisfied: Jinja2>=3.0 in /usr/local/lib/python3.10/dist-packages (from Flask<=2.2.3,>=1.0.4->dash) (3.1.2)\n",
            "Requirement already satisfied: itsdangerous>=2.0 in /usr/local/lib/python3.10/dist-packages (from Flask<=2.2.3,>=1.0.4->dash) (2.1.2)\n",
            "Requirement already satisfied: click>=8.0 in /usr/local/lib/python3.10/dist-packages (from Flask<=2.2.3,>=1.0.4->dash) (8.1.3)\n",
            "Requirement already satisfied: tenacity>=6.2.0 in /usr/local/lib/python3.10/dist-packages (from plotly>=5.0.0->dash) (8.2.2)\n",
            "Requirement already satisfied: MarkupSafe>=2.1.1 in /usr/local/lib/python3.10/dist-packages (from Werkzeug<=2.2.3->dash) (2.1.2)\n",
            "Installing collected packages: dash-table, dash-html-components, dash-core-components, Werkzeug, Flask, dash\n",
            "  Attempting uninstall: Werkzeug\n",
            "    Found existing installation: Werkzeug 2.3.0\n",
            "    Uninstalling Werkzeug-2.3.0:\n",
            "      Successfully uninstalled Werkzeug-2.3.0\n",
            "  Attempting uninstall: Flask\n",
            "    Found existing installation: Flask 2.2.4\n",
            "    Uninstalling Flask-2.2.4:\n",
            "      Successfully uninstalled Flask-2.2.4\n",
            "Successfully installed Flask-2.2.3 Werkzeug-2.2.3 dash-2.10.0 dash-core-components-2.0.0 dash-html-components-2.0.0 dash-table-5.0.0\n"
          ]
        }
      ]
    },
    {
      "cell_type": "code",
      "source": [
        "pip show flask"
      ],
      "metadata": {
        "colab": {
          "base_uri": "https://localhost:8080/"
        },
        "id": "Ir2CBw6uJMHV",
        "outputId": "4395680c-6009-4e8b-89f8-e719c5e567d8"
      },
      "execution_count": null,
      "outputs": [
        {
          "output_type": "stream",
          "name": "stdout",
          "text": [
            "Name: Flask\n",
            "Version: 2.2.3\n",
            "Summary: A simple framework for building complex web applications.\n",
            "Home-page: https://palletsprojects.com/p/flask\n",
            "Author: Armin Ronacher\n",
            "Author-email: armin.ronacher@active-4.com\n",
            "License: BSD-3-Clause\n",
            "Location: /usr/local/lib/python3.10/dist-packages\n",
            "Requires: click, itsdangerous, Jinja2, Werkzeug\n",
            "Required-by: community, dash\n"
          ]
        }
      ]
    },
    {
      "cell_type": "code",
      "source": [
        "import dash\n",
        "from dash import dcc\n",
        "from dash import html\n",
        "\n",
        "# Initialize the app\n",
        "app = dash.Dash(__name__)\n",
        "\n",
        "# Define the layout\n",
        "app.layout = html.Div(children=[\n",
        "    html.H1('Interactive Dashboard'),\n",
        "    dcc.Graph(\n",
        "        id='example-graph',\n",
        "        figure={\n",
        "            'data': [\n",
        "                {'x': [1, 2, 3], 'y': [4, 1, 2], 'type': 'bar', 'name': 'Category 1'},\n",
        "                {'x': [1, 2, 3], 'y': [2, 4, 5], 'type': 'bar', 'name': 'Category 2'},\n",
        "            ],\n",
        "            'layout': {\n",
        "                'title': 'Bar Chart',\n",
        "                'xaxis': {'title': 'X-axis'},\n",
        "                'yaxis': {'title': 'Y-axis'},\n",
        "            }\n",
        "        }\n",
        "    )\n",
        "])\n",
        "\n",
        "# Run the app\n",
        "if __name__ == '__main__':\n",
        "\n",
        "    app.run_server(debug=True, port=8051)"
      ],
      "metadata": {
        "colab": {
          "base_uri": "https://localhost:8080/",
          "height": 217
        },
        "id": "QfOG7A5PAp5i",
        "outputId": "9af2c1bb-44ff-4763-eb1d-be9d7840ff59"
      },
      "execution_count": null,
      "outputs": [
        {
          "output_type": "stream",
          "name": "stdout",
          "text": [
            "Dash is running on http://127.0.0.1:8051/\n",
            "\n"
          ]
        },
        {
          "output_type": "stream",
          "name": "stderr",
          "text": [
            "INFO:dash.dash:Dash is running on http://127.0.0.1:8051/\n",
            "\n"
          ]
        },
        {
          "output_type": "stream",
          "name": "stdout",
          "text": [
            " * Serving Flask app '__main__'\n",
            " * Debug mode: on\n"
          ]
        },
        {
          "output_type": "error",
          "ename": "SystemExit",
          "evalue": "ignored",
          "traceback": [
            "An exception has occurred, use %tb to see the full traceback.\n",
            "\u001b[0;31mSystemExit\u001b[0m\u001b[0;31m:\u001b[0m 1\n"
          ]
        }
      ]
    },
    {
      "cell_type": "code",
      "source": [],
      "metadata": {
        "id": "oqLgN9z6Jg8s"
      },
      "execution_count": null,
      "outputs": []
    },
    {
      "cell_type": "markdown",
      "source": [
        "\n",
        "## **13. Conclusion**\n",
        "In this guide, we have covered the basics of Plotly, a powerful Python library for interactive data visualization. We explored various types of plots, including line plots, scatter plots, bar charts, pie charts, histograms, box plots, heatmaps, and 3D plots. We also learned how to create an interactive dashboard using Plotly's `Dash` library.\n",
        "\n",
        "Plotly offers a wide range of customization options, integration with other libraries, and the ability to create interactive and shareable visualizations. By mastering Plotly, you can create compelling visualizations to explore and communicate data effectively."
      ],
      "metadata": {
        "id": "Z3Nee6CYAhd4"
      }
    },
    {
      "cell_type": "code",
      "source": [],
      "metadata": {
        "id": "MFVmvVWEaC7E"
      },
      "execution_count": null,
      "outputs": []
    },
    {
      "cell_type": "markdown",
      "source": [
        "# **Seaborn: Another tool for visualization**\n",
        "\n",
        "## **Table of Contents**\n",
        "1. Introduction to Seaborn\n",
        "2. Why Use Seaborn?\n",
        "3. Installation\n",
        "4. Getting Started with Seaborn\n",
        "5. Data Visualization with Seaborn\n",
        "   - 5.1 Line Plots\n",
        "   - 5.2 Bar Plots\n",
        "   - 5.3 Scatter Plots\n",
        "   - 5.4 Histograms\n",
        "   - 5.5 Box Plots\n",
        "   - 5.6 Heatmaps\n",
        "   - 5.7 Pair Plots\n",
        "   - 5.8 Facet Grids\n",
        "6. Customizing Seaborn Plots\n",
        "   - 6.1 Color Palettes\n",
        "   - 6.2 Plot Styles\n",
        "   - 6.3 Plot Annotations\n",
        "7. Conclusion\n",
        "\n",
        "\n",
        "\n",
        "\n"
      ],
      "metadata": {
        "id": "QWhy-Pf0mgTk"
      }
    },
    {
      "cell_type": "markdown",
      "source": [
        "## **1. Introduction to Seaborn**\n",
        "Seaborn is a powerful data visualization library built on top of Matplotlib, another popular plotting library in Python. It provides a high-level interface for creating informative and visually appealing statistical graphics. Seaborn is widely used in data analysis and machine learning tasks to explore and communicate insights from data.\n",
        "\n"
      ],
      "metadata": {
        "id": "Xz9xFVTuZF7k"
      }
    },
    {
      "cell_type": "markdown",
      "source": [
        "\n",
        "## **2. Why Use Seaborn?**\n",
        "\n",
        "Seaborn offers several advantages that make it a preferred choice for data visualization:\n",
        "- **Simpler syntax**: Seaborn simplifies the process of creating complex plots with concise and intuitive syntax, allowing users to focus on the analysis rather than the implementation details.\n",
        "- **Default styles**: Seaborn comes with aesthetically pleasing default styles that enhance the visual appeal of plots, making them more presentable and publication-ready.\n",
        "- **Statistical plotting**: Seaborn provides specialized functions for visualizing statistical relationships, which can be extremely helpful in exploratory data analysis and communicating findings.\n",
        "- **Integration with Pandas**: Seaborn seamlessly integrates with Pandas, a popular data manipulation library, enabling easy plotting of data stored in Pandas DataFrames.\n",
        "- **Customization options**: Seaborn offers a wide range of customization options to fine-tune plots, including color palettes, plot styles, and annotations, allowing users to create visually stunning visualizations.\n"
      ],
      "metadata": {
        "id": "LaIDBj4hZCJc"
      }
    },
    {
      "cell_type": "markdown",
      "source": [
        "## **3. Installation**\n",
        "Before using Seaborn, you need to install it along with its dependencies. You can install Seaborn using pip, a package installer for Python. Open your terminal or command prompt and run the following command:\n",
        "\n",
        "```\n",
        "pip install seaborn\n",
        "```\n",
        "\n",
        "Seaborn requires the following dependencies, which will be automatically installed if not already present:\n",
        "- NumPy\n",
        "- SciPy\n",
        "- Pandas\n",
        "- Matplotlib\n",
        "\n",
        "\n",
        "\n"
      ],
      "metadata": {
        "id": "qko4EMJcY6Ad"
      }
    },
    {
      "cell_type": "markdown",
      "source": [
        "## 4. Getting Started with Seaborn\n",
        "To begin using Seaborn, import it into your Python script or Jupyter Notebook:\n",
        "\n",
        "```python\n",
        "import seaborn as sns\n",
        "```\n",
        "\n",
        "Seaborn is now ready to use.\n",
        "\n",
        "\n",
        "\n"
      ],
      "metadata": {
        "id": "j6k-SMWVYzv_"
      }
    },
    {
      "cell_type": "code",
      "source": [],
      "metadata": {
        "id": "76n9hEvDY03T"
      },
      "execution_count": null,
      "outputs": []
    },
    {
      "cell_type": "markdown",
      "source": [
        "## **5. Data Visualization with Seaborn**\n",
        "Seaborn offers a wide range of plot types for different types of data. In this section, we will cover some commonly used plots along with code examples.\n",
        "\n",
        "\n"
      ],
      "metadata": {
        "id": "9vyoBMzXX2Pv"
      }
    },
    {
      "cell_type": "markdown",
      "source": [
        "## **5.1 Line Plots**\n",
        "Line plots are useful for visualizing trends and patterns in continuous data. Seaborn provides the `lineplot()` function for creating line plots.\n",
        "\n",
        "```python\n",
        "import seaborn as sns\n",
        "import matplotlib.pyplot as plt\n",
        "\n",
        "# Generate sample data\n",
        "x = [1, 2, 3, 4, 5]\n",
        "y = [2, 4, 6, 8, 10]\n",
        "\n",
        "# Create line plot\n",
        "sns.lineplot(x=x, y=y)\n",
        "\n",
        "# Add labels and title\n",
        "plt.xlabel('X')\n",
        "plt.ylabel('Y')\n",
        "plt.title('Line Plot')\n",
        "\n",
        "# Display the plot\n",
        "plt.show()\n",
        "```\n"
      ],
      "metadata": {
        "id": "9RdjurA8YK7y"
      }
    },
    {
      "cell_type": "code",
      "source": [
        "import seaborn as sns\n",
        "import matplotlib.pyplot as plt\n",
        "\n",
        "# Generate sample data\n",
        "x = [1, 2, 3, 4, 5]\n",
        "y = [2, 4, 6, 8, 10]\n",
        "\n",
        "# Create line plot\n",
        "sns.lineplot(x=x, y=y)\n",
        "\n",
        "# Add labels and title\n",
        "plt.xlabel('X')\n",
        "plt.ylabel('Y')\n",
        "plt.title('Line Plot')\n",
        "\n",
        "# Display the plot\n",
        "plt.show()"
      ],
      "metadata": {
        "id": "30tjlT5FX6u0",
        "colab": {
          "base_uri": "https://localhost:8080/",
          "height": 472
        },
        "outputId": "96e09b5f-3ba5-49c5-9d38-7734a2d1e195"
      },
      "execution_count": null,
      "outputs": [
        {
          "output_type": "display_data",
          "data": {
            "text/plain": [
              "<Figure size 640x480 with 1 Axes>"
            ],
            "image/png": "[encoded data removed]"
          },
          "metadata": {}
        }
      ]
    },
    {
      "cell_type": "markdown",
      "source": [
        "## **5.2 Bar Plots**\n",
        "Bar plots are useful for comparing categories or groups. Seaborn provides the `barplot()` function for creating bar plots.\n",
        "\n",
        "```python\n",
        "import seaborn as sns\n",
        "import matplotlib.pyplot as plt\n",
        "\n",
        "# Generate sample data\n",
        "categories = ['A', 'B', 'C']\n",
        "values = [10, 5, 7]\n",
        "\n",
        "# Create bar plot\n",
        "sns.barplot(x=categories, y=values)\n",
        "\n",
        "# Add labels and title\n",
        "plt.xlabel('Categories')\n",
        "plt.ylabel('Values')\n",
        "plt.title('Bar Plot')\n",
        "\n",
        "# Display the plot\n",
        "plt.show()\n",
        "```\n"
      ],
      "metadata": {
        "id": "FNCh5qYrX4tz"
      }
    },
    {
      "cell_type": "code",
      "source": [],
      "metadata": {
        "id": "Eia5nvb3Yiir"
      },
      "execution_count": null,
      "outputs": []
    },
    {
      "cell_type": "markdown",
      "source": [
        "## **5.3 Scatter Plots**\n",
        "Scatter plots are useful for visualizing the relationship between two continuous variables. Seaborn provides the `scatterplot()` function for creating scatter plots.\n",
        "\n",
        "```python\n",
        "import seaborn as sns\n",
        "import matplotlib.pyplot as plt\n",
        "\n",
        "# Generate sample data\n",
        "x = [1, 2, 3, 4, 5]\n",
        "y = [2, 4, 6, 8, 10]\n",
        "\n",
        "# Create scatter plot\n",
        "sns.scatterplot(x=x, y=y)\n",
        "\n",
        "# Add labels and title\n",
        "plt.xlabel('X')\n",
        "plt.ylabel('Y')\n",
        "plt.title('Scatter Plot')\n",
        "\n",
        "# Display the plot\n",
        "plt.show()\n",
        "```\n"
      ],
      "metadata": {
        "id": "xaBPqlEjXkLk"
      }
    },
    {
      "cell_type": "code",
      "source": [],
      "metadata": {
        "id": "t0sknG6OXlUk"
      },
      "execution_count": null,
      "outputs": []
    },
    {
      "cell_type": "markdown",
      "source": [
        "## **5.4 Histograms**\n",
        "Histograms are useful for visualizing the distribution of a single variable. Seaborn provides the `histplot()` function for creating histograms.\n",
        "\n",
        "```python\n",
        "import seaborn as sns\n",
        "import matplotlib.pyplot as plt\n",
        "\n",
        "# Generate sample data\n",
        "data = [1, 2, 2, 3, 3, 3, 4, 4, 5]\n",
        "\n",
        "# Create histogram\n",
        "sns.histplot(data)\n",
        "\n",
        "# Add labels and title\n",
        "plt.xlabel('Values')\n",
        "plt.ylabel('Frequency')\n",
        "plt.title('Histogram')\n",
        "\n",
        "# Display the plot\n",
        "plt.show()\n",
        "```"
      ],
      "metadata": {
        "id": "kJKXsYlWXE9V"
      }
    },
    {
      "cell_type": "markdown",
      "source": [
        "## **5.5 Box Plots**\n",
        "Box plots are useful for visualizing the distribution of a variable across different categories. Seaborn provides the `boxplot()` function for creating box plots.\n",
        "\n",
        "```python\n",
        "import seaborn as sns\n",
        "import matplotlib.pyplot as plt\n",
        "\n",
        "# Generate sample data\n",
        "category = ['A', 'A', 'B', 'B', 'B', 'C']\n",
        "value = [2, 4, 5, 6, 7, 8]\n",
        "\n",
        "# Create box plot\n",
        "sns.boxplot(x=category, y=value)\n",
        "\n",
        "# Add labels and title\n",
        "plt.xlabel('Category')\n",
        "plt.ylabel('Value')\n",
        "plt.title('Box Plot')\n",
        "\n",
        "# Display the plot\n",
        "plt.show()\n",
        "```\n",
        "\n"
      ],
      "metadata": {
        "id": "zzTVDibmW7vn"
      }
    },
    {
      "cell_type": "code",
      "source": [],
      "metadata": {
        "id": "jNwF_oeKW8Qo"
      },
      "execution_count": null,
      "outputs": []
    },
    {
      "cell_type": "markdown",
      "source": [
        "## **5.6 Heatmaps**\n",
        "Heatmaps are useful for visualizing the relationship between two categorical variables. Seaborn provides the `heatmap()` function for creating heatmaps.\n",
        "\n",
        "```python\n",
        "import seaborn as sns\n",
        "import matplotlib.pyplot as plt\n",
        "\n",
        "# Generate sample data\n",
        "data = [[1, 2, 3], [4, 5, 6], [7, 8, 9]]\n",
        "\n",
        "# Create heatmap\n",
        "sns.heatmap(data)\n",
        "\n",
        "# Add labels and title\n",
        "plt.xlabel('X')\n",
        "plt.ylabel('Y')\n",
        "plt.title('Heatmap')\n",
        "\n",
        "# Display the plot\n",
        "plt.show()\n",
        "```\n",
        "\n"
      ],
      "metadata": {
        "id": "loF37cnJUzi9"
      }
    },
    {
      "cell_type": "code",
      "source": [
        "import seaborn as sns\n",
        "import matplotlib.pyplot as plt\n",
        "\n",
        "# Generate sample data\n",
        "data = [[1, 2, 3], [4, 5, 6], [7, 8, 9]]\n",
        "\n",
        "# Create heatmap\n",
        "sns.heatmap(data)\n",
        "\n",
        "# Add labels and title\n",
        "plt.xlabel('X')\n",
        "plt.ylabel('Y')\n",
        "plt.title('Heatmap')\n",
        "\n",
        "# Display the plot\n",
        "plt.show()"
      ],
      "metadata": {
        "id": "02W--BeEU0VE",
        "colab": {
          "base_uri": "https://localhost:8080/",
          "height": 472
        },
        "outputId": "1b2333de-1c19-4118-fddb-383aa3a193de"
      },
      "execution_count": null,
      "outputs": [
        {
          "output_type": "display_data",
          "data": {
            "text/plain": [
              "<Figure size 640x480 with 2 Axes>"
            ],
            "image/png": "[encoded data removed]"
          },
          "metadata": {}
        }
      ]
    },
    {
      "cell_type": "markdown",
      "source": [
        "## **5.7 Pair Plots**\n",
        "Pair plots are useful for visualizing pairwise relationships between multiple variables. Seaborn provides the `pairplot()` function for creating pair plots.\n",
        "\n",
        "```python\n",
        "import seaborn as sns\n",
        "import matplotlib.pyplot as plt\n",
        "import pandas as pd\n",
        "\n",
        "# Generate sample data\n",
        "data = pd.DataFrame({'X': [1, 2, 3, 4, 5], 'Y': [2, 4, 6, 8, 10], 'Z': [3,\n",
        "\n",
        "6, 9, 12, 15]})\n",
        "\n",
        "# Create pair plot\n",
        "sns.pairplot(data)\n",
        "\n",
        "# Display the plot\n",
        "plt.show()\n",
        "```\n"
      ],
      "metadata": {
        "id": "f91dmToyUtdV"
      }
    },
    {
      "cell_type": "code",
      "source": [],
      "metadata": {
        "id": "rMJbHe-VUs29"
      },
      "execution_count": null,
      "outputs": []
    },
    {
      "cell_type": "markdown",
      "source": [
        "## **5.8 Facet Grids**\n",
        "Facet grids are useful for visualizing the relationship between multiple variables conditioned on different categories. Seaborn provides the `FacetGrid` class for creating facet grids.\n",
        "\n",
        "```python\n",
        "import seaborn as sns\n",
        "import matplotlib.pyplot as plt\n",
        "import pandas as pd\n",
        "\n",
        "# Generate sample data\n",
        "data = pd.DataFrame({'X': [1, 2, 3, 4, 5], 'Y': [2, 4, 6, 8, 10], 'Category': ['A', 'A', 'B', 'B', 'A']})\n",
        "\n",
        "# Create facet grid\n",
        "g = sns.FacetGrid(data, col='Category')\n",
        "g.map(sns.scatterplot, 'X', 'Y')\n",
        "\n",
        "# Display the plot\n",
        "plt.show()\n",
        "```"
      ],
      "metadata": {
        "id": "jEZOZ5xmUfw9"
      }
    },
    {
      "cell_type": "code",
      "source": [],
      "metadata": {
        "id": "ucV1itezUgnu"
      },
      "execution_count": null,
      "outputs": []
    },
    {
      "cell_type": "markdown",
      "source": [
        "## 6. **Customizing Seaborn Plots**\n",
        "Seaborn provides various customization options to enhance the appearance of plots. Let's explore some of these options.\n"
      ],
      "metadata": {
        "id": "qjmE12GQUJUO"
      }
    },
    {
      "cell_type": "markdown",
      "source": [
        "\n",
        "## **6.1 Color Palettes**\n",
        "Seaborn offers a wide range of color palettes that can be used to customize the colors of your plots. You can set the color palette using the `set_palette()` function.\n",
        "\n",
        "```python\n",
        "import seaborn as sns\n",
        "import matplotlib.pyplot as plt\n",
        "\n",
        "# Set color palette\n",
        "sns.set_palette('pastel')\n",
        "\n",
        "# Create a plot\n",
        "# ...\n",
        "\n",
        "# Display the plot\n",
        "plt.show()\n",
        "```\n"
      ],
      "metadata": {
        "id": "PXQogKjkUBun"
      }
    },
    {
      "cell_type": "code",
      "source": [],
      "metadata": {
        "id": "KjDd4B62UCpd"
      },
      "execution_count": null,
      "outputs": []
    },
    {
      "cell_type": "markdown",
      "source": [
        "\n",
        "## **6.2 Plot Styles**\n",
        "Seaborn provides different plot styles to change the overall look of your plots. You can set the plot style using the `set_style()` function.\n",
        "\n",
        "```python\n",
        "import seaborn as sns\n",
        "import matplotlib.pyplot as plt\n",
        "\n",
        "# Set plot style\n",
        "sns.set_style('darkgrid')\n",
        "\n",
        "# Create a plot\n",
        "# ...\n",
        "\n",
        "# Display the plot\n",
        "plt.show()\n",
        "```\n",
        "\n",
        "\n"
      ],
      "metadata": {
        "id": "-CrIzsV-T8TB"
      }
    },
    {
      "cell_type": "code",
      "source": [],
      "metadata": {
        "id": "vrVfC8G6T7jw"
      },
      "execution_count": null,
      "outputs": []
    },
    {
      "cell_type": "markdown",
      "source": [
        "## **6.3 Plot Annotations**\n",
        "You can add annotations to your Seaborn plots to provide additional information or highlight specific features. Seaborn provides various functions to add annotations, such as `text()`, `annotate()`, and `legend()`.\n",
        "\n",
        "```python\n",
        "import seaborn as sns\n",
        "import matplotlib.pyplot as plt\n",
        "\n",
        "# Create a plot\n",
        "# ...\n",
        "\n",
        "# Add text annotation\n",
        "plt.text(x=0.5, y=0.5, s='Example Annotation')\n",
        "\n",
        "# Add arrow annotation\n",
        "plt.annotate('Example Arrow', xy=(0.5, 0.5), xytext=(0.2, 0.2), arrowprops=dict(arrowstyle='->'))\n",
        "\n",
        "# Add legend\n",
        "plt.legend()\n",
        "\n",
        "# Display the plot\n",
        "plt.show()\n",
        "```\n"
      ],
      "metadata": {
        "id": "k8eWVQ4rPzN1"
      }
    },
    {
      "cell_type": "markdown",
      "source": [
        "## **7. Interactive Dashboards**\n",
        "Seaborn can also be used to create interactive dashboards with the help of other libraries as well that allow users to explore and analyze data.\n",
        "\n",
        "```python\n",
        "import seaborn as sns\n",
        "import plotly.express as px\n",
        "import dash\n",
        "from dash import dcc\n",
        "from dash import html\n",
        "from dash.dependencies import Input, Output\n",
        "\n",
        "# Generate sample data\n",
        "tips = sns.load_dataset(\"tips\")\n",
        "\n",
        "# Create a Seaborn plot\n",
        "sns_plot = sns.scatterplot(data=tips, x=\"total_bill\", y=\"tip\", hue=\"smoker\")\n",
        "\n",
        "# Convert Seaborn plot to Plotly figure\n",
        "fig = sns_plot.get_figure()\n",
        "plotly_fig = px.scatter(tips, x=\"total_bill\", y=\"tip\", color=\"smoker\")\n",
        "\n",
        "# Create a Dash app\n",
        "app = dash.Dash(__name__)\n",
        "\n",
        "app.layout = html.Div([\n",
        "    dcc.Graph(id='scatter-plot', figure=plotly_fig),\n",
        "])\n",
        "\n",
        "# Run the Dash app\n",
        "if __name__ == '__main__':\n",
        "    app.run_server(debug=True)\n",
        "```\n",
        "\n",
        "In the code above, we import the necessary modules from `dash` to create the app and define the layout.\n",
        "\n",
        "We load a sample dataset called \"tips\" from Seaborn's built-in datasets.\n",
        "\n",
        "We create a scatter plot using Seaborn's `scatterplot()` function, specifying the dataset (`tips`) and the variables (`total_bill`, `tip`, and `smoker`) to be plotted.\n",
        "\n",
        "We convert the Seaborn plot to a Plotly figure by using `get_figure()` to extract the underlying Matplotlib figure object from the Seaborn plot, and then use `px.scatter()` from Plotly Express to create a similar scatter plot.\n",
        "\n",
        "We create a Dash app and define its layout using `html.Div()` and `dcc.Graph()`. The `dcc.Graph()` component has an id attribute set to 'scatter-plot' and the `figure` attribute set to the Plotly figure we created earlier.\n",
        "\n",
        "We run the Dash app with the `run_server()` function. Setting `debug=True` allows for automatic reloading of the app when changes are made.\n",
        "\n",
        "To run the app, save the code in a Python file (e.g., `dashboard.py`) and execute it in your terminal or command prompt using the command `python dashboard.py`.\n"
      ],
      "metadata": {
        "id": "Z2OkFZgqpG6w"
      }
    },
    {
      "cell_type": "markdown",
      "source": [],
      "metadata": {
        "id": "QpUPmi7DqUwP"
      }
    },
    {
      "cell_type": "code",
      "source": [
        "pip install dash"
      ],
      "metadata": {
        "colab": {
          "base_uri": "https://localhost:8080/"
        },
        "id": "Pf0dYJYjaQWb",
        "outputId": "da67a083-9139-4627-bf13-4f2a36cfd107"
      },
      "execution_count": null,
      "outputs": [
        {
          "output_type": "stream",
          "name": "stdout",
          "text": [
            "Looking in indexes: https://pypi.org/simple, https://us-python.pkg.dev/colab-wheels/public/simple/\n",
            "Collecting dash\n",
            "  Downloading dash-2.10.0-py3-none-any.whl (10.3 MB)\n",
            "\u001b[2K     \u001b[90m━━━━━━━━━━━━━━━━━━━━━━━━━━━━━━━━━━━━━━━━\u001b[0m \u001b[32m10.3/10.3 MB\u001b[0m \u001b[31m72.8 MB/s\u001b[0m eta \u001b[36m0:00:00\u001b[0m\n",
            "\u001b[?25hCollecting Flask<=2.2.3,>=1.0.4 (from dash)\n",
            "  Downloading Flask-2.2.3-py3-none-any.whl (101 kB)\n",
            "\u001b[2K     \u001b[90m━━━━━━━━━━━━━━━━━━━━━━━━━━━━━━━━━━━━━━\u001b[0m \u001b[32m101.8/101.8 kB\u001b[0m \u001b[31m13.0 MB/s\u001b[0m eta \u001b[36m0:00:00\u001b[0m\n",
            "\u001b[?25hCollecting Werkzeug<=2.2.3 (from dash)\n",
            "  Downloading Werkzeug-2.2.3-py3-none-any.whl (233 kB)\n",
            "\u001b[2K     \u001b[90m━━━━━━━━━━━━━━━━━━━━━━━━━━━━━━━━━━━━━━\u001b[0m \u001b[32m233.6/233.6 kB\u001b[0m \u001b[31m22.8 MB/s\u001b[0m eta \u001b[36m0:00:00\u001b[0m\n",
            "\u001b[?25hRequirement already satisfied: plotly>=5.0.0 in /usr/local/lib/python3.10/dist-packages (from dash) (5.13.1)\n",
            "Collecting dash-html-components==2.0.0 (from dash)\n",
            "  Downloading dash_html_components-2.0.0-py3-none-any.whl (4.1 kB)\n",
            "Collecting dash-core-components==2.0.0 (from dash)\n",
            "  Downloading dash_core_components-2.0.0-py3-none-any.whl (3.8 kB)\n",
            "Collecting dash-table==5.0.0 (from dash)\n",
            "  Downloading dash_table-5.0.0-py3-none-any.whl (3.9 kB)\n",
            "Requirement already satisfied: Jinja2>=3.0 in /usr/local/lib/python3.10/dist-packages (from Flask<=2.2.3,>=1.0.4->dash) (3.1.2)\n",
            "Requirement already satisfied: itsdangerous>=2.0 in /usr/local/lib/python3.10/dist-packages (from Flask<=2.2.3,>=1.0.4->dash) (2.1.2)\n",
            "Requirement already satisfied: click>=8.0 in /usr/local/lib/python3.10/dist-packages (from Flask<=2.2.3,>=1.0.4->dash) (8.1.3)\n",
            "Requirement already satisfied: tenacity>=6.2.0 in /usr/local/lib/python3.10/dist-packages (from plotly>=5.0.0->dash) (8.2.2)\n",
            "Requirement already satisfied: MarkupSafe>=2.1.1 in /usr/local/lib/python3.10/dist-packages (from Werkzeug<=2.2.3->dash) (2.1.2)\n",
            "Installing collected packages: dash-table, dash-html-components, dash-core-components, Werkzeug, Flask, dash\n",
            "  Attempting uninstall: Werkzeug\n",
            "    Found existing installation: Werkzeug 2.3.0\n",
            "    Uninstalling Werkzeug-2.3.0:\n",
            "      Successfully uninstalled Werkzeug-2.3.0\n",
            "  Attempting uninstall: Flask\n",
            "    Found existing installation: Flask 2.2.4\n",
            "    Uninstalling Flask-2.2.4:\n",
            "      Successfully uninstalled Flask-2.2.4\n",
            "Successfully installed Flask-2.2.3 Werkzeug-2.2.3 dash-2.10.0 dash-core-components-2.0.0 dash-html-components-2.0.0 dash-table-5.0.0\n"
          ]
        }
      ]
    },
    {
      "cell_type": "code",
      "source": [
        "import seaborn as sns\n",
        "import plotly.express as px\n",
        "import dash\n",
        "from dash import dcc\n",
        "from dash import html\n",
        "from dash.dependencies import Input, Output\n",
        "\n",
        "# Generate sample data\n",
        "tips = sns.load_dataset(\"tips\")\n",
        "\n",
        "# Create a Seaborn plot\n",
        "sns_plot = sns.scatterplot(data=tips, x=\"total_bill\", y=\"tip\", hue=\"smoker\")\n",
        "\n",
        "# Convert Seaborn plot to Plotly figure\n",
        "fig = sns_plot.get_figure()\n",
        "plotly_fig = px.scatter(tips, x=\"total_bill\", y=\"tip\", color=\"smoker\")\n",
        "\n",
        "# Create a Dash app\n",
        "app = dash.Dash(__name__)\n",
        "\n",
        "app.layout = html.Div([\n",
        "    dcc.Graph(id='scatter-plot', figure=plotly_fig),\n",
        "])\n",
        "\n",
        "# Run the Dash app\n",
        "if __name__ == '__main__':\n",
        "    app.run_server(debug=True)"
      ],
      "metadata": {
        "colab": {
          "base_uri": "https://localhost:8080/",
          "height": 720
        },
        "id": "5Skr9KCDP0Md",
        "outputId": "b95f8e28-50da-4e02-9e66-11178f3a745f"
      },
      "execution_count": null,
      "outputs": [
        {
          "output_type": "stream",
          "name": "stdout",
          "text": [
            "Dash is running on http://127.0.0.1:8050/\n",
            "\n"
          ]
        },
        {
          "output_type": "stream",
          "name": "stderr",
          "text": [
            "INFO:dash.dash:Dash is running on http://127.0.0.1:8050/\n",
            "\n"
          ]
        },
        {
          "output_type": "stream",
          "name": "stdout",
          "text": [
            " * Serving Flask app '__main__'\n",
            " * Debug mode: on\n"
          ]
        },
        {
          "output_type": "error",
          "ename": "SystemExit",
          "evalue": "ignored",
          "traceback": [
            "An exception has occurred, use %tb to see the full traceback.\n",
            "\u001b[0;31mSystemExit\u001b[0m\u001b[0;31m:\u001b[0m 1\n"
          ]
        },
        {
          "output_type": "stream",
          "name": "stderr",
          "text": [
            "/usr/local/lib/python3.10/dist-packages/IPython/core/interactiveshell.py:3561: UserWarning:\n",
            "\n",
            "To exit: use 'exit', 'quit', or Ctrl-D.\n",
            "\n"
          ]
        },
        {
          "output_type": "display_data",
          "data": {
            "text/plain": [
              "<Figure size 640x480 with 1 Axes>"
            ],
            "image/png": "[encoded data removed]"
          },
          "metadata": {}
        }
      ]
    },
    {
      "cell_type": "markdown",
      "source": [
        "## **8. Conclusion**\n",
        "Seaborn is a powerful data visualization library that simplifies the process of creating visually appealing plots. It offers a wide range of plot types, customization options, and integration with other libraries like Pandas. By following this A-Z guide, you should now have a good understanding of Seaborn and how to use it for your data visualization needs. Remember to experiment with different plot types and customization options to create informative and visually stunning visualizations."
      ],
      "metadata": {
        "id": "Zd-aKIjuPscG"
      }
    },
    {
      "cell_type": "code",
      "source": [],
      "metadata": {
        "id": "DTbjy-GgtLQB"
      },
      "execution_count": null,
      "outputs": []
    },
    {
      "cell_type": "markdown",
      "source": [
        "# **SciPy: Scientific Computing with Python**\n",
        "\n",
        "## **Table of Contents:**\n",
        "1. Introduction to SciPy\n",
        "2. Installation\n",
        "3. Basic Concepts and Data Structures\n",
        "4. NumPy: Foundation for Scientific Computing\n",
        "5. Why SciPy?\n",
        "6. SciPy Subpackages\n",
        "\n",
        "    a. `scipy.stats`: Statistical Functions\n",
        "\n",
        "    b. `scipy.linalg`: Linear Algebra Operations\n",
        "\n",
        "    c. `scipy.optimize`: Optimization Algorithms\n",
        "\n",
        "    d. `scipy.interpolate`: Interpolation Functions\n",
        "\n",
        "    e. `scipy.signal`: Signal Processing\n",
        "\n",
        "    f. `scipy.fftpack`: Fast Fourier Transform (FFT)\n",
        "\n",
        "    g. `scipy.spatial`: Spatial Data Structures and Algorithms\n",
        "7. Examples and Use Cases\n",
        "8. Conclusion"
      ],
      "metadata": {
        "id": "y2UPcbFOc0Fx"
      }
    },
    {
      "cell_type": "markdown",
      "source": [
        "## **1. Introduction to SciPy**\n",
        "SciPy is a powerful open-source library in Python for scientific and technical computing. It provides a vast array of functions and tools for tasks related to mathematics, engineering, optimization, statistics, signal processing, and more. SciPy builds upon the foundation of NumPy, another fundamental library for numerical computing in Python.\n"
      ],
      "metadata": {
        "id": "-3X1RE4zc9p1"
      }
    },
    {
      "cell_type": "markdown",
      "source": [
        "## **2. Installation**\n",
        "To begin using SciPy, you need to install it along with its dependencies. Follow these steps to install SciPy:\n",
        "\n",
        "1. Open a terminal or command prompt.\n",
        "2. Create a virtual environment **(optional but recommended)**:\n",
        "   ```bash\n",
        "   python3 -m venv myenv\n",
        "   ```\n",
        "3. Activate the virtual environment:\n",
        "   - For Windows:\n",
        "     ```bash\n",
        "     myenv\\Scripts\\activate\n",
        "     ```\n",
        "   - For macOS/Linux:\n",
        "     ```bash\n",
        "     source myenv/bin/activate\n",
        "     ```\n",
        "4. Install SciPy using pip:\n",
        "   ```bash\n",
        "   pip install scipy\n",
        "   ```"
      ],
      "metadata": {
        "id": "9i3lfsYcdJ8M"
      }
    },
    {
      "cell_type": "code",
      "source": [],
      "metadata": {
        "id": "kpfThxjkdM7V"
      },
      "execution_count": null,
      "outputs": []
    },
    {
      "cell_type": "markdown",
      "source": [
        "## **Why use Virtual Environments?**\n",
        "\n",
        "A virtual environment is an isolated Python environment that allows you to install and manage specific packages and dependencies for a particular project separately from your system-wide Python installation. It creates a self-contained environment where you can install specific versions of packages without worrying about conflicts with other projects or affecting your system's global Python environment.\n",
        "\n",
        "Here are the main reasons for using virtual environments in machine learning projects:\n",
        "\n",
        "1. **Dependency Management**: Machine learning projects often require specific versions of libraries, packages, and dependencies. Virtual environments allow you to create an isolated environment with the exact versions of packages needed for your project. This ensures that your project runs consistently, regardless of changes in the system-wide Python environment or other projects.\n",
        "\n",
        "2. **Reproducibility**: Virtual environments help ensure the reproducibility of machine learning experiments. By encapsulating the project's dependencies within a virtual environment, you can easily share the environment specifications with others. They can then recreate the same environment, guaranteeing that they have the same package versions and configurations necessary to reproduce your results accurately.\n",
        "\n",
        "3. **Version Control**: Virtual environments facilitate version control of your project's dependencies. By including the virtual environment configuration file (e.g., `requirements.txt` or `environment.yml`) in your version control system, you can easily track and manage changes to the project's dependencies over time. This ensures that collaborators or future versions of your project can install the exact same package versions.\n",
        "\n",
        "4. **Isolation and Security**: Virtual environments provide isolation from other projects and the system's Python installation. This isolation helps prevent conflicts between packages or accidental modifications to system-wide libraries. It also provides a level of security by sandboxing your project and reducing the risk of unintended consequences from installing or modifying packages.\n",
        "\n",
        "5. **Portability**: Virtual environments make it easier to move or deploy your machine learning project to different environments. By encapsulating the project's dependencies within the virtual environment, you can transfer the entire environment to another machine or server, ensuring that all the necessary packages and configurations are intact.\n",
        "\n",
        "Overall, virtual environments are essential in machine learning projects to ensure reproducibility, manage dependencies, simplify collaboration, enhance security, and enable portability. They provide a controlled and isolated environment for your project's specific requirements, helping you maintain consistency and reliability throughout the development and deployment process."
      ],
      "metadata": {
        "id": "bN5EeNiOhbOH"
      }
    },
    {
      "cell_type": "markdown",
      "source": [
        "## **3. Basic Concepts and Data Structures**\n",
        "Before diving into SciPy, it's important to understand some basic concepts and data structures it relies on:\n",
        "\n",
        "- **Arrays**: SciPy uses NumPy arrays as the primary data structure. Arrays are similar to lists but offer better performance for numerical computations.\n",
        "- **Vectorization**: NumPy arrays enable vectorized operations, which allows performing computations on entire arrays instead of individual elements. This significantly improves efficiency.\n",
        "- **Matrices**: Matrices are two-dimensional arrays that are extensively used in linear algebra operations.\n",
        "- **Sparse Matrices**: Sparse matrices are used to represent matrices with a large number of zero elements efficiently. They are crucial for memory optimization in many scientific computing tasks.\n"
      ],
      "metadata": {
        "id": "FNhOWP15dT5U"
      }
    },
    {
      "cell_type": "markdown",
      "source": [
        "## **4. NumPy: Foundation for Scientific Computing**\n",
        "As mentioned earlier, SciPy builds on top of NumPy. NumPy provides the fundamental array data structure and essential mathematical functions for efficient numerical computations. It is recommended to have a good understanding of NumPy before delving into SciPy. You can refer to the official NumPy documentation and tutorials for detailed learning resources."
      ],
      "metadata": {
        "id": "Hg7jogCAdWZ1"
      }
    },
    {
      "cell_type": "markdown",
      "source": [
        "## **5. Why SciPy?**\n",
        "\n",
        "1. **Efficient numerical operations**: SciPy builds on NumPy's foundation, providing efficient array operations and mathematical functions. Machine learning algorithms often involve complex numerical computations, and SciPy's optimized routines help improve performance and speed.\n",
        "\n",
        "2. **Statistical functions**: The `scipy.stats` subpackage in SciPy offers a wide range of statistical functions that are essential for machine learning tasks. These functions allow for hypothesis testing, probability distributions, statistical tests, and more. They help in data preprocessing, model evaluation, and understanding the underlying statistical properties of the data.\n",
        "\n",
        "3. **Optimization algorithms**: The `scipy.optimize` subpackage provides various optimization algorithms that are crucial in machine learning. These algorithms can be used for model parameter tuning, hyperparameter optimization, and solving optimization problems encountered in training machine learning models.\n",
        "\n",
        "4. **Interpolation and curve fitting**: The `scipy.interpolate` subpackage is valuable for handling missing data or irregularly sampled data in machine learning. It provides functions for interpolation, which is useful in filling in missing values or generating synthetic data points. Additionally, curve fitting functions help in modeling relationships between variables.\n",
        "\n",
        "5. **Signal processing**: The `scipy.signal` subpackage is beneficial in machine learning tasks involving signal processing. It offers functions for filtering, Fourier analysis, wavelet transforms, and more. These operations are useful in tasks such as audio and speech recognition, time series analysis, and image processing.\n",
        "\n",
        "6. **Linear algebra operations**: Machine learning algorithms often involve linear algebra operations, such as matrix computations, eigenvalue calculations, and solving linear systems. The `scipy.linalg` subpackage provides efficient functions for these operations, making it easier to perform common linear algebra tasks.\n",
        "\n",
        "Overall, SciPy's rich functionality and integration with other scientific computing libraries like NumPy make it a valuable tool in machine learning. It simplifies complex numerical computations, offers statistical analysis capabilities, optimization algorithms, interpolation methods, and signal processing functions that are crucial in various stages of machine learning pipelines."
      ],
      "metadata": {
        "id": "Kjws4IJVdbbd"
      }
    },
    {
      "cell_type": "markdown",
      "source": [
        "## **6. SciPy Subpackages**\n",
        "SciPy is organized into several subpackages, each focusing on a specific domain of scientific computing. Let's explore some of the important subpackages and their functionalities:\n"
      ],
      "metadata": {
        "id": "OoCJBlY-euUl"
      }
    },
    {
      "cell_type": "markdown",
      "source": [
        "### a. `scipy.stats`: Statistical Functions\n",
        "\n",
        "The `scipy.stats` subpackage offers a wide range of statistical functions, probability distributions, and statistical tests. It allows you to perform statistical analysis, generate random numbers, and fit data to probability distributions.\n",
        "\n",
        "Example code snippet:\n",
        "```python\n",
        "from scipy import stats\n",
        "\n",
        "# Generate random numbers from a normal distribution\n",
        "data = stats.norm.rvs(loc=0, scale=1, size=1000)\n",
        "\n",
        "# Perform statistical tests\n",
        "t_statistic, p_value = stats.ttest_1samp(data, popmean=0)\n",
        "```\n"
      ],
      "metadata": {
        "id": "7qR6c509e6Xt"
      }
    },
    {
      "cell_type": "code",
      "source": [
        "from scipy import stats\n",
        "\n",
        "# Generate random numbers from a normal distribution\n",
        "data = stats.norm.rvs(loc=0, scale=1, size=1000)\n",
        "\n",
        "# Perform statistical tests\n",
        "t_statistic, p_value = stats.ttest_1samp(data, popmean=0)"
      ],
      "metadata": {
        "id": "6AybkdNQe6_t"
      },
      "execution_count": null,
      "outputs": []
    },
    {
      "cell_type": "markdown",
      "source": [
        "p value in simple terms"
      ],
      "metadata": {
        "id": "5s2PYiQ33rSO"
      }
    },
    {
      "cell_type": "markdown",
      "source": [
        "\n",
        "### b. `scipy.linalg`: Linear Algebra Operations\n",
        "The `scipy.linalg` subpackage provides functions for linear algebra operations, including\n",
        "\n",
        " matrix decomposition, matrix equations, eigenvalues and eigenvectors, and more. It is built on top of the well-known LAPACK and BLAS libraries.\n",
        "\n",
        "Example code snippet:\n",
        "```python\n",
        "from scipy import linalg\n",
        "\n",
        "# Solve a linear system of equations\n",
        "A = [[1, 2], [3, 4]]\n",
        "b = [5, 6]\n",
        "x = linalg.solve(A, b)\n",
        "```\n"
      ],
      "metadata": {
        "id": "bhCMpld2e9HS"
      }
    },
    {
      "cell_type": "code",
      "source": [
        "from scipy import linalg\n",
        "\n",
        "# Solve a linear system of equations\n",
        "A = [[1, 2], [3, 4]]\n",
        "b = [5, 6]\n",
        "x = linalg.solve(A, b)"
      ],
      "metadata": {
        "id": "neUdNYb4e93F"
      },
      "execution_count": null,
      "outputs": []
    },
    {
      "cell_type": "markdown",
      "source": [
        "### c. `scipy.optimize`: Optimization Algorithms\n",
        "The `scipy.optimize` subpackage offers various optimization algorithms for finding the minimum or maximum of functions. It includes methods for unconstrained and constrained optimization, least squares fitting, root finding, and more.\n",
        "\n",
        "Example code snippet:\n",
        "```python\n",
        "from scipy import optimize\n",
        "\n",
        "# Define the objective function\n",
        "def objective(x):\n",
        "    return x**2 + 10*x + 20\n",
        "\n",
        "# Find the minimum of the function\n",
        "result = optimize.minimize(objective, x0=0)\n",
        "```\n"
      ],
      "metadata": {
        "id": "GtWBMy6-fAON"
      }
    },
    {
      "cell_type": "code",
      "source": [],
      "metadata": {
        "id": "5jbwXNRBfBXN"
      },
      "execution_count": null,
      "outputs": []
    },
    {
      "cell_type": "markdown",
      "source": [
        "### d. `scipy.interpolate`: Interpolation Functions\n",
        "The `scipy.interpolate` subpackage provides functions for interpolation, which is the process of estimating values between known data points. It supports both 1-D and multi-dimensional interpolation.\n",
        "\n",
        "Example code snippet:\n",
        "```python\n",
        "from scipy import interpolate\n",
        "\n",
        "# Create some data points\n",
        "x = [0, 1, 2, 3, 4]\n",
        "y = [0, 3, 4, 7, 9]\n",
        "\n",
        "# Interpolate values\n",
        "f = interpolate.interp1d(x, y)\n",
        "y_interp = f([1.5, 2.5])\n",
        "```"
      ],
      "metadata": {
        "id": "tpEb_A8FfDjN"
      }
    },
    {
      "cell_type": "code",
      "source": [],
      "metadata": {
        "id": "3PCQYoE4fETF"
      },
      "execution_count": null,
      "outputs": []
    },
    {
      "cell_type": "markdown",
      "source": [
        "### e. `scipy.signal`: Signal Processing\n",
        "The `scipy.signal` subpackage provides functions for signal processing tasks, such as filtering, convolution, Fourier analysis, wavelets, and more. It offers a wide range of tools for working with signals and systems.\n",
        "\n",
        "Example code snippet:\n",
        "```python\n",
        "from scipy import signal\n",
        "\n",
        "# Generate a signal\n",
        "t = np.linspace(0, 1, 1000)\n",
        "x = np.sin(2 * np.pi * 5 * t)\n",
        "\n",
        "# Apply a bandpass filter\n",
        "b, a = signal.butter(4, [0.2, 0.8], btype='bandpass')\n",
        "filtered_signal = signal.lfilter(b, a, x)\n",
        "```"
      ],
      "metadata": {
        "id": "C0Y8jGDWfHs1"
      }
    },
    {
      "cell_type": "code",
      "source": [],
      "metadata": {
        "id": "6LhQ3aElfJWN"
      },
      "execution_count": null,
      "outputs": []
    },
    {
      "cell_type": "markdown",
      "source": [
        "### **f. `scipy.fftpack`: Fast Fourier Transform (FFT)**\n",
        "The `scipy.fftpack` subpackage provides functions for performing the Fast Fourier Transform (FFT) and related operations. It is used for spectral analysis, filtering, and solving differential equations involving sinusoidal functions.\n",
        "\n",
        "Example code snippet:\n",
        "```python\n",
        "from scipy import fftpack\n",
        "\n",
        "# Generate a signal\n",
        "t = np.linspace(0, 1, 1000)\n",
        "x = np.sin(2 * np.pi * 10 * t) + np.sin(2 * np.pi * 20 * t)\n",
        "\n",
        "# Compute the FFT\n",
        "spectrum = fftpack.fft(x)\n",
        "frequencies = fftpack.fftfreq(len(x))\n",
        "\n",
        "# Plot the spectrum\n",
        "plt.plot(frequencies, np.abs(spectrum))\n",
        "```\n"
      ],
      "metadata": {
        "id": "CezHxt0nfLc1"
      }
    },
    {
      "cell_type": "code",
      "source": [],
      "metadata": {
        "id": "4MtC-m1SfQPW"
      },
      "execution_count": null,
      "outputs": []
    },
    {
      "cell_type": "markdown",
      "source": [
        "\n",
        "### **g. `scipy.spatial`: Spatial Data Structures and Algorithms**\n",
        "The `scipy.spatial` subpackage provides data structures and algorithms for spatial data analysis, including distance computations, spatial transformations, Voronoi diagrams, and spatial clustering.\n",
        "\n",
        "Example code snippet:\n",
        "```python\n",
        "from scipy import spatial\n",
        "\n",
        "# Create some 2D points\n",
        "points = np.array([[0, 0], [1, 1], [2, 2], [3, 3]])\n",
        "\n",
        "# Compute the pairwise distance matrix\n",
        "distance_matrix = spatial.distance_matrix(points, points)\n",
        "```"
      ],
      "metadata": {
        "id": "4jCOKk4leq9d"
      }
    },
    {
      "cell_type": "code",
      "source": [],
      "metadata": {
        "id": "w717bQfWfSC2"
      },
      "execution_count": null,
      "outputs": []
    },
    {
      "cell_type": "markdown",
      "source": [
        "## **7. Examples and Use Cases**\n",
        "To reinforce our understanding of SciPy, here are a few examples and use cases where SciPy can be applied:\n",
        "\n",
        "- Statistical analysis and hypothesis testing\n",
        "- Linear algebra operations and solving systems of equations\n",
        "- Optimization problems and parameter estimation\n",
        "- Interpolation and curve fitting\n",
        "- Signal processing tasks like filtering, Fourier analysis, and wavelet transforms\n",
        "- Image processing and computer vision\n",
        "- Numerical integration and solving differential equations\n",
        "- Spatial data analysis and clustering\n",
        "\n",
        "Feel free to explore these areas further and experiment with different SciPy functions to deepen your understanding.\n"
      ],
      "metadata": {
        "id": "9IGuobuKfWUQ"
      }
    },
    {
      "cell_type": "markdown",
      "source": [
        "## **8. Conclusion**\n",
        "In this guide, we introduced SciPy as a powerful library for scientific computing with Python. We covered its installation, basic concepts, and the key subpackages it offers. You also learned about several use cases and got a glimpse of the code snippets for each subpackage. Remember to refer to the official SciPy documentation for more details on specific functions and further exploration. Happy coding and exploring the world of scientific computing with SciPy!"
      ],
      "metadata": {
        "id": "CJMfuNABtKtR"
      }
    }
  ]
}