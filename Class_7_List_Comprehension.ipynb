{
  "nbformat": 4,
  "nbformat_minor": 0,
  "metadata": {
    "colab": {
      "provenance": [],
      "authorship_tag": "ABX9TyMoVGCqF9IxeqfKdw3ifyQu",
      "include_colab_link": true
    },
    "kernelspec": {
      "name": "python3",
      "display_name": "Python 3"
    },
    "language_info": {
      "name": "python"
    }
  },
  "cells": [
    {
      "cell_type": "markdown",
      "metadata": {
        "id": "view-in-github",
        "colab_type": "text"
      },
      "source": [
        "<a href=\"https://colab.research.google.com/github/shfarhaan/Python-Basics/blob/main/Class_7_List_Comprehension.ipynb\" target=\"_parent\"><img src=\"https://colab.research.google.com/assets/colab-badge.svg\" alt=\"Open In Colab\"/></a>"
      ]
    },
    {
      "cell_type": "markdown",
      "source": [
        "## **List Comprehension**\n",
        "\n",
        "SYNTAX FOR LIST COMPREHENSION\n",
        "\n",
        "`[expression for item in list]`"
      ],
      "metadata": {
        "id": "tmcXE2UNPBAO"
      }
    },
    {
      "cell_type": "markdown",
      "source": [],
      "metadata": {
        "id": "SJCXa6dSPkuT"
      }
    },
    {
      "cell_type": "code",
      "execution_count": null,
      "metadata": {
        "id": "Dq_9B6QiO4B9"
      },
      "outputs": [],
      "source": [
        "first_list = [1, 3, 5, 7, 9, 11]"
      ]
    },
    {
      "cell_type": "code",
      "source": [
        "# We want a list [2, 6, 10, 14, 18, 22]\n",
        "# that has the doubled value of elements in first_list."
      ],
      "metadata": {
        "id": "HWhoYsYXRtbx"
      },
      "execution_count": null,
      "outputs": []
    },
    {
      "cell_type": "code",
      "source": [
        "# USING REGULAR FOR LOOP\n",
        "second_list = []\n",
        "\n",
        "for each_element in first_list:\n",
        "    second_list.append(each_element*2)\n",
        "\n",
        "print(second_list)"
      ],
      "metadata": {
        "colab": {
          "base_uri": "https://localhost:8080/"
        },
        "id": "1Pi0ro8WRtS6",
        "outputId": "fbaa792d-7ce7-4899-e5fa-734ecf3c00b3"
      },
      "execution_count": null,
      "outputs": [
        {
          "output_type": "stream",
          "name": "stdout",
          "text": [
            "[2, 6, 10, 14, 18, 22]\n"
          ]
        }
      ]
    },
    {
      "cell_type": "code",
      "source": [
        "first_list = [1, 3, 5, 7, 9, 11]\n",
        "# [expression for item in list]\n",
        "second_list = [each_element * 2 for each_element in first_list]\n",
        "\n",
        "second_list"
      ],
      "metadata": {
        "colab": {
          "base_uri": "https://localhost:8080/"
        },
        "id": "BB_jylaRhB_b",
        "outputId": "d5ec528b-11a1-40e9-96dd-5cf22e2c36ed"
      },
      "execution_count": null,
      "outputs": [
        {
          "output_type": "execute_result",
          "data": {
            "text/plain": [
              "[2, 6, 10, 14, 18, 22]"
            ]
          },
          "metadata": {},
          "execution_count": 2
        }
      ]
    },
    {
      "cell_type": "code",
      "source": [
        "# USING LIST COMPREHENSION\n",
        "\n",
        "first_list_2 = ['a', 'b', 'c', 'd', 'e']\n",
        "second_list_2 = [each_element * 2 for each_element in first_list]\n",
        "\n",
        "print(second_list_2)"
      ],
      "metadata": {
        "colab": {
          "base_uri": "https://localhost:8080/"
        },
        "id": "p6BG9bV3RtLE",
        "outputId": "dd20748f-c737-46ff-f336-80330344ed20"
      },
      "execution_count": null,
      "outputs": [
        {
          "output_type": "stream",
          "name": "stdout",
          "text": [
            "[2, 6, 10, 14, 18, 22]\n"
          ]
        }
      ]
    },
    {
      "cell_type": "code",
      "source": [
        "# USING REGULAR FOR LOOP\n",
        "ele = []\n",
        "\n",
        "for each_element in range(1,7):\n",
        "    ele.append(each_element ** 2)\n",
        "\n",
        "print(ele)"
      ],
      "metadata": {
        "colab": {
          "base_uri": "https://localhost:8080/"
        },
        "outputId": "2c120e3a-d1b1-4fec-d66f-bdfeef2b84f7",
        "id": "bqK9grxraCbW"
      },
      "execution_count": null,
      "outputs": [
        {
          "output_type": "stream",
          "name": "stdout",
          "text": [
            "[1, 4, 9, 16, 25, 36]\n"
          ]
        }
      ]
    },
    {
      "cell_type": "code",
      "source": [
        "# USING LIST COMPREHENSION\n",
        "ele2 = [each_elem ** 2 for each_elem in range(1,7)]\n",
        "\n",
        "print(ele2)"
      ],
      "metadata": {
        "id": "Nd7ENNRzRtC9"
      },
      "execution_count": null,
      "outputs": []
    },
    {
      "cell_type": "markdown",
      "source": [
        "### Using if with List Comprehension\n"
      ],
      "metadata": {
        "id": "bQnpzpqa99IK"
      }
    },
    {
      "cell_type": "code",
      "source": [
        "even_list = [ i for i in range(10) if i % 2 == 0]\n",
        "print(even_list)"
      ],
      "metadata": {
        "colab": {
          "base_uri": "https://localhost:8080/"
        },
        "id": "lIp4380e98LA",
        "outputId": "dd4c5b05-9c34-4710-9738-cc7b83b8e8ec"
      },
      "execution_count": null,
      "outputs": [
        {
          "output_type": "stream",
          "name": "stdout",
          "text": [
            "[0, 2, 4, 6, 8]\n"
          ]
        }
      ]
    },
    {
      "cell_type": "markdown",
      "source": [
        "The list, even_list, is going to be populated by the things in the range from 0 – 9 if the item’s value is divisible by 2.\n"
      ],
      "metadata": {
        "id": "96VU15Dk-tmB"
      }
    },
    {
      "cell_type": "markdown",
      "source": [
        "### Nested if with List Comprehension\n"
      ],
      "metadata": {
        "id": "DGIbTw2C_DLI"
      }
    },
    {
      "cell_type": "code",
      "source": [
        "filtered_list = [ x for x in range(99) if x % 3 == 0 if x % 7 == 0 if x % 2 == 0 ]\n",
        "print(filtered_list)"
      ],
      "metadata": {
        "id": "ZZDx9qezRs5L",
        "colab": {
          "base_uri": "https://localhost:8080/"
        },
        "outputId": "55d996e4-7f20-4c4c-9f46-2e8907bbd14a"
      },
      "execution_count": null,
      "outputs": [
        {
          "output_type": "stream",
          "name": "stdout",
          "text": [
            "[0, 42, 84]\n"
          ]
        }
      ]
    },
    {
      "cell_type": "markdown",
      "source": [
        "Here, the list comprehension checks:\n",
        "\n",
        "Is x divisible by 2 or not?\n",
        "\n",
        "Is x divisible by 5 or not?\n",
        "\n",
        "If x satisfies both conditions, x is appended to filtered_list."
      ],
      "metadata": {
        "id": "5qM6nTiH_U3k"
      }
    },
    {
      "cell_type": "markdown",
      "source": [
        "### if…else With List Comprehension"
      ],
      "metadata": {
        "id": "YlMwwbVrACmi"
      }
    },
    {
      "cell_type": "code",
      "source": [
        "list = [\"even\" if y%2==0 else \"odd\" for y in range(10)]\n",
        "print(list)"
      ],
      "metadata": {
        "colab": {
          "base_uri": "https://localhost:8080/"
        },
        "id": "0nz4lflxAHis",
        "outputId": "fbd20415-0445-4fde-ebb8-72f46570be61"
      },
      "execution_count": null,
      "outputs": [
        {
          "output_type": "stream",
          "name": "stdout",
          "text": [
            "['even', 'odd', 'even', 'odd', 'even', 'odd', 'even', 'odd', 'even', 'odd']\n"
          ]
        }
      ]
    },
    {
      "cell_type": "markdown",
      "source": [
        "Here, list comprehension will check the five numbers from 0 to 4. If y is divisible by 2, then even is appended to the obj list. If not, odd is appended.\n",
        "\n"
      ],
      "metadata": {
        "id": "Dnjik4vOAIIW"
      }
    },
    {
      "cell_type": "markdown",
      "source": [
        "### Nested Loops in List Comprehension\n",
        "Suppose, we’d like to compute the transpose of a matrix that needs nested for loop. Let’s see how it’s done using normal for loop first.\n",
        "\n",
        "#### Finding Transpose of Matrix using Nested Loops\n"
      ],
      "metadata": {
        "id": "aeXLtwQVBJqB"
      }
    },
    {
      "cell_type": "code",
      "source": [
        "transposed_matrix = []\n",
        "matrix = [[1, 2, 3, 4], [4, 5, 6, 8]]\n",
        "for i in range(len(matrix[0])):\n",
        "        transposed_row = []\n",
        "        for row in matrix:\n",
        "              transposed_row.append(row[i])\n",
        "        transposed_matrix.append(transposed_row)\n",
        "print(transposed_matrix)"
      ],
      "metadata": {
        "colab": {
          "base_uri": "https://localhost:8080/"
        },
        "id": "nJOKdG8IBj2g",
        "outputId": "9b5d131d-64ba-4856-b44f-7ac55a2ab3b7"
      },
      "execution_count": null,
      "outputs": [
        {
          "output_type": "stream",
          "name": "stdout",
          "text": [
            "[[1, 4], [2, 5], [3, 6], [4, 8]]\n"
          ]
        }
      ]
    },
    {
      "cell_type": "markdown",
      "source": [
        "The above code uses two for loops to search out the transpose of the matrix.\n",
        "\n",
        "Also, We can perform nested iterations inside a list comprehension. In this section, we are going to find the transpose of a matrix using a nested loop inside a list comprehension."
      ],
      "metadata": {
        "id": "Cxw8vQJhBkum"
      }
    },
    {
      "cell_type": "code",
      "source": [
        "# Finding Transpose of a Matrix using List Comprehension\n",
        "matrix = [[1, 2], [3,4], [5,6], [7,8]]\n",
        "\n",
        "transpose_matrix = [[row[i] for row in matrix] for i in range(2)]\n",
        "print (transpose_matrix)"
      ],
      "metadata": {
        "id": "x0AHRcMfCYbf"
      },
      "execution_count": null,
      "outputs": []
    },
    {
      "cell_type": "markdown",
      "source": [
        "### Key Points on List Comprehension\n",
        "The key points which we have to keep in mind while working with list comprehension are as follows:\n",
        "\n",
        "1. List comprehension is a sublime way to define and build lists with the help of existing lists.\n",
        "I2. In comparison to normal functions and loops, List comprehension is usually more compact and faster for creating lists.\n",
        "3. However, we should always avoid writing very long list comprehensions in one line to confirm that code is user-friendly.\n",
        "4. Remember, every list comprehension is rewritten in for loop, but every for loop can’t be rewritten within the kind of list comprehension.\n",
        "\n",
        "\n",
        "#### Finding the elements in a list in which elements are ended with the letter ‘b’ and the length of that element is greater than 2\n"
      ],
      "metadata": {
        "id": "o5Od1ZGbEntl"
      }
    },
    {
      "cell_type": "code",
      "source": [
        "names = ['Ch','Dh','Eh','cb','Tb','Td','Chb','Tdb']\n",
        "final_names = [name for name in names if name.lower().endswith('b') and len(name) > 2]\n",
        "final_names"
      ],
      "metadata": {
        "colab": {
          "base_uri": "https://localhost:8080/"
        },
        "id": "lfDRJxhAJdHZ",
        "outputId": "5f1cafc7-8174-497a-a109-a4110db78405"
      },
      "execution_count": null,
      "outputs": [
        {
          "output_type": "execute_result",
          "data": {
            "text/plain": [
              "['Chb', 'Tdb']"
            ]
          },
          "metadata": {},
          "execution_count": 3
        }
      ]
    },
    {
      "cell_type": "markdown",
      "source": [
        "### Reverse each String in a Tuple"
      ],
      "metadata": {
        "id": "UGnHoMC0KiUs"
      }
    },
    {
      "cell_type": "code",
      "source": [
        "# Reverse each elements in a specified tuple\n",
        "List = [string[::-1] for string in ('Hello', 'Pythonic', 'Universe')]\n",
        "# Display the list\n",
        "print(List)"
      ],
      "metadata": {
        "colab": {
          "base_uri": "https://localhost:8080/"
        },
        "id": "yIfTBGdiKaqM",
        "outputId": "987267e3-73b0-4156-8a99-1e99c897e454"
      },
      "execution_count": null,
      "outputs": [
        {
          "output_type": "stream",
          "name": "stdout",
          "text": [
            "['olleH', 'cinohtyP', 'esrevinU']\n"
          ]
        }
      ]
    },
    {
      "cell_type": "markdown",
      "source": [
        "In the above code, we use the concept of slicing in a string, therefore by using the str[::-1] function, we can reverse the elements of a string, and we apply this function to every element in the tuple by using list comprehension."
      ],
      "metadata": {
        "id": "OE1BR5nhKq2E"
      }
    },
    {
      "cell_type": "markdown",
      "source": [
        "## **Randomization**\n",
        "\n"
      ],
      "metadata": {
        "id": "LFn2MN8GPlFH"
      }
    },
    {
      "cell_type": "markdown",
      "source": [
        "### Python Random Module\n",
        "We can generate random numbers in Python by using random module.\n",
        "\n",
        "Python offers random module that can generate random numbers.\n",
        "\n"
      ],
      "metadata": {
        "id": "1Rynlx-SQEss"
      }
    },
    {
      "cell_type": "code",
      "source": [
        "import random\n",
        "# dice = [1, 2, 3, 4, 5, 6]\n",
        "\n",
        "# for each_el in dice:\n",
        "sample_val = random.randrange(1, 7)\n",
        "\n",
        "print(sample_val)"
      ],
      "metadata": {
        "colab": {
          "base_uri": "https://localhost:8080/"
        },
        "id": "gQMpXy9iD7LX",
        "outputId": "e365273e-95eb-4e9f-9c3f-cd85f892877b"
      },
      "execution_count": null,
      "outputs": [
        {
          "output_type": "stream",
          "name": "stdout",
          "text": [
            "3\n"
          ]
        }
      ]
    },
    {
      "cell_type": "code",
      "source": [
        "print(help(random))"
      ],
      "metadata": {
        "id": "M8dT2Z-mFINH"
      },
      "execution_count": null,
      "outputs": []
    },
    {
      "cell_type": "markdown",
      "source": [],
      "metadata": {
        "id": "ZVnbUhwnSbS8"
      }
    },
    {
      "cell_type": "markdown",
      "source": [
        "### Seeding\n",
        "\n",
        "These are pseudo-random number as the sequence of number generated depends on the seed.\n",
        "\n",
        "If the seeding value is same, the sequence will be the same. For example, if you use 2 as the seeding value, you will always see the following sequence."
      ],
      "metadata": {
        "id": "h6KvsfNMSatd"
      }
    },
    {
      "cell_type": "code",
      "source": [
        "import random\n",
        "random.seed(10)\n",
        "\n",
        "print(random.random())\n",
        "print(random.random())\n",
        "print(random.random())"
      ],
      "metadata": {
        "id": "JH3R011FZ-lD",
        "colab": {
          "base_uri": "https://localhost:8080/"
        },
        "outputId": "acb643ad-6fb3-4258-a0e6-2c348f988ab5"
      },
      "execution_count": null,
      "outputs": [
        {
          "output_type": "stream",
          "name": "stdout",
          "text": [
            "0.5714025946899135\n",
            "0.4288890546751146\n",
            "0.5780913011344704\n"
          ]
        }
      ]
    },
    {
      "cell_type": "markdown",
      "source": [
        "Since this generator is completely deterministic, it must not be used for `encryption purpose.`\n",
        "\n",
        "Here is the list of all the functions defined in random module with a brief explanation of what they do."
      ],
      "metadata": {
        "id": "OKVtbGSmSyUm"
      }
    },
    {
      "cell_type": "markdown",
      "source": [
        "### Function\tDescription\n",
        "- `seed(a=None, version=2)`\tInitialize the random number generator\n",
        "- `getstate()`\tReturns an object capturing the current internal state of the generator\n",
        "- `setstate(state)`\tRestores the internal state of the generator\n",
        "- `getrandbits(k)`\tReturns a Python integer with k random bits\n",
        "- `randrange(start, stop[, step])`\tReturns a random integer from the range\n",
        "- `randint(a, b)`\tReturns a random integer between a and b inclusive\n",
        "- `choice(seq)`\tReturn a random element from the non-empty sequence\n",
        "- `shuffle(seq)`\tShuffle the sequence\n",
        "- `sample(population, k)`\tReturn a k length list of unique elements chosen from the population sequence\n",
        "- `random()`\tReturn the next random floating point number in the range [0.0, 1.0)\n",
        "- `uniform(a, b)`\tReturn a random floating point number between a and b inclusive\n",
        "- `triangular(low, high, mode)`\tReturn a random floating point number between low and high, with the specified mode between those bounds\n",
        "- `betavariate(alpha, beta)`\tBeta distribution\n",
        "- `expovariate(lambd)`\tExponential distribution\n",
        "- `gammavariate(alpha, beta)`\tGamma distribution\n",
        "- `gauss(mu, sigma)`\tGaussian distribution\n",
        "- `lognormvariate(mu, sigma)`\tLog normal distribution\n",
        "- `normalvariate(mu, sigma)`\tNormal distribution\n",
        "- `vonmisesvariate(mu, kappa)`\tVonmises distribution\n",
        "- `paretovariate(alpha)`\tPareto distribution\n",
        "- `weibullvariate(alpha, beta)`\tWeibull distribution\n"
      ],
      "metadata": {
        "id": "6fEzNvw7SyCC"
      }
    },
    {
      "cell_type": "code",
      "source": [
        "import random\n",
        "random.seed(2)\n",
        "\n",
        "print(random.random())\n",
        "print(random.random())\n",
        "print(random.random())"
      ],
      "metadata": {
        "id": "1fK1qlT-PkU6"
      },
      "execution_count": null,
      "outputs": []
    },
    {
      "cell_type": "markdown",
      "source": [
        "## **Scope and Local/Global Variable**\n",
        "\n",
        "`Global variables` are those which are `not defined inside any function` and thus they have a global scope.\n",
        "\n",
        "Whereas `local variables` are those which `are defined inside a function` and thus its scope is limited to that function only.\n",
        "\n",
        "In other words, we can say that local variables are accessible only inside the function in which it was initialized whereas the global variables are accessible throughout the program and inside every function.\n",
        "\n",
        "Local variables are those which are initialized inside a function and belong only to that particular function. It cannot be accessed anywhere outside the function.\n",
        "\n",
        "Let’s see how to create a local variable.\n",
        "\n"
      ],
      "metadata": {
        "id": "KKuNp7jwPmtG"
      }
    },
    {
      "cell_type": "markdown",
      "source": [],
      "metadata": {
        "id": "zeTANx6jQBcS"
      }
    },
    {
      "cell_type": "code",
      "source": [
        "def biriyani():\n",
        "\n",
        "\t# local variable\n",
        "\tlove = \"Biriyani\"\n",
        "\tprint(f\"I love, you love, we all love {love}\")\n",
        "\n",
        "\n",
        "# Driver code\n",
        "biriyani()\n"
      ],
      "metadata": {
        "id": "lS509gfsQB1h",
        "colab": {
          "base_uri": "https://localhost:8080/"
        },
        "outputId": "0a663ab6-a980-4f49-9871-79cdf70c4fa7"
      },
      "execution_count": null,
      "outputs": [
        {
          "output_type": "stream",
          "name": "stdout",
          "text": [
            "I love, you love, we all love Biriyani\n"
          ]
        }
      ]
    },
    {
      "cell_type": "code",
      "source": [
        "love = \"Biriyani\"\n",
        "\n",
        "def biriyani():\n",
        "\n",
        "\t# local variable\n",
        "\n",
        "\tprint(f\"I love, you love, we all love {love}\")\n",
        "\n",
        "\n",
        "# Driver code\n",
        "biriyani()\n",
        "print(love)"
      ],
      "metadata": {
        "id": "7BgkFmNqlxlv",
        "colab": {
          "base_uri": "https://localhost:8080/"
        },
        "outputId": "888518b4-a440-4cf8-db14-0c051bffb855"
      },
      "execution_count": null,
      "outputs": [
        {
          "output_type": "stream",
          "name": "stdout",
          "text": [
            "I love, you love, we all love Biriyani\n",
            "Biriyani\n"
          ]
        }
      ]
    },
    {
      "cell_type": "markdown",
      "source": [],
      "metadata": {
        "id": "iM9Y5_56mX4t"
      }
    },
    {
      "cell_type": "code",
      "source": [
        "# Global variable\n",
        "love = \"Biriyani\"\n",
        "\n",
        "def biriyani():\n",
        "\n",
        "\tprint(f\"Bhitorer function bole: I love, you love, we all love {love}\")\n",
        "\n",
        "# Driver code\n",
        "biriyani()\n",
        "print(f\"\\nBahir function bole: I love, you love, we all love {love}\")"
      ],
      "metadata": {
        "colab": {
          "base_uri": "https://localhost:8080/"
        },
        "id": "SK1HHUaimcvs",
        "outputId": "68a836b5-13e6-4b39-9b6d-16281814680d"
      },
      "execution_count": null,
      "outputs": [
        {
          "output_type": "stream",
          "name": "stdout",
          "text": [
            "Bhitorer function bole: I love, you love, we all love Biriyani\n",
            "\n",
            "Bahir function bole: I love, you love, we all love Biriyani\n"
          ]
        }
      ]
    },
    {
      "cell_type": "code",
      "source": [],
      "metadata": {
        "id": "HCrmJ61ymcAj"
      },
      "execution_count": null,
      "outputs": []
    },
    {
      "cell_type": "markdown",
      "source": [
        "## **Debugging Techniques**\n",
        "\n",
        "Developers often find themselves in situations where the code they've written is not working quite right. When that happens, a developer debugs their code by instrumenting, executing and inspecting the code to determine what state of the application does not match the assumptions of how the code should be correctly running."
      ],
      "metadata": {
        "id": "92LeZWIGPn5c"
      }
    },
    {
      "cell_type": "markdown",
      "source": [
        "### What are some common debugging techniques?\n",
        "1. Some common debugging techniques include:\n",
        "\n",
        "2. Printing out or displaying values of variables and state at certain times during the execution of an application\n",
        "\n",
        "3. Changing the state of a program to make it do different things. This is called altering the \"path\" of the program\n",
        "\n",
        "4. Stepping through the execution of a program line by line\n",
        "\n",
        "5. Breakpoints\n",
        "\n",
        "6. Trace Points\n",
        "\n",
        "7. Stopping the program at certain events\n",
        "\n",
        "8. Viewing the output of a program in a debugger window\n",
        "\n",
        "for reference: https://www.fullstackpython.com/debugging.html"
      ],
      "metadata": {
        "id": "d1sUXcu6jBEr"
      }
    },
    {
      "cell_type": "markdown",
      "source": [],
      "metadata": {
        "id": "CYnzXxMMi_3E"
      }
    },
    {
      "cell_type": "markdown",
      "source": [],
      "metadata": {
        "id": "3OuUny41i_qm"
      }
    },
    {
      "cell_type": "code",
      "source": [],
      "metadata": {
        "id": "LDEakfWjP_72"
      },
      "execution_count": null,
      "outputs": []
    }
  ]
}