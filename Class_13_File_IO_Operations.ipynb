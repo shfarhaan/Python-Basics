{
  "nbformat": 4,
  "nbformat_minor": 0,
  "metadata": {
    "colab": {
      "provenance": [],
      "toc_visible": true,
      "authorship_tag": "ABX9TyO90vuxLKXrJklPczBuFxOR",
      "include_colab_link": true
    },
    "kernelspec": {
      "name": "python3",
      "display_name": "Python 3"
    },
    "language_info": {
      "name": "python"
    }
  },
  "cells": [
    {
      "cell_type": "markdown",
      "metadata": {
        "id": "view-in-github",
        "colab_type": "text"
      },
      "source": [
        "<a href=\"https://colab.research.google.com/github/shfarhaan/Python-Basics/blob/main/Class_13_File_IO_Operations.ipynb\" target=\"_parent\"><img src=\"https://colab.research.google.com/assets/colab-badge.svg\" alt=\"Open In Colab\"/></a>"
      ]
    },
    {
      "cell_type": "markdown",
      "source": [
        "# **File I/O operations in Python**\n",
        "\n",
        "Python provides a variety of built-in functions and libraries for file input/output operations. We'll explore how to read from and write to different file types, such as text files, CSV files, and JSON files.\n",
        "\n",
        "\n",
        "w = write\n",
        "r = read"
      ],
      "metadata": {
        "id": "0IyG0pOjecfm"
      }
    },
    {
      "cell_type": "markdown",
      "source": [
        "## **Step 1: File Creation in Current Directory**\n",
        "Before we dive into reading and writing files, let's start with creating files in the current directory. Python provides a built-in function called `open()` that allows us to create new files.\n",
        "\n",
        "```python\n",
        "# Create a new file\n",
        "file_path = 'new_file.txt'\n",
        "\n",
        "try:\n",
        "    file = open(file_path, 'w')\n",
        "    file.close()\n",
        "    print(f\"File '{file_path}' created successfully!\")\n",
        "except IOError as e:\n",
        "    print(\"An error occurred while creating the file:\", str(e))\n",
        "```\n",
        "\n",
        "In this example, we use the `open()` function to create a new file named `new_file.txt` in the current directory. The mode `'w'` is used to open the file in write mode. The `close()` method is called to release the file handle after creating the file. If an error occurs during file creation, it will be caught in the except block.\n"
      ],
      "metadata": {
        "id": "ERGpmU2ZXzUw"
      }
    },
    {
      "cell_type": "code",
      "source": [
        "# Create a new file\n",
        "\n",
        "file_path = 'new_file.txt'\n",
        "\n",
        "try:\n",
        "    file = open(file_path, 'w')\n",
        "    file.close()\n",
        "    print(f\"File '{file_path}' created successfully!\")\n",
        "except IOError as e:\n",
        "    print(\"An error occurred while creating the file:\", str(e))"
      ],
      "metadata": {
        "id": "b-NVaSumY4_P"
      },
      "execution_count": null,
      "outputs": []
    },
    {
      "cell_type": "code",
      "source": [
        "# Robin Jamal\n",
        "#new file creation\n",
        "\n",
        "file_path = \"productlist.txt\"\n",
        "\n",
        "try:\n",
        "    file = open(file_path, \"w\")\n",
        "    file.close()\n",
        "    print(f\"{file_path} has successfully been created\")\n",
        "\n",
        "except IOError as e:\n",
        "    print(\"Find your error:\", str(e))\n",
        "\n"
      ],
      "metadata": {
        "colab": {
          "base_uri": "https://localhost:8080/"
        },
        "id": "z0DLaquC9f7f",
        "outputId": "4f10fee2-79f1-4140-acf5-0edee052146c"
      },
      "execution_count": null,
      "outputs": [
        {
          "output_type": "stream",
          "name": "stdout",
          "text": [
            "productlist.txt has successfully been created\n"
          ]
        }
      ]
    },
    {
      "cell_type": "code",
      "source": [
        "#file reading\n",
        "file_path = \"productlist.txt\"\n",
        "\n",
        "try:\n",
        "    with open(file_path, \"r\") as file:\n",
        "        file_data = file.read()\n",
        "        print(file_data)\n",
        "\n",
        "except IOError as e:\n",
        "        print(\"Error occured while reading your file:\", str(e))"
      ],
      "metadata": {
        "colab": {
          "base_uri": "https://localhost:8080/"
        },
        "id": "3r7nGIyP90j9",
        "outputId": "6ada050c-cb11-4227-f685-808fe5c53019"
      },
      "execution_count": null,
      "outputs": [
        {
          "output_type": "stream",
          "name": "stdout",
          "text": [
            "\n"
          ]
        }
      ]
    },
    {
      "cell_type": "code",
      "source": [
        "import csv\n",
        "\n",
        "file_path = \"numbers.csv\"\n",
        "\n",
        "write_to_csv = [[\"Name\", \"Age\", \"Salary\", \"City\"], [\"Akib\", 30, 30000, \"Dhaka\"], [\"Sakib\", 25, 50000, \"Dhaka\"]]\n",
        "\n",
        "try:\n",
        "    with open(file_path, \"r\") as file:\n",
        "        csv_reader = csv.reader(file)\n",
        "        for row in csv_reader:\n",
        "            print(row)\n",
        "\n",
        "except IOError as e:\n",
        "    print(\"Read file error\", str(e))"
      ],
      "metadata": {
        "colab": {
          "base_uri": "https://localhost:8080/"
        },
        "id": "kXqgU_KrEG11",
        "outputId": "62b776e4-b9c2-4216-a141-74befc8aa5b2"
      },
      "execution_count": null,
      "outputs": [
        {
          "output_type": "stream",
          "name": "stdout",
          "text": [
            "Read file error [Errno 2] No such file or directory: 'numbers.csv'\n"
          ]
        }
      ]
    },
    {
      "cell_type": "code",
      "source": [
        "#reading csv file\n",
        "\n",
        "import csv\n",
        "\n",
        "file_path = \"numbers.csv\"\n",
        "\n",
        "write_to_csv = [[\"Name\", \"Age\", \"Salary\", \"City\"], [\"Akib\", 30, 30000, \"Dhaka\"], [\"Sakib\", 25, 50000, \"Dhaka\"]]\n",
        "\n",
        "try:\n",
        "    with open(file_path, \"r\") as file:\n",
        "        csv_reader = csv.reader(file)\n",
        "        for row in csv_reader:\n",
        "            print(row)\n",
        "\n",
        "except IOError as e:\n",
        "    print(\"Read file error\", str(e))"
      ],
      "metadata": {
        "colab": {
          "base_uri": "https://localhost:8080/"
        },
        "id": "eUHk_E2nD0q_",
        "outputId": "10d9b512-aee2-4104-df2c-e54a85e2e403"
      },
      "execution_count": null,
      "outputs": [
        {
          "output_type": "stream",
          "name": "stdout",
          "text": [
            "Read file error [Errno 2] No such file or directory: 'numbers.csv'\n"
          ]
        }
      ]
    },
    {
      "cell_type": "code",
      "source": [
        "#writing csv file\n",
        "\n",
        "file_path = \"numbers.csv\"\n",
        "\n",
        "write_to_csv = [[\"Name\", \"Age\", \"Salary\", \"City\"], [\"Akib\", 30, 30000, \"Dhaka\"], [\"Sakib\", 25, 50000, \"Dhaka\"]]\n",
        "\n",
        "try:\n",
        "    with open(file_path, \"w\") as file:\n",
        "        csv_writer = csv.writer(file)\n",
        "        csv_writer.writerows(write_to_csv)\n",
        "        file.close()\n",
        "        print(\"Rows are ready\")\n",
        "except IOError as e:\n",
        "    print(\"Find your error:\", str(e))"
      ],
      "metadata": {
        "colab": {
          "base_uri": "https://localhost:8080/"
        },
        "id": "y1GOFMkDEzTU",
        "outputId": "44544b4f-de43-4e2a-ed3f-4914d9ffdd16"
      },
      "execution_count": null,
      "outputs": [
        {
          "output_type": "stream",
          "name": "stdout",
          "text": [
            "Rows are ready\n"
          ]
        }
      ]
    },
    {
      "cell_type": "code",
      "source": [
        "import csv\n",
        "\n",
        "file_path = \"numbers.csv\"\n",
        "\n",
        "write_to_csv = [[\"Name\", \"Age\", \"Salary\", \"City\"], [\"Akib\", 30, 30000, \"Dhaka\"], [\"Sakib\", 25, 50000, \"Dhaka\"]]\n",
        "\n",
        "try:\n",
        "\n",
        "    with open(file_path, \"r\") as file:\n",
        "        csv_reader = csv.reader(file)\n",
        "        for row in csv_reader:\n",
        "            print(row)\n",
        "\n",
        "except IOError as e:\n",
        "    print(\"Read file error\", str(e))"
      ],
      "metadata": {
        "colab": {
          "base_uri": "https://localhost:8080/"
        },
        "id": "Zo2ntuijEPH0",
        "outputId": "e87aadd4-ddf9-4cbe-ab9c-9940656c3284"
      },
      "execution_count": null,
      "outputs": [
        {
          "output_type": "stream",
          "name": "stdout",
          "text": [
            "['Name', 'Age', 'Salary', 'City']\n",
            "['Akib', '30', '30000', 'Dhaka']\n",
            "['Sakib', '25', '50000', 'Dhaka']\n"
          ]
        }
      ]
    },
    {
      "cell_type": "code",
      "source": [
        "# Fahim Shahriar\n",
        "\n",
        "file_path = 'file1.txt'\n",
        "writing = \"Hi! How are you?\"\n",
        "\n",
        "try:\n",
        "    file = open(file_path, 'w')\n",
        "    with open(file_path, 'w') as file:\n",
        "        file.write(writing)\n",
        "    with open(file_path, 'r') as file:\n",
        "        data_reading = file.read()\n",
        "        print(data_reading)\n",
        "    print(f\"{file_path} has been created, data written and read successfully!\")\n",
        "except Exception as e:\n",
        "    print(f\"Something went wrong!\\nAn error occured while creating or writing the {file_path}\", str(e))"
      ],
      "metadata": {
        "colab": {
          "base_uri": "https://localhost:8080/"
        },
        "id": "WIR24IoTJael",
        "outputId": "3cced59a-2e34-4c2b-9898-98e1fce8351e"
      },
      "execution_count": null,
      "outputs": [
        {
          "output_type": "stream",
          "name": "stdout",
          "text": [
            "Hi! How are you?\n",
            "file1.txt has been created, data written and read successfully!\n"
          ]
        }
      ]
    },
    {
      "cell_type": "code",
      "source": [
        "# Fareen Feroz\n",
        "# Create csv\n",
        "import csv\n",
        "\n",
        "new_file= \"new_file.txt\"\n",
        "\n",
        "try:\n",
        "    file = open(new_file, 'w')\n",
        "    file.close()\n",
        "    print(f\"File '{new_file}' created successfully!\")\n",
        "\n",
        "    with open(new_file, 'r') as file:\n",
        "      csv_reader = csv.reader(file)\n",
        "      for row in csv_reader:\n",
        "          print(row)\n",
        "except IOError as e:\n",
        "    print(\"An error occurred while creating the file:\", str(e))"
      ],
      "metadata": {
        "colab": {
          "base_uri": "https://localhost:8080/"
        },
        "id": "TNU_Iyq5JnY6",
        "outputId": "28274771-92cc-410b-c3bd-e78d90449c1b"
      },
      "execution_count": null,
      "outputs": [
        {
          "output_type": "stream",
          "name": "stdout",
          "text": [
            "File 'new_file.txt' created successfully!\n"
          ]
        }
      ]
    },
    {
      "cell_type": "markdown",
      "source": [
        "\n",
        "## **Step 2: Reading from Files**\n",
        "To read data from files in Python, we can use the `open()` function with the appropriate file mode. Let's explore reading from different file types.\n",
        "\n",
        "**2.1 Reading from Text Files:**\n",
        "\n",
        "To read data from a text file, we can open the file in read mode (`'r'`) and use the `read()` method to retrieve the contents.\n",
        "\n",
        "```python\n",
        "# Read from a text file\n",
        "file_path = 'data.txt'\n",
        "\n",
        "try:\n",
        "    with open(file_path, 'r') as file:\n",
        "        data = file.read()\n",
        "        print(data)\n",
        "except IOError as e:\n",
        "    print(\"An error occurred while reading the file:\", str(e))\n",
        "```\n",
        "\n",
        "In this example, we open the file `data.txt` in read mode and use the `read()` method to read its contents. The `with` statement is used to automatically close the file after reading.\n"
      ],
      "metadata": {
        "id": "CpNJar2oY4Iw"
      }
    },
    {
      "cell_type": "code",
      "execution_count": null,
      "metadata": {
        "id": "fGVM_GLL7pTV",
        "colab": {
          "base_uri": "https://localhost:8080/"
        },
        "outputId": "c6d83499-5883-4b55-f958-b3c022a3ec9c"
      },
      "outputs": [
        {
          "output_type": "stream",
          "name": "stdout",
          "text": [
            "\n"
          ]
        }
      ],
      "source": [
        "# Read from a text file\n",
        "file_path = 'new_file.txt'\n",
        "\n",
        "try:\n",
        "    with open(file_path, 'r') as file:\n",
        "        data = file.read()\n",
        "        print(data)\n",
        "except IOError as e:\n",
        "    print(\"An error occurred while reading the file:\", str(e))"
      ]
    },
    {
      "cell_type": "markdown",
      "source": [
        "\n",
        "**2.2 Reading from CSV Files:**\n",
        "\n",
        "To read data from a CSV file, we can use the `csv` module in Python along with the `open()` function.\n",
        "\n",
        "```python\n",
        "import csv\n",
        "\n",
        "# Read from a CSV file\n",
        "file_path = 'data.csv'\n",
        "\n",
        "try:\n",
        "    with open(file_path, 'r') as file:\n",
        "        csv_reader = csv.reader(file)\n",
        "        for row in csv_reader:\n",
        "            print(row)\n",
        "except IOError as e:\n",
        "    print(\"An error occurred while reading the file:\", str(e))\n",
        "```\n",
        "\n",
        "In this example, we use the `csv.reader()` function to read the contents of the CSV file. We iterate over the rows and print each row.\n"
      ],
      "metadata": {
        "id": "4qqeK7VMZJRn"
      }
    },
    {
      "cell_type": "code",
      "source": [],
      "metadata": {
        "id": "YUbu7tnr_25F"
      },
      "execution_count": null,
      "outputs": []
    },
    {
      "cell_type": "code",
      "source": [
        "import csv\n",
        "\n",
        "# Create a new file\n",
        "file_path = 'new_file.txt'\n",
        "\n",
        "try:\n",
        "    file = open(file_path, 'w')\n",
        "    file.close()\n",
        "    print(f\"File '{file_path}' created successfully!\")\n",
        "\n",
        "    with open(file_path, 'r') as file:\n",
        "      csv_reader = csv.reader(file)\n",
        "      for row in csv_reader:\n",
        "          print(row)\n",
        "except IOError as e:\n",
        "    print(\"An error occurred while creating the file:\", str(e))"
      ],
      "metadata": {
        "id": "fco2Tqt2ZJ0O"
      },
      "execution_count": null,
      "outputs": []
    },
    {
      "cell_type": "markdown",
      "source": [
        "## **Step 3: Writing to Files**\n",
        "To write data to files in Python, we can open the file in write mode (`'w'`) and use the appropriate methods to write the data.\n",
        "\n",
        "**3.1 Writing to Text Files:**\n",
        "\n",
        "To write data to a text file, we can open the file in write mode and use the `write()` method.\n",
        "\n",
        "```python\n",
        "# Write to a text file\n",
        "file_path = 'output.txt'\n",
        "data_to_write = 'Hello, World!'\n",
        "\n",
        "try:\n",
        "    with open(file_path, 'w') as file:\n",
        "        file.write(data_to_write)\n",
        "    print(\"Data written to the file successfully!\")\n",
        "except IOError as e:\n",
        "    print(\"An error occurred while writing to the file:\", str(e))\n",
        "```\n",
        "\n",
        "In this example, we open the file `output.txt` in write mode and use the `write()` method to write the data `'Hello, World!'` to the file.\n"
      ],
      "metadata": {
        "id": "dTWyGF0oY-Ln"
      }
    },
    {
      "cell_type": "code",
      "source": [],
      "metadata": {
        "id": "kxpmB5_MZE1v"
      },
      "execution_count": null,
      "outputs": []
    },
    {
      "cell_type": "markdown",
      "source": [
        "\n",
        "**3.2 Writing to CSV Files:**\n",
        "\n",
        "To write data to a CSV file, we can use the `csv` module\n",
        "\n",
        " along with the `open()` function.\n",
        "\n",
        "```python\n",
        "import csv\n",
        "\n",
        "# Write to a CSV file\n",
        "file_path = 'output.csv'\n",
        "data_to_write = [['Name', 'Age'], ['John', 25], ['Jane', 30]]\n",
        "\n",
        "try:\n",
        "    with open(file_path, 'w', newline='') as file:\n",
        "        csv_writer = csv.writer(file)\n",
        "        csv_writer.writerows(data_to_write)\n",
        "    print(\"Data written to the file successfully!\")\n",
        "except IOError as e:\n",
        "    print(\"An error occurred while writing to the file:\", str(e))\n",
        "```\n",
        "\n",
        "In this example, we use the `csv.writer()` function to write data to the CSV file. We pass a list of lists (`data_to_write`) containing the rows to be written.\n"
      ],
      "metadata": {
        "id": "xnT4WI5uZMjA"
      }
    },
    {
      "cell_type": "code",
      "source": [],
      "metadata": {
        "id": "3GFsgGYqZNPX"
      },
      "execution_count": null,
      "outputs": []
    },
    {
      "cell_type": "code",
      "source": [
        "# Read from a CSV file\n",
        "file_path = 'output.csv'\n",
        "\n",
        "try:\n",
        "    with open(file_path, 'r') as file:\n",
        "        csv_reader = csv.reader(file)\n",
        "        for row in csv_reader:\n",
        "            print(rows) # Intentional Errors for Second Except block\n",
        "except IOError as e:\n",
        "    print(\"An error occurred while reading the file:\", str(e))\n",
        "\n",
        "except Exception as e:\n",
        "    print(\"An error occurred:\", str(e))"
      ],
      "metadata": {
        "colab": {
          "base_uri": "https://localhost:8080/"
        },
        "id": "G2lv1PZ2v_4w",
        "outputId": "fa1a25a7-4f39-4810-925b-21176ba90c25"
      },
      "execution_count": null,
      "outputs": [
        {
          "output_type": "stream",
          "name": "stdout",
          "text": [
            "An error occurred: name 'rows' is not defined\n"
          ]
        }
      ]
    },
    {
      "cell_type": "markdown",
      "source": [
        "\n",
        "## **Step 4: Handling Errors and Exceptions**\n",
        "When working with file I/O operations, it's essential to handle errors and exceptions. We can use try-except blocks to catch and handle exceptions that may occur during file operations.\n",
        "\n",
        "```python\n",
        "try:\n",
        "    # Code for file I/O operations\n",
        "except IOError as e:\n",
        "    print(\"An error occurred during file I/O operations:\", str(e))\n",
        "except Exception as e:\n",
        "    print(\"An error occurred:\", str(e))\n",
        "```\n",
        "\n",
        "In the try block, we write the code for file I/O operations. If any exception occurs, it will be caught in the appropriate except block, and an error message will be displayed.\n",
        "\n",
        "That's it! This tutorial covers the basics of file I/O operations in Python for various file types. By following these steps, you can create, read, and write files effectively. Remember to adapt the code and file paths to match your specific use case."
      ],
      "metadata": {
        "id": "CFmPQnUBZFL_"
      }
    },
    {
      "cell_type": "markdown",
      "source": [
        "# **Considering the Files are already Created**"
      ],
      "metadata": {
        "id": "i5vjrderZVGP"
      }
    },
    {
      "cell_type": "markdown",
      "source": [
        "## **1. Reading and Writing Text Files:**\n",
        "\n",
        "Text files are the simplest file type to handle. You can use the built-in `open()` function to open a text file and perform read or write operations.\n"
      ],
      "metadata": {
        "id": "r4KDmQrsRK4w"
      }
    },
    {
      "cell_type": "markdown",
      "source": [
        "**Reading a Text File:**\n",
        "\n",
        "To read the contents of a text file, you can use the `open()` function with the mode set to \"r\" (read). Here's an example:\n",
        "\n",
        "```python\n",
        "with open('text_file.txt', 'r') as file:\n",
        "    content = file.read()\n",
        "    print(content)\n",
        "```\n",
        "\n",
        "This code opens the file named \"text_file.txt\" and reads its entire contents into the `content` variable. The `with` statement ensures that the file is properly closed after it's been read.\n"
      ],
      "metadata": {
        "id": "ENEXepTTVtbB"
      }
    },
    {
      "cell_type": "code",
      "source": [
        "# Create a new file\n",
        "file_path = 'text_file.txt'\n",
        "\n",
        "try:\n",
        "    file = open(file_path, 'w')\n",
        "    file.close()\n",
        "    print(f\"File '{file_path}' created successfully!\")\n",
        "except IOError as e:\n",
        "    print(\"An error occurred while creating the file:\", str(e))\n"
      ],
      "metadata": {
        "id": "80EaNQ4NVxjr",
        "colab": {
          "base_uri": "https://localhost:8080/"
        },
        "outputId": "537f8f36-098f-4835-d514-b98689adb88b"
      },
      "execution_count": null,
      "outputs": [
        {
          "output_type": "stream",
          "name": "stdout",
          "text": [
            "File 'text_file.txt' created successfully!\n"
          ]
        }
      ]
    },
    {
      "cell_type": "code",
      "source": [
        "with open('text_file.txt', 'r') as file:\n",
        "    content = file.read()\n",
        "    print(content)"
      ],
      "metadata": {
        "id": "Uaa0vnPyXeLA",
        "colab": {
          "base_uri": "https://localhost:8080/"
        },
        "outputId": "960709c0-e9db-4912-82df-6bb8d38b4eaf"
      },
      "execution_count": null,
      "outputs": [
        {
          "output_type": "stream",
          "name": "stdout",
          "text": [
            "\n"
          ]
        }
      ]
    },
    {
      "cell_type": "code",
      "source": [
        "with open('text_file.txt', 'w') as file:\n",
        "    file.write('Hello, world!')"
      ],
      "metadata": {
        "id": "KFwfENFdXjbf"
      },
      "execution_count": null,
      "outputs": []
    },
    {
      "cell_type": "code",
      "source": [
        "with open('text_file.txt', 'r') as file:\n",
        "    content = file.read()\n",
        "    print(content)"
      ],
      "metadata": {
        "id": "dxFdqVaQXnPv",
        "colab": {
          "base_uri": "https://localhost:8080/"
        },
        "outputId": "b61d7124-2357-439d-8847-5ebad96404eb"
      },
      "execution_count": null,
      "outputs": [
        {
          "output_type": "stream",
          "name": "stdout",
          "text": [
            "Hello, world!\n"
          ]
        }
      ]
    },
    {
      "cell_type": "markdown",
      "source": [
        "\n",
        "**Writing to a Text File:**\n",
        "\n",
        "To write data to a text file, you can use the `open()` function with the mode set to \"w\" (write). Here's an example:\n",
        "\n",
        "```python\n",
        "with open('text_file.txt', 'w') as file:\n",
        "    file.write('Hello, world!')\n",
        "```\n",
        "\n",
        "This code opens the file named \"text_file.txt\" and writes the string \"Hello, world!\" into it. If the file doesn't exist, it will be created. If it does exist, the previous contents will be overwritten."
      ],
      "metadata": {
        "id": "cs_dY1frVyDY"
      }
    },
    {
      "cell_type": "code",
      "source": [],
      "metadata": {
        "id": "MmxsbHBlV9Cw"
      },
      "execution_count": null,
      "outputs": []
    },
    {
      "cell_type": "markdown",
      "source": [
        "\n",
        "## **2. Reading and Writing CSV Files:**\n",
        "\n",
        "CSV (Comma-Separated Values) files are commonly used for storing tabular data. Python provides the `csv` module to handle CSV files."
      ],
      "metadata": {
        "id": "7DGpj3O7V9d4"
      }
    },
    {
      "cell_type": "markdown",
      "source": [
        "\n",
        "**Reading a CSV File:**\n",
        "\n",
        "To read data from a CSV file, you can use the `csv.reader` object from the `csv` module. Here's an example:\n",
        "\n",
        "```python\n",
        "import csv\n",
        "\n",
        "with open('data.csv', 'r') as file:\n",
        "    reader = csv.reader(file)\n",
        "    for row in reader:\n",
        "        print(row)\n",
        "```\n",
        "\n",
        "This code opens the file named \"data.csv\" and reads its contents using the `csv.reader` object. Each row of the file is returned as a list of values, which you can process as needed.\n"
      ],
      "metadata": {
        "id": "rtF4r2VUWNIv"
      }
    },
    {
      "cell_type": "code",
      "source": [],
      "metadata": {
        "id": "AUEdsp_5WQVr"
      },
      "execution_count": null,
      "outputs": []
    },
    {
      "cell_type": "markdown",
      "source": [
        "\n",
        "**Writing to a CSV File:**\n",
        "\n",
        "To write data to a CSV file, you can use the `csv.writer` object from the `csv` module. Here's an example:\n",
        "\n",
        "```python\n",
        "import csv\n",
        "\n",
        "data = [\n",
        "    ['Name', 'Age', 'Country'],\n",
        "    ['John', '25', 'USA'],\n",
        "    ['Alice', '30', 'Canada'],\n",
        "    ['Bob', '20', 'UK']\n",
        "]\n",
        "\n",
        "with open('data.csv', 'w', newline='') as file:\n",
        "    writer = csv.writer(file)\n",
        "    writer.writerows(data)\n",
        "```\n",
        "\n",
        "This code creates a list of lists `data`, where each inner list represents a row of data. It then writes the data to a CSV file named \"data.csv\" using the `csv.writer` object.\n"
      ],
      "metadata": {
        "id": "KRszJ5AvWQnQ"
      }
    },
    {
      "cell_type": "code",
      "source": [],
      "metadata": {
        "id": "AX0UCgq8WS1Q"
      },
      "execution_count": null,
      "outputs": []
    },
    {
      "cell_type": "markdown",
      "source": [
        "\n",
        "## **3. Reading and Writing JSON Files:**\n",
        "\n",
        "\n",
        "\n",
        "JSON (JavaScript Object Notation) files are commonly used for storing structured data. Python provides the `json` module to handle JSON files.\n"
      ],
      "metadata": {
        "id": "j-XERmRQWGgA"
      }
    },
    {
      "cell_type": "markdown",
      "source": [
        "\n",
        "**Reading a JSON File:**\n",
        "\n",
        "To read data from a JSON file, you can use the `json.load()` function from the `json` module. Here's an example:\n",
        "\n",
        "```python\n",
        "import json\n",
        "\n",
        "with open('data.json', 'r') as file:\n",
        "    data = json.load(file)\n",
        "    print(data)\n",
        "```\n",
        "\n",
        "This code opens the file named \"data.json\" and loads its contents into the `data` variable using the `json.load()` function. The JSON data is parsed into a Python data structure, such as a dictionary or a list.\n"
      ],
      "metadata": {
        "id": "MJN34xBsWWHn"
      }
    },
    {
      "cell_type": "code",
      "source": [],
      "metadata": {
        "id": "wH06h1ysWbeW"
      },
      "execution_count": null,
      "outputs": []
    },
    {
      "cell_type": "markdown",
      "source": [
        "\n",
        "**Writing to a JSON File:**\n",
        "\n",
        "To write data to a JSON file, you can use the `json.dump()` function from the `json` module. Here's an example:\n",
        "\n",
        "```python\n",
        "import json\n",
        "\n",
        "data = {\n",
        "    'name': 'John',\n",
        "    'age': 25,\n",
        "    'country': 'USA'\n",
        "}\n",
        "\n",
        "with open('data.json', 'w') as file:\n",
        "    json.dump(data, file)\n",
        "```\n",
        "\n",
        "This code creates a dictionary `data` and writes it to a JSON file named \"data.json\" using the `json.dump()` function.\n",
        "\n",
        "That's it! You now have a basic understanding of file I/O operations in Python for different file types. Feel free to explore additional functionalities and options provided by Python's built-in modules to further enhance your file handling capabilities."
      ],
      "metadata": {
        "id": "d_bS8-lrWbwH"
      }
    },
    {
      "cell_type": "code",
      "source": [
        "import json\n",
        "\n",
        "with open('data.json', 'r') as file:\n",
        "    data = json.load(file)\n",
        "    print(data)\n",
        "\n"
      ],
      "metadata": {
        "id": "lzTwyu7cWeK3",
        "colab": {
          "base_uri": "https://localhost:8080/"
        },
        "outputId": "a7623ee2-1ce0-4adc-c2e7-18b742e28a41"
      },
      "execution_count": null,
      "outputs": [
        {
          "output_type": "stream",
          "name": "stdout",
          "text": [
            "{'songs': [{'rank': 1, 'title': 'Like a Rolling Stone', 'artist': 'Bob Dylan', 'album': 'Highway 61 Revisited', 'year': '1965'}, {'rank': 2, 'title': \"(I Can't Get No) Satisfaction\", 'artist': 'The Rolling Stones', 'album': 'Out of Our Heads', 'year': '1965'}, {'rank': 3, 'title': 'Imagine', 'artist': 'John Lennon', 'album': 'Imagine', 'year': '1971'}, {'rank': 4, 'title': \"What's Going On\", 'artist': 'Marvin Gaye', 'album': \"What's Going On\", 'year': '1971'}, {'rank': 5, 'title': 'Respect', 'artist': 'Aretha Franklin', 'album': 'I Never Loved a Man the Way I Love You', 'year': '1967'}, {'rank': 6, 'title': 'Good Vibrations', 'artist': 'The Beach Boys', 'album': 'Smiley Smile/Wild Honey', 'year': '1966'}, {'rank': 7, 'title': 'Johnny B. Goode', 'artist': 'Chuck Berry', 'album': 'The Anthology', 'year': '1958'}, {'rank': 8, 'title': 'Hey Jude', 'artist': 'The Beatles', 'album': 'Hey Jude', 'year': '1968'}, {'rank': 9, 'title': 'Smells Like Teen Spirit', 'artist': 'Nirvana', 'album': 'Nevermind', 'year': '1991'}, {'rank': 10, 'title': \"What'd I Say\", 'artist': 'Ray Charles', 'album': \"What'd I Say\", 'year': '1959'}, {'rank': 11, 'title': 'My Generation', 'artist': 'The Who', 'album': 'My Generation', 'year': '1965'}, {'rank': 12, 'title': 'A Change Is Gonna Come', 'artist': 'Sam Cooke', 'album': 'Portrait of a Legend 1951-1964', 'year': '1964'}, {'rank': 13, 'title': 'Yesterday', 'artist': 'The Beatles', 'album': 'Help!', 'year': '1965'}, {'rank': 14, 'title': \"Blowin' in the Wind\", 'artist': 'Bob Dylan', 'album': \"The Freewheelin' Bob Dylan\", 'year': '1963'}, {'rank': 15, 'title': 'London Calling', 'artist': 'The Clash', 'album': 'London Calling', 'year': '1980'}, {'rank': 16, 'title': 'I Want to Hold Your Hand', 'artist': 'The Beatles', 'album': 'Meet the Beatles!', 'year': '1963'}, {'rank': 17, 'title': 'Purple Haze', 'artist': 'The Jimi Hendrix Experience', 'album': 'Are You Experienced?', 'year': '1967'}, {'rank': 18, 'title': 'Maybellene', 'artist': 'Chuck Berry', 'album': 'The Anthology', 'year': '1955'}, {'rank': 19, 'title': 'Hound Dog', 'artist': 'Elvis Presley', 'album': ' Elvis 30 #1 Hits', 'year': '1956'}, {'rank': 20, 'title': 'Let It Be', 'artist': 'The Beatles', 'album': 'Let It Be', 'year': '1970'}, {'rank': 21, 'title': 'Born to Run', 'artist': 'Bruce Springsteen', 'album': 'Born to Run', 'year': '1975'}, {'rank': 22, 'title': 'Be My Baby', 'artist': 'The Ronettes', 'album': 'The Best of the Ronettes', 'year': '1963'}, {'rank': 23, 'title': 'In My Life', 'artist': 'The Beatles', 'album': 'Rubber Soul', 'year': '1965'}, {'rank': 24, 'title': 'People Get Ready', 'artist': 'The Impressions', 'album': 'The Very Best of the Impressions', 'year': '1965'}, {'rank': 25, 'title': 'God Only Knows', 'artist': 'The Beach Boys', 'album': 'Pet Sounds', 'year': '1966'}, {'rank': 26, 'title': \"(Sittin' On) The Dock of the Bay\", 'artist': 'Otis Redding', 'album': 'The Dock of the Bay', 'year': '1968'}, {'rank': 27, 'title': 'Layla', 'artist': 'Derek and the Dominos', 'album': 'Layla And Other Assorted Love Songs', 'year': '1970'}, {'rank': 28, 'title': 'A Day in the Life', 'artist': 'The Beatles', 'album': \"Sgt. Pepper's Lonely Hearts Club Band\", 'year': '1967'}, {'rank': 29, 'title': 'Help!', 'artist': 'The Beatles', 'album': 'Help!', 'year': '1965'}, {'rank': 30, 'title': 'I Walk the Line', 'artist': 'Johnny Cash', 'album': 'The Complete Original Sun Singles', 'year': '1956'}, {'rank': 31, 'title': 'Stairway to Heaven', 'artist': 'Led Zeppelin', 'album': 'Led Zeppelin IV', 'year': '1971'}, {'rank': 32, 'title': 'Sympathy for the Devil', 'artist': 'The Rolling Stones', 'album': 'Beggars Banquet', 'year': '1968'}, {'rank': 33, 'title': 'River Deep - Mountain High', 'artist': 'Ike & Tina Turner', 'album': 'Proud Mary: The Best of Ike and Tina Turner', 'year': '1966'}, {'rank': 34, 'title': \"You've Lost That Lovin' Feelin'\", 'artist': 'The Righteous Brothers', 'album': 'Anthology 1962-1974', 'year': '1964'}, {'rank': 35, 'title': 'Light My Fire', 'artist': 'The Doors', 'album': 'The Doors', 'year': '1967'}, {'rank': 36, 'title': 'One', 'artist': 'U2', 'album': 'Achtung Baby', 'year': '1991'}, {'rank': 37, 'title': 'No Woman, No Cry', 'artist': 'Bob Marley & The Wailers', 'album': 'Natty Dread', 'year': '1975'}, {'rank': 38, 'title': 'Gimme Shelter', 'artist': 'The Rolling Stones', 'album': 'Let It Bleed', 'year': '1969'}, {'rank': 39, 'title': \"That'll Be the Day\", 'artist': 'Buddy Holly & The Crickets', 'album': 'Greatest Hits', 'year': '1957'}, {'rank': 40, 'title': 'Dancing in the Street', 'artist': 'Martha and the Vandellas', 'album': 'The Ultimate Collection', 'year': '1964'}, {'rank': 41, 'title': 'The Weight', 'artist': 'The Band', 'album': 'Music From Big Pink', 'year': '1968'}, {'rank': 42, 'title': 'Waterloo Sunset', 'artist': 'The Kinks', 'album': 'Something Else By The Kinks', 'year': '1968'}, {'rank': 43, 'title': 'Tutti-Frutti', 'artist': 'Little Richard', 'album': 'The Georgia Peach', 'year': '1956'}, {'rank': 44, 'title': 'Georgia On My Mind', 'artist': 'Ray Charles', 'album': 'Ultimate Hits Collection', 'year': '1960'}, {'rank': 45, 'title': 'Heartbreak Hotel', 'artist': 'Elvis Presley', 'album': 'Elvis 30 #1 Hits', 'year': '1956'}, {'rank': 46, 'title': 'Heroes', 'artist': 'David Bowie', 'album': 'Heroes', 'year': '1977'}, {'rank': 47, 'title': 'All Along the Watchtower', 'artist': 'The Jimi Hendrix Experience', 'album': 'Electric Ladyland', 'year': '1968'}, {'rank': 48, 'title': 'Bridge Over Troubled Water', 'artist': 'Simon & Garfunkel', 'album': 'Bridge Over Troubled Water', 'year': '1970'}, {'rank': 49, 'title': 'Hotel California', 'artist': 'Eagles', 'album': 'Hotel California', 'year': '1976'}, {'rank': 50, 'title': 'The Tracks Of My Tears', 'artist': 'Smokey Robinson and the Miracles', 'album': 'Going to a Go-Go', 'year': '1965'}, {'rank': 51, 'title': 'The Message', 'artist': 'Grandmaster Flash and the Furious Five', 'album': 'The Best of Sugar Hill Records', 'year': '1980'}, {'rank': 52, 'title': 'When Doves Cry', 'artist': 'Prince and The Revolution', 'album': 'Purple Rain', 'year': '1984'}, {'rank': 53, 'title': 'When A Man Loves A Woman', 'artist': 'Percy Sledge', 'album': 'It Tears Me Up: The Best of Percy Sledge', 'year': '1966'}, {'rank': 54, 'title': 'Louie Louie', 'artist': 'The Kingsmen', 'album': 'The Best of the Kingsmen', 'year': '1963'}, {'rank': 55, 'title': 'Long Tall Sally', 'artist': 'Little Richard', 'album': 'The Georgia Peach', 'year': '1956'}, {'rank': 56, 'title': 'Anarchy in the U.K.', 'artist': 'Sex Pistols', 'album': \"Never Mind the Bollocks, Here's the Sex Pistols\", 'year': '1976'}, {'rank': 57, 'title': 'A Whiter Shade of Pale', 'artist': 'Procol Harum', 'album': 'Greatest Hits', 'year': '1967'}, {'rank': 58, 'title': 'Billie Jean', 'artist': 'Michael Jackson', 'album': 'Thriller', 'year': '1983'}, {'rank': 59, 'title': \"The Times They Are a-Changin'\", 'artist': 'Bob Dylan', 'album': \"The Times They Are A-Changin'\", 'year': '1964'}, {'rank': 60, 'title': \"Let's Stay Together\", 'artist': 'Al Green', 'album': \"Let's Stay Together\", 'year': '1971'}, {'rank': 61, 'title': \"Whole Lotta Shakin' Going On\", 'artist': 'Jerry Lee Lewis', 'album': 'Original Sun Greatest Hits', 'year': '1957'}, {'rank': 62, 'title': 'Bo Diddley', 'artist': 'Bo Diddley', 'album': 'His Best: The Chess 50th Anniversary Collection', 'year': '1955'}, {'rank': 63, 'title': \"For What It's Worth\", 'artist': 'Buffalo Springfield', 'album': 'Buffalo Springfield', 'year': '1967'}, {'rank': 64, 'title': 'She Loves You', 'artist': 'The Beatles', 'album': 'The Beatles 1', 'year': '1963'}, {'rank': 65, 'title': 'Sunshine of Your Love', 'artist': 'Cream', 'album': 'Disraeli Gears', 'year': '1968'}, {'rank': 66, 'title': 'Redemption Song', 'artist': 'Bob Marley & The Wailers', 'album': 'Uprising', 'year': '1980'}, {'rank': 67, 'title': 'Jailhouse Rock', 'artist': 'Elvis Presley', 'album': 'Elvis 30 #1 Hits', 'year': '1957'}, {'rank': 68, 'title': 'Tangled Up in Blue', 'artist': 'Bob Dylan', 'album': 'Blood on the Tracks', 'year': '1975'}, {'rank': 69, 'title': 'Crying', 'artist': 'Roy Orbison', 'album': 'For the Lonely: 18 Greatest Hits', 'year': '1961'}, {'rank': 70, 'title': 'Walk On By', 'artist': 'Dionne Warwick', 'album': 'The Dionne Warwick Collection: Her All-Time Greatest Hits', 'year': '1964'}, {'rank': 71, 'title': \"Papa's Got a Brand New Bag\", 'artist': 'James Brown', 'album': '50th Anniversary Collection', 'year': '1966'}, {'rank': 72, 'title': 'California Girls', 'artist': 'The Beach Boys', 'album': 'Sounds of Summer: The Very Best of the Beach Boys', 'year': '1965'}, {'rank': 73, 'title': 'Superstition', 'artist': 'Stevie Wonder', 'album': 'Talking Book', 'year': '1973'}, {'rank': 74, 'title': 'Summertime Blues', 'artist': 'Eddie Cochran', 'album': \"Somethin' Else\", 'year': '1958'}, {'rank': 75, 'title': 'Whole Lotta Love', 'artist': 'Led Zeppelin', 'album': 'Led Zeppelin II', 'year': '1969'}, {'rank': 76, 'title': 'Strawberry Fields Forever', 'artist': 'The Beatles', 'album': 'Magical Mystery Tour', 'year': '1967'}, {'rank': 77, 'title': 'Mystery Train', 'artist': 'Elvis Presley', 'album': 'Sunrise', 'year': '1955'}, {'rank': 78, 'title': 'I Got You (I Feel Good)', 'artist': 'James Brown', 'album': 'James Brown 50th Anniversary Collection', 'year': '1966'}, {'rank': 79, 'title': 'Mr. Tambourine Man', 'artist': 'The Byrds', 'album': 'Mr. Tambourine Man', 'year': '1965'}, {'rank': 80, 'title': 'You Really Got Me', 'artist': 'The Kinks', 'album': 'Kinks', 'year': '1964'}, {'rank': 81, 'title': 'I Heard It Through the Grapevine', 'artist': 'Marvin Gaye', 'album': 'Every Motown Hit', 'year': '1968'}, {'rank': 82, 'title': 'Blueberry Hill', 'artist': 'Fats Domino', 'album': 'The Fats Domino Jukebox', 'year': '1956'}, {'rank': 83, 'title': 'Norwegian Wood (This Bird Has Flown)', 'artist': 'The Beatles', 'album': 'Rubber Soul', 'year': '1965'}, {'rank': 84, 'title': 'Every Breath You Take', 'artist': 'The Police', 'album': 'Synchronicity', 'year': '1983'}, {'rank': 85, 'title': 'Crazy', 'artist': 'Patsy Cline', 'album': \"Patsy Cline's Greatest Hits\", 'year': '1961'}, {'rank': 86, 'title': 'Thunder Road', 'artist': 'Bruce Springsteen', 'album': 'Born to Run', 'year': '1975'}, {'rank': 87, 'title': 'Ring of Fire', 'artist': 'Johnny Cash', 'album': 'The Man in Black: His Greatest Hits', 'year': '1963'}, {'rank': 88, 'title': 'My Girl', 'artist': 'The Temptations', 'album': 'The Temptations Sing Smokey', 'year': '1965'}, {'rank': 89, 'title': \"California Dreamin'\", 'artist': 'The Mamas & The Papas', 'album': 'If You Can Believe Your Eyes And Ears', 'year': '1965'}, {'rank': 90, 'title': 'In The Still Of The Nite', 'artist': 'The Five Satins', 'album': 'The Five Satins: Their Greatest Hits', 'year': '1956'}, {'rank': 91, 'title': 'Suspicious Minds', 'artist': 'Elvis Presley', 'album': 'Elvis 30 #1 Hits', 'year': '1969'}, {'rank': 92, 'title': 'Blitzkrieg Bop', 'artist': 'Ramones', 'album': 'Ramones', 'year': '1976'}, {'rank': 93, 'title': \"I Still Haven't Found What I'm Looking For\", 'artist': 'U2', 'album': 'The Joshua Tree', 'year': '1987'}, {'rank': 94, 'title': 'Good Golly', 'artist': 'Little Richard', 'album': 'The Georgia Peach', 'year': '1958'}, {'rank': 95, 'title': 'Blue Suede Shoes', 'artist': 'Carl Perkins', 'album': 'Original Sun Greatest Hits', 'year': '1956'}, {'rank': 96, 'title': 'Great Balls of Fire', 'artist': 'Jerry Lee Lewis', 'album': 'Original Sun Greatest Hits', 'year': '1957'}, {'rank': 97, 'title': 'Roll Over Beethoven', 'artist': 'Chuck Berry', 'album': 'The Anthology', 'year': '1956'}, {'rank': 98, 'title': 'Love And Happiness', 'artist': 'Al Green', 'album': \"I'm Still in Love With You\", 'year': '1972'}, {'rank': 99, 'title': 'Fortunate Son', 'artist': 'Creedence Clearwater Revival', 'album': 'Willy And The Poor Boys', 'year': '1970'}, {'rank': 100, 'title': 'Crazy', 'artist': 'Gnarls Barkley', 'album': 'St. Elsewhere', 'year': '2006'}, {'rank': 101, 'title': \"You Can't Always Get What You Want\", 'artist': 'The Rolling Stones', 'album': 'Let It Bleed', 'year': '1969'}, {'rank': 102, 'title': 'Voodoo Child (Slight Return)', 'artist': 'The Jimi Hendrix Experience', 'album': 'Electric Ladyland', 'year': '1968'}, {'rank': 103, 'title': 'Be-Bop-A-Lula', 'artist': 'Gene Vincent & His Blue Caps', 'album': 'The Screaming End: The Best of Gene Vincent and His Blue Caps', 'year': '1956'}, {'rank': 104, 'title': 'Hot Stuff', 'artist': 'Donna Summer', 'album': 'Bad Girls', 'year': '1979'}, {'rank': 105, 'title': 'Living For The City', 'artist': 'Stevie Wonder', 'album': 'Innervisions', 'year': '1973'}, {'rank': 106, 'title': 'The Boxer', 'artist': 'Simon & Garfunkel', 'album': 'Bridge Over Troubled Water', 'year': '1969'}, {'rank': 107, 'title': 'Mr. Tambourine Man', 'artist': 'Bob Dylan', 'album': 'Bringing It All Back Home', 'year': '1965'}, {'rank': 108, 'title': 'Not Fade Away', 'artist': 'Buddy Holly & The Crickets', 'album': 'Greatest Hits', 'year': '1957'}, {'rank': 109, 'title': 'Little Red Corvette', 'artist': 'Prince', 'album': '1999', 'year': '1983'}, {'rank': 110, 'title': 'Brown Eyed Girl', 'artist': 'Van Morrison', 'album': \"Blowin' Your Mind\", 'year': '1967'}, {'rank': 111, 'title': \"I've Been Loving You Too Long (To Stop Now)\", 'artist': 'Otis Redding', 'album': 'Otis Blue: Otis Redding Sings Soul', 'year': '1965'}, {'rank': 112, 'title': \"I'm So Lonesome I Could Cry\", 'artist': 'Hank Williams', 'album': 'The Ultimate Collection', 'year': '1949'}, {'rank': 113, 'title': \"That's All Right\", 'artist': 'Elvis Presley', 'album': 'Sunrise', 'year': '1954'}, {'rank': 114, 'title': 'Up On the Roof', 'artist': 'The Drifters', 'album': 'The Very Best of the Drifters', 'year': '1962'}, {'rank': 115, 'title': 'You Send Me', 'artist': 'Sam Cooke', 'album': 'Greatest Hits', 'year': '1957'}, {'rank': 116, 'title': 'Honky Tonk Women', 'artist': 'The Rolling Stones', 'album': 'Let It Bleed', 'year': '1969'}, {'rank': 117, 'title': 'Take Me To The River', 'artist': 'Al Green', 'album': 'Al Green Explores Your Mind', 'year': '1974'}, {'rank': 118, 'title': 'Crazy in Love (feat.  Jay-Z)', 'artist': 'Beyoncé', 'album': 'Dangerously in Love', 'year': '2003'}, {'rank': 119, 'title': 'Shout (Parts 1 & 2)', 'artist': 'The Isley Brothers', 'album': \"The Isley Brothers Story, Vol. 1: Rockin' Soul\", 'year': '1959'}, {'rank': 120, 'title': 'Go Your Own Way', 'artist': 'Fleetwood Mac', 'album': 'Rumours', 'year': '1977'}, {'rank': 121, 'title': 'I Want You Back', 'artist': 'The Jackson 5', 'album': 'The Ultimate Collection', 'year': '1969'}, {'rank': 122, 'title': 'Stand By Me', 'artist': 'Ben E. King', 'album': 'The Very Best of Ben E. King', 'year': '1961'}, {'rank': 123, 'title': 'The House of the Rising Sun', 'artist': 'The Animals', 'album': 'The Best of the Animals', 'year': '1964'}, {'rank': 124, 'title': \"It's A Man's Man's Man's World\", 'artist': 'James Brown', 'album': '50th Anniversary Collection', 'year': '1966'}, {'rank': 125, 'title': \"Jumpin' Jack Flash\", 'artist': 'The Rolling Stones', 'album': 'Forty Licks', 'year': '1968'}, {'rank': 126, 'title': 'Will You Love Me Tomorrow', 'artist': 'The Shirelles', 'album': 'Girl Group Greats', 'year': '1960'}, {'rank': 127, 'title': 'Shake', 'artist': 'Big Joe Turner', 'album': 'The Very Best of Big Joe Turner', 'year': '1954'}, {'rank': 128, 'title': 'Changes', 'artist': 'David Bowie', 'album': 'Hunky Dory', 'year': '1971'}, {'rank': 129, 'title': 'Rock and Roll Music', 'artist': 'Chuck Berry', 'album': \"Johnny B. Goode: His Complete '50s Chess Recordings\", 'year': '1957'}, {'rank': 130, 'title': 'Born to Be Wild', 'artist': 'Steppenwolf', 'album': 'Steppenwolf', 'year': '1968'}, {'rank': 131, 'title': 'Maggie May', 'artist': 'Rod Stewart', 'album': 'Every Picture Tells A Story', 'year': '1971'}, {'rank': 132, 'title': 'With or Without You', 'artist': 'U2', 'album': 'The Joshua Tree', 'year': '1987'}, {'rank': 133, 'title': 'Who Do You Love?', 'artist': 'Bo Diddley', 'album': 'His Best: The Chess 50th Anniversary Collection', 'year': '1957'}, {'rank': 134, 'title': \"Won't Get Fooled Again\", 'artist': 'The Who', 'album': \"Who's Next\", 'year': '1971'}, {'rank': 135, 'title': 'In the Midnight Hour', 'artist': 'Wilson Pickett', 'album': 'The Very Best of Wilson Pickett', 'year': '1965'}, {'rank': 136, 'title': 'While My Guitar Gently Weeps', 'artist': 'The Beatles', 'album': 'The Beatles', 'year': '1968'}, {'rank': 137, 'title': 'Your Song', 'artist': 'Elton John', 'album': 'Greatest Hits', 'year': '1970'}, {'rank': 138, 'title': 'Eleanor Rigby', 'artist': 'The Beatles', 'album': 'Revolver', 'year': '1966'}, {'rank': 139, 'title': 'Family Affair', 'artist': 'Sly & The Family Stone', 'album': \"There's a Riot Goin' On\", 'year': '1971'}, {'rank': 140, 'title': 'I Saw Her Standing There', 'artist': 'The Beatles', 'album': 'Please Please Me', 'year': '1964'}, {'rank': 141, 'title': 'Kashmir', 'artist': 'Led Zeppelin', 'album': 'Physical Graffiti', 'year': '1975'}, {'rank': 142, 'title': 'All I Have to Do Is Dream', 'artist': 'The Everly Brothers', 'album': 'All-Time Original Hits', 'year': '1958'}, {'rank': 143, 'title': 'Please, Please, Please', 'artist': 'James Brown', 'album': '50th Anniversary Collection', 'year': '1956'}, {'rank': 144, 'title': 'Purple Rain', 'artist': 'Prince and The Revolution', 'album': 'Purple Rain', 'year': '1984'}, {'rank': 145, 'title': 'I Wanna Be Sedated', 'artist': 'Ramones', 'album': 'Road to Ruin', 'year': '1978'}, {'rank': 146, 'title': 'Everyday People', 'artist': 'Sly & The Family Stone', 'album': 'Stand!', 'year': '1968'}, {'rank': 147, 'title': 'Rock Lobster', 'artist': \"The B-52's\", 'album': \"The B-52's\", 'year': '1979'}, {'rank': 148, 'title': 'Me And Bobby McGee', 'artist': 'Janis Joplin', 'album': 'Pearl', 'year': '1971'}, {'rank': 149, 'title': 'Lust For Life', 'artist': 'Iggy Pop', 'album': 'Lust For Life', 'year': '1977'}, {'rank': 150, 'title': \"Cathy's Clown\", 'artist': 'The Everly Brothers', 'album': 'All-Time Original Hits', 'year': '1960'}, {'rank': 151, 'title': 'Eight Miles High', 'artist': 'The Byrds', 'album': 'Fifth Dimension', 'year': '1966'}, {'rank': 152, 'title': 'Earth Angel', 'artist': 'The Penguins', 'album': 'Earth Angel', 'year': '1954'}, {'rank': 153, 'title': 'Foxey Lady', 'artist': 'The Jimi Hendrix Experience', 'album': 'Are You Experienced?', 'year': '1965'}, {'rank': 154, 'title': \"A Hard Day's Night\", 'artist': 'The Beatles', 'album': \"A Hard Day's Night\", 'year': '1964'}, {'rank': 155, 'title': 'Rave On', 'artist': 'Buddy Holly & The Crickets', 'album': 'Buddy Holly: Greatest Hits', 'year': '1958'}, {'rank': 156, 'title': 'Proud Mary', 'artist': 'Creedence Clearwater Revival', 'album': 'Bayou Country', 'year': '1969'}, {'rank': 157, 'title': 'The Sound of Silence', 'artist': 'Simon & Garfunkel', 'album': 'Sounds of Silence', 'year': '1965'}, {'rank': 158, 'title': 'I Only Have Eyes for You', 'artist': 'The Flamingos', 'album': 'The Best of the Flamingos', 'year': '1959'}, {'rank': 159, 'title': \"(We're Gonna) Rock Around The Clock\", 'artist': 'Bill Haley & His Comets', 'album': 'The Best of Bill Haley and His Comets', 'year': '1954'}, {'rank': 160, 'title': 'Moment of Surrender', 'artist': 'U2', 'album': 'No Line on the Horizon', 'year': '2009'}, {'rank': 161, 'title': \"I'm Waiting for the Man\", 'artist': 'The Velvet Underground', 'album': 'The Velvet Underground & Nico', 'year': '1967'}, {'rank': 162, 'title': 'Bring the Noise', 'artist': 'Public Enemy', 'album': 'It Takes a Nation of Millions to Hold Us Back', 'year': '1988'}, {'rank': 163, 'title': 'Folsom Prison Blues', 'artist': 'Johnny Cash', 'album': 'The Essential Johnny Cash', 'year': '1956'}, {'rank': 164, 'title': \"I Can't Stop Loving You\", 'artist': 'Ray Charles', 'album': 'Modern Sounds in Country and Western Music', 'year': '1962'}, {'rank': 165, 'title': 'Nothing Compares 2 U', 'artist': \"Sinead O'Connor\", 'album': \"I Do Not Want What I Haven't Got\", 'year': '1990'}, {'rank': 166, 'title': 'Bohemian Rhapsody', 'artist': 'Queen', 'album': 'A Night at the Opera', 'year': '1975'}, {'rank': 167, 'title': 'Fast Car', 'artist': 'Tracy Chapman', 'album': 'Tracy Chapman', 'year': '1988'}, {'rank': 168, 'title': \"Let's Get It On\", 'artist': 'Marvin Gaye', 'album': \"Let's Get It On\", 'year': '1973'}, {'rank': 169, 'title': \"Papa Was a Rollin' Stone\", 'artist': 'The Temptations', 'album': 'Anthology', 'year': '1972'}, {'rank': 170, 'title': 'Losing My Religion', 'artist': 'R.E.M.', 'album': 'Out of Time', 'year': '1991'}, {'rank': 171, 'title': 'Both Sides Now', 'artist': 'Joni Mitchell', 'album': 'Clouds', 'year': '1969'}, {'rank': 172, 'title': '99 Problems', 'artist': 'Jay-Z', 'album': 'The Black Album', 'year': '2004'}, {'rank': 173, 'title': 'Dream On', 'artist': 'Aerosmith', 'album': 'Aerosmith', 'year': '1973'}, {'rank': 174, 'title': 'Dancing Queen', 'artist': 'ABBA', 'album': 'Arrival', 'year': '1976'}, {'rank': 175, 'title': 'God Save the Queen', 'artist': 'Sex Pistols', 'album': \"Never Mind the Bollocks, Here's the Sex Pistols\", 'year': '1977'}, {'rank': 176, 'title': 'Paint It, Black', 'artist': 'The Rolling Stones', 'album': 'Aftermath', 'year': '1966'}, {'rank': 177, 'title': 'I Fought the Law', 'artist': 'The Bobby Fuller Four', 'album': 'I Fought the Law: The Best of the Bobby Fuller Four', 'year': '1966'}, {'rank': 178, 'title': \"Don't Worry Baby\", 'artist': 'The Beach Boys', 'album': 'Sounds of Summer', 'year': '1964'}, {'rank': 179, 'title': \"Free Fallin'\", 'artist': 'Tom Petty', 'album': 'Full Moon Fever', 'year': '1989'}, {'rank': 180, 'title': 'September Gurls', 'artist': 'Big Star', 'album': 'Radio City', 'year': '1974'}, {'rank': 181, 'title': 'Love Will Tear Us Apart', 'artist': 'Joy Division', 'album': 'Substance 1977-1980', 'year': '1980'}, {'rank': 182, 'title': 'Hey Ya!', 'artist': 'OutKast', 'album': 'Speakerboxxx/The Love Below', 'year': '2003'}, {'rank': 183, 'title': 'Green Onions', 'artist': \"Booker T. & The MG's\", 'album': 'Green Onions', 'year': '1962'}, {'rank': 184, 'title': 'Save the Last Dance for Me', 'artist': 'The Drifters', 'album': \"The Drifters' Golden Hits\", 'year': '1960'}, {'rank': 185, 'title': 'The Thrill Is Gone', 'artist': 'B.B. King', 'album': 'Greatest Hits', 'year': '1969'}, {'rank': 186, 'title': 'Please Please Me', 'artist': 'The Beatles', 'album': 'Please Please Me', 'year': '1964'}, {'rank': 187, 'title': 'Desolation Row', 'artist': 'Bob Dylan', 'album': 'Highway 61 Revisited', 'year': '1965'}, {'rank': 188, 'title': \"Who'll Stop the Rain\", 'artist': 'Creedence Clearwater Revival', 'album': \"Cosmo's Factory\", 'year': '1970'}, {'rank': 189, 'title': 'I Never Loved a Man (the Way I Love You)', 'artist': 'Aretha Franklin', 'album': 'I Never Loved a Man (the Way I Love You)', 'year': '1967'}, {'rank': 190, 'title': 'Back in Black', 'artist': 'AC/DC', 'album': 'Back in Black', 'year': '1980'}, {'rank': 191, 'title': \"Stayin' Alive\", 'artist': 'Bee Gees', 'album': 'Saturday Night Fever', 'year': '1977'}, {'rank': 192, 'title': \"Knocking On Heaven's Door\", 'artist': 'Bob Dylan', 'album': 'The Essential Bob Dylan', 'year': '1973'}, {'rank': 193, 'title': 'Free Bird', 'artist': 'Lynyrd Skynyrd', 'album': 'One More From the Road', 'year': '1973'}, {'rank': 194, 'title': 'Rehab', 'artist': 'Amy Winehouse', 'album': 'Back to Black', 'year': '2007'}, {'rank': 195, 'title': 'Wichita Lineman', 'artist': 'Glen Campbell', 'album': 'Wichita Lineman', 'year': '1968'}, {'rank': 196, 'title': 'There Goes My Baby', 'artist': 'The Drifters', 'album': 'The Very Best of the Drifters', 'year': '1959'}, {'rank': 197, 'title': 'Peggy Sue', 'artist': 'Buddy Holly', 'album': 'Greatest Hits', 'year': '1957'}, {'rank': 198, 'title': \"Sweet Child o' Mine\", 'artist': \"Guns N' Roses\", 'album': 'Appetite for Destruction', 'year': '1987'}, {'rank': 199, 'title': 'Maybe', 'artist': 'The Chantels', 'album': 'The Best of the Chantels', 'year': '1957'}, {'rank': 200, 'title': \"Don't Be Cruel\", 'artist': 'Elvis Presley', 'album': 'Elvis: 30 #1 Hits', 'year': '1956'}, {'rank': 201, 'title': 'Hey Joe', 'artist': 'The Jimi Hendrix Experience', 'album': 'Are You Experienced?', 'year': '1966'}, {'rank': 202, 'title': 'Flash Light', 'artist': 'Parliament', 'album': 'Funkentelechy vs. the Placebo Syndrome', 'year': '1977'}, {'rank': 203, 'title': 'Loser', 'artist': 'Beck', 'album': 'Mellow Gold', 'year': '1993'}, {'rank': 204, 'title': 'Bizarre Love Triangle', 'artist': 'New Order', 'album': 'Substance', 'year': '1986'}, {'rank': 205, 'title': 'Come Together', 'artist': 'The Beatles', 'album': 'Abbey Road', 'year': '1969'}, {'rank': 206, 'title': 'Positively 4th Street', 'artist': 'Bob Dylan', 'album': 'The Essential Bob Dylan', 'year': '1965'}, {'rank': 207, 'title': 'Try a Little Tenderness', 'artist': 'Otis Redding', 'album': 'Very Best of Otis Redding', 'year': '1966'}, {'rank': 208, 'title': 'Lean on Me', 'artist': 'Bill Withers', 'album': 'Lean on Me', 'year': '1972'}, {'rank': 209, 'title': \"Reach Out I'll Be There\", 'artist': 'The Four Tops', 'album': 'The Ultimate Collection', 'year': '1966'}, {'rank': 210, 'title': 'Bye Bye Love', 'artist': 'The Everly Brothers', 'album': 'All-Time Original Hits', 'year': '1957'}, {'rank': 211, 'title': 'Gloria', 'artist': 'Them', 'album': 'The Story of Them', 'year': '1965'}, {'rank': 212, 'title': 'In My Room', 'artist': 'The Beach Boys', 'album': 'Surfer Girl/Shut Down, Volume 2', 'year': '1963'}, {'rank': 213, 'title': '96 Tears', 'artist': '? and the Mysterians', 'album': 'More Action', 'year': '1966'}, {'rank': 214, 'title': 'Caroline, No', 'artist': 'The Beach Boys', 'album': 'Pet Sounds', 'year': '1966'}, {'rank': 215, 'title': '1999', 'artist': 'Prince', 'album': '1999', 'year': '1982'}, {'rank': 216, 'title': \"Rockin' in the Free World\", 'artist': 'Neil Young', 'album': 'Freedom', 'year': '1989'}, {'rank': 217, 'title': \"Your Cheatin' Heart\", 'artist': 'Hank Williams', 'album': 'The Ultimate Collection', 'year': '1953'}, {'rank': 218, 'title': 'Do You Believe In Magic', 'artist': \"The Lovin' Spoonful\", 'album': 'Do You Believe in Magic', 'year': '1965'}, {'rank': 219, 'title': 'Jolene', 'artist': 'Dolly Parton', 'album': 'Jolene', 'year': '1974'}, {'rank': 220, 'title': 'Boom Boom', 'artist': 'John Lee Hooker', 'album': 'The Very Best of John Lee Hooker', 'year': '1963'}, {'rank': 221, 'title': 'Spoonful', 'artist': \"Howlin' Wolf\", 'album': 'Anniversary Collection', 'year': '1960'}, {'rank': 222, 'title': 'Walk away Renée', 'artist': 'The Left Banke', 'album': \"There's Gonna Be a Storm\", 'year': '1966'}, {'rank': 223, 'title': 'Walk on the Wild Side', 'artist': 'Lou Reed', 'album': 'Transformer', 'year': '1972'}, {'rank': 224, 'title': 'Oh', 'artist': 'Roy Orbison', 'album': 'For the Lonely: 18 Greatest Hits', 'year': '1964'}, {'rank': 225, 'title': 'Dance To The Music', 'artist': 'Sly & The Family Stone', 'album': 'Dance to the Music', 'year': '1968'}, {'rank': 226, 'title': 'Hoochie Coochie Man', 'artist': 'Muddy Waters', 'album': 'The Anthology', 'year': '1954'}, {'rank': 227, 'title': 'Fire and Rain', 'artist': 'James Taylor', 'album': 'Sweet Baby James', 'year': '1970'}, {'rank': 228, 'title': 'Should I Stay or Should I Go', 'artist': 'The Clash', 'album': 'Combat Rock', 'year': '1982'}, {'rank': 229, 'title': 'Good Times', 'artist': 'Chic', 'album': 'Risqué', 'year': '1979'}, {'rank': 230, 'title': 'Mannish Boy', 'artist': 'Muddy Waters', 'album': 'The Anthology', 'year': '1955'}, {'rank': 231, 'title': 'Moondance', 'artist': 'Van Morrison', 'album': 'Moondance', 'year': '1970'}, {'rank': 232, 'title': 'Just Like a Woman', 'artist': 'Bob Dylan', 'album': 'Blonde on Blonde', 'year': '1966'}, {'rank': 233, 'title': 'Sexual Healing', 'artist': 'Marvin Gaye', 'album': 'Midnight Love', 'year': '1982'}, {'rank': 234, 'title': 'Only the Lonely', 'artist': 'Roy Orbison', 'album': 'For the Lonely: 18 Greatest Hits', 'year': '1960'}, {'rank': 235, 'title': 'We Gotta Get Out Of This Place', 'artist': 'The Animals', 'album': 'Retrospective', 'year': '1965'}, {'rank': 236, 'title': 'Paper Planes', 'artist': 'M.I.A.', 'album': 'Kala', 'year': '2008'}, {'rank': 237, 'title': \"I'll Feel A Whole Lot Better\", 'artist': 'The Byrds', 'album': 'Mr. Tambourine Man', 'year': '1965'}, {'rank': 238, 'title': 'Everyday', 'artist': 'Buddy Holly & The Crickets', 'album': 'Best of Buddy Holly', 'year': '1957'}, {'rank': 239, 'title': 'I Got a Woman', 'artist': 'Ray Charles', 'album': 'Atlantic Singles', 'year': '1954'}, {'rank': 240, 'title': 'Planet Rock', 'artist': 'Afrika Bambaataa & the Soulsonic Force', 'album': 'Looking for the Perfect Beat 1980-1985', 'year': '1982'}, {'rank': 241, 'title': 'I Fall to Pieces', 'artist': 'Patsy Cline', 'album': '12 Greatest Hits', 'year': '1961'}, {'rank': 242, 'title': 'Son of a Preacher Man', 'artist': 'Dusty Springfield', 'album': 'Dusty in Memphis', 'year': '1968'}, {'rank': 243, 'title': 'The Wanderer', 'artist': 'Dion', 'album': 'Runaround Sue', 'year': '1961'}, {'rank': 244, 'title': 'Stand!', 'artist': 'Sly & The Family Stone', 'album': 'Stand!', 'year': '1969'}, {'rank': 245, 'title': \"Rocket Man (I Think It's Going To Be A Long, Long Time)\", 'artist': 'Elton John', 'album': 'Honky Chateau', 'year': '1972'}, {'rank': 246, 'title': 'Love Shack', 'artist': \"The B-52's\", 'album': 'Cosmic Thing', 'year': '1989'}, {'rank': 247, 'title': \"Gimme Some Lovin'\", 'artist': 'The Spencer Davis Group', 'album': \"Gimme Some Lovin'\", 'year': '1966'}, {'rank': 248, 'title': '(Your Love Keeps Lifting Me) Higher And Higher', 'artist': 'Jackie Wilson', 'album': 'The Very Best of Jackie Wilson', 'year': '1967'}, {'rank': 249, 'title': 'The Night They Drove Old Dixie Down', 'artist': 'The Band', 'album': 'The Band', 'year': '1969'}, {'rank': 250, 'title': 'Hot Fun In The Summertime', 'artist': 'Sly & The Family Stone', 'album': 'Greatest Hits', 'year': '1969'}, {'rank': 251, 'title': \"Rapper's Delight\", 'artist': 'The Sugarhill Gang', 'album': 'Rappers Delight: The Best of Sugarhill Gang', 'year': '1979'}, {'rank': 252, 'title': 'Chain Of Fools', 'artist': 'Aretha Franklin', 'album': 'Lady Soul', 'year': '1967'}, {'rank': 253, 'title': 'Paranoid', 'artist': 'Black Sabbath', 'album': 'Paranoid', 'year': '1970'}, {'rank': 254, 'title': 'Money Honey', 'artist': 'The Drifters', 'album': 'Greatest Hits', 'year': '1953'}, {'rank': 255, 'title': 'Mack the Knife', 'artist': 'Bobby Darin', 'album': 'That’s All', 'year': '1959'}, {'rank': 256, 'title': 'All the Young Dudes', 'artist': 'Mott the Hoople', 'album': 'All The Young Dudes', 'year': '1972'}, {'rank': 257, 'title': 'Paranoid Android', 'artist': 'Radiohead', 'album': 'OK Computer', 'year': '1997'}, {'rank': 258, 'title': 'Highway To Hell', 'artist': 'AC/DC', 'album': 'Highway to Hell', 'year': '1979'}, {'rank': 259, 'title': 'Heart of Glass', 'artist': 'Blondie', 'album': 'Parallel Lines', 'year': '1978'}, {'rank': 260, 'title': 'Mississippi', 'artist': 'Bob Dylan', 'album': 'Love and Theft', 'year': '2001'}, {'rank': 261, 'title': 'Wild Thing', 'artist': 'The Troggs', 'album': 'Greatest Hits', 'year': '1966'}, {'rank': 262, 'title': 'I Can See for Miles', 'artist': 'The Who', 'album': 'The Who Sell Out', 'year': '1967'}, {'rank': 263, 'title': 'Oh', 'artist': 'The Dells', 'album': 'Ultimate Collection', 'year': '1969'}, {'rank': 264, 'title': 'Hallelujah', 'artist': 'Jeff Buckley', 'album': 'Grace', 'year': '1994'}, {'rank': 265, 'title': 'Higher Ground', 'artist': 'Stevie Wonder', 'album': 'Innervisions', 'year': '1973'}, {'rank': 266, 'title': 'Ooo Baby Baby', 'artist': 'Smokey Robinson and the Miracles', 'album': 'Ooo Baby Baby: The Anthology', 'year': '1965'}, {'rank': 267, 'title': \"He's a Rebel\", 'artist': 'The Crystals', 'album': 'Best of the Crystals', 'year': '1962'}, {'rank': 268, 'title': 'Sail Away', 'artist': 'Randy Newman', 'album': 'Sail Away', 'year': '1972'}, {'rank': 269, 'title': 'Walking In The Rain', 'artist': 'The Ronettes', 'album': 'The Best of the Ronettes', 'year': '1964'}, {'rank': 270, 'title': 'Tighten Up', 'artist': 'Archie Bell & The Drells', 'album': 'Tightening It Up: The Best of Archie Bell and the Drells', 'year': '1968'}, {'rank': 271, 'title': 'Personality Crisis', 'artist': 'New York Dolls', 'album': 'New York Dolls', 'year': '1973'}, {'rank': 272, 'title': 'Sunday Bloody Sunday', 'artist': 'U2', 'album': 'War', 'year': '1983'}, {'rank': 273, 'title': 'Jesus Walks', 'artist': 'Kanye West', 'album': 'The College Dropout', 'year': '2004'}, {'rank': 274, 'title': 'Roadrunner', 'artist': 'The Modern Lovers', 'album': 'The Modern Lovers', 'year': '1976'}, {'rank': 275, 'title': 'He Stopped Loving Her Today', 'artist': 'George Jones', 'album': 'I Am What I Am', 'year': '1980'}, {'rank': 276, 'title': 'Sloop John B', 'artist': 'The Beach Boys', 'album': 'Pet Sounds', 'year': '1966'}, {'rank': 277, 'title': 'Sweet Little Sixteen', 'artist': 'Chuck Berry', 'album': 'The Anthology', 'year': '1958'}, {'rank': 278, 'title': 'Something', 'artist': 'The Beatles', 'album': 'Abbey Road', 'year': '1969'}, {'rank': 279, 'title': 'Somebody to Love', 'artist': 'Jefferson Airplane', 'album': 'Surrealistic Pillow', 'year': '1967'}, {'rank': 280, 'title': 'Born in the U.S.A.', 'artist': 'Bruce Springsteen', 'album': 'Born in the U.S.A.', 'year': '1984'}, {'rank': 281, 'title': \"I'll Take You There\", 'artist': 'The Staple Singers', 'album': 'Bealtitude: Respect Yourself', 'year': '1972'}, {'rank': 282, 'title': 'Ziggy Stardust', 'artist': 'David Bowie', 'album': 'The Rise and Fall of Ziggy Stardust and the Spiders Mars', 'year': '1972'}, {'rank': 283, 'title': 'Pictures of You', 'artist': 'The Cure', 'album': 'Disintegration', 'year': '1989'}, {'rank': 284, 'title': 'Chapel Of Love', 'artist': 'The Dixie Cups', 'album': 'The Best of the Girl Groups, Vol. 1', 'year': '1964'}, {'rank': 285, 'title': \"Ain't No Sunshine\", 'artist': 'Bill Withers', 'album': 'Lean on Me: The Best of Bill Withers', 'year': '1971'}, {'rank': 286, 'title': 'Seven Nation Army', 'artist': 'The White Stripes', 'album': 'Elephant', 'year': '2003'}, {'rank': 287, 'title': 'You Are the Sunshine of My Life', 'artist': 'Stevie Wonder', 'album': 'Talking Book', 'year': '1972'}, {'rank': 288, 'title': 'Help Me', 'artist': 'Joni Mitchell', 'album': 'Court and Spark', 'year': '1974'}, {'rank': 289, 'title': 'Call Me', 'artist': 'Blondie', 'album': 'Best of Blondie', 'year': '1980'}, {'rank': 290, 'title': \"(What's So Funny 'Bout) Peace, Love And Understanding\", 'artist': 'Elvis Costello & The Attractions', 'album': 'Armed Forces', 'year': '1979'}, {'rank': 291, 'title': 'Smokestack Lightning', 'artist': \"Howlin' Wolf\", 'album': 'His Best', 'year': '1965'}, {'rank': 292, 'title': 'Summer Babe (Winter Version)', 'artist': 'Pavement', 'album': 'Slanted and Enchanted', 'year': '1992'}, {'rank': 293, 'title': 'Walk This Way', 'artist': 'Run-D.M.C.', 'album': 'Raising Hell', 'year': '1986'}, {'rank': 294, 'title': \"Money (That's What I Want)\", 'artist': 'Barrett Strong', 'album': 'Motown: The Classic Years', 'year': '1960'}, {'rank': 295, 'title': \"Can't Buy Me Love\", 'artist': 'The Beatles', 'album': \"A Hard Day's Night\", 'year': '1964'}, {'rank': 296, 'title': 'Stan (feat. Dido)', 'artist': 'Eminem', 'album': 'The Marshall Mathers LP', 'year': '2000'}, {'rank': 297, 'title': \"She's Not There\", 'artist': 'The Zombies', 'album': 'British Invasion: 1963-1967', 'year': '1964'}, {'rank': 298, 'title': 'Train in Vain', 'artist': 'The Clash', 'album': 'London Calling', 'year': '1979'}, {'rank': 299, 'title': 'Tired Of Being Alone', 'artist': 'Al Green', 'album': 'Greatest Hits', 'year': '1971'}, {'rank': 300, 'title': 'Black Dog', 'artist': 'Led Zeppelin', 'album': 'Led Zeppelin IV', 'year': '1971'}, {'rank': 301, 'title': 'Street Fighting Man', 'artist': 'The Rolling Stones', 'album': 'Beggars Banquet', 'year': '1968'}, {'rank': 302, 'title': 'Get Up, Stand Up', 'artist': 'Bob Marley & The Wailers', 'album': 'Legend', 'year': '1975'}, {'rank': 303, 'title': 'Heart of Gold', 'artist': 'Neil Young', 'album': 'Harvest', 'year': '1972'}, {'rank': 304, 'title': \"Sign 'O' The Times\", 'artist': 'Prince', 'album': \"Sign 'O' The Times\", 'year': '1987'}, {'rank': 305, 'title': 'One Way or Another', 'artist': 'Blondie', 'album': 'Parallel Lines', 'year': '1978'}, {'rank': 306, 'title': 'Like a Prayer', 'artist': 'Madonna', 'album': 'Like a Prayer', 'year': '1989'}, {'rank': 307, 'title': 'One More Time', 'artist': 'Daft Punk', 'album': 'Discovery', 'year': '2000'}, {'rank': 308, 'title': \"Da Ya Think I'm Sexy?\", 'artist': 'Rod Stewart', 'album': 'Blondes Have More Fun', 'year': '1978'}, {'rank': 309, 'title': 'Blue Eyes Crying In The Rain', 'artist': 'Willie Nelson', 'album': 'Red Headed Stranger', 'year': '1975'}, {'rank': 310, 'title': 'Ruby Tuesday', 'artist': 'The Rolling Stones', 'album': 'Between the Buttons', 'year': '1967'}, {'rank': 311, 'title': 'With a Little Help My Friends', 'artist': 'The Beatles', 'album': \"Sgt. Pepper's Lonely Hearts Club Band\", 'year': '1967'}, {'rank': 312, 'title': \"Say It Loud (I'm Black and I'm Proud)\", 'artist': 'James Brown', 'album': '50th Anniversary Collection', 'year': '1968'}, {'rank': 313, 'title': \"That's Entertainment\", 'artist': 'The Jam', 'album': 'Sound Affects', 'year': '1980'}, {'rank': 314, 'title': 'Why Do Fools Fall In Love', 'artist': 'Frankie Lymon & The Teenagers', 'album': 'The Best of Frankie Lymon and the Teenagers', 'year': '1956'}, {'rank': 315, 'title': 'Lonely Teardrops', 'artist': 'Jackie Wilson', 'album': 'The Greatest Hits of Jackie Wilson', 'year': '1958'}, {'rank': 316, 'title': \"What's Love Got to Do With It\", 'artist': 'Tina Turner', 'album': 'Private Dancer', 'year': '1984'}, {'rank': 317, 'title': 'Iron Man', 'artist': 'Black Sabbath', 'album': 'Paranoid', 'year': '1971'}, {'rank': 318, 'title': 'Wake Up Little Susie', 'artist': 'The Everly Brothers', 'album': 'The Best of the Everly Brothers', 'year': '1957'}, {'rank': 319, 'title': 'In Dreams', 'artist': 'Roy Orbison', 'album': 'For the Lonely: 18 Greatest Hits', 'year': '1963'}, {'rank': 320, 'title': 'I Put A Spell On You', 'artist': \"Screamin' Jay Hawkins\", 'album': 'Voodoo Jive', 'year': '1956'}, {'rank': 321, 'title': 'Comfortably Numb', 'artist': 'Pink Floyd', 'album': 'The Wall', 'year': '1979'}, {'rank': 322, 'title': \"Don't Let Me Be Misunderstood\", 'artist': 'The Animals', 'album': 'Retrospective', 'year': '1965'}, {'rank': 323, 'title': 'Alison', 'artist': 'Elvis Costello', 'album': 'My Aim Is True', 'year': '1977'}, {'rank': 324, 'title': 'Wish You Were Here', 'artist': 'Pink Floyd', 'album': 'Wish You Were Here', 'year': '1975'}, {'rank': 325, 'title': 'Many Rivers to Cross', 'artist': 'Jimmy Cliff', 'album': 'Wonderful World, Beautiful People', 'year': '1969'}, {'rank': 326, 'title': \"School's Out\", 'artist': 'Alice Cooper', 'album': \"School's Out\", 'year': '1972'}, {'rank': 327, 'title': 'Take Me Out', 'artist': 'Franz Ferdinand', 'album': 'Franz Ferdinand', 'year': '2004'}, {'rank': 328, 'title': 'Heartbreaker', 'artist': 'Led Zeppelin', 'album': 'Led Zeppelin II', 'year': '1969'}, {'rank': 329, 'title': 'Cortez the Killer', 'artist': 'Neil Young & Crazy Horse', 'album': 'Zuma', 'year': '1975'}, {'rank': 330, 'title': 'Fight the Power', 'artist': 'Public Enemy', 'album': 'Fear of a Black Planet', 'year': '1989'}, {'rank': 331, 'title': 'Dancing Barefoot', 'artist': 'Patti Smith Group', 'album': 'Wave', 'year': '1979'}, {'rank': 332, 'title': 'Baby Love', 'artist': 'The Supremes', 'album': 'The Ultimate Collection', 'year': '1964'}, {'rank': 333, 'title': \"Good Lovin'\", 'artist': 'The Rascals', 'album': 'The Very Best of the Rascals', 'year': '1966'}, {'rank': 334, 'title': 'Get Up (I Feel Like Being a) Sex Machine', 'artist': 'James Brown', 'album': '50th Anniversary Collection', 'year': '1970'}, {'rank': 335, 'title': 'For Your Precious Love', 'artist': 'The Impressions', 'album': 'Greatest Hits', 'year': '1958'}, {'rank': 336, 'title': 'The End', 'artist': 'The Doors', 'album': 'The Doors', 'year': '1967'}, {'rank': 337, 'title': 'Wind and Fire', 'artist': 'Earth', 'album': \"That's The Way of the World\", 'year': '1975'}, {'rank': 338, 'title': 'We Will Rock You', 'artist': 'Queen', 'album': 'News of the World', 'year': '1977'}, {'rank': 339, 'title': \"I Can't Make You Love Me\", 'artist': 'Bonnie Raitt', 'album': 'Luck of the Draw', 'year': '1991'}, {'rank': 340, 'title': 'Subterranean Homesick Blues', 'artist': 'Bob Dylan', 'album': 'Bringing It All Back Home', 'year': '1965'}, {'rank': 341, 'title': 'Spirit in the Sky', 'artist': 'Norman Greenbaum', 'album': 'Spirit in the Sky', 'year': '1970'}, {'rank': 342, 'title': 'Sweet Jane', 'artist': 'The Velvet Underground', 'album': 'Loaded (Fully Loaded Edition)', 'year': '1970'}, {'rank': 343, 'title': 'Wild Horses', 'artist': 'The Rolling Stones', 'album': 'Sticky Fingers', 'year': '1971'}, {'rank': 344, 'title': 'Beat It', 'artist': 'Michael Jackson', 'album': 'Thriller', 'year': '1982'}, {'rank': 345, 'title': 'Beautiful Day', 'artist': 'U2', 'album': \"All That You Can't Leave Behind\", 'year': '2000'}, {'rank': 346, 'title': 'Walk This Way', 'artist': 'Aerosmith', 'album': 'Toys in the Attic', 'year': '1975'}, {'rank': 347, 'title': \"Maybe I'm Amazed\", 'artist': 'Paul McCartney', 'album': 'McCartney', 'year': '1970'}, {'rank': 348, 'title': \"You Keep Me Hangin' On\", 'artist': 'The Supremes', 'album': 'The Ultimate Collection', 'year': '1966'}, {'rank': 349, 'title': \"Baba O'Riley\", 'artist': 'The Who', 'album': \"Who's Next\", 'year': '1971'}, {'rank': 350, 'title': 'The Harder They Come', 'artist': 'Jimmy Cliff', 'album': 'The Harder They Come', 'year': '1975'}, {'rank': 351, 'title': 'Runaround Sue', 'artist': 'Dion', 'album': 'Runaround Sue', 'year': '1961'}, {'rank': 352, 'title': 'Jim Dandy', 'artist': 'Lavern Baker', 'album': 'Soul on Fire: The Best of LaVern Baker', 'year': '1956'}, {'rank': 353, 'title': 'Piece of My Heart', 'artist': 'Big Brother & The Holding Company', 'album': 'Cheap Thrills', 'year': '1968'}, {'rank': 354, 'title': 'La Bamba', 'artist': 'Ritchie Valens', 'album': 'The Ritchie Valens Story', 'year': '1958'}, {'rank': 355, 'title': 'California Love (remix) (feat. Dr. Dre & Roger Troutman)', 'artist': '2Pac', 'album': 'Greatest Hits', 'year': '1996'}, {'rank': 356, 'title': 'Candle in the Wind', 'artist': 'Elton John', 'album': 'Goodbye Yellow Brick Road', 'year': '1973'}, {'rank': 357, 'title': 'That Lady (Parts 1 & 2)', 'artist': 'The Isley Brothers', 'album': 'The Essential Isley Brothers', 'year': '1973'}, {'rank': 358, 'title': 'Spanish Harlem', 'artist': 'Ben E. King', 'album': 'The Very Best of Ben E. King', 'year': '1960'}, {'rank': 359, 'title': 'The Loco-Motion', 'artist': 'Little Eva', 'album': 'The Loco-Motion', 'year': '1962'}, {'rank': 360, 'title': 'The Great Pretender', 'artist': 'The Platters', 'album': 'The Magic Touch: An Anthology', 'year': '1955'}, {'rank': 361, 'title': 'All Shook Up', 'artist': 'Elvis Presley', 'album': 'Elvis 30 #1 Hits', 'year': '1957'}, {'rank': 362, 'title': 'Tears in Heaven', 'artist': 'Eric Clapton', 'album': '\"Rush\" Soundtrack', 'year': '1992'}, {'rank': 363, 'title': 'Watching The Detectives', 'artist': 'Elvis Costello', 'album': 'My Aim Is True', 'year': '1977'}, {'rank': 364, 'title': 'Bad Moon Rising', 'artist': 'Creedence Clearwater Revival', 'album': 'Green River', 'year': '1969'}, {'rank': 365, 'title': 'Sweet Dreams (Are Made of This)', 'artist': 'Eurythmics', 'album': 'Sweet Dreams', 'year': '1983'}, {'rank': 366, 'title': 'Little Wing', 'artist': 'The Jimi Hendrix Experience', 'album': 'Axis: Bold As Love', 'year': '1968'}, {'rank': 367, 'title': 'Nowhere To Run', 'artist': 'Martha and the Vandellas', 'album': 'The Ultimate Collection', 'year': '1965'}, {'rank': 368, 'title': 'Got My Mojo Working', 'artist': 'Muddy Waters', 'album': 'The Anthology', 'year': '1957'}, {'rank': 369, 'title': 'Killing Me Softly With His Song', 'artist': 'Roberta Flack', 'album': 'Killing Me Softly', 'year': '1973'}, {'rank': 370, 'title': 'All You Need Is Love', 'artist': 'The Beatles', 'album': 'Magical Mystery Tour', 'year': '1967'}, {'rank': 371, 'title': 'Complete Control', 'artist': 'The Clash', 'album': 'The Clash', 'year': '1979'}, {'rank': 372, 'title': 'The Letter', 'artist': 'The Box Tops', 'album': 'The Letter', 'year': '1967'}, {'rank': 373, 'title': 'Highway 61 Revisited', 'artist': 'Bob Dylan', 'album': 'Highway 61 Revisited', 'year': '1965'}, {'rank': 374, 'title': 'Unchained Melody', 'artist': 'The Righteous Brothers', 'album': 'Anthology 1962-1974', 'year': '1965'}, {'rank': 375, 'title': 'How Deep Is Your Love', 'artist': 'Bee Gees', 'album': 'Saturday Night Fever', 'year': '1977'}, {'rank': 376, 'title': 'White Room', 'artist': 'Cream', 'album': 'Wheels Of Fire', 'year': '1968'}, {'rank': 377, 'title': 'Personal Jesus', 'artist': 'Depeche Mode', 'album': 'Violator', 'year': '1989'}, {'rank': 378, 'title': \"I'm A Man\", 'artist': 'Bo Diddley', 'album': 'His Best: The Chess 50th Anniversary Collection', 'year': '1955'}, {'rank': 379, 'title': 'The Wind Cries Mary', 'artist': 'The Jimi Hendrix Experience', 'album': 'Are You Experienced?', 'year': '1967'}, {'rank': 380, 'title': \"I Can't Explain\", 'artist': 'The Who', 'album': 'The Ultimate Collection', 'year': '1965'}, {'rank': 381, 'title': 'Marquee Moon', 'artist': 'Television', 'album': 'Marquee Moon', 'year': '1977'}, {'rank': 382, 'title': 'Wonderful World', 'artist': 'Sam Cooke', 'album': 'Portrait of a Legend 1951-1964', 'year': '1960'}, {'rank': 383, 'title': 'Brown Eyed Handsome Man', 'artist': 'Chuck Berry', 'album': 'The Anthology', 'year': '1956'}, {'rank': 384, 'title': 'Another Brick In The Wall (Part II)', 'artist': 'Pink Floyd', 'album': 'The Wall', 'year': '1979'}, {'rank': 385, 'title': 'Fake Plastic Trees', 'artist': 'Radiohead', 'album': 'The Bends', 'year': '1995'}, {'rank': 386, 'title': 'Maps', 'artist': 'Yeah Yeah Yeahs', 'album': 'Fever to Tell', 'year': '2004'}, {'rank': 387, 'title': 'Hit the Road Jack', 'artist': 'Ray Charles', 'album': 'Ultimate Hits Collection', 'year': '1961'}, {'rank': 388, 'title': 'Pride (in the Name of Love)', 'artist': 'U2', 'album': 'The Unforgettable Fire', 'year': '1984'}, {'rank': 389, 'title': 'Radio Free Europe', 'artist': 'R.E.M.', 'album': 'Murmur', 'year': '1983'}, {'rank': 390, 'title': 'Goodbye Yellow Brick Road', 'artist': 'Elton John', 'album': 'Goodbye Yellow Brick Road', 'year': '1973'}, {'rank': 391, 'title': 'Tell It Like It Is', 'artist': 'Aaron Neville', 'album': 'Tell It Like It Is: Golden Classics', 'year': '1965'}, {'rank': 392, 'title': 'Bitter Sweet Symphony', 'artist': 'The Verve', 'album': 'Urban Hymns', 'year': '1997'}, {'rank': 393, 'title': 'Whipping Post', 'artist': 'The Allman Brothers Band', 'album': 'At Fillmore East', 'year': '1971'}, {'rank': 394, 'title': 'Ticket to Ride', 'artist': 'The Beatles', 'album': 'Help!', 'year': '1965'}, {'rank': 395, 'title': 'Stills, Nash & Young', 'artist': 'Crosby', 'album': 'Decade', 'year': '1970'}, {'rank': 396, 'title': 'I Know You Got Soul', 'artist': 'Eric B. & Rakim', 'album': 'Paid In Full', 'year': '1987'}, {'rank': 397, 'title': 'Tiny Dancer', 'artist': 'Elton John', 'album': 'Madman Across the Water', 'year': '1972'}, {'rank': 398, 'title': 'Roxanne', 'artist': 'The Police', 'album': \"Outlandos d'Amour\", 'year': '1978'}, {'rank': 399, 'title': 'Just My Imagination (Running Away With Me)', 'artist': 'The Temptations', 'album': 'Anthology', 'year': '1971'}, {'rank': 400, 'title': 'Baby I Need Your Loving', 'artist': 'The Four Tops', 'album': 'The Ultimate Collection', 'year': '1965'}, {'rank': 401, 'title': 'Summer in the City', 'artist': \"The Lovin' Spoonful\", 'album': \"The Lovin' Spoonful Greatest Hits\", 'year': '1966'}, {'rank': 402, 'title': 'O-o-h Child', 'artist': 'The Five Stairsteps', 'album': \"Soul Hits of the '70s: Didn't It Blow Your Mind! Vol. 2\", 'year': '1970'}, {'rank': 403, 'title': \"Can't Help Falling in Love\", 'artist': 'Elvis Presley', 'album': 'Elvis 30 #1 Hits', 'year': '1961'}, {'rank': 404, 'title': \"Remember (Walkin' In The Sand)\", 'artist': 'The Shangri-Las', 'album': 'The Best of the Shangri-Las', 'year': '1964'}, {'rank': 405, 'title': \"(Don't Fear) The Reaper\", 'artist': 'Blue Öyster Cult', 'album': 'Agents of Fortune', 'year': '1976'}, {'rank': 406, 'title': 'Thirteen', 'artist': 'Big Star', 'album': '#1 Record/Radio City', 'year': '1972'}, {'rank': 407, 'title': 'Sweet Home Alabama', 'artist': 'Lynyrd Skynyrd', 'album': 'Second Helping', 'year': '1974'}, {'rank': 408, 'title': 'Enter Sandman', 'artist': 'Metallica', 'album': 'Metallica', 'year': '1991'}, {'rank': 409, 'title': \"Tonight's the Night\", 'artist': 'The Shirelles', 'album': '25 All-Time Greatest Hits', 'year': '1960'}, {'rank': 410, 'title': 'Thank You (Falettinme Be Mice Elf Agin)', 'artist': 'Sly & The Family Stone', 'album': 'Greatest Hits', 'year': '1970'}, {'rank': 411, 'title': \"C'mon Everybody\", 'artist': 'Eddie Cochran', 'album': 'Anthology', 'year': '1958'}, {'rank': 412, 'title': 'Umbrella (feat. Jay-Z)', 'artist': 'Rihanna', 'album': 'Good Girl Gone Bad', 'year': '2007'}, {'rank': 413, 'title': 'Visions of Johanna', 'artist': 'Bob Dylan', 'album': 'Blonde on Blonde', 'year': '1966'}, {'rank': 414, 'title': \"We've Only Just Begun\", 'artist': 'Carpenters', 'album': 'Singles 1969-1981', 'year': '1971'}, {'rank': 415, 'title': 'In Bloom', 'artist': 'Nirvana', 'album': 'Nevermind', 'year': '1991'}, {'rank': 416, 'title': 'Sweet Emotion', 'artist': 'Aerosmith', 'album': 'Toys in the Attic', 'year': '1975'}, {'rank': 417, 'title': 'Monkey Gone to Heaven', 'artist': 'Pixies', 'album': 'Doolittle', 'year': '1989'}, {'rank': 418, 'title': 'I Feel Love', 'artist': 'Donna Summer', 'album': 'The Donna Summer Anthology', 'year': '1977'}, {'rank': 419, 'title': 'Ode to Billie Joe', 'artist': 'Bobbie Gentry', 'album': 'Greatest Hits', 'year': '1967'}, {'rank': 420, 'title': \"The Girl Can't Help It\", 'artist': 'Little Richard', 'album': 'The Georgia Peach', 'year': '1957'}, {'rank': 421, 'title': 'Young Blood', 'artist': 'The Coasters', 'album': 'The Very Best of the Coasters', 'year': '1957'}, {'rank': 422, 'title': \"I Can't Help Myself\", 'artist': 'The Four Tops', 'album': 'The Ultimate Collection', 'year': '1965'}, {'rank': 423, 'title': 'The Boys Of Summer', 'artist': 'Don Henley', 'album': 'Building the Perfect Beast', 'year': '1984'}, {'rank': 424, 'title': 'Juicy', 'artist': 'The Notorious B.I.G', 'album': 'Ready to Die', 'year': '1994'}, {'rank': 425, 'title': 'Fuck tha Police', 'artist': 'N.W.A', 'album': 'Straight Outta Compton', 'year': '1988'}, {'rank': 426, 'title': 'Stills & Nash, Suite: Judy Blue Eyes', 'artist': 'Crosby', 'album': 'Crosby, Stills and Nash', 'year': '1969'}, {'rank': 427, 'title': \"Nuthin' but a 'G' Thang\", 'artist': 'Dr. Dre', 'album': 'The Chronic', 'year': '1993'}, {'rank': 428, 'title': \"It's Your Thing\", 'artist': 'The Isley Brothers', 'album': 'The Ultimate Isley Brothers', 'year': '1969'}, {'rank': 429, 'title': 'Piano Man', 'artist': 'Billy Joel', 'album': 'Piano Man', 'year': '1973'}, {'rank': 430, 'title': 'Blue Suede Shoes', 'artist': 'Elvis Presley', 'album': '2nd to None', 'year': '1956'}, {'rank': 431, 'title': 'William', 'artist': 'The Smiths', 'album': 'Louder Than Bombs', 'year': '1984'}, {'rank': 432, 'title': 'American Idiot', 'artist': 'Green day', 'album': 'American Idiot', 'year': '2004'}, {'rank': 433, 'title': 'Tumbling Dice', 'artist': 'The Rolling Stones', 'album': 'Exile on Main Street', 'year': '1972'}, {'rank': 434, 'title': 'Smoke on the Water', 'artist': 'Deep Purple', 'album': 'Machine Head', 'year': '1972'}, {'rank': 435, 'title': \"New Year's Day\", 'artist': 'U2', 'album': 'War', 'year': '1983'}, {'rank': 436, 'title': 'Everybody Needs Somebody To Love', 'artist': 'Solomon Burke', 'album': 'The Very Best of Solomon Burke', 'year': '1964'}, {'rank': 437, 'title': '(White Man) In Hammersmith Palais', 'artist': 'The Clash', 'album': 'The Clash', 'year': '1978'}, {'rank': 438, 'title': \"Ain't That a Shame\", 'artist': 'Fats Domino', 'album': 'The Fats Domino Jukebox: 20 Greatest Hits', 'year': '1955'}, {'rank': 439, 'title': 'Midnight Train To Georgia', 'artist': 'Gladys Knight & The Pips', 'album': 'Essential Collection', 'year': '1977'}, {'rank': 440, 'title': 'Ramble On', 'artist': 'Led Zeppelin', 'album': 'Led Zeppelin II', 'year': '1969'}, {'rank': 441, 'title': 'Mustang Sally', 'artist': 'Wilson Pickett', 'album': 'The Very Best of Wilson Pickett', 'year': '1966'}, {'rank': 442, 'title': 'Alone Again Or', 'artist': 'Love', 'album': 'Forever Changes', 'year': '1967'}, {'rank': 443, 'title': 'Beast of Burden', 'artist': 'The Rolling Stones', 'album': 'Some Girls', 'year': '1981'}, {'rank': 444, 'title': 'Love Me Tender', 'artist': 'Elvis Presley', 'album': 'Elvis: 30 #1 Hits', 'year': '1956'}, {'rank': 445, 'title': 'I Wanna Be Your Dog', 'artist': 'The Stooges', 'album': 'The Stooges', 'year': '1969'}, {'rank': 446, 'title': 'Push It', 'artist': 'Salt-N-Pepa', 'album': 'Hot, Cool and Vicious', 'year': '1987'}, {'rank': 447, 'title': 'Pink Houses', 'artist': 'John Mellencamp', 'album': 'Uh-Huh', 'year': '1984'}, {'rank': 448, 'title': 'In Da Club', 'artist': '50 Cent', 'album': \"Get Rich or Die Tryin'\", 'year': '2003'}, {'rank': 449, 'title': 'Come Go With Me', 'artist': 'The Del-Vikings', 'album': 'Golden Classics', 'year': '1957'}, {'rank': 450, 'title': 'I Shot The Sheriff', 'artist': 'Bob Marley & The Wailers', 'album': \"Burnin'\", 'year': '1973'}, {'rank': 451, 'title': 'I Got You Babe', 'artist': 'Sonny & Cher', 'album': 'The Beat Goes On: The Best of Sonny and Cher', 'year': '1965'}, {'rank': 452, 'title': 'Come as You Are', 'artist': 'Nirvana', 'album': 'Nevermind', 'year': '1992'}, {'rank': 453, 'title': 'Pressure Drop', 'artist': 'Toot and the Maytals', 'album': 'The Harder They Come', 'year': '1968'}, {'rank': 454, 'title': 'Leader of the Pack', 'artist': 'The Shangri-Las', 'album': 'Myrmidons of Melodrama: Definitive Collection', 'year': '1964'}, {'rank': 455, 'title': 'Heroin', 'artist': 'The Velvet Underground', 'album': 'The Velvet Underground & Nico', 'year': '1967'}, {'rank': 456, 'title': 'Penny Lane', 'artist': 'The Beatles', 'album': 'Magical Mystery Tour', 'year': '1967'}, {'rank': 457, 'title': 'The Twist', 'artist': 'Chubby Checker', 'album': 'Greatest Hits', 'year': '1960'}, {'rank': 458, 'title': 'Cupid', 'artist': 'Sam Cooke', 'album': 'Greatest Hits', 'year': '1961'}, {'rank': 459, 'title': 'Paradise City', 'artist': \"Guns N' Roses\", 'album': 'Appetite for Destruction', 'year': '1987'}, {'rank': 460, 'title': 'My Sweet Lord', 'artist': 'George Harrison', 'album': 'All Things Must Pass', 'year': '1970'}, {'rank': 461, 'title': 'Sheena Is a Punk Rocker', 'artist': 'Ramones', 'album': 'Rocket to Russia', 'year': '1977'}, {'rank': 462, 'title': 'All Apologies', 'artist': 'Nirvana', 'album': 'In Utero', 'year': '1993'}, {'rank': 463, 'title': 'Soul Man', 'artist': 'Sam & Dave', 'album': 'Soul Men', 'year': '1965'}, {'rank': 464, 'title': 'Kiss', 'artist': 'Prince and The Revolution', 'album': 'Parade', 'year': '1986'}, {'rank': 465, 'title': \"Rollin' Stone\", 'artist': 'Muddy Waters', 'album': 'The Anthology: 1947-1972', 'year': '1948'}, {'rank': 466, 'title': 'Get Ur Freak On', 'artist': 'Missy Elliott', 'album': 'Miss E … So Addictive', 'year': '2001'}, {'rank': 467, 'title': \"Big Pimpin' (feat. UGK)\", 'artist': 'Jay-Z', 'album': 'Vol. 3: Life and Times of S. Carter', 'year': '2000'}, {'rank': 468, 'title': 'Respect Yourself', 'artist': 'The Staple Singers', 'album': 'Bealtitude: Respect Yourself', 'year': '1972'}, {'rank': 469, 'title': 'Rain', 'artist': 'The Beatles', 'album': 'Past Masters', 'year': '1966'}, {'rank': 470, 'title': 'Standing In The Shadows Of Love', 'artist': 'The Four Tops', 'album': 'The Ultimate Collection', 'year': '1966'}, {'rank': 471, 'title': 'Surrender', 'artist': 'Cheap Trick', 'album': 'Heaven Tonight', 'year': '1978'}, {'rank': 472, 'title': 'Runaway', 'artist': 'Del Shannon', 'album': 'Greatest Hits', 'year': '1961'}, {'rank': 473, 'title': 'Welcome to the Jungle', 'artist': \"Guns N' Roses\", 'album': 'Appetite for Destruction', 'year': '1987'}, {'rank': 474, 'title': 'Into The Mystic', 'artist': 'Van Morrison', 'album': 'Moondance', 'year': '1970'}, {'rank': 475, 'title': 'Where Did Our Love Go', 'artist': 'The Supremes', 'album': 'The Ultimate Collection', 'year': '1964'}, {'rank': 476, 'title': 'Do Right Woman, Do Right Man', 'artist': 'Aretha Franklin', 'album': 'I Never Loved a Man the Way I Love You', 'year': '1967'}, {'rank': 477, 'title': 'How Soon Is Now?', 'artist': 'The Smiths', 'album': 'Meat Is Murder', 'year': '1984'}, {'rank': 478, 'title': 'Last Nite', 'artist': 'The Strokes', 'album': 'Is This It', 'year': '2001'}, {'rank': 479, 'title': 'I Want To Know What Love Is', 'artist': 'Foreigner', 'album': 'Agent Provocateur', 'year': '1984'}, {'rank': 480, 'title': 'Sabotage', 'artist': 'Beastie Boys', 'album': 'Ill Communication', 'year': '1994'}, {'rank': 481, 'title': 'Super Freak', 'artist': 'Rick James', 'album': 'Street Songs', 'year': '1981'}, {'rank': 482, 'title': 'Since U Been Gone', 'artist': 'Kelly Clarkson', 'album': 'Breakaway', 'year': '2004'}, {'rank': 483, 'title': 'White Rabbit', 'artist': 'Jefferson Airplane', 'album': 'Surrealistic Pillow', 'year': '1967'}, {'rank': 484, 'title': 'Cry Me a River', 'artist': 'Justin Timberlake', 'album': 'Justified', 'year': '2002'}, {'rank': 485, 'title': 'Lady Marmalade', 'artist': 'Labelle', 'album': 'Nightbirds', 'year': '1974'}, {'rank': 486, 'title': 'Young Americans', 'artist': 'David Bowie', 'album': 'Young Americans', 'year': '1975'}, {'rank': 487, 'title': \"I'm Eighteen\", 'artist': 'Alice Cooper', 'album': 'Love It to Death', 'year': '1971'}, {'rank': 488, 'title': 'Just Like Heaven', 'artist': 'The Cure', 'album': 'Kiss Me, Kiss Me, Kiss Me', 'year': '1987'}, {'rank': 489, 'title': 'Under the Boardwalk', 'artist': 'The Drifters', 'album': 'The Very Best of the Drifters', 'year': '1964'}, {'rank': 490, 'title': 'Clocks', 'artist': 'Coldplay', 'album': 'A Rush of Blood to the Head', 'year': '2002'}, {'rank': 491, 'title': \"I Love Rock 'N Roll\", 'artist': 'Joan Jett and The Blackhearts', 'album': \"I Love Rock 'N Roll\", 'year': '1981'}, {'rank': 492, 'title': 'I Will Survive', 'artist': 'Gloria Gaynor', 'album': 'I Will Survive: The Anthology', 'year': '1978'}, {'rank': 493, 'title': 'Time to Pretend', 'artist': 'MGMT', 'album': 'Oracular Spectacular', 'year': '2008'}, {'rank': 494, 'title': 'Ignition (Remix)', 'artist': 'R. Kelly', 'album': 'Chocolate Factory', 'year': '2003'}, {'rank': 495, 'title': 'Brown Sugar', 'artist': 'The Rolling Stones', 'album': 'Sticky Fingers', 'year': '1971'}, {'rank': 496, 'title': 'Running On Empty', 'artist': 'Jackson Browne', 'album': 'Running on Empty', 'year': '1977'}, {'rank': 497, 'title': 'The Rising', 'artist': 'Bruce Springsteen', 'album': 'The Rising', 'year': '2002'}, {'rank': 498, 'title': 'Miss You', 'artist': 'The Rolling Stones', 'album': 'Some Girls', 'year': '1978'}, {'rank': 499, 'title': 'Buddy Holly', 'artist': 'Weezer', 'album': 'Weezer', 'year': '1994'}, {'rank': 500, 'title': 'Shop Around', 'artist': 'Smokey Robinson and the Miracles', 'album': 'The Ultimate Collection', 'year': '1960'}]}\n"
          ]
        }
      ]
    },
    {
      "cell_type": "markdown",
      "source": [
        "\n",
        "## **4. Reading and Writing Data From/To External Files:**\n"
      ],
      "metadata": {
        "id": "J2LAE-_ftWVm"
      }
    },
    {
      "cell_type": "markdown",
      "source": [
        "\n",
        "\n",
        "**Reading Data from an External URL:**\n",
        "\n",
        "To read data from an external URL, you can use the `requests` library to make HTTP requests. Here's an example:\n",
        "\n",
        "```python\n",
        "import requests\n",
        "\n",
        "url = 'https://example.com/data.txt'\n",
        "\n",
        "response = requests.get(url)\n",
        "data = response.text\n",
        "\n",
        "print(data)\n",
        "```\n",
        "\n",
        "In this code, we import the `requests` library and specify the URL from which we want to read data. The `requests.get()` function sends a GET request to the URL and returns the response. We can access the content of the response using the `.text` attribute, which retrieves the data as a string. Finally, we print the retrieved data.\n",
        "\n",
        "\n"
      ],
      "metadata": {
        "id": "-4zf7jrLtY9F"
      }
    },
    {
      "cell_type": "code",
      "source": [
        "import requests\n",
        "\n",
        "url = 'https://gist.githubusercontent.com/nanotaboada/a90ce99a9bc8ca3c63c0f1dfeb41d41d/raw/55b47f2da187d5d9c9f069d4e354d76ee806eded/songs.json'\n",
        "\n",
        "# url = 'https://developer.mozilla.org/en-US/docs/Learn/JavaScript/Objects/JSON'\n",
        "\n",
        "response = requests.get(url)\n",
        "data = response.text\n",
        "\n",
        "print(data)"
      ],
      "metadata": {
        "id": "H2sjkdL_tZ8l"
      },
      "execution_count": null,
      "outputs": []
    },
    {
      "cell_type": "markdown",
      "source": [
        "\n",
        "\n",
        "**Writing Data to External URLs:**\n",
        "\n",
        "\n",
        "To write data to an external URL, you typically need to use the appropriate HTTP method (POST, PUT, etc.) and specify the data to be sent. Here's an example using the `requests` library:\n",
        "\n",
        "```python\n",
        "import requests\n",
        "\n",
        "url = 'https://example.com/submit'\n",
        "data = {'name': 'John', 'age': 25}\n",
        "\n",
        "response = requests.post(url, data=data)\n",
        "\n",
        "if response.status_code == 200:\n",
        "    print('Data submitted successfully!')\n",
        "else:\n",
        "    print('Failed to submit data.')\n",
        "```\n",
        "\n",
        "In this code, we specify the URL where we want to submit data and define the data to be sent as a dictionary. We then use `requests.post()` to send a POST request to the URL with the specified data. The response's `status_code` attribute indicates the success or failure of the request, and we print an appropriate message based on the response.\n",
        "\n",
        "\n"
      ],
      "metadata": {
        "id": "qegg3AxAfkCX"
      }
    },
    {
      "cell_type": "code",
      "source": [],
      "metadata": {
        "id": "EYfs08t0gsIH"
      },
      "execution_count": null,
      "outputs": []
    },
    {
      "cell_type": "markdown",
      "source": [
        "## **5. Reading and Writing Data from/to Cloud Services:**\n",
        "\n",
        "\n",
        "Each cloud service may have its own specific way of reading and writing data. Here's an example using the Amazon S3 service and the `boto3` library:"
      ],
      "metadata": {
        "id": "JYPaiRgmtsPt"
      }
    },
    {
      "cell_type": "markdown",
      "source": [
        "\n",
        "\n",
        "**Reading Data from Amazon S3:**\n",
        "\n",
        "```python\n",
        "import boto3\n",
        "\n",
        "s3 = boto3.resource('s3')\n",
        "bucket_name = 'my-bucket'\n",
        "file_name = 'data.txt'\n",
        "\n",
        "bucket = s3.Bucket(bucket_name)\n",
        "obj = bucket.Object(file_name)\n",
        "response = obj.get()\n",
        "\n",
        "data = response['Body'].read().decode('utf-8')\n",
        "print(data)\n",
        "```\n",
        "\n",
        "In this code, we import the `boto3` library and create an Amazon S3 resource using `boto3.resource()`. We specify the bucket name and file name of the object we want to read. The object is retrieved using the `get()` method, and the data is read from the response's body. Finally, we decode the data using the appropriate encoding and print it.\n"
      ],
      "metadata": {
        "id": "O65hxk_wtvWF"
      }
    },
    {
      "cell_type": "code",
      "source": [],
      "metadata": {
        "id": "uDZPMea5twnE"
      },
      "execution_count": null,
      "outputs": []
    },
    {
      "cell_type": "markdown",
      "source": [
        "\n",
        "**Writing Data to Amazon S3:**\n",
        "\n",
        "```python\n",
        "import boto3\n",
        "\n",
        "s3 = boto3.resource('s3')\n",
        "bucket_name = 'my-bucket'\n",
        "file_name = 'data.txt'\n",
        "data = 'Hello, world!'\n",
        "\n",
        "bucket = s3.Bucket(bucket_name)\n",
        "obj = bucket.Object(file_name)\n",
        "obj.put(Body=data)\n",
        "```\n",
        "\n",
        "In this code, we create an Amazon S3 resource using `boto3.resource()`. We specify the bucket name and file name of the object we want to write. We set the `data` variable with the content we want to write. The object is created or updated using the `put()` method, with the data specified as the body of the object.\n",
        "\n",
        "Please note that the specific code and configurations may vary depending on the cloud service you are using.\n"
      ],
      "metadata": {
        "id": "C9tIgfyegsqe"
      }
    },
    {
      "cell_type": "code",
      "source": [],
      "metadata": {
        "id": "RKwiFI7Kt9z1"
      },
      "execution_count": null,
      "outputs": []
    },
    {
      "cell_type": "markdown",
      "source": [
        "\n",
        "## **6. Reading and Writing Data from/to Databases:**\n",
        "\n",
        "\n",
        "To read and write data from and to databases, you'll need to use appropriate database connectors or libraries based on the database system you're working with. Here's an example using SQLite and the `sqlite3` library:\n"
      ],
      "metadata": {
        "id": "48JdgiHCuXAl"
      }
    },
    {
      "cell_type": "markdown",
      "source": [
        "\n",
        "**Reading Data from SQLite Database:**\n",
        "\n",
        "```python\n",
        "import sqlite3\n",
        "\n",
        "conn = sqlite3.connect('data.db')\n",
        "cursor = conn.cursor()\n",
        "\n",
        "cursor.execute('SELECT * FROM users')\n",
        "data = cursor.fetchall()\n",
        "\n",
        "for row in data:\n",
        "    print(row)\n",
        "\n",
        "conn.close()\n",
        "```\n",
        "\n",
        "In this code, we import the `sqlite3` library and establish a connection to the SQLite database using `sqlite3.connect()`. We create a cursor to execute SQL queries. The `SELECT` statement retrieves all rows from the \"users\" table, and the `fetchall()` method returns the result. We iterate over the rows and print them. Finally, we close the connection to the database.\n"
      ],
      "metadata": {
        "id": "2FyNS4rNuaJ1"
      }
    },
    {
      "cell_type": "code",
      "source": [],
      "metadata": {
        "id": "U-OUJ7jGub8d"
      },
      "execution_count": null,
      "outputs": []
    },
    {
      "cell_type": "markdown",
      "source": [
        "\n",
        "**Writing Data to SQLite Database:**\n",
        "\n",
        "```python\n",
        "import sqlite3\n",
        "\n",
        "conn = sqlite3.connect('data.db')\n",
        "cursor = conn.cursor()\n",
        "\n",
        "data = [('John', 25), ('Alice', 30), ('Bob', 20)]\n",
        "cursor.executemany('INSERT INTO users (name, age) VALUES (?, ?)', data)\n",
        "\n",
        "conn.commit()\n",
        "conn.close()\n",
        "```\n",
        "\n",
        "In this code, we establish a connection to the SQLite database and create a cursor. We define the data we want to insert as a list of tuples. The `executemany()` method is used to insert multiple rows into the \"users\" table. We pass the SQL query and the data to the method. After executing the query, we commit the changes using `conn.commit()` and close the connection to the database.\n",
        "\n",
        "> **Remember to install the necessary libraries or SDKs using tools like `pip` before using them in your code.**\n",
        "\n",
        "That covers reading and writing data from/to external URLs, various cloud services, and databases, considering file I/O operations.\n",
        "\n",
        "\n"
      ],
      "metadata": {
        "id": "FsUiddazt85V"
      }
    },
    {
      "cell_type": "code",
      "source": [],
      "metadata": {
        "id": "SYb8r5iCvGv0"
      },
      "execution_count": null,
      "outputs": []
    },
    {
      "cell_type": "markdown",
      "source": [
        "# **To handle errors, authentication, and authorization as required by the specific data sources we're accessing.**"
      ],
      "metadata": {
        "id": "bQ9hZIaqRA4O"
      }
    },
    {
      "cell_type": "markdown",
      "source": [
        "# **1. Error Handling**"
      ],
      "metadata": {
        "id": "d7YyqqzPwzQd"
      }
    },
    {
      "cell_type": "markdown",
      "source": [
        "## **1.1. Reading Data from External URLs:**\n",
        "\n",
        "```python\n",
        "import requests\n",
        "\n",
        "url = 'https://example.com/data.txt'\n",
        "\n",
        "try:\n",
        "    response = requests.get(url)\n",
        "    response.raise_for_status()  # Raise an exception for unsuccessful status codes\n",
        "    \n",
        "    data = response.text\n",
        "    print(data)\n",
        "    \n",
        "except requests.exceptions.RequestException as e:\n",
        "    print('Error:', e)\n",
        "```\n",
        "\n",
        "In this code, we use a `try-except` block to handle exceptions that may occur during the HTTP request. The `requests.get()` function is called within the `try` block, and the `response.raise_for_status()` method raises an exception if the response has an unsuccessful status code (e.g., 404 Not Found). If the request is successful, the data is printed. If an exception occurs, it is caught in the `except` block, and an appropriate error message is displayed.\n",
        "\n"
      ],
      "metadata": {
        "id": "3NbcAC0d6zKN"
      }
    },
    {
      "cell_type": "code",
      "source": [],
      "metadata": {
        "id": "EfsKWrFE61A0"
      },
      "execution_count": null,
      "outputs": []
    },
    {
      "cell_type": "markdown",
      "source": [
        "\n",
        "## **1.2. Writing Data to External URLs:**\n",
        "\n",
        "\n",
        "\n",
        "```python\n",
        "import requests\n",
        "\n",
        "url = 'https://example.com/submit'\n",
        "data = {'name': 'John', 'age': 25}\n",
        "\n",
        "try:\n",
        "    response = requests.post(url, data=data)\n",
        "    response.raise_for_status()  # Raise an exception for unsuccessful status codes\n",
        "    \n",
        "    if response.status_code == 200:\n",
        "        print('Data submitted successfully!')\n",
        "    else:\n",
        "        print('Failed to submit data.')\n",
        "        \n",
        "except requests.exceptions.RequestException as e:\n",
        "    print('Error:', e)\n",
        "```\n",
        "\n",
        "Similar to the previous example, we use a `try-except` block to handle exceptions during the HTTP request. After sending the `requests.post()` request, we use `response.raise_for_status()` to raise an exception if the response has an unsuccessful status code. If the request is successful, the appropriate message is printed. If an exception occurs, it is caught in the `except` block, and an error message is displayed.\n"
      ],
      "metadata": {
        "id": "3XVm0mJ261gL"
      }
    },
    {
      "cell_type": "code",
      "source": [],
      "metadata": {
        "id": "ZGsv815U62d9"
      },
      "execution_count": null,
      "outputs": []
    },
    {
      "cell_type": "markdown",
      "source": [
        "\n",
        "## **2. Reading and Writing Data from/to Cloud Services:**\n",
        "\n",
        "\n"
      ],
      "metadata": {
        "id": "jYkqtt0t7FqU"
      }
    },
    {
      "cell_type": "markdown",
      "source": [
        "\n",
        "**Reading Data from Amazon S3:**\n",
        "\n",
        "```python\n",
        "import boto3\n",
        "from botocore.exceptions import ClientError\n",
        "\n",
        "s3 = boto3.resource('s3')\n",
        "bucket_name = 'my-bucket'\n",
        "file_name = 'data.txt'\n",
        "\n",
        "try:\n",
        "    bucket = s3.Bucket(bucket_name)\n",
        "    obj = bucket.Object(file_name)\n",
        "    response = obj.get()\n",
        "    \n",
        "    data = response['Body'].read().decode('utf-8')\n",
        "    print(data)\n",
        "    \n",
        "except ClientError as e:\n",
        "    print('Error:', e)\n",
        "```\n",
        "\n",
        "In this code, we use a `try-except` block to handle potential errors when accessing Amazon S3. The `boto3` library is used to connect to the S3 service. Inside the `try` block, we attempt to access the specified bucket and object. If successful, we read the data from the response and print it. If an error occurs, it is caught in the `except` block, and an error message is displayed.\n",
        "\n"
      ],
      "metadata": {
        "id": "IjCuxkvD68y8"
      }
    },
    {
      "cell_type": "code",
      "source": [],
      "metadata": {
        "id": "nS3UCqVf6_k8"
      },
      "execution_count": null,
      "outputs": []
    },
    {
      "cell_type": "markdown",
      "source": [
        "**Writing Data to Amazon S3:**\n",
        "\n",
        "```python\n",
        "import boto3\n",
        "from botocore.exceptions import ClientError\n",
        "\n",
        "s3 = boto3.resource('s3')\n",
        "bucket_name = 'my-bucket'\n",
        "file_name = 'data.txt'\n",
        "data = 'Hello, world!'\n",
        "\n",
        "try:\n",
        "    bucket = s3.Bucket(bucket_name)\n",
        "    obj = bucket.Object(file_name)\n",
        "    obj.put(Body=data)\n",
        "    \n",
        "    print('Data written successfully!')\n",
        "    \n",
        "except ClientError as e:\n",
        "    print('Error:', e)\n",
        "```\n",
        "\n",
        "Similar to the previous example, we use a `try-except` block to handle potential errors when writing data to Amazon S3.\n",
        "\n",
        " We attempt to access the bucket and object, and then use the `put()` method to upload the data. If the operation is successful, the appropriate message is printed. If an error occurs, it is caught in the `except` block, and an error message is displayed."
      ],
      "metadata": {
        "id": "mE5r-GyI7BCM"
      }
    },
    {
      "cell_type": "code",
      "source": [],
      "metadata": {
        "id": "MK6_wGJF7Cjk"
      },
      "execution_count": null,
      "outputs": []
    },
    {
      "cell_type": "markdown",
      "source": [
        "\n",
        "## **3. Reading and Writing Data from/to Databases:**\n",
        "\n"
      ],
      "metadata": {
        "id": "BntN1-ZY5zLb"
      }
    },
    {
      "cell_type": "markdown",
      "source": [
        "\n",
        "**Reading Data from SQLite Database:**\n",
        "\n",
        "```python\n",
        "import sqlite3\n",
        "\n",
        "try:\n",
        "    conn = sqlite3.connect('data.db')\n",
        "    cursor = conn.cursor()\n",
        "\n",
        "    cursor.execute('SELECT * FROM users')\n",
        "    data = cursor.fetchall()\n",
        "\n",
        "    for row in data:\n",
        "        print(row)\n",
        "\n",
        "except sqlite3.Error as e:\n",
        "    print('Error:', e)\n",
        "\n",
        "finally:\n",
        "    conn.close()\n",
        "```\n",
        "\n",
        "In this code, we use a `try-except-finally` block to handle potential errors when accessing the SQLite database. Inside the `try` block, we establish a connection to the database and create a cursor. We execute the SQL query and fetch the data. If successful, we iterate over the rows and print them. If an error occurs, it is caught in the `except` block, and an error message is displayed. The `finally` block ensures that the connection is closed, regardless of whether an error occurred or not.\n"
      ],
      "metadata": {
        "id": "HS1AX5067RH1"
      }
    },
    {
      "cell_type": "code",
      "source": [],
      "metadata": {
        "id": "jXytYLUw7Scm"
      },
      "execution_count": null,
      "outputs": []
    },
    {
      "cell_type": "markdown",
      "source": [
        "\n",
        "**Writing Data to SQLite Database:**\n",
        "\n",
        "```python\n",
        "import sqlite3\n",
        "\n",
        "try:\n",
        "    conn = sqlite3.connect('data.db')\n",
        "    cursor = conn.cursor()\n",
        "\n",
        "    data = [('John', 25), ('Alice', 30), ('Bob', 20)]\n",
        "    cursor.executemany('INSERT INTO users (name, age) VALUES (?, ?)', data)\n",
        "\n",
        "    conn.commit()\n",
        "    print('Data written successfully!')\n",
        "\n",
        "except sqlite3.Error as e:\n",
        "    print('Error:', e)\n",
        "\n",
        "finally:\n",
        "    conn.close()\n",
        "```\n",
        "\n",
        "Similar to the previous example, we use a `try-except-finally` block to handle potential errors when writing data to the SQLite database. We establish a connection to the database and create a cursor. We define the data to be inserted as a list of tuples and use the `executemany()` method to insert multiple rows. If the operation is successful, the appropriate message is printed. If an error occurs, it is caught in the `except` block, and an error message is displayed. The `finally` block ensures that the connection is closed.\n",
        "\n",
        "\n",
        "\n",
        "> **Remember to customize the error handling and exception types based on the specific requirements and libraries you are using.**\n",
        "\n"
      ],
      "metadata": {
        "id": "tDXfcfKg7Ovz"
      }
    },
    {
      "cell_type": "code",
      "source": [],
      "metadata": {
        "id": "KvIteWQ27b-D"
      },
      "execution_count": null,
      "outputs": []
    },
    {
      "cell_type": "markdown",
      "source": [
        "\n",
        "# **2. Authentication:**\n",
        "\n",
        "Some data sources may require authentication to access the data. This typically involves providing credentials, tokens, or API keys. The method of authentication depends on the specific data source. Here's a generalized example of authenticating when fetching data from a URL using an API key:\n",
        "\n",
        "```python\n",
        "import requests\n",
        "\n",
        "url = 'https://example.com/data'\n",
        "api_key = 'your-api-key'\n",
        "\n",
        "headers = {\n",
        "    'Authorization': f'Bearer {api_key}'\n",
        "}\n",
        "\n",
        "try:\n",
        "    response = requests.get(url, headers=headers)\n",
        "    # Process the response as needed\n",
        "except requests.exceptions.RequestException as e:\n",
        "    print('An error occurred while fetching the data:', str(e))\n",
        "```\n",
        "\n",
        "In this code, we pass the API key in the `Authorization` header of the HTTP request. The specific format of the authentication header may vary depending on the data source and authentication method. Consult the documentation of the data source or library to understand the authentication requirements and how to pass the necessary credentials.\n"
      ],
      "metadata": {
        "id": "zdOBRz3_74mU"
      }
    },
    {
      "cell_type": "markdown",
      "source": [
        "\n",
        "#**3. Authorization:**\n",
        "\n",
        "Authorization is about ensuring that the user or application has the necessary permissions to access the data source. This involves setting up appropriate access controls and roles within the data source. The authorization process is typically specific to the data source and may involve configuring permissions, API access rules, or database user roles. Consult the documentation of the data source to understand how to set up and manage authorization.\n",
        "\n",
        "It's important to note that the exact steps for handling errors, authentication, and authorization can vary depending on the specific data sources, libraries, or APIs you're working with. Always refer to the documentation and guidelines provided by the data source or library to ensure proper implementation and security."
      ],
      "metadata": {
        "id": "XUW4p5Nm8TKM"
      }
    },
    {
      "cell_type": "markdown",
      "source": [
        "# **File read and write operations in machine learning**\n",
        "\n"
      ],
      "metadata": {
        "id": "5o7BaFbWvHD8"
      }
    },
    {
      "cell_type": "markdown",
      "source": [
        "## **Step 1: Import the Required Libraries**\n",
        "\n",
        "In Python, we need to import the necessary libraries to perform file read and write operations. The primary library we'll be using is `pandas`, which provides convenient functions for reading and writing data in various formats.\n",
        "\n",
        "```python\n",
        "import pandas as pd\n",
        "```\n"
      ],
      "metadata": {
        "id": "Hrv33qau-rxD"
      }
    },
    {
      "cell_type": "code",
      "source": [],
      "metadata": {
        "id": "k_DvEm3Y-9vo"
      },
      "execution_count": null,
      "outputs": []
    },
    {
      "cell_type": "markdown",
      "source": [
        "## **Step 2: Reading Data from Files**\n",
        "\n",
        "Before we can work with data in machine learning, we need to load it from files. Pandas provides several functions to read data from different file formats, such as CSV, Excel, and more.\n",
        "\n",
        "\n",
        "**2.1 Reading from CSV Files:**\n",
        "\n",
        "To read data from a CSV file, we can use the `pd.read_csv()` function. Here's an example:\n",
        "\n",
        "```python\n",
        "data = pd.read_csv('data.csv')\n",
        "```\n",
        "\n",
        "\n"
      ],
      "metadata": {
        "id": "kp2RjrUT-WpT"
      }
    },
    {
      "cell_type": "code",
      "source": [],
      "metadata": {
        "id": "CI9CXSb6_mqL"
      },
      "execution_count": null,
      "outputs": []
    },
    {
      "cell_type": "markdown",
      "source": [
        "**2.2 Reading from Excel Files:**\n",
        "\n",
        "To read data from an Excel file, we can use the `pd.read_excel()` function. Here's an example:\n",
        "\n",
        "```python\n",
        "data = pd.read_excel('data.xlsx')\n",
        "```"
      ],
      "metadata": {
        "id": "rlJT7IB7JYQT"
      }
    },
    {
      "cell_type": "code",
      "source": [],
      "metadata": {
        "id": "Rdqxq9b1JZOa"
      },
      "execution_count": null,
      "outputs": []
    },
    {
      "cell_type": "markdown",
      "source": [
        "## **Step 3: Exploring and Manipulating Data**\n",
        "\n",
        "Once we've loaded the data into a DataFrame, we can explore and manipulate it as needed. Pandas provides a rich set of functions for data analysis and preprocessing.\n",
        "\n",
        "**3.1 Exploring Data:**\n",
        "\n",
        "To get a quick overview of the loaded data, we can use the following functions:\n",
        "\n",
        "```python\n",
        "data.head()      # Display the first few rows of the DataFrame\n",
        "data.shape       # Get the dimensions of the DataFrame (rows, columns)\n",
        "data.describe()  # Generate summary statistics of the DataFrame\n",
        "```\n"
      ],
      "metadata": {
        "id": "ikQPkNgQ_nQ8"
      }
    },
    {
      "cell_type": "code",
      "source": [],
      "metadata": {
        "id": "1zlxTH17_rfD"
      },
      "execution_count": null,
      "outputs": []
    },
    {
      "cell_type": "markdown",
      "source": [
        "\n",
        "**3.2 Manipulating Data:**\n",
        "\n",
        "We can perform various data manipulation tasks using Pandas, such as selecting columns, filtering rows, and modifying values.\n",
        "\n",
        "```python\n",
        "# Selecting columns\n",
        "selected_columns = data[['column1', 'column2']]\n",
        "\n",
        "# Filtering rows\n",
        "filtered_data = data[data['column'] > 10]\n",
        "\n",
        "# Modifying values\n",
        "data['column'] = data['column'] * 2\n",
        "```\n"
      ],
      "metadata": {
        "id": "zuvaTQSIJUVD"
      }
    },
    {
      "cell_type": "code",
      "source": [],
      "metadata": {
        "id": "ZbVertH_JU5j"
      },
      "execution_count": null,
      "outputs": []
    },
    {
      "cell_type": "markdown",
      "source": [
        "## **Step 4: Writing Data to Files**\n",
        "\n",
        "Once we've processed and prepared our data, we may need to write it back to files for further analysis or sharing with others. Pandas provides functions to write data to various file formats.\n",
        "\n",
        "**4.1 Writing to CSV Files:**\n",
        "\n",
        "To write data to a CSV file, we can use the `to_csv()` function. Here's an example:\n",
        "\n",
        "```python\n",
        "data.to_csv('processed_data.csv', index=False)\n",
        "```\n"
      ],
      "metadata": {
        "id": "4n060jKX_r2j"
      }
    },
    {
      "cell_type": "code",
      "source": [],
      "metadata": {
        "id": "QywLEvp6_u9b"
      },
      "execution_count": null,
      "outputs": []
    },
    {
      "cell_type": "markdown",
      "source": [
        "\n",
        "**4.2 Writing to Excel Files:**\n",
        "\n",
        "To write data to an Excel file, we can use the `to_excel()` function. Here's an example:\n",
        "\n",
        "```python\n",
        "data.to_excel('processed_data.xlsx', index=False)\n",
        "```\n"
      ],
      "metadata": {
        "id": "2hT4o20-Jm41"
      }
    },
    {
      "cell_type": "code",
      "source": [],
      "metadata": {
        "id": "1IwalOQVJnYD"
      },
      "execution_count": null,
      "outputs": []
    },
    {
      "cell_type": "markdown",
      "source": [
        "\n",
        "## **Step 5: Handling Errors and Exceptions**\n",
        "\n",
        "When performing file read and write operations, it's important to handle errors and exceptions to ensure smooth execution and prevent crashes. We can use try-except blocks to handle errors gracefully.\n",
        "\n",
        "```python\n",
        "try:\n",
        "    # Code for file read/write operations\n",
        "except FileNotFoundError:\n",
        "    print(\"File not found. Please check the file path.\")\n",
        "except Exception as e:\n",
        "    print(\"An error occurred:\", str(e))\n",
        "```\n",
        "\n",
        "In the try block, we write the code for file read/write operations. If any exception occurs, it will be caught in the appropriate except block, and an error message will be displayed.\n",
        "\n",
        "That's it! This step-by-step guide covers the basics of file read and write operations in machine learning using the `pandas` library.\n",
        "\n",
        "**Remember to adapt the code and file paths to match your specific use case.**\n",
        "\n",
        "> **Note: Make sure to install the required libraries (`pandas`, `openpyxl` for Excel support) using tools like `pip` before running the code.**"
      ],
      "metadata": {
        "id": "BDqNEjBh_vLr"
      }
    },
    {
      "cell_type": "code",
      "source": [],
      "metadata": {
        "id": "w6gLv_PVJ5sr"
      },
      "execution_count": null,
      "outputs": []
    },
    {
      "cell_type": "markdown",
      "source": [
        "# **GCP file read write operations**\n",
        "\n",
        "### Below we are discussing file read and write operations in Google Cloud Platform (GCP), specifically using Google Cloud Storage (GCS) with Python it covers the entire process from setting up GCP credentials to performing file operations."
      ],
      "metadata": {
        "id": "IL0aEh6vJ5Tr"
      }
    },
    {
      "cell_type": "markdown",
      "source": [
        "## **Step 1: Set Up Google Cloud Platform**\n",
        "To begin, you'll need to set up a GCP project and enable the Cloud Storage API. Follow these steps:\n",
        "\n",
        "1. Create a new project in the GCP Console (https://console.cloud.google.com/).\n",
        "2. Enable the Cloud Storage API for your project.\n",
        "3. Create a service account and download the JSON key file that contains your service account credentials.\n",
        "\n",
        "## **Step 2: Install Required Libraries**\n",
        "In Python, we need to install the necessary libraries to work with GCP. Use the following command to install the `google-cloud-storage` library:\n",
        "\n",
        "```python\n",
        "pip install google-cloud-storage\n",
        "```\n",
        "\n",
        "## **Step 3: Authenticate with GCP**\n",
        "\n",
        "Before performing any file operations, we need to authenticate with GCP using our service account credentials. Place the JSON key file you downloaded in Step 1 in your project directory.\n",
        "\n",
        "```python\n",
        "from google.cloud import storage\n",
        "\n",
        "# Authenticate using service account credentials\n",
        "storage_client = storage.Client.from_service_account_json('path/to/keyfile.json')\n",
        "```\n",
        "\n",
        "## **Step 4: Reading Data from GCS**\n",
        "Now, let's see how to read data from a file in GCS.\n",
        "\n",
        "```python\n",
        "bucket_name = 'your-bucket'\n",
        "blob_name = 'your-file.csv'\n",
        "\n",
        "# Get a reference to the file\n",
        "bucket = storage_client.get_bucket(bucket_name)\n",
        "blob = bucket.blob(blob_name)\n",
        "\n",
        "# Download the file contents\n",
        "data = blob.download_as_text()\n",
        "```\n",
        "\n",
        "## **Step 5: Writing Data to GCS**\n",
        "Next, let's explore how to write data to a file in GCS.\n",
        "\n",
        "```python\n",
        "bucket_name = 'your-bucket'\n",
        "blob_name = 'your-file.csv'\n",
        "data_to_write = 'your data'\n",
        "\n",
        "# Get a reference to the file\n",
        "bucket = storage_client.get_bucket(bucket_name)\n",
        "blob = bucket.blob(blob_name)\n",
        "\n",
        "# Upload the data to the file\n",
        "blob.upload_from_string(data_to_write)\n",
        "```\n",
        "\n",
        "## **Step 6: Handling Errors and Exceptions**\n",
        "It's crucial to handle errors and exceptions to ensure smooth execution and proper error reporting. We can use try-except blocks to handle exceptions when interacting with GCS.\n",
        "\n",
        "```python\n",
        "try:\n",
        "    # Code for file read/write operations\n",
        "except Exception as e:\n",
        "    print(\"An error occurred:\", str(e))\n",
        "```\n",
        "\n",
        "In the try block, we write the code for file read/write operations. If any exception occurs, it will be caught in the except block, and an error message will be displayed.\n",
        "\n",
        "That's it! This step-by-step guide covers the basics of file read and write operations in GCP using Google Cloud Storage and Python. By following these steps, beginners can successfully read data from and write data to GCS. Remember to replace 'your-bucket', 'your-file.csv', and 'your data' with your specific bucket name, file name, and data respectively.\n",
        "\n",
        "Note: Ensure that you have the proper permissions and access to the GCS bucket and files before performing read and write operations."
      ],
      "metadata": {
        "id": "87vjnZ3SKBoz"
      }
    },
    {
      "cell_type": "code",
      "source": [],
      "metadata": {
        "id": "5SWzR4A4Lc8r"
      },
      "execution_count": null,
      "outputs": []
    },
    {
      "cell_type": "markdown",
      "source": [
        "# **Microsoft Azure file read write operations**\n",
        "\n",
        "### Here's a step-by-step tutorial on file read and write operations in Azure, specifically using Azure Blob Storage."
      ],
      "metadata": {
        "id": "k6cHXVfsLdWi"
      }
    },
    {
      "cell_type": "markdown",
      "source": [
        "## **Step 1: Install Required Libraries**\n",
        "To work with Azure Blob Storage in Python, we need to install the `azure-storage-blob` library. You can install it using `pip`:\n",
        "\n",
        "```bash\n",
        "pip install azure-storage-blob\n",
        "```\n",
        "\n",
        "## **Step 2: Import Required Libraries**\n",
        "In Python, we need to import the necessary libraries to perform Azure file read and write operations. We'll be using the `BlockBlobService` class from the `azure.storage.blob` module.\n",
        "\n",
        "```python\n",
        "from azure.storage.blob import BlockBlobService\n",
        "```\n",
        "\n",
        "## **Step 3: Authenticate with Azure Storage**\n",
        "To interact with Azure Blob Storage, we need to authenticate using a storage account name and access key. You can obtain these credentials from the Azure portal.\n",
        "\n",
        "```python\n",
        "account_name = 'your-storage-account-name'\n",
        "account_key = 'your-storage-account-key'\n",
        "\n",
        "blob_service = BlockBlobService(account_name=account_name, account_key=account_key)\n",
        "```\n",
        "\n",
        "## **Step 4: Reading Data from Azure Blob Storage**\n",
        "To read data from Azure Blob Storage, we can use the `get_blob_to_text()` method of the `BlockBlobService` class. This method retrieves a blob (file) as a text string.\n",
        "\n",
        "```python\n",
        "container_name = 'your-container-name'\n",
        "blob_name = 'your-blob-name'\n",
        "\n",
        "blob_content = blob_service.get_blob_to_text(container_name, blob_name).content\n",
        "print(blob_content)\n",
        "```\n",
        "\n",
        "## **Step 5: Writing Data to Azure Blob Storage**\n",
        "To write data to Azure Blob Storage, we can use the `create_blob_from_text()` method of the `BlockBlobService` class. This method creates a new blob (file) or overwrites an existing one with the provided text content.\n",
        "\n",
        "```python\n",
        "container_name = 'your-container-name'\n",
        "blob_name = 'your-blob-name'\n",
        "data_to_write = 'Hello, Azure Blob Storage!'\n",
        "\n",
        "blob_service.create_blob_from_text(container_name, blob_name, data_to_write)\n",
        "print('Data written to Azure Blob Storage.')\n",
        "```\n",
        "\n",
        "### **Step 6: Handling Errors and Exceptions**\n",
        "When working with Azure Blob Storage, it's important to handle errors and exceptions to ensure a smooth execution and handle potential issues.\n",
        "\n",
        "```python\n",
        "try:\n",
        "    # Code for Azure file read/write operations\n",
        "except Exception as e:\n",
        "    print(\"An error occurred:\", str(e))\n",
        "```\n",
        "\n",
        "In the try block, you can place the code for Azure file read/write operations. If any exception occurs, it will be caught in the except block, and an error message will be displayed.\n",
        "\n",
        "That's it! This tutorial provides a basic understanding of file read and write operations in Azure Blob Storage using the `azure-storage-blob` library. Make sure to replace the placeholders (`your-storage-account-name`, `your-storage-account-key`, `your-container-name`, `your-blob-name`) with your actual Azure storage account and container details.\n",
        "\n",
        "Note: Ensure that you have the necessary permissions and access to the Azure Blob Storage account and containers before running the code."
      ],
      "metadata": {
        "id": "VbbHBb24MTOb"
      }
    },
    {
      "cell_type": "code",
      "source": [],
      "metadata": {
        "id": "nNJpf9TJMme2"
      },
      "execution_count": null,
      "outputs": []
    },
    {
      "cell_type": "markdown",
      "source": [
        "# **Amazon AWS file read write operations**\n",
        "\n",
        "### Here's a step-by-step guide on file read and write operations in AWS, specifically focusing on Amazon S3.\n"
      ],
      "metadata": {
        "id": "Bic7k9vnNbYb"
      }
    },
    {
      "cell_type": "markdown",
      "source": [
        "\n",
        "## **Step 1: Install the Required Libraries**\n",
        "To work with AWS services in Python, we need to install the `boto3` library, which is the official AWS SDK for Python. Open your terminal or command prompt and run the following command to install it:\n",
        "\n",
        "```bash\n",
        "pip install boto3\n",
        "```\n",
        "\n",
        "## **Step 2: Set Up AWS Credentials**\n",
        "To access AWS services, you need to provide valid AWS credentials. Follow these steps to set up your AWS credentials:\n",
        "\n",
        "1. Create an AWS account if you don't have one already.\n",
        "2. Log in to the AWS Management Console.\n",
        "3. Go to the IAM (Identity and Access Management) service.\n",
        "4. Create an IAM user or use an existing one.\n",
        "5. Attach the necessary policies to the IAM user, such as AmazonS3FullAccess for full access to Amazon S3.\n",
        "6. Generate an access key for the IAM user.\n",
        "7. Note down the Access Key ID and Secret Access Key.\n",
        "\n",
        "## **Step 3: Import the Required Libraries and Configure AWS Credentials**\n",
        "In your Python script, import the `boto3` library and configure your AWS credentials using the Access Key ID and Secret Access Key obtained in the previous step.\n",
        "\n",
        "```python\n",
        "import boto3\n",
        "\n",
        "# Configure AWS credentials\n",
        "access_key_id = 'your-access-key-id'\n",
        "secret_access_key = 'your-secret-access-key'\n",
        "region = 'your-region'  # e.g., 'us-east-1'\n",
        "\n",
        "# Create an S3 client\n",
        "s3 = boto3.client('s3', aws_access_key_id=access_key_id, aws_secret_access_key=secret_access_key, region_name=region)\n",
        "```\n",
        "\n",
        "Replace `'your-access-key-id'`, `'your-secret-access-key'`, and `'your-region'` with your actual credentials and desired region.\n",
        "\n",
        "## **Step 4: Reading Data from Amazon S3**\n",
        "To read data from an Amazon S3 bucket, you can use the `get_object()` method of the S3 client. Here's an example:\n",
        "\n",
        "```python\n",
        "bucket_name = 'your-bucket-name'\n",
        "file_name = 'your-file-name'\n",
        "\n",
        "try:\n",
        "    response = s3.get_object(Bucket=bucket_name, Key=file_name)\n",
        "    data = response['Body'].read().decode('utf-8')\n",
        "    print(data)\n",
        "except Exception as e:\n",
        "    print(\"An error occurred:\", str(e))\n",
        "```\n",
        "\n",
        "Replace `'your-bucket-name'` and `'your-file-name'` with the actual bucket name and file name/path you want to read.\n",
        "\n",
        "## **Step 5: Writing Data to Amazon S3**\n",
        "To write data to an Amazon S3 bucket, you can use the `put_object()` method of the S3 client. Here's an example:\n",
        "\n",
        "```python\n",
        "bucket_name = 'your-bucket-name'\n",
        "file_name = 'your-file-name'\n",
        "data_to_write = 'Hello, S3!'\n",
        "\n",
        "try:\n",
        "    response = s3.put_object(Body=data_to_write, Bucket=bucket_name, Key=file_name)\n",
        "    print('Data written to Amazon S3.')\n",
        "except Exception as e:\n",
        "    print(\"An error occurred:\", str(e))\n",
        "```\n",
        "\n",
        "Replace `'your-bucket-name'`, `'your-file-name'`, and `'Hello, S3!'` with your desired bucket name, file name/path, and the data you want to write.\n",
        "\n",
        "That's it! This step-by-step guide covers the basics of file read and write operations in Amazon S3 using the `boto3` library. By following these steps, beginners can successfully read and write data to Amazon S3. Remember to adapt the code and bucket/file names to match your specific use case and ensure you have the necessary permissions for the AWS IAM user."
      ],
      "metadata": {
        "id": "1Yd8PFbHOTnC"
      }
    },
    {
      "cell_type": "code",
      "source": [],
      "metadata": {
        "id": "rRAYRlmnOxp6"
      },
      "execution_count": null,
      "outputs": []
    },
    {
      "cell_type": "markdown",
      "source": [
        "# **API file read write operations**\n",
        "\n",
        "### Here's a step-by-step guide on file read and write operations using APIs. We'll cover how to fetch data from an API, process it, and save it to a file.\n"
      ],
      "metadata": {
        "id": "bO6uqLlQOs_S"
      }
    },
    {
      "cell_type": "markdown",
      "source": [
        "\n",
        "## **Step 1: Import the Required Libraries**\n",
        "In Python, we need to import the necessary libraries to perform API file read and write operations. The primary libraries we'll be using are `requests` and `json`.\n",
        "\n",
        "```python\n",
        "import requests\n",
        "import json\n",
        "```\n",
        "\n",
        "## **Step 2: Fetch Data from the API**\n",
        "To read data from an API, we need to make an HTTP request and retrieve the response. We can use the `requests` library to send HTTP requests and receive the response.\n",
        "\n",
        "```python\n",
        "api_url = 'https://api.example.com/data'\n",
        "response = requests.get(api_url)\n",
        "data = response.json()\n",
        "```\n",
        "\n",
        "In this example, we use the `requests.get()` function to send a GET request to the API URL and retrieve the response. We then use the `.json()` method to parse the response as JSON and store it in the `data` variable.\n",
        "\n",
        "## **Step 3: Explore and Process the Data**\n",
        "Once we have the data from the API, we can explore and process it as needed. Depending on the structure of the data, you can access specific fields, filter rows, or perform any necessary data manipulations.\n",
        "\n",
        "```python\n",
        "# Access specific fields\n",
        "field1 = data['field1']\n",
        "field2 = data['field2']\n",
        "\n",
        "# Filter rows based on a condition\n",
        "filtered_data = [item for item in data if item['field3'] > 10]\n",
        "\n",
        "# Perform data manipulations\n",
        "for item in data:\n",
        "    item['field4'] = item['field4'] * 2\n",
        "```\n",
        "\n",
        "## **Step 4: Writing Data to a File**\n",
        "Once we've processed and prepared our data, we can write it to a file. We can use the `json.dump()` function to serialize the data and write it to a file in JSON format.\n",
        "\n",
        "```python\n",
        "file_path = 'data.json'\n",
        "with open(file_path, 'w') as file:\n",
        "    json.dump(data, file)\n",
        "```\n",
        "\n",
        "In this example, we open a file in write mode using the `open()` function and use the `json.dump()` function to write the data to the file in JSON format.\n",
        "\n",
        "## **Step 5: Handling Errors and Exceptions**\n",
        "When working with APIs, it's important to handle errors and exceptions to ensure proper execution and error resilience. We can use try-except blocks to catch and handle exceptions that may occur during API requests or file operations.\n",
        "\n",
        "```python\n",
        "try:\n",
        "    # Code for API requests and file operations\n",
        "except requests.RequestException as e:\n",
        "    print(\"An error occurred during the API request:\", str(e))\n",
        "except IOError as e:\n",
        "    print(\"An error occurred during file read/write operations:\", str(e))\n",
        "except Exception as e:\n",
        "    print(\"An error occurred:\", str(e))\n",
        "```\n",
        "\n",
        "In the try block, we write the code for API requests and file read/write operations. If any exception occurs, it will be caught in the appropriate except block, and an error message will be displayed.\n",
        "\n",
        "That's it! This step-by-step guide covers the basics of file read and write operations using APIs in Python. By following these steps, beginners can successfully fetch data from an API, process it, and save it to a file. Remember to adapt the code and API endpoints to match your specific use case.\n",
        "\n",
        "Note: Ensure that you have the necessary permissions and proper authentication to access the API."
      ],
      "metadata": {
        "id": "gg5B-TjoPyta"
      }
    }
  ]
}