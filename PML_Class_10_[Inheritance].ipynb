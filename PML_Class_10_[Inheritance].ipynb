{
  "nbformat": 4,
  "nbformat_minor": 0,
  "metadata": {
    "colab": {
      "provenance": [],
      "authorship_tag": "ABX9TyNGdtNZLTktLhrlpuKw/LIi",
      "include_colab_link": true
    },
    "kernelspec": {
      "name": "python3",
      "display_name": "Python 3"
    },
    "language_info": {
      "name": "python"
    }
  },
  "cells": [
    {
      "cell_type": "markdown",
      "metadata": {
        "id": "view-in-github",
        "colab_type": "text"
      },
      "source": [
        "<a href=\"https://colab.research.google.com/github/shfarhaan/Python-Basics/blob/main/PML_Class_10_%5BInheritance%5D.ipynb\" target=\"_parent\"><img src=\"https://colab.research.google.com/assets/colab-badge.svg\" alt=\"Open In Colab\"/></a>"
      ]
    },
    {
      "cell_type": "markdown",
      "source": [
        "## Inheritance\n",
        "It refers to defining a new class with little or no modification to an existing class.\n",
        "A `sub-class` is derived from a `base-class`, inheriting its behaviour and making behaviour specific to sub-class.\n",
        "\n",
        "Other elaborations that might help our understanding:\n",
        "\n",
        "- Inheritance allows us to inherit attributes and methods from the parent class. This is useful because we can create subclasses and get all the functionality of our parent class and then we can override or add completely new functionality without affecting the parent class in any way.\n",
        "\n",
        "\n",
        "Inheritance in any object-oriented programming language should follow Liskov substitution principle which says:\n",
        "\n",
        "> if S is a subtype of T, then objects of type T may be replaced with objects of type S\n",
        "\n",
        "It means that the child class will inherit attributes, methods, and implementations from the parent class. It’s allowed to modify and add new features, but not delete features from the parent.\n",
        "\n"
      ],
      "metadata": {
        "id": "lA9nVSNhivSp"
      }
    },
    {
      "cell_type": "code",
      "execution_count": null,
      "metadata": {
        "id": "AcVUcYZqiuzZ"
      },
      "outputs": [],
      "source": [
        "# Base class\n",
        "class BaseClass:\n",
        "    # Body of base class\n",
        "    pass\n",
        "\n",
        "# Derived class\n",
        "class DerivedClass(BaseClass):\n",
        "    # Body of derived class\n",
        "    pass"
      ]
    },
    {
      "cell_type": "markdown",
      "source": [
        "### **Single inheritance**\n",
        "Single inheritance is when the class inherits from only one class. Depending on what to do in the child class, the child class may have different structures.\n",
        "\n",
        "Example 1: I have a parent class Job with an attribute person_name and a method task. I want to create a child class Teacher inherited from Job and override task with “teach student”.\n",
        "\n"
      ],
      "metadata": {
        "id": "StXFquG30Rnb"
      }
    },
    {
      "cell_type": "code",
      "source": [
        "class Job:\n",
        "    def __init__(self, person_name):\n",
        "        self.name = person_name\n",
        "\n",
        "    def task(self):\n",
        "        print(\"working\")\n",
        "\n",
        "class Teacher(Job):\n",
        "    def task(self):\n",
        "        print(\"teach students\")\n",
        "\n",
        "teacher = Teacher(\"xiaoxu\")\n",
        "teacher.task()\n",
        "# teach students"
      ],
      "metadata": {
        "id": "LATUeam50hRD"
      },
      "execution_count": null,
      "outputs": []
    },
    {
      "cell_type": "markdown",
      "source": [
        "Example 2: We still use Job as the parent class, but this time, in addition to overriding task(), I also want to create the child class Teacher with an extra attribute school_name.\n",
        "\n",
        "We would find a new attribute in the class Teacher.\n",
        "\n",
        "school is a new attribute, so it means that we need to override __init__ method to add the attribute. In this example, we will use a built-in function super().\n",
        "\n",
        "In a nutshell, super() returns an object that delegates method calls to a parent class. It allows you to reuse the attributes and behaviors from the parent class. In the code below, super().__init__ will execute everything inside Job.__init__ to avoid duplicated code.\n",
        "\n"
      ],
      "metadata": {
        "id": "aiVgb8_Z0iH6"
      }
    },
    {
      "cell_type": "markdown",
      "source": [
        "super() can be used in other methods, so you can also invoke super().task() in the child class."
      ],
      "metadata": {
        "id": "BZOt2N8I1ayj"
      }
    },
    {
      "cell_type": "code",
      "source": [
        "class Teacher(Job):\n",
        "    def __init__(self, person_name, school):\n",
        "        super().__init__(person_name)\n",
        "        self.school = school\n",
        "\n",
        "    def task(self):\n",
        "        print(\"working\")\n",
        "\n",
        "teacher = Teacher2(\"xiaoxu\", \"TU Munich\")\n",
        "print(teacher.school)\n",
        "# TU Munich"
      ],
      "metadata": {
        "id": "Iq4oGBJC1OMD"
      },
      "execution_count": null,
      "outputs": []
    },
    {
      "cell_type": "code",
      "source": [],
      "metadata": {
        "id": "fUukJlJI1pXE"
      },
      "execution_count": null,
      "outputs": []
    },
    {
      "cell_type": "markdown",
      "source": [
        "### **Multi inheritance**\n",
        "Multi inheritance is when the class inherits from more than one parent class. This can, to some extent, reduce redundancy, but it can also increase the complexity of your code. You should have a clear view of what you are doing.\n",
        "\n",
        "\n",
        "Example: I have a parent class Dad and another parent class Mum. The child class Kid extends both parent classes. The parent classes look like this. Some attributes have the same value (e.g city), but some not (e.g. eye_color)."
      ],
      "metadata": {
        "id": "lFxJyJur1sTt"
      }
    },
    {
      "cell_type": "code",
      "source": [
        "class Baba:\n",
        "    def __init__(self):\n",
        "        self.eye_color = \"Black\"\n",
        "        self.hair_color = \"Black\"\n",
        "        self.city = \"Dhaka\"\n",
        "\n",
        "    def swim(self):\n",
        "        print(\"I can swim\")\n",
        "\n",
        "class Ma:\n",
        "    def __init__(self):\n",
        "        self.eye_color = \"Brown\"\n",
        "        self.hair_color = \"Black\"\n",
        "        self.city = \"Dhaka\"\n",
        "\n",
        "    def teach(self):\n",
        "        print(\"I can teach\")\n",
        "\n",
        "class Bachcha(Baba, Ma):\n",
        "    pass"
      ],
      "metadata": {
        "id": "6XafdKCK15OD"
      },
      "execution_count": null,
      "outputs": []
    },
    {
      "cell_type": "code",
      "source": [
        "bachcha = Bachcha()\n",
        "print(bachcha.eye_color)\n"
      ],
      "metadata": {
        "colab": {
          "base_uri": "https://localhost:8080/"
        },
        "id": "tYoBltSp3UGU",
        "outputId": "0fe91bfa-9a6f-4a5a-b5e3-b0db71b9cdc0"
      },
      "execution_count": null,
      "outputs": [
        {
          "output_type": "stream",
          "name": "stdout",
          "text": [
            "Black\n"
          ]
        }
      ]
    },
    {
      "cell_type": "code",
      "source": [],
      "metadata": {
        "id": "3KDA8_Nr37Fq"
      },
      "execution_count": null,
      "outputs": []
    },
    {
      "cell_type": "markdown",
      "source": [
        "If you want to inherit attributes only from class Ma, then you can explicitly mention that in \\_\\_init__ of Bachcha.\n",
        "\n"
      ],
      "metadata": {
        "id": "F1wgcAyt3kS9"
      }
    },
    {
      "cell_type": "code",
      "source": [
        "class Bachcha(Baba, Ma):\n",
        "    def __init__(self):\n",
        "        Ma.__init__(self)\n",
        "\n",
        "bachcha = Bachcha()\n",
        "print(bachcha.eye_color)\n",
        "# brown"
      ],
      "metadata": {
        "id": "VqOo2kLb39Dj"
      },
      "execution_count": null,
      "outputs": []
    },
    {
      "cell_type": "markdown",
      "source": [
        "Ok, so the question comes. What is the default eye_color of the Bachcha object? When it comes to multi inheritance, the child class will first search the attribute in its own class, if not, then search in its parent classes in depth-first, left-right order. This is called `Method Resolution Order (MRO)` in Python. MRO defines how Python searches for inherited methods.\n",
        "\n",
        "Luckily, we can check this order by doing Bachcha.__mro__. Since Bachcha class first visits Dad, then it will have black eyes by default. Besides, the kid will have both swim and teach “skills”.\n",
        "\n"
      ],
      "metadata": {
        "id": "fl1U6WJU2eQ8"
      }
    },
    {
      "cell_type": "code",
      "source": [
        "print(Bachcha.__mro__)\n",
        "\n"
      ],
      "metadata": {
        "colab": {
          "base_uri": "https://localhost:8080/",
          "height": 182
        },
        "id": "rLCby60h3QVz",
        "outputId": "1461c4fa-d2e2-4feb-9593-0205037335ea"
      },
      "execution_count": null,
      "outputs": [
        {
          "output_type": "error",
          "ename": "NameError",
          "evalue": "ignored",
          "traceback": [
            "\u001b[0;31m---------------------------------------------------------------------------\u001b[0m",
            "\u001b[0;31mNameError\u001b[0m                                 Traceback (most recent call last)",
            "\u001b[0;32m<ipython-input-1-55427d714481>\u001b[0m in \u001b[0;36m<cell line: 1>\u001b[0;34m()\u001b[0m\n\u001b[0;32m----> 1\u001b[0;31m \u001b[0mprint\u001b[0m\u001b[0;34m(\u001b[0m\u001b[0mBachcha\u001b[0m\u001b[0;34m.\u001b[0m\u001b[0m__mro__\u001b[0m\u001b[0;34m)\u001b[0m\u001b[0;34m\u001b[0m\u001b[0;34m\u001b[0m\u001b[0m\n\u001b[0m\u001b[1;32m      2\u001b[0m \u001b[0;34m\u001b[0m\u001b[0m\n",
            "\u001b[0;31mNameError\u001b[0m: name 'Bachcha' is not defined"
          ]
        }
      ]
    },
    {
      "cell_type": "markdown",
      "source": [
        "## **Overriding Parent Methods**\n",
        "\n",
        "Sometimes, however, we will want to make use of some of the parent class behaviors but not all of them. When we change parent class methods we override them.\n",
        "\n",
        "When constructing parent and child classes, it is important to keep program design in mind so that overriding does not produce unnecessary or redundant code.\n",
        "\n"
      ],
      "metadata": {
        "id": "Z3XnYEoBmQQa"
      }
    },
    {
      "cell_type": "markdown",
      "source": [
        "## **The super() Function**\n",
        "\n",
        "With the super() function, we can gain access to inherited methods that have been overwritten in a class object.\n",
        "\n",
        "When we use the super() function, we are calling a parent method into a child method to make use of it. For example, we may want to override one aspect of the parent method with certain functionality, but then call the rest of the original parent method to finish the method."
      ],
      "metadata": {
        "id": "NdgDgc02xTK0"
      }
    },
    {
      "cell_type": "code",
      "source": [],
      "metadata": {
        "id": "9guCgr6cmECJ"
      },
      "execution_count": null,
      "outputs": []
    },
    {
      "cell_type": "markdown",
      "source": [
        "### Why Inheritance?\n",
        "Inheritance allows a derived class to inherit all the features from its base class, adding new features to it. This results in re-usability of code.\n",
        "\n",
        "#### **Intuition**\n",
        "To understand the concept better, let’s take an example of 2 different kinds of houses and create a class for each one of them:"
      ],
      "metadata": {
        "id": "RVa1mjSAi2ZP"
      }
    },
    {
      "cell_type": "code",
      "source": [
        "class Apartment:\n",
        "\n",
        "    '''\n",
        "    A house within a large building along with other houses\n",
        "    '''\n",
        "    def __init__(self, rooms, bathrooms, floor):\n",
        "        self.rooms = rooms\n",
        "        self.bathrooms = bathrooms\n",
        "        self.floor = floor\n",
        "\n",
        "    def room_details(self):\n",
        "        print(f'This property has {self.rooms} rooms \\\n",
        "              with {self.bathrooms} bathrooms')\n",
        "\n",
        "class Bungalow:\n",
        "    '''\n",
        "    A (typically) one-story landed house\n",
        "    '''\n",
        "    def __init__(self, rooms, bathrooms):\n",
        "        self.rooms = rooms\n",
        "        self.bathrooms = bathrooms\n",
        "\n",
        "    def room_details(self):\n",
        "        print(f'This property has {self.rooms} rooms' +\n",
        "        f' with {self.bathrooms} bathrooms')"
      ],
      "metadata": {
        "id": "J9zXvGOWi4yf"
      },
      "execution_count": null,
      "outputs": []
    },
    {
      "cell_type": "markdown",
      "source": [
        "As we can easily observe — both Apartment and Bungalow are kind of houses and have some common properties(rooms, bathrooms) and also common behaviour(room_details).\n",
        "\n",
        "Currently, these common properties and behaviour are being duplicated in both the classes, which can easily be extracted out in order to be re-used. This is where the concept of Inheritance can be of help.\n",
        "\n",
        "Let’s see how we can create a Base class with all the common properties, and reuse the same in the base classes."
      ],
      "metadata": {
        "id": "TNLW_EH1i70t"
      }
    },
    {
      "cell_type": "code",
      "source": [
        "# Base class\n",
        "class House:\n",
        "\n",
        "    '''\n",
        "    A place which provides with shelter or accommodation\n",
        "    '''\n",
        "    def __init__(self, rooms, bathrooms):\n",
        "        self.rooms = rooms\n",
        "        self.bathrooms = bathrooms\n",
        "\n",
        "    def room_details(self):\n",
        "        print(f'This property has {self.rooms} rooms' +\n",
        "                f' with {self.bathrooms} bathrooms')\n",
        "\n",
        "class Apartment(House):\n",
        "    '''\n",
        "    A house within a large building where others also have\n",
        "    their own house\n",
        "    '''\n",
        "    def __init__(self, rooms, bathrooms, floor):\n",
        "        House.__init__(self, rooms, bathrooms)\n",
        "        self.floor = floor\n",
        "\n",
        "class Bungalow(House):\n",
        "    '''\n",
        "    A (typically) one-story landed house\n",
        "    '''\n",
        "    pass\n",
        "\n",
        "# Create an Apartment\n",
        "apartment = Apartment(2, 2, 21)\n",
        "apartment.room_details()\n",
        "\n",
        "# Create a Bungalow\n",
        "bungalow = Bungalow(4, 3)\n",
        "bungalow.room_details()\n",
        "\n",
        "# Output:\n",
        "# This property has 2 rooms with 2 bathrooms\n",
        "# This property has 4 rooms with 3 bathrooms\n"
      ],
      "metadata": {
        "colab": {
          "base_uri": "https://localhost:8080/"
        },
        "id": "k2xYl38njAwP",
        "outputId": "807925f7-49d4-4cdb-fd4a-55a541a5d836"
      },
      "execution_count": null,
      "outputs": [
        {
          "output_type": "stream",
          "name": "stdout",
          "text": [
            "This property has 2 rooms with 2 bathrooms\n",
            "This property has 4 rooms with 3 bathrooms\n"
          ]
        }
      ]
    },
    {
      "cell_type": "markdown",
      "source": [
        "We have successfully created the House base-class with the common properties. Both Apartment and Bungalow now extends the House class. This makes our code neat, maintainable and reusable."
      ],
      "metadata": {
        "id": "I_A8yUuDjEmV"
      }
    },
    {
      "cell_type": "code",
      "source": [],
      "metadata": {
        "id": "9vyHZfwVjBt2"
      },
      "execution_count": null,
      "outputs": []
    }
  ]
}