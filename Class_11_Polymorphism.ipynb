{
  "nbformat": 4,
  "nbformat_minor": 0,
  "metadata": {
    "colab": {
      "provenance": [],
      "toc_visible": true,
      "authorship_tag": "ABX9TyMfT9XsdRAt2k2XBr1p9iAA",
      "include_colab_link": true
    },
    "kernelspec": {
      "name": "python3",
      "display_name": "Python 3"
    },
    "language_info": {
      "name": "python"
    }
  },
  "cells": [
    {
      "cell_type": "markdown",
      "metadata": {
        "id": "view-in-github",
        "colab_type": "text"
      },
      "source": [
        "<a href=\"https://colab.research.google.com/github/shfarhaan/Python-Basics/blob/main/Class_11_Polymorphism.ipynb\" target=\"_parent\"><img src=\"https://colab.research.google.com/assets/colab-badge.svg\" alt=\"Open In Colab\"/></a>"
      ]
    },
    {
      "cell_type": "markdown",
      "source": [
        "# **Polymorphism:**\n"
      ],
      "metadata": {
        "id": "aX4zCjFeNGDS"
      }
    },
    {
      "cell_type": "markdown",
      "source": [
        "## Step 1: Understand the Concept\n",
        "Polymorphism is a fundamental concept in object-oriented programming (OOP) that allows objects of different types to be treated as instances of a common base class. It enables you to write flexible and reusable code by providing a way to perform different actions based on the type of object being operated on.\n"
      ],
      "metadata": {
        "id": "rmHyvCBdMte5"
      }
    },
    {
      "cell_type": "code",
      "execution_count": null,
      "metadata": {
        "id": "RTGZAUNvmEXy"
      },
      "outputs": [],
      "source": []
    },
    {
      "cell_type": "markdown",
      "source": [
        "\n",
        "## Step 2: Define a Base Class\n",
        "Start by defining a base class that serves as a blueprint for other derived classes. This base class should define one or more methods that can be overridden by its derived classes.\n",
        "\n",
        "Example:\n",
        "```python\n",
        "class Animal:\n",
        "    def sound(self):\n",
        "        pass\n",
        "```\n",
        "\n"
      ],
      "metadata": {
        "id": "_L0aE7qaNWmI"
      }
    },
    {
      "cell_type": "code",
      "source": [],
      "metadata": {
        "id": "ve5GBSmgNZ4E"
      },
      "execution_count": null,
      "outputs": []
    },
    {
      "cell_type": "markdown",
      "source": [
        "## Step 3: Create Derived Classes\n",
        "Create derived classes that inherit from the base class and override the methods defined in the base class.\n",
        "\n",
        "Example:\n",
        "```python\n",
        "class Dog(Animal):\n",
        "    def sound(self):\n",
        "        return \"Woof!\"\n",
        "\n",
        "class Cat(Animal):\n",
        "    def sound(self):\n",
        "        return \"Meow!\"\n",
        "```\n"
      ],
      "metadata": {
        "id": "o1ZqM8FINaRA"
      }
    },
    {
      "cell_type": "code",
      "source": [],
      "metadata": {
        "id": "BaPQs7ddNdOY"
      },
      "execution_count": null,
      "outputs": []
    },
    {
      "cell_type": "markdown",
      "source": [
        "\n",
        "## Step 4: Utilize Polymorphism\n",
        "Now, create objects of the derived classes and use polymorphism to call the overridden methods. The same method call can have different behaviors based on the actual type of the object.\n",
        "\n",
        "Example:\n",
        "```python\n",
        "dog = Dog()\n",
        "cat = Cat()\n",
        "\n",
        "print(dog.sound())  # Output: Woof!\n",
        "print(cat.sound())  # Output: Meow!\n",
        "```\n"
      ],
      "metadata": {
        "id": "jAyWVNwLNdlQ"
      }
    },
    {
      "cell_type": "code",
      "source": [],
      "metadata": {
        "id": "kpRepldnNf1I"
      },
      "execution_count": null,
      "outputs": []
    },
    {
      "cell_type": "markdown",
      "source": [
        "\n",
        "## Step 5: Understand the Difference with Inheritance\n",
        "Polymorphism is often used in conjunction with inheritance, but they are distinct concepts.\n",
        "\n",
        "Inheritance: Inheritance is the process of creating new classes (derived classes) from existing classes (base classes) to inherit their attributes and methods. Derived classes can extend or modify the behavior of the base class methods.\n",
        "\n",
        "Polymorphism: Polymorphism allows objects of different classes to be treated as instances of a common base class. It enables the use of a single interface to represent different types of objects, providing flexibility and extensibility.\n",
        "\n",
        "The key difference lies in their focus:\n",
        "- Inheritance focuses on the relationship between classes, allowing code reuse and promoting hierarchical structure.\n",
        "- Polymorphism focuses on the behavior of objects, enabling the interchangeability of different objects through a common interface.\n",
        "\n",
        "In summary, polymorphism provides a way to perform different actions based on the type of object being operated on, while inheritance enables code reuse and promotes the hierarchical structure of classes."
      ],
      "metadata": {
        "id": "rUlpjz3XNgGw"
      }
    },
    {
      "cell_type": "code",
      "source": [],
      "metadata": {
        "id": "X7RCUdQ0NxHf"
      },
      "execution_count": null,
      "outputs": []
    },
    {
      "cell_type": "markdown",
      "source": [
        "## Polymorphism, method overloading, and method overriding are related concepts but they are not the same.\n",
        "\n",
        "## Polymorphism:\n",
        "Polymorphism is a broader concept that refers to the ability of objects of different types to be treated as instances of a common base class. It allows you to perform different actions based on the actual type of the object being operated on. Polymorphism can be achieved through method overloading or method overriding.\n",
        "\n",
        "## Method Overloading:\n",
        "Method overloading is a feature in some programming languages that allows multiple methods with the same name but different parameter lists to exist within a class. The methods can have different numbers of parameters or parameters of different types. The appropriate method to be called is determined by the number, type, and order of the arguments passed during the method invocation.\n",
        "\n",
        "For example, in Python, method overloading is not directly supported, but you can achieve similar behavior using default parameter values or variable arguments.\n",
        "\n",
        "## Method Overriding:\n",
        "Method overriding is a concept where a derived class provides a different implementation of a method that is already defined in its base class. The derived class redefines the method with the same name, return type, and parameters as the base class method. The overridden method in the derived class is invoked instead of the base class method when called on an object of the derived class.\n",
        "\n",
        "### **Method overriding is a way to customize or extend the behavior of inherited methods in derived classes.**\n",
        "\n",
        "To summarize:\n",
        "- Polymorphism is the ability to treat objects of different types as instances of a common base class.\n",
        "- Method overloading is a technique where multiple methods with the same name but different parameter lists exist within a class.\n",
        "- Method overriding is the act of providing a different implementation of a method in a derived class that is already defined in its base class.\n",
        "\n",
        "Polymorphism can be achieved through method overloading or method overriding, but they are distinct concepts. Method overloading allows multiple methods with the same name to coexist in a class, while method overriding allows a derived class to provide its own implementation of a method inherited from a base class."
      ],
      "metadata": {
        "id": "euM-GMVmNv-J"
      }
    },
    {
      "cell_type": "code",
      "source": [],
      "metadata": {
        "id": "PpkFoIW9OEWv"
      },
      "execution_count": null,
      "outputs": []
    },
    {
      "cell_type": "markdown",
      "source": [
        "\n",
        "Sure! Here are ten examples of polymorphism in Python, along with explanations of the code:\n",
        "\n",
        "1. Method Overloading:\n",
        "\n",
        "```python\n",
        "class MathOperations:\n",
        "    def add(self, a, b):\n",
        "        return a + b\n",
        "    \n",
        "    def add(self, a, b, c):\n",
        "        return a + b + c\n",
        "    \n",
        "math = MathOperations()\n",
        "print(math.add(2, 3))       # Outputs: 5\n",
        "print(math.add(2, 3, 4))    # Outputs: 9\n",
        "```\n",
        "\n",
        "In this example, the `MathOperations` class has two `add` methods. The first method takes two arguments and returns their sum, while the second method takes three arguments and returns their sum. Depending on the number of arguments provided, the appropriate method is invoked.\n",
        "\n",
        "\n",
        "\n",
        "\n",
        "\n"
      ],
      "metadata": {
        "id": "INGNzRgBPg-I"
      }
    },
    {
      "cell_type": "code",
      "source": [],
      "metadata": {
        "id": "L3jYGRvCPoCH"
      },
      "execution_count": null,
      "outputs": []
    },
    {
      "cell_type": "markdown",
      "source": [
        "\n",
        "### 2. Method Overriding:\n",
        "\n",
        "```python\n",
        "class Animal:\n",
        "    def make_sound(self):\n",
        "        pass\n",
        "\n",
        "class Dog(Animal):\n",
        "    def make_sound(self):\n",
        "        print(\"Woof!\")\n",
        "\n",
        "class Cat(Animal):\n",
        "    def make_sound(self):\n",
        "        print(\"Meow!\")\n",
        "\n",
        "animals = [Dog(), Cat()]\n",
        "for animal in animals:\n",
        "    animal.make_sound()\n",
        "```\n",
        "\n",
        "In this example, we have a base class `Animal` with a method `make_sound` defined as a placeholder. The derived classes `Dog` and `Cat` override the `make_sound` method with their own implementations. When the `make_sound` method is called on each object, it executes the appropriate implementation based on the object's type.\n",
        "\n"
      ],
      "metadata": {
        "id": "hsDDsBQqPoTP"
      }
    },
    {
      "cell_type": "markdown",
      "source": [
        "### 3. Function Overloading (using *args):\n",
        "\n",
        "```python\n",
        "def add(*args):\n",
        "    if len(args) == 2:\n",
        "        return args[0] + args[1]\n",
        "    elif len(args) == 3:\n",
        "        return args[0] + args[1] + args[2]\n",
        "\n",
        "print(add(2, 3))       # Outputs: 5\n",
        "print(add(2, 3, 4))    # Outputs: 9\n",
        "```\n",
        "\n",
        "In this example, the `add` function accepts a variable number of arguments using the `*args` syntax. Depending on the number of arguments passed, it performs the appropriate addition operation.\n",
        "\n",
        "\n"
      ],
      "metadata": {
        "id": "I3tAKp-NQVxh"
      }
    },
    {
      "cell_type": "code",
      "source": [],
      "metadata": {
        "id": "vJP5wu3XQVTi"
      },
      "execution_count": null,
      "outputs": []
    },
    {
      "cell_type": "markdown",
      "source": [
        "### 4. Function Overriding:\n",
        "\n",
        "```python\n",
        "def make_sound(animal):\n",
        "    animal.make_sound()\n",
        "\n",
        "class Animal:\n",
        "    def make_sound(self):\n",
        "        pass\n",
        "\n",
        "class Dog(Animal):\n",
        "    def make_sound(self):\n",
        "        print(\"Woof!\")\n",
        "\n",
        "class Cat(Animal):\n",
        "    def make_sound(self):\n",
        "        print(\"Meow!\")\n",
        "\n",
        "animals = [Dog(), Cat()]\n",
        "for animal in animals:\n",
        "    make_sound(animal)\n",
        "```\n",
        "\n",
        "This example demonstrates function overriding. The `make_sound` function takes an `animal` object as an argument and calls its `make_sound` method. The `Dog` and `Cat` classes override the `make_sound` method from the base `Animal` class. When `make_sound` is called on each object, it executes the appropriate implementation based on the object's type.\n",
        "\n"
      ],
      "metadata": {
        "id": "IPSZMKsyQSKJ"
      }
    },
    {
      "cell_type": "code",
      "source": [],
      "metadata": {
        "id": "I4Y1Rq1aQRqr"
      },
      "execution_count": null,
      "outputs": []
    },
    {
      "cell_type": "markdown",
      "source": [
        "### 5. Operator Overloading:\n",
        "\n",
        "```python\n",
        "class Vector:\n",
        "    def __init__(self, x, y):\n",
        "        self.x = x\n",
        "        self.y = y\n",
        "    \n",
        "    def __add__(self, other):\n",
        "        return Vector(self.x + other.x, self.y + other.y)\n",
        "\n",
        "v1 = Vector(1, 2)\n",
        "v2 = Vector(3, 4)\n",
        "v3 = v1 + v2\n",
        "print(v3.x, v3.y)    # Outputs: 4 6\n",
        "```\n",
        "\n",
        "In this example, the `Vector` class defines the `__add__` method which allows adding two `Vector` objects using the `+` operator. When the `+` operator is used on `v1` and `v2`, the `__add__` method is invoked, and a new `Vector` object is created with the sum of their corresponding attributes.\n",
        "\n",
        "\n",
        "   "
      ],
      "metadata": {
        "id": "RKfPM0HMQLNO"
      }
    },
    {
      "cell_type": "code",
      "source": [],
      "metadata": {
        "id": "HXx88zIIQMpu"
      },
      "execution_count": null,
      "outputs": []
    },
    {
      "cell_type": "markdown",
      "source": [
        "### 6. Duck Typing:\n",
        "\n",
        "```python\n",
        "class Duck:\n",
        "    def sound(self):\n",
        "        print(\"Quack!\")\n",
        "\n",
        "class Car:\n",
        "    def sound(self):\n",
        "        print(\"Vroom!\")\n",
        "\n",
        "def make_sound(obj):\n",
        "    obj.sound()\n",
        "\n",
        "duck = Duck()\n",
        "car = Car()\n",
        "\n",
        "make_sound(duck)    # Outputs: Quack!\n",
        "make_sound(car)     # Outputs: Vroom!\n",
        "```\n",
        "\n",
        "In this example, the `make_sound` function does not care about the type of object passed to it. It relies on the presence of the `sound` method in the object. This is known as duck typing, where an object's suitability is determined by its behavior rather than its type.\n",
        "\n",
        "\n"
      ],
      "metadata": {
        "id": "3BTPt9kvQD0G"
      }
    },
    {
      "cell_type": "code",
      "source": [],
      "metadata": {
        "id": "uPhKjpSKQDhO"
      },
      "execution_count": null,
      "outputs": []
    },
    {
      "cell_type": "markdown",
      "source": [
        "### 7. Abstract Base Classes (ABC):\n",
        "\n",
        "```python\n",
        "from abc import ABC, abstractmethod\n",
        "\n",
        "class Shape(ABC):\n",
        "    @abstractmethod\n",
        "    def area(self):\n",
        "        pass\n",
        "\n",
        "class Rectangle(Shape):\n",
        "    def __init__(self, length, width):\n",
        "        self.length = length\n",
        "        self.width = width\n",
        "    \n",
        "    def area(self):\n",
        "        return self.length * self.width\n",
        "\n",
        "class Circle(Shape):\n",
        "    def __init__(self, radius):\n",
        "        self.radius = radius\n",
        "    \n",
        "    def area(self):\n",
        "        return 3.14 * self.radius ** 2\n",
        "\n",
        "shapes = [Rectangle(4, 5), Circle(3)]\n",
        "for shape in shapes:\n",
        "    print(shape.area())\n",
        "```\n",
        "\n",
        "In this example, the `Shape` class is an abstract base class (ABC) with an abstract method `area`. The `Rectangle` and `Circle` classes inherit from `Shape` and provide their own implementations of the `area` method. By enforcing the presence of the `area` method in the derived classes, we can ensure that objects of those classes can be used interchangeably in a polymorphic manner.\n"
      ],
      "metadata": {
        "id": "yCEMRaRwQA23"
      }
    },
    {
      "cell_type": "code",
      "source": [],
      "metadata": {
        "id": "3V_zLl38QATW"
      },
      "execution_count": null,
      "outputs": []
    },
    {
      "cell_type": "markdown",
      "source": [
        "### 8. Iterators and Generators:\n",
        "\n",
        "```python\n",
        "class SquareSequence:\n",
        "    def __init__(self, n):\n",
        "        self.n = n\n",
        "        self.index = 0\n",
        "    \n",
        "    def __iter__(self):\n",
        "        return self\n",
        "    \n",
        "    def __next__(self):\n",
        "        if self.index >= self.n:\n",
        "            raise StopIteration\n",
        "        result = self.index ** 2\n",
        "        self.index += 1\n",
        "        return result\n",
        "\n",
        "squares = SquareSequence(5)\n",
        "for square in squares:\n",
        "    print(square)\n",
        "```\n",
        "\n",
        "In this example, the `SquareSequence` class implements an iterator. It defines the `__iter__` method to return itself as the iterator object and the `__next__` method to generate the next square number in the sequence. The `SquareSequence` object can be used in a `for` loop, and each iteration produces the next square number.\n",
        "\n",
        "   \n"
      ],
      "metadata": {
        "id": "Xs7qCC0EPzF3"
      }
    },
    {
      "cell_type": "code",
      "source": [],
      "metadata": {
        "id": "7f7uGeJ0PyIf"
      },
      "execution_count": null,
      "outputs": []
    },
    {
      "cell_type": "markdown",
      "source": [
        "### 9. Polymorphic Functions:\n",
        "\n",
        "```python\n",
        "def area(shape):\n",
        "    return shape.area()\n",
        "\n",
        "class Rectangle:\n",
        "    def __init__(self, length, width):\n",
        "        self.length = length\n",
        "        self.width = width\n",
        "    \n",
        "    def area(self):\n",
        "        return self.length * self.width\n",
        "\n",
        "class Circle:\n",
        "    def __init__(self, radius):\n",
        "        self.radius = radius\n",
        "    \n",
        "    def area(self):\n",
        "        return 3.14 * self.radius ** 2\n",
        "\n",
        "shapes = [Rectangle(4, 5), Circle(3)]\n",
        "for shape in shapes:\n",
        "    print(area(shape))\n",
        "```\n",
        "\n",
        "In this example, the `area` function takes an object `shape` as an argument and calls its `area` method. The `Rectangle` and `Circle` classes both have an `area` method, allowing them to be passed to the `area` function. This demonstrates polymorphism, as the same function can be used with different objects, provided they have the required method.\n",
        "\n",
        "\n",
        "   "
      ],
      "metadata": {
        "id": "odqM8xyrPu2P"
      }
    },
    {
      "cell_type": "code",
      "source": [],
      "metadata": {
        "id": "VGZYjvvpPqWf"
      },
      "execution_count": null,
      "outputs": []
    },
    {
      "cell_type": "markdown",
      "source": [
        "10. Polymorphic Data Structures:\n",
        "\n",
        "```python\n",
        "class Animal:\n",
        "    def __init__(self, name):\n",
        "        self.name = name\n",
        "    \n",
        "    def sound(self):\n",
        "        pass\n",
        "\n",
        "class Dog(Animal):\n",
        "    def sound(self):\n",
        "        print(\"Woof!\")\n",
        "\n",
        "class Cat(Animal):\n",
        "    def sound(self):\n",
        "        print(\"Meow!\")\n",
        "\n",
        "animals = [Dog(\"Buddy\"), Cat(\"Whiskers\")]\n",
        "for animal in animals:\n",
        "    print(animal.name)\n",
        "    animal.sound()\n",
        "```\n",
        "\n",
        "In this example, we have a list `animals` that can store objects of different types, such as `Dog` and `Cat`, which inherit from the base class `Animal`. The `name` attribute and `sound` method are common to all animals, allowing us to treat them uniformly within the data structure.\n",
        "   "
      ],
      "metadata": {
        "id": "-3Wc82M2RNfe"
      }
    },
    {
      "cell_type": "code",
      "source": [],
      "metadata": {
        "id": "ckyUauwnRSjn"
      },
      "execution_count": null,
      "outputs": []
    },
    {
      "cell_type": "markdown",
      "source": [
        "## 10 examples of polymorphism in Python.\n",
        "\n",
        "1. Example: Polymorphic Method Calls\n",
        "\n",
        "```python\n",
        "class Shape:\n",
        "    def draw(self):\n",
        "        pass\n",
        "\n",
        "class Circle(Shape):\n",
        "    def draw(self):\n",
        "        print(\"Drawing a circle\")\n",
        "\n",
        "class Square(Shape):\n",
        "    def draw(self):\n",
        "        print(\"Drawing a square\")\n",
        "\n",
        "shapes = [Circle(), Square()]\n",
        "\n",
        "for shape in shapes:\n",
        "    shape.draw()\n",
        "\n",
        "```\n",
        "Explanation: In this example, we have a base class `Shape` and two derived classes `Circle` and `Square`. Each class has its own implementation of the `draw` method. By iterating through a list of `Shape` objects and calling the `draw` method, we achieve polymorphic behavior. The appropriate `draw` method is called based on the actual type of the object.\n"
      ],
      "metadata": {
        "id": "UpU3Bit3V766"
      }
    },
    {
      "cell_type": "code",
      "source": [],
      "metadata": {
        "id": "UODI8GLgWZaZ"
      },
      "execution_count": null,
      "outputs": []
    },
    {
      "cell_type": "markdown",
      "source": [
        "\n",
        "2. Example: Polymorphic Function Calls\n",
        "\n",
        "```python\n",
        "def add(x, y):\n",
        "    return x + y\n",
        "\n",
        "def concatenate(x, y):\n",
        "    return str(x) + str(y)\n",
        "\n",
        "print(add(5, 10))\n",
        "print(concatenate(5, 10))\n",
        "```\n",
        "Explanation: The `add` and `concatenate` functions demonstrate polymorphism by accepting different types of arguments (integers in the first case and integers converted to strings in the second case) and performing different operations based on the argument types.\n",
        "\n",
        "\n"
      ],
      "metadata": {
        "id": "ke7EDyUaWY0i"
      }
    },
    {
      "cell_type": "markdown",
      "source": [
        "3. Example: Polymorphic Inheritance\n",
        "\n",
        "```python\n",
        "class Animal:\n",
        "    def speak(self):\n",
        "        pass\n",
        "\n",
        "class Dog(Animal):\n",
        "    def speak(self):\n",
        "        print(\"Woof!\")\n",
        "\n",
        "class Cat(Animal):\n",
        "    def speak(self):\n",
        "        print(\"Meow!\")\n",
        "\n",
        "animals = [Dog(), Cat()]\n",
        "\n",
        "for animal in animals:\n",
        "    animal.speak()\n",
        "```\n",
        "Explanation: This example illustrates polymorphic behavior through inheritance. The base class `Animal` has a `speak` method, and the derived classes `Dog` and `Cat` override the `speak` method with their own implementations. By iterating through a list of `Animal` objects and calling the `speak` method, the appropriate implementation is invoked based on the actual object type.\n"
      ],
      "metadata": {
        "id": "qhnsOdNOabFP"
      }
    },
    {
      "cell_type": "code",
      "source": [],
      "metadata": {
        "id": "6DXAtJhRacCn"
      },
      "execution_count": null,
      "outputs": []
    },
    {
      "cell_type": "markdown",
      "source": [
        "4. Example: Polymorphic Constructors\n",
        "```python\n",
        "class Vehicle:\n",
        "    def __init__(self, brand):\n",
        "        self.brand = brand\n",
        "\n",
        "    def start(self):\n",
        "        pass\n",
        "\n",
        "class Car(Vehicle):\n",
        "    def start(self):\n",
        "        print(\"Car started\")\n",
        "\n",
        "class Bike(Vehicle):\n",
        "    def start(self):\n",
        "        print(\"Bike started\")\n",
        "\n",
        "vehicles = [Car(\"Toyota\"), Bike(\"Honda\")]\n",
        "\n",
        "for vehicle in vehicles:\n",
        "    vehicle.start()\n",
        "```\n",
        "Explanation: Here, the base class `Vehicle` has an `__init__` method that initializes the `brand` attribute. The derived classes `Car` and `Bike` override the `start` method. By creating instances of `Car` and `Bike` with different arguments and calling the `start` method, we achieve polymorphism in constructor invocation and method call.\n",
        "\n"
      ],
      "metadata": {
        "id": "KoVjrX1saVIn"
      }
    },
    {
      "cell_type": "code",
      "source": [],
      "metadata": {
        "id": "XchCkayaaWmH"
      },
      "execution_count": null,
      "outputs": []
    },
    {
      "cell_type": "markdown",
      "source": [
        "5. Example: Polymorphic Operator Overloading\n",
        "\n",
        "\n",
        "```python\n",
        "class Point:\n",
        "    def __init__(self, x, y):\n",
        "        self.x = x\n",
        "        self.y = y\n",
        "\n",
        "    def __add__(self, other):\n",
        "        return Point(self.x + other.x, self.y + other.y)\n",
        "\n",
        "point1 = Point(1, 2)\n",
        "point2 = Point(3, 4)\n",
        "point3 = point1 + point2\n",
        "\n",
        "print(point3.x, point3.y)\n",
        "```\n",
        "Explanation: In this example, the `Point` class overloads the `+` operator by defining the `__add__` method. This allows instances of the `Point` class to be added together using the `+` operator. The `__add__` method is\n",
        "\n",
        " polymorphic because it can handle different types of objects (in this case, `Point` objects) and perform the appropriate addition.\n",
        "\n",
        "\n",
        "\n"
      ],
      "metadata": {
        "id": "lyMrsJDWaPpm"
      }
    },
    {
      "cell_type": "code",
      "source": [],
      "metadata": {
        "id": "j44Gqf_JZ1hW"
      },
      "execution_count": null,
      "outputs": []
    },
    {
      "cell_type": "markdown",
      "source": [
        "6. Example: Polymorphic Abstract Classes\n",
        "\n",
        "```python\n",
        "from abc import ABC, abstractmethod\n",
        "\n",
        "class Animal(ABC):\n",
        "    @abstractmethod\n",
        "    def speak(self):\n",
        "        pass\n",
        "\n",
        "class Dog(Animal):\n",
        "    def speak(self):\n",
        "        print(\"Woof!\")\n",
        "\n",
        "class Cat(Animal):\n",
        "    def speak(self):\n",
        "        print(\"Meow!\")\n",
        "\n",
        "animals = [Dog(), Cat()]\n",
        "\n",
        "for animal in animals:\n",
        "    animal.speak()\n",
        "```\n",
        "\n",
        "Explanation: The `Animal` class is an abstract base class (ABC) that defines an abstract method `speak`. The derived classes `Dog` and `Cat` implement the `speak` method. By creating instances of the derived classes and calling the `speak` method, polymorphic behavior is achieved.\n"
      ],
      "metadata": {
        "id": "RadaAVhQaJvP"
      }
    },
    {
      "cell_type": "code",
      "source": [],
      "metadata": {
        "id": "FQ12jfU0aKvW"
      },
      "execution_count": null,
      "outputs": []
    },
    {
      "cell_type": "markdown",
      "source": [
        "7. Example: Polymorphic Function Overloading\n",
        "\n",
        "```python\n",
        "class Calculator:\n",
        "    def add(self, a, b):\n",
        "        return a + b\n",
        "\n",
        "    def add(self, a, b, c):\n",
        "        return a + b + c\n",
        "\n",
        "calculator = Calculator()\n",
        "print(calculator.add(2, 3))\n",
        "print(calculator.add(2, 3, 4))\n",
        "```\n",
        "Explanation: In this example, the `Calculator` class defines two `add` methods with different numbers of parameters. Depending on the number of arguments provided during method invocation, the appropriate `add` method is called, resulting in polymorphic behavior.\n",
        "\n"
      ],
      "metadata": {
        "id": "7UreQpFIZ65P"
      }
    },
    {
      "cell_type": "code",
      "source": [],
      "metadata": {
        "id": "x_IeaktrZ2l_"
      },
      "execution_count": null,
      "outputs": []
    },
    {
      "cell_type": "markdown",
      "source": [
        "8. Example: Polymorphic Method Overriding\n",
        "\n",
        "```python\n",
        "class Vehicle:\n",
        "    def start(self):\n",
        "        print(\"Vehicle started\")\n",
        "\n",
        "    def stop(self):\n",
        "        print(\"Vehicle stopped\")\n",
        "\n",
        "class Car(Vehicle):\n",
        "    def start(self):\n",
        "        print(\"Car started\")\n",
        "\n",
        "    def stop(self):\n",
        "        print(\"Car stopped\")\n",
        "\n",
        "vehicle = Vehicle()\n",
        "car = Car()\n",
        "\n",
        "vehicle.start()\n",
        "vehicle.stop()\n",
        "\n",
        "car.start()\n",
        "car.stop()\n",
        "```\n",
        "\n",
        "Explanation: Here, the base class `Vehicle` has `start` and `stop` methods. The derived class `Car` overrides both methods with its own implementations. When calling the methods on instances of `Vehicle` and `Car`, the appropriate overridden method is invoked, demonstrating polymorphic behavior.\n",
        "\n",
        "\n"
      ],
      "metadata": {
        "id": "tOorWYCQZ2KX"
      }
    },
    {
      "cell_type": "code",
      "source": [],
      "metadata": {
        "id": "ZlxwenkEZ8Hf"
      },
      "execution_count": null,
      "outputs": []
    },
    {
      "cell_type": "markdown",
      "source": [
        "9. Example: Polymorphic Duck Typing\n",
        "\n",
        "```python\n",
        "class Duck:\n",
        "    def sound(self):\n",
        "        print(\"Quack!\")\n",
        "\n",
        "class Cat:\n",
        "    def sound(self):\n",
        "        print(\"Meow!\")\n",
        "\n",
        "def make_sound(animal):\n",
        "    animal.sound()\n",
        "\n",
        "duck = Duck()\n",
        "cat = Cat()\n",
        "\n",
        "make_sound(duck)\n",
        "make_sound(cat)\n",
        "```\n",
        "Explanation: The `make_sound` function accepts any object that has a `sound` method. It doesn't matter if the object is a `Duck` or a `Cat`; as long as it has a `sound` method, polymorphism is achieved through duck typing, and the appropriate sound is produced."
      ],
      "metadata": {
        "id": "aKpYp0i3ZvmP"
      }
    },
    {
      "cell_type": "code",
      "source": [],
      "metadata": {
        "id": "jAmR62vUZozP"
      },
      "execution_count": null,
      "outputs": []
    },
    {
      "cell_type": "markdown",
      "source": [
        "10. Example: Polymorphic List\n",
        "\n",
        "```python\n",
        "class Fruit:\n",
        "    def taste(self):\n",
        "        pass\n",
        "\n",
        "class Apple(Fruit):\n",
        "    def taste(self):\n",
        "        print(\"Sweet\")\n",
        "\n",
        "class Lemon(Fruit):\n",
        "    def taste(self):\n",
        "        print(\"Sour\")\n",
        "\n",
        "fruits = [Apple(), Lemon()]\n",
        "\n",
        "for fruit in fruits:\n",
        "    fruit.taste()\n",
        "```\n",
        "Explanation: The `Fruit` class is the base class, and the `Apple` and `Lemon` classes are derived classes. Each class has its own implementation of the `taste` method. By storing instances of both derived classes in a list and calling the `taste` method on each element, we achieve polymorphic behavior, where the appropriate `taste` method is called based on the actual type of the object.\n",
        "\n"
      ],
      "metadata": {
        "id": "nzBAHN0KZpIn"
      }
    },
    {
      "cell_type": "code",
      "source": [],
      "metadata": {
        "id": "0VVuzu6-Zp0P"
      },
      "execution_count": null,
      "outputs": []
    }
  ]
}