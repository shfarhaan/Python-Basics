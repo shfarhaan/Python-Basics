{
  "nbformat": 4,
  "nbformat_minor": 0,
  "metadata": {
    "colab": {
      "provenance": [],
      "collapsed_sections": [
        "3JcXpeG4BrkH",
        "LASE05YMdkx8",
        "ScpU5KB-hMz5",
        "N4M5BPSu66M3"
      ],
      "toc_visible": true,
      "include_colab_link": true
    },
    "kernelspec": {
      "name": "python3",
      "display_name": "Python 3"
    },
    "language_info": {
      "name": "python"
    },
    "gpuClass": "standard"
  },
  "cells": [
    {
      "cell_type": "markdown",
      "metadata": {
        "id": "view-in-github",
        "colab_type": "text"
      },
      "source": [
        "<a href=\"https://colab.research.google.com/github/shfarhaan/Python-Basics/blob/main/Class_1_4.ipynb\" target=\"_parent\"><img src=\"https://colab.research.google.com/assets/colab-badge.svg\" alt=\"Open In Colab\"/></a>"
      ]
    },
    {
      "cell_type": "markdown",
      "source": [
        "## **What is a Variable?**\n",
        "\n"
      ],
      "metadata": {
        "id": "NIwRfY1feeHX"
      }
    },
    {
      "cell_type": "markdown",
      "source": [
        "A Python variable is a reserved memory location (a container) to store values. In other words, a variable in a python program gives data to the computer for processing.\n",
        "\n",
        "Every value in Python has a datatype. Different data types in Python are Numbers, List, Tuple, Strings, Dictionary, etc.\n",
        "\n",
        "Variables can be declared by any name or even alphabets  like a, aa, abc, etc\n",
        "\n"
      ],
      "metadata": {
        "id": "grAatCJulzib"
      }
    },
    {
      "cell_type": "code",
      "source": [
        "a = 3\n",
        "b = 4\n",
        "c = 5\n",
        "\n",
        "print(a)\n",
        "print(b)\n",
        "print(c)"
      ],
      "metadata": {
        "id": "fnoz8vzCehEd",
        "colab": {
          "base_uri": "https://localhost:8080/"
        },
        "outputId": "b6c56e67-94e7-444a-9f94-9245ba91c715"
      },
      "execution_count": null,
      "outputs": [
        {
          "output_type": "stream",
          "name": "stdout",
          "text": [
            "3\n",
            "4\n",
            "5\n"
          ]
        }
      ]
    },
    {
      "cell_type": "code",
      "source": [
        "d, e, f = 7, 8, 9\n",
        "\n",
        "print(d,e,f)"
      ],
      "metadata": {
        "colab": {
          "base_uri": "https://localhost:8080/"
        },
        "id": "hIopZQAJMfUI",
        "outputId": "e228fd57-bf03-4450-f79b-06591c00a350"
      },
      "execution_count": null,
      "outputs": [
        {
          "output_type": "stream",
          "name": "stdout",
          "text": [
            "7 8 9\n"
          ]
        }
      ]
    },
    {
      "cell_type": "markdown",
      "source": [
        "|  Type \t|  Naming Convention \t|   Examples\t|\n",
        "|---\t|---\t|---\t|\n",
        "|  Variable  |Use a lowercase single letter,word, <br> or words. Separate words with <br> underscores to improve readability.|\t\tx, var, my_variable|\n",
        "\n",
        "\n",
        "\n",
        "A variable can have a short name (like x and y) or a more descriptive name (age, carname, total_volume).\n",
        "\n",
        "Rules for Python variables:\n",
        "\n",
        "1. A variable name must start with a letter or the underscore character\n",
        "2. A variable name cannot start with a number\n",
        "3. A variable name can only contain alpha-numeric characters and underscores (A-z, 0-9, and _ )\n",
        "4. Variable names are case-sensitive (age, Age and AGE are three different variables)\n"
      ],
      "metadata": {
        "id": "Y951cwWzumbv"
      }
    },
    {
      "cell_type": "code",
      "source": [
        "#Legal variable names:\n",
        "myvar = \"John\"\n",
        "my_var = \"John\"\n",
        "_my_var = \"John\"\n",
        "myVar = \"John\"\n",
        "MYVAR = \"John\"\n",
        "myvar2 = \"John\"\n"
      ],
      "metadata": {
        "id": "18MJ-_QgRyDe"
      },
      "execution_count": null,
      "outputs": []
    },
    {
      "cell_type": "code",
      "source": [
        "#Illegal variable names:\n",
        "2myvar = \"John\"\n",
        "my-var = \"John\"\n",
        "my var = \"John\""
      ],
      "metadata": {
        "id": "TWZL_eq3R3D9"
      },
      "execution_count": null,
      "outputs": []
    },
    {
      "cell_type": "markdown",
      "source": [
        "## Input and Print Functions"
      ],
      "metadata": {
        "id": "Ip1doL0fR-4x"
      }
    },
    {
      "cell_type": "markdown",
      "source": [
        "* input() function takes the data from the console in the form of string. Moreover, we can pass a message to the input() function that will appear to the user before giving the data input. E.g. input(\"Enter a number:- \")\n",
        "* If we pass multiple arguments to the input() function, then we will get the error.\n",
        "* input() function returns the data in the string (str) format. Moreover, we can use the typecasting for type conversion. E.g. number = int(input(\"Enter a number:- \"))\n",
        "* Additionally, converting one type of data into other types of data is known as typecasting.\n",
        "We can use the functions int, str, and float for the typecasting."
      ],
      "metadata": {
        "id": "stekJiCSR8Yr"
      }
    },
    {
      "cell_type": "code",
      "source": [
        "number1 = input(\"Enter a number: \")\n",
        "number2 = input(\"Enter a number: \")\n",
        "number3 = input(\"Enter a number: \")\n",
        "\n",
        "print(f\"Here is the number1: {int(number1)}  then there is number 2: {int(number2)}  and then there is number3: {int(number3)} \")"
      ],
      "metadata": {
        "id": "wtIdvBXDFbrY"
      },
      "execution_count": null,
      "outputs": []
    },
    {
      "cell_type": "code",
      "source": [
        "# Solved by List Comprehension (Advanced Topic)\n",
        "variable1,*input_values=[int(x) for x in input(\"Please enter your values with a space in between: \").split()]"
      ],
      "metadata": {
        "id": "cA0JOVFCaKIu"
      },
      "execution_count": null,
      "outputs": []
    },
    {
      "cell_type": "code",
      "source": [
        "print(type(number))"
      ],
      "metadata": {
        "colab": {
          "base_uri": "https://localhost:8080/"
        },
        "id": "eUzpixTpG-5Z",
        "outputId": "53cb618d-1ad0-404b-a19b-3e4c41f2f5a3"
      },
      "execution_count": null,
      "outputs": [
        {
          "output_type": "stream",
          "name": "stdout",
          "text": [
            "<class 'int'>\n"
          ]
        }
      ]
    },
    {
      "cell_type": "code",
      "source": [
        "input(\"Enter a string: \")"
      ],
      "metadata": {
        "colab": {
          "base_uri": "https://localhost:8080/",
          "height": 53
        },
        "id": "jj9ViUs4Fyll",
        "outputId": "af1fa840-c8d7-4c38-a439-206e6d9cfce4"
      },
      "execution_count": null,
      "outputs": [
        {
          "name": "stdout",
          "output_type": "stream",
          "text": [
            "Enter a string: kjsdbjksbd\n"
          ]
        },
        {
          "output_type": "execute_result",
          "data": {
            "text/plain": [
              "'kjsdbjksbd'"
            ],
            "application/vnd.google.colaboratory.intrinsic+json": {
              "type": "string"
            }
          },
          "metadata": {},
          "execution_count": 9
        }
      ]
    },
    {
      "cell_type": "code",
      "source": [
        "# Taking input from the user\n",
        "name = input(\"Enter your name: \")\n",
        "\n",
        "print(\"Hello \" + name)"
      ],
      "metadata": {
        "id": "iVBfmJD5SH8O",
        "colab": {
          "base_uri": "https://localhost:8080/"
        },
        "outputId": "bc2f1e4f-b4cd-42a9-e573-dfc419804e22"
      },
      "execution_count": null,
      "outputs": [
        {
          "output_type": "stream",
          "name": "stdout",
          "text": [
            "Enter your name: lolo\n",
            "Hello lolo\n"
          ]
        }
      ]
    },
    {
      "cell_type": "code",
      "source": [
        "number = int(input(\"Enter a number:- \"))\n",
        "result = number + 2\n",
        "print(result)"
      ],
      "metadata": {
        "id": "vjEuMJ0lSPdx",
        "colab": {
          "base_uri": "https://localhost:8080/"
        },
        "outputId": "ec028c36-2572-4b11-934f-c533571638ea"
      },
      "execution_count": null,
      "outputs": [
        {
          "output_type": "stream",
          "name": "stdout",
          "text": [
            "Enter a number:- 34\n",
            "36\n"
          ]
        }
      ]
    },
    {
      "cell_type": "markdown",
      "source": [
        "## Practice Problem"
      ],
      "metadata": {
        "id": "L8VfLksdSg9j"
      }
    },
    {
      "cell_type": "markdown",
      "source": [
        "Follow the instructions to write a program\n",
        "1. Take a number as input from the user\n",
        "2. Multiply it with 10 and divide the result by 10\n",
        "3. Print the above the result"
      ],
      "metadata": {
        "id": "5gUmO8eOSnMG"
      }
    },
    {
      "cell_type": "code",
      "source": [],
      "metadata": {
        "id": "5YChwhOMSmTk"
      },
      "execution_count": null,
      "outputs": []
    },
    {
      "cell_type": "markdown",
      "source": [
        "Follow the instructions to write a program\n",
        "1. Take the user name as input and store it in a variable\n",
        "2. Take the age of the user as a number and store it in a variable\n",
        "3. Print the a line of string as follows\n",
        "Output: Your name is \\<user-name> and age \\<user-age>"
      ],
      "metadata": {
        "id": "oot-hMWMStOo"
      }
    },
    {
      "cell_type": "code",
      "source": [],
      "metadata": {
        "id": "FRiea2RYStmS"
      },
      "execution_count": null,
      "outputs": []
    },
    {
      "cell_type": "markdown",
      "source": [
        "Follow the instructions to write a program\n",
        "1. Take two numbers from the user as input\n",
        "2. Add those two numbers\n",
        "3. Print the result"
      ],
      "metadata": {
        "id": "Ef2fQZkbSuM3"
      }
    },
    {
      "cell_type": "code",
      "source": [],
      "metadata": {
        "id": "PD8HMWh0Sub5"
      },
      "execution_count": null,
      "outputs": []
    },
    {
      "cell_type": "markdown",
      "source": [
        "## Error Handling\n"
      ],
      "metadata": {
        "id": "ddJwgGTiTbxC"
      }
    },
    {
      "cell_type": "markdown",
      "source": [
        "There are (at least) two distinguishable kinds of errors: syntax errors and exceptions.\n",
        "\n",
        "### Syntax Errors\n",
        "Syntax errors, also known as parsing errors, are perhaps the most common kind of error we get while we are still learning Python.\n",
        "\n",
        "### Exceptions\n",
        "Even if a statement or expression is syntactically correct, it may cause an error when an attempt is made to execute it. Errors detected during execution are called exceptions.\n",
        "\n",
        "\n",
        "\n"
      ],
      "metadata": {
        "id": "MAnxUKKZTfUp"
      }
    },
    {
      "cell_type": "markdown",
      "source": [
        "## Data Types\n"
      ],
      "metadata": {
        "id": "ROVmKqGR_3Sy"
      }
    },
    {
      "cell_type": "markdown",
      "source": [
        "In Python we have several data structures, which are\n",
        "fundamental in programming since they store information and\n",
        "allow us to manage it."
      ],
      "metadata": {
        "id": "K4cvvfH0BP62"
      }
    },
    {
      "cell_type": "markdown",
      "source": [
        "## Data Types\n",
        " * **Text Type:**\tstr\n",
        " * **Numeric Types:**\tint, float\n",
        " * **Sequence Types:**\tlist, tuple, range\n",
        " * **Mapping Type:**\tdict\n",
        " * **Set Types:**\tset\n",
        " * **Boolean Type:**\tbool\n",
        "\n",
        " * **Type Keyword**  \n",
        " * Converting types"
      ],
      "metadata": {
        "id": "EfA5vmERBoFV"
      }
    },
    {
      "cell_type": "code",
      "source": [
        "taka = \"One THOUSAND\"\n",
        "\n",
        "# taka = 20.050\n",
        "print(type(taka))"
      ],
      "metadata": {
        "colab": {
          "base_uri": "https://localhost:8080/"
        },
        "id": "zOfy9zqSs5LE",
        "outputId": "32f799f6-2dfa-49c3-9235-5fbb4fca658c"
      },
      "execution_count": null,
      "outputs": [
        {
          "output_type": "stream",
          "name": "stdout",
          "text": [
            "<class 'str'>\n"
          ]
        }
      ]
    },
    {
      "cell_type": "markdown",
      "source": [
        "[![data-Types.png](https://i.postimg.cc/7LtDJ4L5/data-Types.png)](https://postimg.cc/CZ899Wk0)"
      ],
      "metadata": {
        "id": "TWesIqzvqNvF"
      }
    },
    {
      "cell_type": "code",
      "source": [
        "habi = \"kjvbskjdbvskjdbvibvkfviubverr\"\n",
        "print(type(habi))"
      ],
      "metadata": {
        "id": "oSI-m2FEs5H0",
        "colab": {
          "base_uri": "https://localhost:8080/"
        },
        "outputId": "e4bc004b-df9f-47ee-be29-2dee472554cd"
      },
      "execution_count": null,
      "outputs": [
        {
          "output_type": "stream",
          "name": "stdout",
          "text": [
            "<class 'str'>\n"
          ]
        }
      ]
    },
    {
      "cell_type": "code",
      "source": [
        "c = 23\n",
        "print(type(c))"
      ],
      "metadata": {
        "colab": {
          "base_uri": "https://localhost:8080/"
        },
        "id": "NlHv-9nUHAwM",
        "outputId": "4b3861a0-ff99-4513-e87b-9ff5eb99ae16"
      },
      "execution_count": null,
      "outputs": [
        {
          "output_type": "stream",
          "name": "stdout",
          "text": [
            "<class 'int'>\n"
          ]
        }
      ]
    },
    {
      "cell_type": "code",
      "source": [
        "c = 23.02736278638276\n",
        "print(type(c))"
      ],
      "metadata": {
        "colab": {
          "base_uri": "https://localhost:8080/"
        },
        "id": "AQf7PcztHGI5",
        "outputId": "ede8597a-2dc2-4c39-c15c-0055c399c9d4"
      },
      "execution_count": null,
      "outputs": [
        {
          "output_type": "stream",
          "name": "stdout",
          "text": [
            "<class 'float'>\n"
          ]
        }
      ]
    },
    {
      "cell_type": "code",
      "source": [
        "books = [\"13123\", \"23982938\", \"87236\"]\n",
        "print(type(books))"
      ],
      "metadata": {
        "colab": {
          "base_uri": "https://localhost:8080/"
        },
        "id": "dFwfDzc3HMiT",
        "outputId": "644bd929-91a9-4738-ac23-25d60c437e02"
      },
      "execution_count": null,
      "outputs": [
        {
          "output_type": "stream",
          "name": "stdout",
          "text": [
            "<class 'list'>\n"
          ]
        }
      ]
    },
    {
      "cell_type": "code",
      "source": [
        "tuptup = (1,2,3, 4)\n",
        "print(type(tuptup))"
      ],
      "metadata": {
        "colab": {
          "base_uri": "https://localhost:8080/"
        },
        "id": "8xH9fFC_IDxJ",
        "outputId": "543370ff-431e-4f9b-a708-43e2237de43d"
      },
      "execution_count": null,
      "outputs": [
        {
          "output_type": "stream",
          "name": "stdout",
          "text": [
            "<class 'tuple'>\n"
          ]
        }
      ]
    },
    {
      "cell_type": "code",
      "source": [
        "Num = \"23\"\n",
        "print(int(Num))"
      ],
      "metadata": {
        "id": "21YtJcHvBolf",
        "colab": {
          "base_uri": "https://localhost:8080/"
        },
        "outputId": "1b9ecb20-3376-4645-a809-d9d402f1c5d4"
      },
      "execution_count": null,
      "outputs": [
        {
          "output_type": "stream",
          "name": "stdout",
          "text": [
            "23\n"
          ]
        }
      ]
    },
    {
      "cell_type": "code",
      "source": [
        "dict = {\"python\": 3.7, \"Ruby\":2.2, \"python\": 2.3, \"Ruby\":2.5,}\n",
        "print(dict)\n",
        "\n",
        "#{\"key\": value}"
      ],
      "metadata": {
        "id": "44X9AYQpRm0w",
        "colab": {
          "base_uri": "https://localhost:8080/"
        },
        "outputId": "182c2b7d-5fbf-4b7d-a705-a5523086c2dc"
      },
      "execution_count": null,
      "outputs": [
        {
          "output_type": "stream",
          "name": "stdout",
          "text": [
            "{'python': 2.3, 'Ruby': 2.5}\n"
          ]
        }
      ]
    },
    {
      "cell_type": "markdown",
      "source": [
        "## Operators\n",
        "* Arithmetic Operators\n",
        "* Comparison Operators\n",
        "* Boolean Operators\n",
        "* Assignment Operators\n",
        "* Logical Operators"
      ],
      "metadata": {
        "id": "MCwsZPeFBS2O"
      }
    },
    {
      "cell_type": "markdown",
      "source": [
        "## Arithmetic Operators\n",
        "\n",
        "Arithmetic operators are used with numeric values to perform common mathematical operations:\n",
        "\n"
      ],
      "metadata": {
        "id": "3JcXpeG4BrkH"
      }
    },
    {
      "cell_type": "markdown",
      "source": [
        "\n",
        "| Operator | Name | Example |\n",
        "|:-:|:-:|:-:|\n",
        "| +\t| Addition | x + y |\n",
        "| -\t| Subtraction  | \tx - y\t|\n",
        "| *\t| Multiplication | \tx * y\t|\n",
        "| /\t| Division\t| x / y |\n",
        "| %\t| Modulus\t| x % y\t|\n",
        "| **\t| Exponentiation\t| x ** y |\n",
        "| //\t| Floor division\t| x // y |\n",
        "\n",
        "<br>\n",
        "**Arithmetic Operations in Python follows PEMDAS Rule.**\n",
        "\n",
        "P = Parenthesis <br>\n",
        "E = Exponentiation <br>\n",
        "M = Multiplication <br>\n",
        "D = Division <br>\n",
        "A = Addition <br>\n",
        "S = Substraction <br>\n",
        "\n",
        "The operations are all conducted from left to right except for exponentiation it's operations are conducted right to left.\n",
        "\n"
      ],
      "metadata": {
        "id": "UhHYc3hgWlie"
      }
    },
    {
      "cell_type": "code",
      "source": [
        "x = 6\n",
        "y = 3\n",
        "z = 2\n",
        "\n",
        "print(f\"{x} plus {y} equals {x + y}\")\n",
        "print(f\"{x} minus {y} equals {x - y}\")\n",
        "print(f\"{x} times {y} equals {x * y}\")\n",
        "print(f\"{x} divided {y} equals {x / y}\")\n",
        "print(f\"{z} divided to the floor of {y} equals {z // y}\")\n",
        "print(f\"{y} modulo of {z} equals {y%z}\")\n",
        "print(f\"{y} to the power of {z} equals {y**z}\")\n",
        "print(f\"The square root of 35 is equal to {35**0.5}\")\n"
      ],
      "metadata": {
        "colab": {
          "base_uri": "https://localhost:8080/"
        },
        "id": "R023d17kWmVO",
        "outputId": "468de9a4-5769-42ac-d67a-824e3a93395b"
      },
      "execution_count": null,
      "outputs": [
        {
          "output_type": "stream",
          "name": "stdout",
          "text": [
            "6 plus 3 equals 9\n",
            "6 minus 3 equals 3\n",
            "6 times 3 equals 18\n",
            "6 divided 3 equals 2.0\n",
            "2 divided to the floor of 3 equals 0\n",
            "3 modulo of 2 equals 1\n",
            "3 to the power of 2 equals 9\n",
            "The square root of 35 is equal to 5.916079783099616\n"
          ]
        }
      ]
    },
    {
      "cell_type": "markdown",
      "source": [
        "## Comparison Operators\n",
        "Comparison operators are used to compare two values:\n",
        "\n"
      ],
      "metadata": {
        "id": "LASE05YMdkx8"
      }
    },
    {
      "cell_type": "markdown",
      "source": [
        "\n",
        "\n",
        "| Operator | Name | Example |\n",
        "|:-:|:-:|:-:|\n",
        "| == |\tEqual\t| x == y\t|\n",
        "| != |\tNot equal\t| x != y|\n",
        "| >\t| Greater than |\tx > y\t|\n",
        "| <\t| Less than\t| x < y\t|\n",
        "| >=\t| Greater than or equal to |\tx >= y |\n",
        "| <=\t| Less than or equal to\t| x <= y |\n"
      ],
      "metadata": {
        "id": "Rk_l73WJhKcK"
      }
    },
    {
      "cell_type": "markdown",
      "source": [
        "## Boolean Operators\n",
        "\n",
        "In programming you often need to evaluate if any expression is `True` or `False`. When you compare two values, the expression is evaluated and an Boolean output is generated."
      ],
      "metadata": {
        "id": "ScpU5KB-hMz5"
      }
    },
    {
      "cell_type": "code",
      "source": [
        "# print(10 > 9)\n",
        "# print(10 = 9)\n",
        "# print(10 < 9)"
      ],
      "metadata": {
        "id": "YYTwPWcA9-Pw"
      },
      "execution_count": null,
      "outputs": []
    },
    {
      "cell_type": "code",
      "source": [
        "age = 17\n",
        "has_license = False\n",
        "\n",
        "if (age >= 18) | (has_license == True):\n",
        "    print(\"You can drive\")\n",
        "elif (age < 18) & (has_license == False):\n",
        "    print(\"You can't drive yet. You must be 18 years old and have a license\")\n",
        "else:\n",
        "    print(\"You can't drive. You need to have a license\")\n",
        "\n"
      ],
      "metadata": {
        "id": "5ZeyBUXFxXjN",
        "colab": {
          "base_uri": "https://localhost:8080/"
        },
        "outputId": "f77a1e56-5c8e-493c-a135-9300a7acc38b"
      },
      "execution_count": null,
      "outputs": [
        {
          "output_type": "stream",
          "name": "stdout",
          "text": [
            "You can't drive yet. You must be 18 years old and have a license\n"
          ]
        }
      ]
    },
    {
      "cell_type": "markdown",
      "source": [
        "### **Most Values are True**\n",
        "Almost any value is evaluated to True if it has some sort of content.\n",
        "\n",
        "Any string is True, except empty strings.\n",
        "\n",
        "Any number is True, except 0.\n",
        "\n",
        "Any list, tuple, set, and dictionary are True, except empty ones. <br> <br>\n",
        "\n",
        "### **Some Values are False**\n",
        "In fact, there are not many values that evaluate to False, except empty values, such as `(), [], {}, \"\",` the number 0, and the value None. And of course the value False evaluates to False."
      ],
      "metadata": {
        "id": "OguFYZDWnTFv"
      }
    },
    {
      "cell_type": "code",
      "source": [
        "print(bool(\"abc\"))\n",
        "print(bool(123))\n",
        "print(bool([\"apple\", \"cherry\", \"banana\"]))"
      ],
      "metadata": {
        "id": "KDpvu-ynsPgM",
        "colab": {
          "base_uri": "https://localhost:8080/"
        },
        "outputId": "7f7279fb-2785-437c-8a54-a04d55209f42"
      },
      "execution_count": null,
      "outputs": [
        {
          "output_type": "stream",
          "name": "stdout",
          "text": [
            "True\n",
            "True\n",
            "True\n"
          ]
        }
      ]
    },
    {
      "cell_type": "code",
      "source": [
        "print(bool(False))\n",
        "print(bool(None))\n",
        "print(bool(0))\n",
        "print(bool(\"\"))\n",
        "print(bool(()))\n",
        "print(bool([]))\n",
        "print(bool({}))"
      ],
      "metadata": {
        "id": "0DWOyR8tBr9m",
        "colab": {
          "base_uri": "https://localhost:8080/"
        },
        "outputId": "7d4e32bb-ffce-4ec9-d9b3-6116b2f469ab"
      },
      "execution_count": null,
      "outputs": [
        {
          "output_type": "stream",
          "name": "stdout",
          "text": [
            "False\n",
            "False\n",
            "False\n",
            "False\n",
            "False\n",
            "False\n",
            "False\n"
          ]
        }
      ]
    },
    {
      "cell_type": "markdown",
      "source": [
        "## Assignment Operators\n",
        "\n",
        "Assignment operators are used to assign values to variables:\n",
        "\n"
      ],
      "metadata": {
        "id": "N4M5BPSu66M3"
      }
    },
    {
      "cell_type": "markdown",
      "source": [
        "| Operator | Example | Same As |\n",
        "|:-:|:-:|:-:|\n",
        "| =\t| x = 5\t| x = 5\t|\n",
        "| +=\t| x += 3\t| x = x + 3\t|\n",
        "| -=\t| x -= 3\t| x = x - 3\t|\n",
        "| *=\t|  x *= 3\t| x = x * 3\t|\n",
        "| /=\t| x = 3\t| x = x / 3\t|\n",
        "| %=\t| x %= 3\t| x = x % 3\t|\n",
        "| //=\t| x //= 3\t| x = x // 3\t|\n",
        "| **=\t| x **= 3\t| x = x ** 3\t|\n",
        "| &=\t| x &= 3\t| x = x & 3 |\n",
        "| \\|=\t| x \\|= 3\t| x = x \\| 3|\n",
        "| ^=\t| x ^= 3\t| x = x ^ 3\t|\n",
        "| >>=\t| x >>= 3\t| x = x >> 3 |\n",
        "| <<=\t| x <<= 3\t| x = x << 3|\n"
      ],
      "metadata": {
        "id": "Lx_XsD2r7irt"
      }
    },
    {
      "cell_type": "markdown",
      "source": [
        "## Logical Operators\n",
        "\n",
        "Logical operators are used to combine conditional statements:\n",
        "<br> <br>\n",
        "\n",
        "| Operator | Description | Example |\n",
        "|:-:|:-:|:-:|\n",
        "| and |\tReturns True if both statements are true |x < 5 and  x < 10 |\n",
        "| or |\tReturns True if one of the statements is true | x < 5 or x < 4\t|\n",
        "| not |\tReverse the result, returns False if the result is true\t | not(x < 5 and x < 10) |"
      ],
      "metadata": {
        "id": "MYLkXAXV_D2T"
      }
    },
    {
      "cell_type": "markdown",
      "source": [
        "## Indexing\n",
        "\n",
        "The index() method returns the index position at which an item\n",
        "is found in a list or a string. We can use it to explore strings, since it allows us to find the ocurrence of a character or a substring in another string."
      ],
      "metadata": {
        "id": "L_8QkPXD_Esb"
      }
    },
    {
      "cell_type": "markdown",
      "source": [
        "[![indexing.png](https://i.postimg.cc/PqGWVp4W/indexing.png)](https://postimg.cc/PC4vPq0J)"
      ],
      "metadata": {
        "id": "bmKKhNOcvWHa"
      }
    },
    {
      "cell_type": "code",
      "source": [
        "sentence = \"In theory, theory and practice are the same. In practice, they are not.\"\n",
        "print(sentence.index(\"practice\", 0, -1))\n",
        "\n",
        "\n"
      ],
      "metadata": {
        "colab": {
          "base_uri": "https://localhost:8080/"
        },
        "id": "GbI3LV0HQSG0",
        "outputId": "8a31480a-8bb5-4635-d592-d5748fd1bb08"
      },
      "execution_count": null,
      "outputs": [
        {
          "output_type": "stream",
          "name": "stdout",
          "text": [
            "22\n"
          ]
        }
      ]
    },
    {
      "cell_type": "code",
      "source": [
        "apple = \"false fruit, fruit, fruit.\"\n",
        "print(apple.index(\"fruit\",10, -1))"
      ],
      "metadata": {
        "colab": {
          "base_uri": "https://localhost:8080/"
        },
        "id": "CEVLBeQrL4t3",
        "outputId": "e281987f-5c19-48fd-861d-f0d5700dd7bb"
      },
      "execution_count": null,
      "outputs": [
        {
          "output_type": "stream",
          "name": "stdout",
          "text": [
            "13\n"
          ]
        }
      ]
    },
    {
      "cell_type": "code",
      "source": [
        "importance = [\"Tumi\", \"TAKA\", \"Oxygen\"]\n",
        "\n",
        "print(importance[0])"
      ],
      "metadata": {
        "colab": {
          "base_uri": "https://localhost:8080/"
        },
        "id": "TxCVvMTy0Od0",
        "outputId": "1d3a9103-86c5-4d98-d526-0eeca7b3d6f2"
      },
      "execution_count": null,
      "outputs": [
        {
          "output_type": "stream",
          "name": "stdout",
          "text": [
            "Tumi\n"
          ]
        }
      ]
    },
    {
      "cell_type": "code",
      "source": [
        "importance = [\"TAKA\", \"Tumi\", \"Oxygen\"]\n",
        "\n",
        "importance.index(\"TAKA\")"
      ],
      "metadata": {
        "id": "2bpEU4-NvPXQ",
        "colab": {
          "base_uri": "https://localhost:8080/"
        },
        "outputId": "3145b5b6-5787-46f7-b1e8-7f256fddb9a4"
      },
      "execution_count": null,
      "outputs": [
        {
          "output_type": "execute_result",
          "data": {
            "text/plain": [
              "0"
            ]
          },
          "metadata": {},
          "execution_count": 30
        }
      ]
    },
    {
      "cell_type": "code",
      "source": [
        "x= [\"ma\", \"baba\", \"dada\",\"rastar lok\",\"ma\", \"baba\", \"dada\",\"rastar lok\",\"ma\", \"baba\", \"dada\",\"rastar lok\",\"ma\", \"baba\", \"dada\",\"rastar lok\",\"ma\", \"baba\", \"dada\",\"rastar lok\",\"ma\", \"baba\", \"dada\",\"rastar lok\",\"ma\", \"baba\", \"dada\",\"rastar lok\",\"ma\", \"baba\", \"dada\",\"rastar lok\",\"ma\", \"baba\", \"dada\",\"rastar lok\",\"ma\", \"baba\", \"dada\",\"rastar lok\",\"ma\", \"baba\", \"dada\",\"rastar lok\",\"ma\", \"baba\", \"dada\",\"rastar lok\",\"ma\", \"baba\", \"dada\",\"rastar lok\",\"ma\", \"baba\", \"dada\",\"rastar lok\",\"ma\", \"baba\", \"dada\",\"rastar lok\",\"ma\", \"baba\", \"dada\",\"rastar lok\",\"ma\", \"baba\", \"dada\",\"rastar lok\",\"ma\", \"baba\", \"dada\",\"rastar lok\",\"ma\", \"baba\", \"dada\",\"rastar lok\",\"ma\", \"baba\", \"dada\",\"rastar lok\",\"ma\", \"baba\", \"dada\",\"rastar lok\",\"ma\", \"baba\", \"dada\",\"rastar lok\",\"ma\", \"baba\", \"dada\",\"rastar lok\",\"ma\", \"baba\", \"dada\",\"rastar lok\",\"ma\", \"baba\", \"dada\",\"rastar lok\",\"ma\", \"baba\", \"dada\",\"rastar lok\",\"ma\", \"baba\", \"dada\",\"rastar lok\"]\n",
        "print(x[-9])"
      ],
      "metadata": {
        "id": "MQk5m8gKvPT3",
        "colab": {
          "base_uri": "https://localhost:8080/"
        },
        "outputId": "2f95e9c5-9130-4fee-9ae6-936c56b3ebd5"
      },
      "execution_count": null,
      "outputs": [
        {
          "output_type": "stream",
          "name": "stdout",
          "text": [
            "rastar lok\n"
          ]
        }
      ]
    },
    {
      "cell_type": "markdown",
      "source": [
        "# **String Methods**\n",
        "\n",
        "- analyzing methods\n",
        "- transformation methods\n",
        "- splitting and joining methods\n",
        "\n",
        "Note: <br>\n",
        "**Strings are immutable:** once created, their parts cannot be modified, but the values of the variables can be reassigned through string methods\n",
        "\n",
        "**Concatenable:** it is possible to join strings with the symbol +\n",
        "\n",
        "**multipliable:** it is possible to concatenate repetitions of a string with the symbol *\n",
        "\n",
        "**multilinear:** can be written on multiple lines by enclosing them in triple single quotes (''' ''') or double quotes (\"\"\" \"\"\")\n",
        "\n",
        "**determine its length:** through the len(my_string) function\n",
        "\n",
        "**check its content:** through the keywords in and not in. The result of this verification is a boolean (True / False).\n",
        "\n",
        "\n",
        "**in-place methods:** The methods that act in the place modify the objects directly, without returning any other data than the action itself (for this reason, if we try to assign them to variables, they will be left empty)"
      ],
      "metadata": {
        "id": "hpbfDmIQEqy6"
      }
    },
    {
      "cell_type": "markdown",
      "source": [
        "## Analyzing Methods\n",
        "\n",
        "`count( )` : returns the number of times a specified set of characters is repeated.\n",
        "\n",
        "`find( )` and `index( )` return the location (starting at 0) where the given argument is found. They differ in that index raises ValueError when the  argument is not found, while find returns -1.\n",
        "\n",
        "`startswith( )` and `endswith( )` indicate whether the string in question begins or ends with the set of characters passed as an argument, and return True or False accordingly.\n",
        "\n",
        "`isdigit( )` : returns True if all the characters in the string are digits, or can form numbers, including those corresponding to oriental languages.\n",
        "\n",
        "`isnumeric( )` : returns True if all characters in the string are numbers, it also includes characters with numeric connotation that are not necessarily digits (for example, a fraction)\n",
        "\n",
        "`isdecimal( )` : returns True if all characters in the string are decimals, that is, formed by digits from 0 to 9.\n",
        "\n",
        "`isalnum( )` : returns True all characters in the string are alphanumeric.\n",
        "\n",
        "`isalpha( )` : returns True if all characters in the string are alphabetic.\n",
        "\n",
        "`islower( )` : returns True if all characters in the string are lowercase.\n",
        "\n",
        "`isupper( )` : returns True if all characters in the string are uppercase.\n",
        "\n",
        "`isprintable( )` : returns True if all characters in the string are printable (that is, not special characters indicated by \\...).\n",
        "\n",
        "`isspace( )` : returns True if all characters in the string are spaces.\n",
        "\n"
      ],
      "metadata": {
        "id": "3pssnxWDEwTh"
      }
    },
    {
      "cell_type": "markdown",
      "source": [
        "## Transformation Methods\n",
        "\n",
        "Strings are actually immutable objects, so in reality all the methods below do not act on the original object but return a new one.\n",
        "\n",
        "`capitalize( )` returns the string with its first letter /capitalized.\n",
        "\n",
        "`encode( )` encodes the string with the specified character map and returns an instance of type bytes.\n",
        "\n",
        "`replace( )` replaces one string with another.\n",
        "\n",
        "`lower( )` returns a copy of the string with all its letters in lowercase.\n",
        "\n",
        "`upper( )` returns a copy of the string with all its letters in uppercase.\n",
        "\n",
        "`swapcase( )` change uppercase to lowercase and vice versa.\n",
        "\n",
        "`strip( )`, `lstrip( )` & `rstrip( )` remove whitespaces that precede and/or follow the string.\n",
        "\n",
        "`center( )`, `ljust( )` & `rjust( )` align a string to the center, left, or right. A second argument indicates with which character to fill the empty spaces (by default: blank space).\n",
        "\n",
        "\n"
      ],
      "metadata": {
        "id": "Cpn3IdGjExTj"
      }
    },
    {
      "cell_type": "markdown",
      "source": [
        "## Splitting and Joining methods\n",
        "\n",
        "`split( )` splits a string based on a separator character (defaults: blanks). A second argument indicates the maximum number of splits that can take place (-1 by default, meaning an unlimited number of splits).\n",
        "\n",
        "`splitlines( )` splits a string with each occurrence of a line break.\n",
        "\n",
        "`partition( )` returns a tuple of three elements: the block of characters before the first occurrence of the separator, the separator itself, and the block after.\n",
        "\n",
        "`rpartition( )` operates in the same way as the previous one, but starting from right to left.\n",
        "\n",
        "`join( )` must be called from a string that acts as a separator to join the elements of a list into the same resulting string.\n",
        "\n",
        "\n"
      ],
      "metadata": {
        "id": "G5jPEHa5E16C"
      }
    },
    {
      "cell_type": "code",
      "source": [
        "[\"C\" , \"C++\", \"Python\", \"Java\"]"
      ],
      "metadata": {
        "id": "DkdXp3tBFKGM",
        "colab": {
          "base_uri": "https://localhost:8080/"
        },
        "outputId": "71e849ab-c3be-4d2e-9045-498922761aa7"
      },
      "execution_count": null,
      "outputs": [
        {
          "output_type": "execute_result",
          "data": {
            "text/plain": [
              "['C', 'C++', 'Python', 'Java']"
            ]
          },
          "metadata": {},
          "execution_count": 32
        }
      ]
    },
    {
      "cell_type": "code",
      "source": [
        "word_list = [\"Simple\",\"is\",\"better\",\"than\",\"complex.\"]\n",
        "\n",
        "\" \".join(word_list)"
      ],
      "metadata": {
        "id": "ak_YeChnFMKX",
        "colab": {
          "base_uri": "https://localhost:8080/",
          "height": 36
        },
        "outputId": "0ada3774-600c-44ef-cccc-fa2460dc90bd"
      },
      "execution_count": null,
      "outputs": [
        {
          "output_type": "execute_result",
          "data": {
            "text/plain": [
              "'Simple is better than complex.'"
            ],
            "application/vnd.google.colaboratory.intrinsic+json": {
              "type": "string"
            }
          },
          "metadata": {},
          "execution_count": 33
        }
      ]
    },
    {
      "cell_type": "code",
      "source": [
        "string = \"If the implementation is hard to explain, it might be a bad idea.\"\n",
        "\n",
        "str1 = string.replace(\"hard\", \"easy\")\n",
        "\n",
        "str2 = str1.replace(\"bad\", \"good\")\n",
        "\n",
        "print(str2)"
      ],
      "metadata": {
        "id": "3ESN2pnCFMNc",
        "colab": {
          "base_uri": "https://localhost:8080/"
        },
        "outputId": "1e109ece-9439-4c61-df75-eceaea1a0feb"
      },
      "execution_count": null,
      "outputs": [
        {
          "output_type": "stream",
          "name": "stdout",
          "text": [
            "If the implementation is easy to explain, it might be a good idea.\n"
          ]
        }
      ]
    },
    {
      "cell_type": "code",
      "source": [
        "poem = \"\"\"\n",
        "Whitecaps on the bay:\n",
        "A broken signboard banging\n",
        "In the April wind.\n",
        "\"\"\"\n",
        "\n",
        "print(\"beach\" in poem)"
      ],
      "metadata": {
        "id": "_q5SaFEKFMQH",
        "colab": {
          "base_uri": "https://localhost:8080/"
        },
        "outputId": "232a29ae-13ff-47a9-d1f4-e638a1715625"
      },
      "execution_count": null,
      "outputs": [
        {
          "output_type": "stream",
          "name": "stdout",
          "text": [
            "False\n"
          ]
        }
      ]
    },
    {
      "cell_type": "code",
      "source": [
        "long_word = \"electroencephalographist\"\n",
        "\n",
        "print(len(long_word))"
      ],
      "metadata": {
        "id": "vJ-HOGXmFMTX",
        "colab": {
          "base_uri": "https://localhost:8080/"
        },
        "outputId": "39820b56-0ea9-42cb-e154-3d216d050c6f"
      },
      "execution_count": null,
      "outputs": [
        {
          "output_type": "stream",
          "name": "stdout",
          "text": [
            "24\n"
          ]
        }
      ]
    },
    {
      "cell_type": "code",
      "source": [
        "fruits = [\"apple\", \"banana\", \"mango\", \"cherry\", \"watermelon\"]\n",
        "\n",
        "deleted_item = fruits.pop(2)\n",
        "\n",
        "print(fruits)\n",
        "\n",
        "print(deleted_item)"
      ],
      "metadata": {
        "id": "RTIQne5GFMWl",
        "colab": {
          "base_uri": "https://localhost:8080/"
        },
        "outputId": "b6245b41-6e91-4c61-83f2-f1a7001c1ab6"
      },
      "execution_count": null,
      "outputs": [
        {
          "output_type": "stream",
          "name": "stdout",
          "text": [
            "['apple', 'banana', 'cherry', 'watermelon']\n",
            "mango\n"
          ]
        }
      ]
    },
    {
      "cell_type": "markdown",
      "source": [
        "# Control Flow\n",
        "Control Flow determines the order in which the code of a program is executed. In Python, the flow is controlled by conditional structures, loops, and functions.\n",
        "\n",
        "\n",
        "* Conditional statements\n",
        "* Loops and Iterables\n",
        "* Break and Continue statements\n",
        "* Try-Except statements\n"
      ],
      "metadata": {
        "id": "kl_3fVoMWQc2"
      }
    },
    {
      "cell_type": "code",
      "source": [
        "num1 = input(\"Please enter a number... \")\n",
        "num2 = input(\"Please enter another number... \")\n",
        "\n",
        "if num1 > num2:\n",
        "    print(f\"{num1} is greater than {num2}\")\n",
        "elif num1 < num2:\n",
        "    print(f\"{num1} is less than {num2}\")\n",
        "else:\n",
        "    print(f\"{num1} is equal to {num2}\")"
      ],
      "metadata": {
        "id": "fDJC9zqAV5IY"
      },
      "execution_count": null,
      "outputs": []
    },
    {
      "cell_type": "code",
      "source": [],
      "metadata": {
        "id": "_T3ymAFGCPvU"
      },
      "execution_count": null,
      "outputs": []
    },
    {
      "cell_type": "markdown",
      "source": [
        "## The \"for\" loop\n",
        "For loops iterate over a given sequence.\n",
        "\n",
        "[![flowchart-loop.jpg](https://i.postimg.cc/NFCKfYm3/flowchart-loop.jpg)](https://postimg.cc/JHJrPfTx)\n",
        "\n",
        "Here is an example:\n",
        "\n"
      ],
      "metadata": {
        "id": "74byEjR81L24"
      }
    },
    {
      "cell_type": "markdown",
      "source": [
        "In plain English:\n",
        "\n",
        "\n",
        "```python\n",
        "names = [\"Peter\", \"Spider-man\", \"Wolverine\", \"Professor\"]\n",
        "\n",
        "for each item in names\n",
        "    print(\"Hello \" + item)\n",
        "\n",
        "```\n",
        "\n"
      ],
      "metadata": {
        "id": "zavOXAbaRFc4"
      }
    },
    {
      "cell_type": "code",
      "source": [
        "names = [\"Peter\", \"Spider-man\", \"Wolverine\", \"Professor\"]\n",
        "\n",
        "for item in names:\n",
        "    print(\"Hello \" + item)"
      ],
      "metadata": {
        "colab": {
          "base_uri": "https://localhost:8080/"
        },
        "id": "eAYVsNqmRDlO",
        "outputId": "717cad0c-5f2b-4dce-bacd-272edd760974"
      },
      "execution_count": null,
      "outputs": [
        {
          "output_type": "stream",
          "name": "stdout",
          "text": [
            "Hello Peter\n",
            "Hello Spider-man\n",
            "Hello Wolverine\n",
            "Hello Professor\n"
          ]
        }
      ]
    },
    {
      "cell_type": "code",
      "source": [
        "primes = [2, 3, 5, 7]\n",
        "for prime in primes:\n",
        "    print(prime)"
      ],
      "metadata": {
        "colab": {
          "base_uri": "https://localhost:8080/"
        },
        "id": "C7SMbMWoRJpV",
        "outputId": "42c0f52a-e5ff-4b6a-ff0a-a7919b6a9042"
      },
      "execution_count": null,
      "outputs": [
        {
          "output_type": "stream",
          "name": "stdout",
          "text": [
            "2\n",
            "3\n",
            "5\n",
            "7\n"
          ]
        }
      ]
    },
    {
      "cell_type": "code",
      "source": [
        "students = [\"Scooby\", \"Shaggy\",\"Fred\", \"Velma\", \"Daphne\"]\n",
        "for student in students:\n",
        "    print(f\"Hello {student}\")"
      ],
      "metadata": {
        "colab": {
          "base_uri": "https://localhost:8080/"
        },
        "id": "UaawOOOQRMKO",
        "outputId": "30c82bfa-18c0-4b7d-c9fd-2687cc36936c"
      },
      "execution_count": null,
      "outputs": [
        {
          "output_type": "stream",
          "name": "stdout",
          "text": [
            "Hello Scooby\n",
            "Hello Shaggy\n",
            "Hello Fred\n",
            "Hello Velma\n",
            "Hello Daphne\n"
          ]
        }
      ]
    },
    {
      "cell_type": "code",
      "source": [
        "list_numbers = [1,5,8,7,6,8,2,5,2,6,4,8,5,9,8,3,5,4,2,5,6,4]\n",
        "sum_numbers = 0\n",
        "for number in list_numbers:\n",
        "    sum_numbers = sum_numbers + number"
      ],
      "metadata": {
        "id": "FKDgZcCvRO4O"
      },
      "execution_count": null,
      "outputs": []
    },
    {
      "cell_type": "code",
      "source": [
        "list_numbers = [1,5,8,7,6,8,2,5,2,6,4,8,5,9,8,3,5,4,2,5,6,4]\n",
        "sum_even = 0\n",
        "sum_odd = 0\n",
        "for number in list_numbers:\n",
        "    if number % 2 == 0:\n",
        "        sum_even = sum_even + number\n",
        "    else:\n",
        "        sum_odd = sum_odd + number"
      ],
      "metadata": {
        "id": "D4ts0CAqRR-C"
      },
      "execution_count": null,
      "outputs": []
    },
    {
      "cell_type": "markdown",
      "source": [
        "For loops can iterate over a sequence of numbers using the `\"range\"` and `\"xrange\"` functions. The difference between range and xrange is that the range function returns a new list with numbers of that specified range, whereas xrange returns an iterator, which is more efficient.\n",
        "\n",
        "Note that the range function is zero based."
      ],
      "metadata": {
        "id": "zXPP3Td6RUb6"
      }
    },
    {
      "cell_type": "code",
      "source": [],
      "metadata": {
        "id": "IVsEfmkHPIG6"
      },
      "execution_count": null,
      "outputs": []
    },
    {
      "cell_type": "code",
      "source": [
        "# Prints out the numbers 0,1,2,3,4\n",
        "for x in range(1, 100, 10):\n",
        "    print(x)\n",
        "\n",
        "# # Prints out 3,4,5\n",
        "# for x in range(3, 6):\n",
        "#     print(x)\n",
        "\n",
        "# # Prints out 3,5,7\n",
        "# for x in range(3, 8, 2):\n",
        "#     print(x)\n",
        "\n",
        "\n",
        "# range(start_point, end_point(n-1), step)"
      ],
      "metadata": {
        "id": "lt3kjpXSRWhn"
      },
      "execution_count": null,
      "outputs": []
    },
    {
      "cell_type": "code",
      "source": [
        "for x in range(10, 101, 5):\n",
        "    print(x)\n"
      ],
      "metadata": {
        "colab": {
          "base_uri": "https://localhost:8080/"
        },
        "id": "8bMnJ7kQReyT",
        "outputId": "d96a6686-bd5e-4827-a416-516ec750761d"
      },
      "execution_count": null,
      "outputs": [
        {
          "output_type": "stream",
          "name": "stdout",
          "text": [
            "10\n",
            "15\n",
            "20\n",
            "25\n",
            "30\n",
            "35\n",
            "40\n",
            "45\n",
            "50\n",
            "55\n",
            "60\n",
            "65\n",
            "70\n",
            "75\n",
            "80\n",
            "85\n",
            "90\n",
            "95\n",
            "100\n"
          ]
        }
      ]
    },
    {
      "cell_type": "markdown",
      "source": [
        "## \"while\" loops\n",
        "While loops repeat as long as a certain boolean condition is `True`. For example:"
      ],
      "metadata": {
        "id": "HkciCUcdRjhk"
      }
    },
    {
      "cell_type": "code",
      "source": [
        "# Prints out 0,1,2,3,4\n",
        "\n",
        "count = 0\n",
        "while count < 5:\n",
        "    print(count)\n",
        "    count += 1  # This is the same as count = count + 1"
      ],
      "metadata": {
        "colab": {
          "base_uri": "https://localhost:8080/"
        },
        "id": "ja7KS_g4Rg-1",
        "outputId": "f3535efa-9499-40cf-c13f-90cabeb0e3f3"
      },
      "execution_count": null,
      "outputs": [
        {
          "output_type": "stream",
          "name": "stdout",
          "text": [
            "0\n",
            "1\n",
            "2\n",
            "3\n",
            "4\n"
          ]
        }
      ]
    },
    {
      "cell_type": "code",
      "source": [
        "# Fstring\n",
        "name = input(\"Enter your name: \")\n",
        "\n",
        "print(f\"{name} is my name\")\n",
        "\n"
      ],
      "metadata": {
        "colab": {
          "base_uri": "https://localhost:8080/"
        },
        "id": "MiP2W_VLUveb",
        "outputId": "81540555-a8bb-4923-df20-48df278c4010"
      },
      "execution_count": null,
      "outputs": [
        {
          "output_type": "stream",
          "name": "stdout",
          "text": [
            "Enter your name: farhaan\n",
            "farhaan is my name\n"
          ]
        }
      ]
    },
    {
      "cell_type": "code",
      "source": [
        "number = 10\n",
        "\n",
        "while number > 0:\n",
        "    print(f\"The number is : {number}. \")\n",
        "    number -= 1"
      ],
      "metadata": {
        "colab": {
          "base_uri": "https://localhost:8080/"
        },
        "id": "qeklN3TlRnYL",
        "outputId": "196c2dd2-bc50-4d6d-a29d-f2c714babf09"
      },
      "execution_count": null,
      "outputs": [
        {
          "output_type": "stream",
          "name": "stdout",
          "text": [
            "The number is : 10. \n",
            "The number is : 9. \n",
            "The number is : 8. \n",
            "The number is : 7. \n",
            "The number is : 6. \n",
            "The number is : 5. \n",
            "The number is : 4. \n",
            "The number is : 3. \n",
            "The number is : 2. \n",
            "The number is : 1. \n"
          ]
        }
      ]
    },
    {
      "cell_type": "code",
      "source": [
        "number = 50\n",
        "while number >= 0:\n",
        "    if number % 5 == 0:\n",
        "        print(number)\n",
        "        number -= 1\n",
        "    else:\n",
        "        number -= 1"
      ],
      "metadata": {
        "colab": {
          "base_uri": "https://localhost:8080/"
        },
        "id": "ISybsIsaRpNi",
        "outputId": "2daa433f-a386-4402-dac9-711b3f0a11d7"
      },
      "execution_count": null,
      "outputs": [
        {
          "output_type": "stream",
          "name": "stdout",
          "text": [
            "50\n",
            "45\n",
            "40\n",
            "35\n",
            "30\n",
            "25\n",
            "20\n",
            "15\n",
            "10\n",
            "5\n",
            "0\n"
          ]
        }
      ]
    },
    {
      "cell_type": "code",
      "source": [
        "list_numbers = [-1,-5,-6,1,-4,-3,5,6,]\n",
        "for each_number in list_numbers:\n",
        "    if each_number > 0:\n",
        "        print(each_number)\n",
        "        continue\n",
        "    else:\n",
        "        pass"
      ],
      "metadata": {
        "colab": {
          "base_uri": "https://localhost:8080/"
        },
        "id": "xntCr6BuRrbM",
        "outputId": "f9e355d8-c98b-4ca2-d07a-7f7e5a1035a9"
      },
      "execution_count": null,
      "outputs": [
        {
          "output_type": "stream",
          "name": "stdout",
          "text": [
            "-1\n",
            "-5\n",
            "-6\n",
            "1\n",
            "-4\n",
            "-3\n",
            "5\n",
            "6\n"
          ]
        }
      ]
    },
    {
      "cell_type": "markdown",
      "source": [
        "## \"break\", \"pass\" and \"continue\" statements\n",
        "\n",
        "- If the code hits a `break` statement, the loop exits.\n",
        "- The `continue` statement interrupts the current iteration within the loop, bringing the program to the top of the loop.\n",
        "- The `pass` statement does not alter the program: it's a placeholder for when a statement is expected, but no action is desired."
      ],
      "metadata": {
        "id": "BPts9V8vRvma"
      }
    },
    {
      "cell_type": "code",
      "source": [
        "# Prints out 0,1,2,3,4\n",
        "\n",
        "count = 0\n",
        "while True:\n",
        "    print(count)\n",
        "    count += 1\n",
        "    if count >= 5:\n",
        "        break\n",
        "\n"
      ],
      "metadata": {
        "colab": {
          "base_uri": "https://localhost:8080/"
        },
        "id": "2fMWYeahRuWs",
        "outputId": "9616b730-be88-4a44-a52f-58699897a0dc"
      },
      "execution_count": null,
      "outputs": [
        {
          "output_type": "stream",
          "name": "stdout",
          "text": [
            "0\n",
            "1\n",
            "2\n",
            "3\n",
            "4\n"
          ]
        }
      ]
    },
    {
      "cell_type": "code",
      "source": [
        "# Prints out only odd numbers - 1,3,5,7,9\n",
        "for x in range(10):\n",
        "    # Check if x is even\n",
        "    if x % 2 == 0:\n",
        "        continue\n",
        "    print(x)"
      ],
      "metadata": {
        "colab": {
          "base_uri": "https://localhost:8080/"
        },
        "id": "ye1SVpC2R0ZH",
        "outputId": "58182377-acb4-4f9f-ae79-7147c4acf5a9"
      },
      "execution_count": null,
      "outputs": [
        {
          "output_type": "stream",
          "name": "stdout",
          "text": [
            "1\n",
            "3\n",
            "5\n",
            "7\n",
            "9\n"
          ]
        }
      ]
    },
    {
      "cell_type": "markdown",
      "source": [
        "## Can we use \"else\" clause for loops?\n",
        "\n",
        "Unlike languages like C, CPP.. we can use else for loops. When the loop condition of \"for\" or \"while\" statement fails then code part in \"else\" is executed. If a break statement is executed inside the for loop then the \"else\" part is skipped. Note that the \"else\" part is executed even if there is a continue statement.\n",
        "\n",
        "Here are a few examples:"
      ],
      "metadata": {
        "id": "o9FkrjRdR2qI"
      }
    },
    {
      "cell_type": "code",
      "source": [
        "# Prints out 0,1,2,3,4 and then it prints \"count value reached 5\"\n",
        "\n",
        "count=0\n",
        "while(count<5):\n",
        "    print(count)\n",
        "    count +=1\n",
        "else:\n",
        "    print(\"count value reached %d\" %(count))\n"
      ],
      "metadata": {
        "colab": {
          "base_uri": "https://localhost:8080/"
        },
        "id": "nWscQNs1R5Fo",
        "outputId": "2e1033ab-0670-456c-e1d6-3eb42e0f5e29"
      },
      "execution_count": null,
      "outputs": [
        {
          "output_type": "stream",
          "name": "stdout",
          "text": [
            "0\n",
            "1\n",
            "2\n",
            "3\n",
            "4\n",
            "count value reached 5\n"
          ]
        }
      ]
    },
    {
      "cell_type": "code",
      "source": [
        "\n",
        "# Prints out 1,2,3,4\n",
        "for i in range(1, 10):\n",
        "    if(i%5==0):\n",
        "        break\n",
        "    print(i)\n",
        "else:\n",
        "    print(\"this is not printed because for loop is terminated because of break but not due to fail in condition\")"
      ],
      "metadata": {
        "colab": {
          "base_uri": "https://localhost:8080/"
        },
        "id": "DLiMWKy_SBO9",
        "outputId": "5cf486ff-6314-4912-8da9-35cedd12cc6e"
      },
      "execution_count": null,
      "outputs": [
        {
          "output_type": "stream",
          "name": "stdout",
          "text": [
            "1\n",
            "2\n",
            "3\n",
            "4\n"
          ]
        }
      ]
    },
    {
      "cell_type": "markdown",
      "source": [
        "## Nested Loops\n",
        "\n",
        "A loop inside another loop is called a nested loop. The inner loop will be performed once for each iteration of the outer loop.\n",
        "\n"
      ],
      "metadata": {
        "id": "TrvflPmCR_OQ"
      }
    },
    {
      "cell_type": "code",
      "source": [
        "nanan_ronger = ['yellow', 'black', 'green', 'purple' ]\n",
        "onek_gula_fol = ['mango', \"grape\"]\n",
        "\n",
        "for rong in nanan_ronger:\n",
        "  for fol in onek_gula_fol:\n",
        "    print(rong, fol)"
      ],
      "metadata": {
        "colab": {
          "base_uri": "https://localhost:8080/"
        },
        "id": "c0R_YzONR9eJ",
        "outputId": "905e5177-9aaa-4ca0-8ba6-735d93917599"
      },
      "execution_count": null,
      "outputs": [
        {
          "output_type": "stream",
          "name": "stdout",
          "text": [
            "yellow mango\n",
            "yellow grape\n",
            "black mango\n",
            "black grape\n",
            "green mango\n",
            "green grape\n",
            "purple mango\n",
            "purple grape\n"
          ]
        }
      ]
    },
    {
      "cell_type": "markdown",
      "source": [
        "## Range"
      ],
      "metadata": {
        "id": "_JtAjuSXR8JH"
      }
    },
    {
      "cell_type": "code",
      "source": [
        "sum_squares = 0\n",
        "\n",
        "for i in range(1,16):\n",
        "    sum_squares += i**2\n",
        "    print(f\"{sum_squares}\")"
      ],
      "metadata": {
        "colab": {
          "base_uri": "https://localhost:8080/"
        },
        "id": "fD3r0QclSQCI",
        "outputId": "8b679d87-afe5-4cc5-a677-9eb1db235a14"
      },
      "execution_count": null,
      "outputs": [
        {
          "output_type": "stream",
          "name": "stdout",
          "text": [
            "1\n",
            "5\n",
            "14\n",
            "30\n",
            "55\n",
            "91\n",
            "140\n",
            "204\n",
            "285\n",
            "385\n",
            "506\n",
            "650\n",
            "819\n",
            "1015\n",
            "1240\n"
          ]
        }
      ]
    },
    {
      "cell_type": "code",
      "source": [],
      "metadata": {
        "id": "wIh23GqZUWGa"
      },
      "execution_count": null,
      "outputs": []
    }
  ]
}