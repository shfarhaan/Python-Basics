{
  "nbformat": 4,
  "nbformat_minor": 0,
  "metadata": {
    "colab": {
      "provenance": [],
      "authorship_tag": "ABX9TyPsvZwdCS3lxV7ZGK9zUT1D",
      "include_colab_link": true
    },
    "kernelspec": {
      "name": "python3",
      "display_name": "Python 3"
    },
    "language_info": {
      "name": "python"
    }
  },
  "cells": [
    {
      "cell_type": "markdown",
      "metadata": {
        "id": "view-in-github",
        "colab_type": "text"
      },
      "source": [
        "<a href=\"https://colab.research.google.com/github/shfarhaan/Python-Basics/blob/main/Class_9_%2B_10_Class_and_Objects.ipynb\" target=\"_parent\"><img src=\"https://colab.research.google.com/assets/colab-badge.svg\" alt=\"Open In Colab\"/></a>"
      ]
    },
    {
      "cell_type": "markdown",
      "source": [
        "\n",
        "# **Class and Objects**\n",
        "\n"
      ],
      "metadata": {
        "id": "PbRdc_KvPNOY"
      }
    },
    {
      "cell_type": "markdown",
      "source": [
        "## Step 1: Understanding the Concept of Classes\n",
        "A class is a **blueprint** for creating objects. It defines a set of attributes and methods that an object can have. In simpler terms, a class is like a template or a design that we can use to create objects.\n",
        "\n",
        "For example, imagine we want to create a car. we would start by designing a blueprint that specifies the car's attributes (such as the color, make, and model) and methods (such as start, stop, and accelerate). This blueprint is the class.\n"
      ],
      "metadata": {
        "id": "ziYOdJVUQvZz"
      }
    },
    {
      "cell_type": "code",
      "source": [
        "help(str)"
      ],
      "metadata": {
        "id": "fWWg4IJIPllC"
      },
      "execution_count": null,
      "outputs": []
    },
    {
      "cell_type": "markdown",
      "source": [
        "\n",
        "## Step 2: Creating a Class\n",
        "\n",
        "To create a class in most programming languages, we use the class keyword followed by the name of the class. Here's an example of how to create a class called \"Car\" in Python:\n",
        "\n",
        "```\n",
        "class Car:\n",
        "    # class definition goes here\n",
        "```\n",
        "\n",
        "\n"
      ],
      "metadata": {
        "id": "kKFDbFnVPmRi"
      }
    },
    {
      "cell_type": "code",
      "source": [
        "class Building:\n",
        "  pass\n"
      ],
      "metadata": {
        "id": "SqFGvWf5QiFa"
      },
      "execution_count": null,
      "outputs": []
    },
    {
      "cell_type": "markdown",
      "source": [
        "## Step 3: Adding Attributes to a Class\n",
        "Next, we can add attributes (also known as properties or variables) to the class. These are the characteristics that objects created from the class will have.\n",
        "\n",
        "For example, let's say we want our Car class to have a color and a make. we can define these attributes in the class definition using the self keyword, which refers to the object being created:\n",
        "\n",
        "```\n",
        "class Car:\n",
        "    def __init__(self, color, make):\n",
        "        self.color = color\n",
        "        self.make = make\n",
        "```\n",
        "\n",
        "In this example, we've defined a constructor method called `__init__` that takes two arguments (`color` and `make`) and sets them as attributes of the Car object. The `self` keyword is used to refer to the object being created, so `self.color` and `self.make` are the attributes of the Car object.\n"
      ],
      "metadata": {
        "id": "xa-U54hUQixR"
      }
    },
    {
      "cell_type": "code",
      "source": [
        "class Building:\n",
        "    def __init__(self, name, address, num_floors):\n",
        "        self.name = name\n",
        "        self.address = address\n",
        "        self.num_floors = num_floors\n"
      ],
      "metadata": {
        "id": "arhCbhcLQkiR"
      },
      "execution_count": null,
      "outputs": []
    },
    {
      "cell_type": "markdown",
      "source": [
        "## Step 4: Adding Methods to a Class\n",
        "Next, we can add methods (also known as functions) to the class. These are the actions that objects created from the class can perform.\n",
        "\n",
        "For example, let's say we want our Car class to have a method called \"start\" that prints out a message when the car is started. we can define this method in the class definition like this:\n",
        "\n",
        "```\n",
        "class Car:\n",
        "    def __init__(self, color, make):\n",
        "        self.color = color\n",
        "        self.make = make\n",
        "    \n",
        "    def start(self):\n",
        "        print(\"The car is starting!\")\n",
        "```\n",
        "\n",
        "In this example, we've added a method called \"start\" to the Car class. When this method is called on a Car object, it will print out the message \"The car is starting!\"\n",
        "\n"
      ],
      "metadata": {
        "id": "uqKKVVZ5QTVW"
      }
    },
    {
      "cell_type": "code",
      "source": [
        "class Building:\n",
        "    def __init__(self, name, address, num_floors):\n",
        "        self.name = name\n",
        "        self.address = address\n",
        "        self.num_floors = num_floors\n",
        "\n",
        "    def describe_building(self):\n",
        "        print(f\"The {self.name} building is located at {self.address} and has {self.num_floors} floors.\")\n"
      ],
      "metadata": {
        "id": "uyLXY606QTDh"
      },
      "execution_count": null,
      "outputs": []
    },
    {
      "cell_type": "code",
      "source": [],
      "metadata": {
        "id": "oryHAPk7o2nA"
      },
      "execution_count": null,
      "outputs": []
    },
    {
      "cell_type": "markdown",
      "source": [
        "## Step 5: Creating Objects from a Class\n",
        "Now that we've defined our class with attributes and methods, we can create objects from it. To create an object, we use the class name followed by parentheses. Any arguments that the `__init__` constructor requires should be passed in the parentheses.\n",
        "\n",
        "For example, to create a Car object with a red color and a Honda make, we can do this:\n",
        "\n",
        "```\n",
        "my_car = Car(\"red\", \"Honda\")\n",
        "```\n"
      ],
      "metadata": {
        "id": "cREaBDRLQU4_"
      }
    },
    {
      "cell_type": "code",
      "source": [
        "building1 = Building(\"Burj Khalifa\", \"1 Sheikh Mohammed bin Rashid Blvd, Dubai, United Arab Emirates\", 163)\n",
        "building2 = Building(\"Merdeka 118\", \"87 Jalan Hang Jebat 50150 Kuala Lumpur Federal Territory of Kuala Lumpur\", 118)\n"
      ],
      "metadata": {
        "id": "4g8DSLD7P7mk"
      },
      "execution_count": null,
      "outputs": []
    },
    {
      "cell_type": "markdown",
      "source": [
        "\n",
        "## Step 6: Accessing Object Attributes and Methods\n",
        "Once we've created an object, we can access its attributes and methods using dot notation. For example, to access the color attribute of `my_car`, we can do this:\n",
        "\n",
        "```\n",
        "print(my_car.color)\n",
        "```\n",
        "\n",
        "And to call the start method on `my_car`, we can do this:\n",
        "\n",
        "```\n",
        "my_car.start()\n",
        "```\n",
        "\n",
        "This will print out the message \"The car is starting!\".\n",
        "\n"
      ],
      "metadata": {
        "id": "_3eMM4bQQBb2"
      }
    },
    {
      "cell_type": "code",
      "source": [
        "print(building1.name)\n",
        "print(building2.num_floors)\n"
      ],
      "metadata": {
        "id": "doQCjWU4P8Ym",
        "colab": {
          "base_uri": "https://localhost:8080/"
        },
        "outputId": "8538e03b-055f-4483-d97f-71f92499afc1"
      },
      "execution_count": null,
      "outputs": [
        {
          "output_type": "stream",
          "name": "stdout",
          "text": [
            "Burj Khalifa\n",
            "118\n"
          ]
        }
      ]
    },
    {
      "cell_type": "code",
      "source": [
        "building1.describe_building()\n",
        "print(\"\\n\")\n",
        "building2.describe_building()"
      ],
      "metadata": {
        "colab": {
          "base_uri": "https://localhost:8080/"
        },
        "id": "oq545_qi4Pwu",
        "outputId": "370b2075-e834-4e41-ba7c-697aee122a9a"
      },
      "execution_count": null,
      "outputs": [
        {
          "output_type": "stream",
          "name": "stdout",
          "text": [
            "The Burj Khalifa building is located at 1 Sheikh Mohammed bin Rashid Blvd, Dubai, United Arab Emirates and has 163 floors.\n",
            "\n",
            "\n",
            "The Merdeka 118 building is located at 87 Jalan Hang Jebat 50150 Kuala Lumpur Federal Territory of Kuala Lumpur and has 118 floors.\n"
          ]
        }
      ]
    },
    {
      "cell_type": "code",
      "source": [
        "class Institute:\n",
        "    def __init__(self, name, address):\n",
        "        self.name = name\n",
        "        self.address = address\n",
        "\n",
        "    def describe_institute(self):\n",
        "        print(f\"The {self.name} building is located at {self.address}.\")\n",
        "\n",
        "# Institute Object\n",
        "main_institute = Institute(\"Stamford University\", \"350 5th Ave, New York, NY 10118\", 102)\n"
      ],
      "metadata": {
        "id": "uubtMyio5Kgq"
      },
      "execution_count": null,
      "outputs": []
    },
    {
      "cell_type": "code",
      "source": [],
      "metadata": {
        "id": "4D6hZX7Ix1a2"
      },
      "execution_count": null,
      "outputs": []
    },
    {
      "cell_type": "markdown",
      "source": [
        "## Step 7: Wrap it up\n",
        "\n",
        "### Here's the complete example of the Car class with attributes and methods, and how to create and use objects from it:\n",
        "\n",
        "```\n",
        "class Car:\n",
        "    def __init__(self, color, make):\n",
        "        self.color = color\n",
        "        self.make = make\n",
        "    \n",
        "    def start(self):\n",
        "        print(\"The car is starting!\")\n",
        "    \n",
        "    def stop(self):\n",
        "        print(\"The car is stopping!\")\n",
        "    \n",
        "    def accelerate(self):\n",
        "        print(\"The car is accelerating!\")\n",
        "    \n",
        "my_car = Car(\"red\", \"Honda\")\n",
        "print(my_car.color) # prints \"red\"\n",
        "my_car.start() # prints \"The car is starting!\"\n",
        "my_car.accelerate() # prints \"The car is accelerating!\"\n",
        "my_car.stop() # prints \"The car is stopping!\"\n",
        "```\n",
        "\n",
        "In this example, we've created a Car object called `my_car` with a red color and a Honda make. We've also called the start, accelerate, and stop methods on `my_car`, which each print out a message.\n",
        "\n"
      ],
      "metadata": {
        "id": "TxAT4T_1P8CN"
      }
    },
    {
      "cell_type": "code",
      "source": [
        "class Building:\n",
        "    def __init__(self, name, address, num_floors):\n",
        "        self.name = name\n",
        "        self.address = address\n",
        "        self.num_floors = num_floors\n",
        "\n",
        "    def describe_building(self):\n",
        "        print(f\"The {self.name} building is located at {self.address} and has {self.num_floors} floors.\")\n",
        "\n",
        "    def get_num_floors(self):\n",
        "        return self.num_floors\n",
        "\n",
        "    def set_num_floors(self, num_floors):\n",
        "        self.num_floors = num_floors\n",
        "        print(f\"The number of floors for {self.name} building has been updated to {self.num_floors}.\")\n",
        "\n",
        "# Creating objects\n",
        "building1 = Building(\"Empire State Building\", \"350 5th Ave, New York, NY 10118\", 102)\n",
        "building2 = Building(\"Burj Khalifa\", \"1 Sheikh Mohammed bin Rashid Blvd, Dubai, United Arab Emirates\", 163)\n",
        "\n",
        "# Accessing properties\n",
        "print(building1.name)\n",
        "print(building2.address)\n",
        "\n",
        "# Calling methods\n",
        "building1.describe_building()\n",
        "building2.describe_building()\n",
        "\n",
        "# Using getter and setter methods\n",
        "print(f\"The number of floors for {building1.name} building is {building1.get_num_floors()}.\")\n",
        "building1.set_num_floors(110)\n"
      ],
      "metadata": {
        "id": "4Akv0fkCP-d-",
        "colab": {
          "base_uri": "https://localhost:8080/"
        },
        "outputId": "5c2fcb34-eb1e-4ae0-8c3e-d1e281a97caa"
      },
      "execution_count": null,
      "outputs": [
        {
          "output_type": "stream",
          "name": "stdout",
          "text": [
            "Empire State Building\n",
            "1 Sheikh Mohammed bin Rashid Blvd, Dubai, United Arab Emirates\n",
            "The Empire State Building building is located at 350 5th Ave, New York, NY 10118 and has 102 floors.\n",
            "The Burj Khalifa building is located at 1 Sheikh Mohammed bin Rashid Blvd, Dubai, United Arab Emirates and has 163 floors.\n",
            "The number of floors for Empire State Building building is 102.\n",
            "The number of floors for Empire State Building building has been updated to 110.\n"
          ]
        }
      ]
    },
    {
      "cell_type": "code",
      "source": [
        "class codebook:\n",
        "    def __init__(self, brand, screen, cpu, keyboard, ram, generation):\n",
        "        self.brand = brand\n",
        "        self.screen = screen\n",
        "        self.cpu = cpu\n",
        "        self.keyboard = keyboard\n",
        "        self.ram = ram\n",
        "        self.generation = generation\n",
        "\n",
        "    def start_booting(self):\n",
        "        print(f\"To start your {self.brand}, please press P\")\n",
        "\n",
        "my_codebook = codebook(\"Pybook\", \"16 inch\", \"5 GHZ\", \"Black Lit\", \"64 GB\", \"21st\")\n",
        "\n",
        "print(my_codebook.brand)\n",
        "my_codebook.start_booting()\n"
      ],
      "metadata": {
        "colab": {
          "base_uri": "https://localhost:8080/"
        },
        "id": "wZhEVX_7voFq",
        "outputId": "a40daaf0-f7ee-4c08-dfe8-69a2797403b7"
      },
      "execution_count": null,
      "outputs": [
        {
          "output_type": "stream",
          "name": "stdout",
          "text": [
            "Pybook\n",
            "To start your Pybook, please press P\n"
          ]
        }
      ]
    },
    {
      "cell_type": "code",
      "source": [
        "class sohel_myself:\n",
        "    def __init__(self, name, age, live_in, num_of_child):\n",
        "        self.name = name\n",
        "        self.age = age\n",
        "        self.live_in = live_in\n",
        "        self.num_of_child = num_of_child\n",
        "\n",
        "\n",
        "    def describe_sohel(self):\n",
        "        print(f\"I am {self.name} and  {self.age} years old and lives in  {self.live_in} and have {self.num_of_child} child.\")\n",
        "sohel_myself_me = sohel_myself(\"Sohel\", 32,\"Dhaka\",2)\n",
        "print(sohel_myself_me.name)\n",
        "print(sohel_myself_me.age)\n",
        "print(sohel_myself_me.live_in)\n"
      ],
      "metadata": {
        "id": "3xNDSytiynQ-"
      },
      "execution_count": null,
      "outputs": []
    },
    {
      "cell_type": "markdown",
      "source": [
        "\n",
        "In this example, we have created a Building class with three attributes: `name`, `address`, and `num_floors`. We have also defined three methods: `describe_building`, `get_num_floors`, and `set_num_floors`.\n",
        "\n",
        "We then created two objects of the Building class: `building1` and `building2`. We accessed the properties of these objects using dot notation and called the methods using the object name and dot notation.\n",
        "\n",
        "Finally, we used the `get_num_floors` and `set_num_floors` methods to get and update the value of the `num_floors` attribute of `building1`."
      ],
      "metadata": {
        "id": "oL7yl_-n9FZW"
      }
    },
    {
      "cell_type": "code",
      "source": [
        "class toyota:\n",
        "    def _init_(self, name, model, engine):\n",
        "        self.name = name\n",
        "        self.model = model\n",
        "        self.engine = engine\n",
        "\n",
        "    def describe_car(self):\n",
        "        print(f\"The car is from {self.name}, the model name is {self.model} running a {self.engine} engine.\")\n",
        "\n",
        "    def get_name(self):\n",
        "        return self.name\n",
        "\n",
        "    def set_name(self, name):\n",
        "        self.name = name\n",
        "        print(f\"The name of the car has been updated to {self.name}.\")\n",
        "\n",
        "# Creating objects\n",
        "car1 = toyota(\"toyota\", \"GTR\", \"Stock\")\n",
        "\n",
        "# Accessing properties\n",
        "print(car1.name)\n",
        "\n",
        "# Calling methods\n",
        "car1.describe_car()\n",
        "\n",
        "# Using getter and setter methods\n",
        "print(f\"The name of the car is {car1.get_name()}.\")\n",
        "car1.set_name(\"nissan\")\n",
        "print(f\"The name of the car is now {car1.get_name()}.\")"
      ],
      "metadata": {
        "id": "FHr4b6-T9MwS",
        "colab": {
          "base_uri": "https://localhost:8080/",
          "height": 235
        },
        "outputId": "9a349be1-e4a3-46b7-f2e4-eab0d9905c24"
      },
      "execution_count": null,
      "outputs": [
        {
          "output_type": "error",
          "ename": "TypeError",
          "evalue": "ignored",
          "traceback": [
            "\u001b[0;31m---------------------------------------------------------------------------\u001b[0m",
            "\u001b[0;31mTypeError\u001b[0m                                 Traceback (most recent call last)",
            "\u001b[0;32m<ipython-input-5-13cc0b6d25f6>\u001b[0m in \u001b[0;36m<cell line: 18>\u001b[0;34m()\u001b[0m\n\u001b[1;32m     16\u001b[0m \u001b[0;34m\u001b[0m\u001b[0m\n\u001b[1;32m     17\u001b[0m \u001b[0;31m# Creating objects\u001b[0m\u001b[0;34m\u001b[0m\u001b[0;34m\u001b[0m\u001b[0m\n\u001b[0;32m---> 18\u001b[0;31m \u001b[0mcar1\u001b[0m \u001b[0;34m=\u001b[0m \u001b[0mtoyota\u001b[0m\u001b[0;34m(\u001b[0m\u001b[0;34m\"toyota\"\u001b[0m\u001b[0;34m,\u001b[0m \u001b[0;34m\"GTR\"\u001b[0m\u001b[0;34m,\u001b[0m \u001b[0;34m\"Stock\"\u001b[0m\u001b[0;34m)\u001b[0m\u001b[0;34m\u001b[0m\u001b[0;34m\u001b[0m\u001b[0m\n\u001b[0m\u001b[1;32m     19\u001b[0m \u001b[0;34m\u001b[0m\u001b[0m\n\u001b[1;32m     20\u001b[0m \u001b[0;31m# Accessing properties\u001b[0m\u001b[0;34m\u001b[0m\u001b[0;34m\u001b[0m\u001b[0m\n",
            "\u001b[0;31mTypeError\u001b[0m: toyota() takes no arguments"
          ]
        }
      ]
    },
    {
      "cell_type": "code",
      "source": [
        "# Labib\n",
        "class car:\n",
        "    def __init__(self, name, model, year):\n",
        "        self.name = name\n",
        "        self.model = model\n",
        "        self.year = year\n",
        "\n",
        "    def describe_car(self):\n",
        "        print(f\"the of the car is {self.name} its model is {self.model} and its year is {self.year}.\")\n",
        "\n",
        "    def get_year(self):\n",
        "        return self.year\n",
        "\n",
        "    def set_(self, year):\n",
        "        self.year = year\n",
        "\n",
        "    def get_name(self):\n",
        "        return self.name\n",
        "\n",
        "    def set_(self, name):\n",
        "        self.name = name\n",
        "\n",
        "    def get_model(self):\n",
        "        return self.model\n",
        "\n",
        "    def set_(self, model):\n",
        "        self.model = model\n",
        "\n",
        "        print(f\"the of the car is {self.name} its model is {self.model} and its year is {self.year}.\")\n",
        "\n",
        "\n",
        "car1 = car(\"toyota\", \"xcorolla\", \"2010\")\n",
        "\n",
        "print(car1.name)\n",
        "print(car1.model)\n",
        "print(car1.year)\n",
        "\n",
        "car1.describe_car()"
      ],
      "metadata": {
        "colab": {
          "base_uri": "https://localhost:8080/"
        },
        "id": "faVvcEYeqqQ0",
        "outputId": "4c9e12c3-20ba-42c0-ddbf-082d8985152d"
      },
      "execution_count": null,
      "outputs": [
        {
          "output_type": "stream",
          "name": "stdout",
          "text": [
            "toyota\n",
            "xcorolla\n",
            "2010\n",
            "the of the car is toyota its model is xcorolla and its year is 2010.\n"
          ]
        }
      ]
    },
    {
      "cell_type": "code",
      "source": [
        "# Ayan Shaha\n",
        "class shape:\n",
        "    def __init__(self,dim1,dim2):\n",
        "        self.dim1 = dim1\n",
        "        self.dim2 = dim2\n",
        "\n",
        "    def area(self):\n",
        "        print(\"I am area method of shape class\")\n",
        "\n",
        "\n",
        "class triangle(shape):\n",
        "    def area(self):\n",
        "        area = 0.5 * self.dim1 * self.dim2\n",
        "        print(\"area of triangle :\", area)\n",
        "\n",
        "\n",
        "class rectangle(shape):\n",
        "    def area(self):\n",
        "        area = self.dim1 * self.dim2\n",
        "        print(\"area of rectangle :\", area)\n",
        "\n",
        "\n",
        "t1 = triangle(20,30)\n",
        "t1.area()\n",
        "\n",
        "r1 = rectangle(20,30)\n",
        "r1.area()"
      ],
      "metadata": {
        "colab": {
          "base_uri": "https://localhost:8080/"
        },
        "id": "zdmZHhxGxs50",
        "outputId": "b54123c6-584e-4693-aec4-9784bb8f8834"
      },
      "execution_count": null,
      "outputs": [
        {
          "output_type": "stream",
          "name": "stdout",
          "text": [
            "area of triangle : 300.0\n",
            "area of rectangle : 600\n"
          ]
        }
      ]
    },
    {
      "cell_type": "code",
      "source": [
        "# Robin Jamal # SINGLE INHERITANCE\n",
        "class Car:\n",
        "    def __init__(self, name, color, model):\n",
        "        self.name = name\n",
        "        self.color = color\n",
        "        self.model = model\n",
        "\n",
        "class Restoration(Car):\n",
        "    def __init__(self, name, color, model, wheelSize):\n",
        "        super().__init__(name, color, model)\n",
        "        self.wheel_size = wheelSize\n",
        "\n",
        "modcar = Restoration(\"Audi\", \"Metalic Black\", 2017, 600)\n",
        "print(modcar.name)"
      ],
      "metadata": {
        "colab": {
          "base_uri": "https://localhost:8080/"
        },
        "id": "6Teokk-vx4Qc",
        "outputId": "26d84f0f-81a4-4108-e435-a250338fd148"
      },
      "execution_count": null,
      "outputs": [
        {
          "output_type": "stream",
          "name": "stdout",
          "text": [
            "Audi\n"
          ]
        }
      ]
    },
    {
      "cell_type": "code",
      "source": [
        "# Robin Jamal # Multiple INHERITANCE\n",
        "\n",
        "\n",
        "class Materials:\n",
        "    def __init__(self, shirts, pants, shoes):\n",
        "        self.shirts = shirts\n",
        "        self.pants = pants\n",
        "        self.shoes = shoes\n",
        "class Man(Materials):\n",
        "    def __init__(self, shirts, pants, shoes, watch):\n",
        "        super().__init__(shirts, pants, shoes)\n",
        "        self.watch = watch\n",
        "\n",
        "class Woman(Materials):\n",
        "        def __init__(self, Hijab, Shari, Makeups, Kamij):\n",
        "            super().__init__(shoes)\n",
        "            self.Hijab = Hijab\n",
        "            self.Shari = Shari\n",
        "            self.Makeups = Makeups\n",
        "            self.Kamij = Kamij\n",
        "\n",
        "person1 = Man(\"3 Sets\", \"3 Sets\", \"2 pairs\", 3)\n",
        "person2 = Woman(\"2 Sets\", \"5 Pices\", \"2 Set\", \"3 Sets\")\n",
        "\n",
        "data = vars(person1)"
      ],
      "metadata": {
        "colab": {
          "base_uri": "https://localhost:8080/",
          "height": 356
        },
        "id": "BzfcFA-zyGFz",
        "outputId": "23d79963-2986-4920-a70c-8c37b344aa02"
      },
      "execution_count": null,
      "outputs": [
        {
          "output_type": "error",
          "ename": "NameError",
          "evalue": "ignored",
          "traceback": [
            "\u001b[0;31m---------------------------------------------------------------------------\u001b[0m",
            "\u001b[0;31mNameError\u001b[0m                                 Traceback (most recent call last)",
            "\u001b[0;32m<ipython-input-3-a26a52c6c4b0>\u001b[0m in \u001b[0;36m<cell line: 20>\u001b[0;34m()\u001b[0m\n\u001b[1;32m     18\u001b[0m \u001b[0;34m\u001b[0m\u001b[0m\n\u001b[1;32m     19\u001b[0m \u001b[0mperson1\u001b[0m \u001b[0;34m=\u001b[0m \u001b[0mMan\u001b[0m\u001b[0;34m(\u001b[0m\u001b[0;34m\"3 Sets\"\u001b[0m\u001b[0;34m,\u001b[0m \u001b[0;34m\"3 Sets\"\u001b[0m\u001b[0;34m,\u001b[0m \u001b[0;34m\"2 pairs\"\u001b[0m\u001b[0;34m,\u001b[0m \u001b[0;36m3\u001b[0m\u001b[0;34m)\u001b[0m\u001b[0;34m\u001b[0m\u001b[0;34m\u001b[0m\u001b[0m\n\u001b[0;32m---> 20\u001b[0;31m \u001b[0mperson2\u001b[0m \u001b[0;34m=\u001b[0m \u001b[0mWoman\u001b[0m\u001b[0;34m(\u001b[0m\u001b[0;34m\"2 Sets\"\u001b[0m\u001b[0;34m,\u001b[0m \u001b[0;34m\"5 Pices\"\u001b[0m\u001b[0;34m,\u001b[0m \u001b[0;34m\"2 Set\"\u001b[0m\u001b[0;34m,\u001b[0m \u001b[0;34m\"3 Sets\"\u001b[0m\u001b[0;34m)\u001b[0m\u001b[0;34m\u001b[0m\u001b[0;34m\u001b[0m\u001b[0m\n\u001b[0m\u001b[1;32m     21\u001b[0m \u001b[0;34m\u001b[0m\u001b[0m\n\u001b[1;32m     22\u001b[0m \u001b[0mdata\u001b[0m \u001b[0;34m=\u001b[0m \u001b[0mvars\u001b[0m\u001b[0;34m(\u001b[0m\u001b[0mperson1\u001b[0m\u001b[0;34m)\u001b[0m\u001b[0;34m\u001b[0m\u001b[0;34m\u001b[0m\u001b[0m\n",
            "\u001b[0;32m<ipython-input-3-a26a52c6c4b0>\u001b[0m in \u001b[0;36m__init__\u001b[0;34m(self, Hijab, Shari, Makeups, Kamij)\u001b[0m\n\u001b[1;32m     11\u001b[0m \u001b[0;32mclass\u001b[0m \u001b[0mWoman\u001b[0m\u001b[0;34m(\u001b[0m\u001b[0mMaterials\u001b[0m\u001b[0;34m)\u001b[0m\u001b[0;34m:\u001b[0m\u001b[0;34m\u001b[0m\u001b[0;34m\u001b[0m\u001b[0m\n\u001b[1;32m     12\u001b[0m         \u001b[0;32mdef\u001b[0m \u001b[0m__init__\u001b[0m\u001b[0;34m(\u001b[0m\u001b[0mself\u001b[0m\u001b[0;34m,\u001b[0m \u001b[0mHijab\u001b[0m\u001b[0;34m,\u001b[0m \u001b[0mShari\u001b[0m\u001b[0;34m,\u001b[0m \u001b[0mMakeups\u001b[0m\u001b[0;34m,\u001b[0m \u001b[0mKamij\u001b[0m\u001b[0;34m)\u001b[0m\u001b[0;34m:\u001b[0m\u001b[0;34m\u001b[0m\u001b[0;34m\u001b[0m\u001b[0m\n\u001b[0;32m---> 13\u001b[0;31m             \u001b[0msuper\u001b[0m\u001b[0;34m(\u001b[0m\u001b[0;34m)\u001b[0m\u001b[0;34m.\u001b[0m\u001b[0m__init__\u001b[0m\u001b[0;34m(\u001b[0m\u001b[0mshoes\u001b[0m\u001b[0;34m)\u001b[0m\u001b[0;34m\u001b[0m\u001b[0;34m\u001b[0m\u001b[0m\n\u001b[0m\u001b[1;32m     14\u001b[0m             \u001b[0mself\u001b[0m\u001b[0;34m.\u001b[0m\u001b[0mHijab\u001b[0m \u001b[0;34m=\u001b[0m \u001b[0mHijab\u001b[0m\u001b[0;34m\u001b[0m\u001b[0;34m\u001b[0m\u001b[0m\n\u001b[1;32m     15\u001b[0m             \u001b[0mself\u001b[0m\u001b[0;34m.\u001b[0m\u001b[0mShari\u001b[0m \u001b[0;34m=\u001b[0m \u001b[0mShari\u001b[0m\u001b[0;34m\u001b[0m\u001b[0;34m\u001b[0m\u001b[0m\n",
            "\u001b[0;31mNameError\u001b[0m: name 'shoes' is not defined"
          ]
        }
      ]
    },
    {
      "cell_type": "markdown",
      "source": [
        "## **What is self in class?**\n",
        "\n",
        "In Python, `self` is a reference to the current instance of a class. It is used within a class to access its own attributes and methods.\n",
        "\n",
        "When you define a method inside a class, the first parameter of the method is always `self`. This parameter refers to the object that the method is being called on. You can use `self` to access and modify the state of the object.\n",
        "\n",
        "Here is an example of using `self` in a class:\n",
        "\n",
        "```\n",
        "class Person:\n",
        "    def __init__(self, name, age):\n",
        "        self.name = name\n",
        "        self.age = age\n",
        "\n",
        "    def greet(self):\n",
        "        print(f\"Hello, my name is {self.name} and I'm {self.age} years old.\")\n",
        "\n",
        "person = Person(\"Alice\", 25)\n",
        "person.greet()\n",
        "```\n",
        "\n",
        "Output:\n",
        "```\n",
        "Hello, my name is Alice and I'm 25 years old.\n",
        "```\n",
        "\n",
        "In this example, we define a class called `Person` with an initializer method that takes two parameters `name` and `age`. We use `self` to set the `name` and `age` attributes of the object. We also define a `greet` method that uses `self` to access the `name` and `age` attributes and print a greeting message. Finally, we create an instance of the `Person` class called `person`, and call its `greet` method using `person.greet()`.\n",
        "\n",
        "In summary, `self` is a reference to the current instance of a class, and is used within a class to access its own attributes and methods. It is a convention in Python to name the first parameter of a method `self`, but you can use any valid variable name for this parameter.\n"
      ],
      "metadata": {
        "id": "w0sVkr2pTSZT"
      }
    },
    {
      "cell_type": "code",
      "source": [],
      "metadata": {
        "id": "01hmfbLqTi5t"
      },
      "execution_count": null,
      "outputs": []
    },
    {
      "cell_type": "markdown",
      "source": [
        "# **Class in Machine Learning**\n",
        "\n",
        "### Let's consider a scenario where we want to build a machine learning model to classify images of animals into two categories: cats and dogs. To accomplish this, we will create a `Model` class that encapsulates the machine learning algorithm and data required for training and prediction.\n",
        "\n",
        "Here's the code:\n",
        "\n",
        "```\n",
        "import numpy as np\n",
        "\n",
        "class Model:\n",
        "    def __init__(self):\n",
        "        self.weights = None\n",
        "\n",
        "    def train(self, X, y):\n",
        "        # Implement the training algorithm here\n",
        "        self.weights = np.random.randn(X.shape[1])\n",
        "\n",
        "    def predict(self, X):\n",
        "        # Implement the prediction algorithm here\n",
        "        y_pred = np.dot(X, self.weights)\n",
        "        y_pred[y_pred >= 0.5] = 1\n",
        "        y_pred[y_pred < 0.5] = 0\n",
        "        return y_pred\n",
        "```\n",
        "\n",
        "In this example, we define a `Model` class that has three methods: `__init__`, `train`, and `predict`. The `__init__` method initializes the class variables, in this case, the `weights` that will be learned during the training phase. The `train` method trains the model given the input data `X` and labels `y`. The `predict` method takes a set of input data `X` and returns the predicted output labels.\n",
        "\n",
        "\n"
      ],
      "metadata": {
        "id": "MK1CPmEYEorm"
      }
    },
    {
      "cell_type": "code",
      "source": [],
      "metadata": {
        "id": "EL3a8sRpFDoz"
      },
      "execution_count": null,
      "outputs": []
    },
    {
      "cell_type": "markdown",
      "source": [
        "\n",
        "Let's assume that we have two datasets: `train_data` and `test_data`, each with `n` samples of images of animals with associated labels. We can use the `Model` class to train the model on the training data and then use the trained model to predict the labels of the test data.\n",
        "\n",
        "Here's an example of how to use the `Model` class:\n",
        "\n",
        "```\n",
        "# Define the model\n",
        "model = Model()\n",
        "\n",
        "# Train the model\n",
        "X_train = train_data[:, :-1]\n",
        "y_train = train_data[:, -1]\n",
        "model.train(X_train, y_train)\n",
        "\n",
        "# Predict on the test data\n",
        "X_test = test_data[:, :-1]\n",
        "y_test = test_data[:, -1]\n",
        "y_pred = model.predict(X_test)\n",
        "\n",
        "# Evaluate the model\n",
        "accuracy = np.mean(y_pred == y_test)\n",
        "print(f\"Accuracy: {accuracy}\")\n",
        "```\n",
        "\n",
        "In this example, we create an instance of the `Model` class called `model`. We then use the `train` method to train the model on the training data. We pass in the input features `X_train` and output labels `y_train`. Once the model is trained, we use the `predict` method to predict the labels of the test data. We pass in the input features `X_test`, and the output labels are stored in `y_pred`. Finally, we evaluate the performance of the model by comparing the predicted labels with the true labels and computing the accuracy."
      ],
      "metadata": {
        "id": "4nGqHfF1FEJT"
      }
    },
    {
      "cell_type": "markdown",
      "source": [
        "In summary, the `Model` class is an example of how to use classes and objects in machine learning. The class encapsulates the machine learning algorithm and the data required for training and prediction. By using classes and objects, we can create modular, reusable code that is easier to maintain and extend."
      ],
      "metadata": {
        "id": "VDyKaB50FIkz"
      }
    },
    {
      "cell_type": "code",
      "source": [],
      "metadata": {
        "id": "UUD5zKMlFIBL"
      },
      "execution_count": null,
      "outputs": []
    },
    {
      "cell_type": "markdown",
      "source": [
        "## **1. Dataset Class:**\n",
        "\n",
        "### `Dataset` Class: In machine learning, we often work with large datasets of training examples. To make it easier to work with these datasets, we can create a `Dataset` class that encapsulates the data and provides methods for accessing and manipulating it. For example, the `Dataset` class could have methods for loading data from disk, splitting it into training and validation sets, and normalizing the data. We can then create objects of this class for each dataset we work with.\n",
        "\n",
        "Here's an example:\n",
        "\n",
        "```python\n",
        "class Dataset:\n",
        "    def __init__(self, data, labels):\n",
        "        self.data = data\n",
        "        self.labels = labels\n",
        "\n",
        "    def load_from_disk(self, path):\n",
        "        # Load data and labels from disk\n",
        "        self.data = ...\n",
        "        self.labels = ...\n",
        "\n",
        "    def split_data(self, split_ratio):\n",
        "        # Split data into training and validation sets\n",
        "        self.train_data = ...\n",
        "        self.train_labels = ...\n",
        "        self.val_data = ...\n",
        "        self.val_labels = ...\n",
        "\n",
        "    def normalize_data(self):\n",
        "        # Normalize data\n",
        "        self.data = ...\n",
        "\n",
        "# Create a dataset object and load data from disk\n",
        "dataset = Dataset()\n",
        "dataset.load_from_disk('path/to/data')\n",
        "\n",
        "# Split data into training and validation sets\n",
        "dataset.split_data(0.8)\n",
        "\n",
        "# Normalize the data\n",
        "dataset.normalize_data()\n",
        "```\n"
      ],
      "metadata": {
        "id": "DK80_PCeFxls"
      }
    },
    {
      "cell_type": "code",
      "source": [],
      "metadata": {
        "id": "8gm6-xcgF4YD"
      },
      "execution_count": null,
      "outputs": []
    },
    {
      "cell_type": "code",
      "source": [],
      "metadata": {
        "id": "3klVWXOkF8jL"
      },
      "execution_count": null,
      "outputs": []
    },
    {
      "cell_type": "markdown",
      "source": [
        "\n",
        "## **2. Model Class:**\n",
        "\n",
        "\n",
        "### `Model` Class: In machine learning, we often train models on datasets to make predictions on new data. To make it easier to work with these models, we can create a `Model` class that encapsulates the model and provides methods for training and making predictions. We can then create objects of this class for each model we work with.\n",
        "\n",
        "Here's an example:\n",
        "\n",
        "```python\n",
        "class Model:\n",
        "    def __init__(self):\n",
        "        self.weights = None\n",
        "        self.bias = None\n",
        "\n",
        "    def train(self, data, labels):\n",
        "        # Train the model on the data\n",
        "        self.weights = ...\n",
        "        self.bias = ...\n",
        "\n",
        "    def predict(self, data):\n",
        "        # Make predictions on new data\n",
        "        predictions = ...\n",
        "        return predictions\n",
        "\n",
        "# Create a model object\n",
        "model = Model()\n",
        "\n",
        "# Train the model on a dataset\n",
        "model.train(dataset.data, dataset.labels)\n",
        "\n",
        "# Make predictions on new data\n",
        "predictions = model.predict(new_data)\n",
        "```\n",
        "\n",
        "In this example, we create a `Model` class that has attributes for the weights and biases of the model. We define methods for training the model on a dataset and making predictions on new data. We can then create objects of this class for each model we want to train and use.\n",
        "\n",
        "In summary, classes and objects are widely used in machine learning to encapsulate data and models and provide a more modular and organized code structure. This allows us to work with large datasets and models more easily and efficiently."
      ],
      "metadata": {
        "id": "36g-5m3jF3uF"
      }
    },
    {
      "cell_type": "code",
      "source": [],
      "metadata": {
        "id": "FjuCyhwWF68D"
      },
      "execution_count": null,
      "outputs": []
    },
    {
      "cell_type": "code",
      "source": [],
      "metadata": {
        "id": "HLOkH1rGF7wD"
      },
      "execution_count": null,
      "outputs": []
    },
    {
      "cell_type": "markdown",
      "source": [
        "\n",
        "## **3. Creating a Classifier class:**\n",
        "\n",
        "### Creating a `Classifier class`: In machine learning, classifiers are used to predict the category or class of an input. We can create a `Classifier` class that can be used to train and predict using different machine learning algorithms. The class can have methods such as `train()` to train the model, `predict()` to predict the class of new data, and `evaluate()` to evaluate the performance of the classifier on a test dataset.\n",
        "\n",
        "Here's an example of what the `Classifier` class might look like in Python:\n",
        "\n",
        "```\n",
        "class Classifier:\n",
        "    def __init__(self, model):\n",
        "        self.model = model\n",
        "\n",
        "    def train(self, X_train, y_train):\n",
        "        self.model.fit(X_train, y_train)\n",
        "\n",
        "    def predict(self, X_test):\n",
        "        return self.model.predict(X_test)\n",
        "\n",
        "    def evaluate(self, X_test, y_test):\n",
        "        return self.model.score(X_test, y_test)\n",
        "```\n",
        "\n",
        "In this example, the `Classifier` class takes a machine learning model as an argument in its constructor. The `train()` method is used to train the model on a training dataset, the `predict()` method is used to predict the class of new data using the trained model, and the `evaluate()` method is used to evaluate the performance of the classifier on a test dataset.\n",
        "\n",
        "\n"
      ],
      "metadata": {
        "id": "LxJonkjPGjGk"
      }
    },
    {
      "cell_type": "code",
      "source": [],
      "metadata": {
        "id": "KyAtNl3MHR7V"
      },
      "execution_count": null,
      "outputs": []
    },
    {
      "cell_type": "code",
      "source": [],
      "metadata": {
        "id": "5lnAJ5ChHR3K"
      },
      "execution_count": null,
      "outputs": []
    },
    {
      "cell_type": "code",
      "source": [],
      "metadata": {
        "id": "PS7pnX9GHRd7"
      },
      "execution_count": null,
      "outputs": []
    },
    {
      "cell_type": "markdown",
      "source": [
        "#  **Python Inheritance**\n",
        "\n",
        "Inheritance is a key feature of object-oriented programming that allows a class to inherit properties and methods from another class. In Python, we can create a new class by deriving it from an existing class using the inheritance mechanism."
      ],
      "metadata": {
        "id": "ovtSYiwgUMOa"
      }
    },
    {
      "cell_type": "markdown",
      "source": [
        "To define a derived class, we specify the base class inside parentheses after the derived class name. The derived class inherits all the attributes and methods of the base class.\n",
        "\n",
        "Here is an example of using inheritance in Python:\n",
        "\n",
        "```\n",
        "class Animal:\n",
        "    def __init__(self, name):\n",
        "        self.name = name\n",
        "\n",
        "    def speak(self):\n",
        "        raise NotImplementedError(\"Subclass must implement abstract method\")\n",
        "\n",
        "class Dog(Animal):\n",
        "    def speak(self):\n",
        "        return \"Bhao Bhao!\"\n",
        "\n",
        "class Cat(Animal):\n",
        "    def speak(self):\n",
        "        return \"Meow Meow!\"\n",
        "\n",
        "dog = Dog(\"Butch\")\n",
        "print(dog.name)\n",
        "print(dog.speak())\n",
        "\n",
        "cat = Cat(\"Tom\")\n",
        "print(cat.name)\n",
        "print(cat.speak())\n",
        "```\n",
        "\n",
        "Output:\n",
        "```\n",
        "Butch\n",
        "Bhao Bhao!\n",
        "Tom\n",
        "Meow Meow!\n",
        "```\n",
        "\n",
        "In this example, we define a base class called `Animal` with an initializer method that takes a `name` parameter, and a `speak` method that raises a `NotImplementedError` because it is an abstract method that needs to be implemented by the derived classes. We then define two derived classes called `Dog` and `Cat` that inherit from the `Animal` class, and implement their own `speak` methods.\n"
      ],
      "metadata": {
        "id": "AeXHQ9bDUZKT"
      }
    },
    {
      "cell_type": "code",
      "source": [
        "# Base class Bird\n",
        "class Bird:\n",
        "    def __init__(self, species, color):\n",
        "        self.species = species\n",
        "        self.color = color\n",
        "\n",
        "    def make_sound(self):\n",
        "        return \"Chirp!\"\n",
        "\n",
        "# Subclass FlyingBird inheriting from Bird\n",
        "class FlyingBird(Bird):\n",
        "    def __init__(self, species, color, wingspan):\n",
        "        super().__init__(species, color)\n",
        "        self.wingspan = wingspan\n",
        "\n",
        "    def make_sound(self):\n",
        "        return \"Flap flap! Chirp!\"\n",
        "\n",
        "    def fly(self):\n",
        "        return f\"{self.species} is flying with a wingspan of {self.wingspan} cm.\"\n",
        "\n",
        "# Subclass NonFlyingBird inheriting from Bird\n",
        "class NonFlyingBird(Bird):\n",
        "    def __init__(self, species, color, can_swim):\n",
        "        super().__init__(species, color)\n",
        "        self.can_swim = can_swim\n",
        "\n",
        "    def make_sound(self):\n",
        "        return \"Chirp chirp!\"\n",
        "\n",
        "    def swim(self):\n",
        "        return f\"{self.species} is swimming in the water.\"\n",
        "\n",
        "# Instances of FlyingBird\n",
        "sparrow = FlyingBird(\"House Sparrow\", \"Brown\", 15)\n",
        "pigeon = FlyingBird(\"Rock Pigeon\", \"Grey\", 20)\n",
        "\n",
        "# Instances of NonFlyingBird\n",
        "penguin = NonFlyingBird(\"Emperor Penguin\", \"Black and White\", True)\n",
        "ostrich = NonFlyingBird(\"Ostrich\", \"Brown\", False)\n",
        "\n",
        "# Demonstrate inheritance and methods\n",
        "print(sparrow.make_sound())  # Output: \"Flap flap! Chirp!\"\n",
        "print(sparrow.fly())  # Output: \"House Sparrow is flying with a wingspan of 15 cm.\"\n",
        "print(penguin.make_sound())  # Output: \"Chirp chirp!\"\n",
        "print(penguin.swim())  # Output: \"Emperor Penguin is swimming in the water.\"\n"
      ],
      "metadata": {
        "id": "ltmGXgUuYO3_"
      },
      "execution_count": null,
      "outputs": []
    },
    {
      "cell_type": "markdown",
      "source": [
        "\n",
        "We create an instance of the `Dog` class called `dog` with the name \"Butch\", and an instance of the `Cat` class called `cat` with the name \"Tom\". We then call the `name` attribute and the `speak` method of each instance.\n",
        "\n",
        "As you can see from the output, the `Dog` instance returns \"Bhao Bhao!\" when its `speak` method is called, and the `Cat` instance returns \"Meow Meow!\" when its `speak` method is called.\n",
        "\n",
        "In summary, inheritance is a mechanism in Python that allows a class to inherit properties and methods from another class. A derived class can override methods of the base class or implement its own methods. Inheritance helps in code reusability, extensibility, and modularity."
      ],
      "metadata": {
        "id": "I6-xF6LFUmfJ"
      }
    },
    {
      "cell_type": "code",
      "source": [],
      "metadata": {
        "id": "Y82cY3aTUNWR"
      },
      "execution_count": null,
      "outputs": []
    },
    {
      "cell_type": "markdown",
      "source": [
        "In Python, there are mainly two types of inheritance: single inheritance and multiple inheritance.\n",
        "\n"
      ],
      "metadata": {
        "id": "MVuCSTy4xqZv"
      }
    },
    {
      "cell_type": "markdown",
      "source": [
        "## Single Inheritance\n",
        "Single inheritance is when a class inherits properties and methods from only one parent class. It creates a parent-child relationship between two classes. In other words, a derived class extends a base class. Let's see an example related to a family where `Person` is the base class and `Employee` is the derived class:\n",
        "\n",
        "```\n",
        "class Person:\n",
        "    def __init__(self, name, age):\n",
        "        self.name = name\n",
        "        self.age = age\n",
        "\n",
        "class Employee(Person):\n",
        "    def __init__(self, name, age, salary):\n",
        "        super().__init__(name, age)\n",
        "        self.salary = salary\n",
        "\n",
        "emp = Employee(\"John\", 30, 50000)\n",
        "print(emp.name)\n",
        "print(emp.age)\n",
        "print(emp.salary)\n",
        "```\n",
        "\n",
        "Output:\n",
        "```\n",
        "John\n",
        "30\n",
        "50000\n",
        "```\n",
        "\n",
        "In this example, we have a base class called `Person` that has `name` and `age` attributes. We define a derived class called `Employee` that extends the `Person` class and adds a `salary` attribute. The `__init__` method of the `Employee` class calls the `__init__` method of the `Person` class using the `super()` function, and then sets the `salary` attribute.\n"
      ],
      "metadata": {
        "id": "RfVt4bIixyyn"
      }
    },
    {
      "cell_type": "code",
      "source": [
        "class Person:\n",
        "    def __init__(self, name, age):\n",
        "        self.name = name\n",
        "        self.age = age\n",
        "\n",
        "class Employee1(Person):\n",
        "    def __init__(self, name, age, salary):\n",
        "        super().__init__(name, age)\n",
        "        self.salary = salary\n",
        "\n",
        "class Employee2(Person):\n",
        "    def __init__(self, name, age, salary):\n",
        "        super().__init__(name, age)\n",
        "        self.salary = salary\n",
        "\n",
        "\n",
        "emp1 = Employee1(\"John\", 30, 50000)\n",
        "emp2 = Employee2(\"Tahsan\", 50, 150000)\n",
        "\n",
        "emp1 = Employee1(\"John\", 30, 50000)\n",
        "emp2 = Employee2(\"Tahsan\", 50, 150000)\n",
        "\n",
        "data = vars(emp1)\n",
        "print(*data.values(), end=' ')\n",
        "# child.can_sing()\n",
        "# child.can_dance()\n",
        "\n",
        "\n",
        "# print(emp1.name)\n",
        "# print(emp2.age)\n",
        "# print(emp2.salary)"
      ],
      "metadata": {
        "id": "7muJ81rjyBnv",
        "colab": {
          "base_uri": "https://localhost:8080/"
        },
        "outputId": "21994382-2075-4035-857c-2fe8da4c481a"
      },
      "execution_count": null,
      "outputs": [
        {
          "output_type": "stream",
          "name": "stdout",
          "text": [
            "John 30 50000 "
          ]
        }
      ]
    },
    {
      "cell_type": "code",
      "source": [],
      "metadata": {
        "id": "jMpQCej5yEfX"
      },
      "execution_count": null,
      "outputs": []
    },
    {
      "cell_type": "code",
      "source": [],
      "metadata": {
        "id": "aGQpaNb_yEWf"
      },
      "execution_count": null,
      "outputs": []
    },
    {
      "cell_type": "markdown",
      "source": [
        "\n",
        "## Multiple Inheritance\n",
        "Multiple inheritance is when a class inherits properties and methods from more than one parent class. It creates a diamond-shaped inheritance hierarchy. In other words, a derived class extends two or more base classes. Let's see an example related to a family where `Father` and `Mother` are the base classes and `Child` is the derived class:\n",
        "\n",
        "```\n",
        "class Father:\n",
        "    def __init__(self, father_name):\n",
        "        self.father_name = father_name\n",
        "\n",
        "    def can_sing(self):\n",
        "        print(f\"{self.father_name} can sing\")\n",
        "\n",
        "class Mother:\n",
        "    def __init__(self, mother_name):\n",
        "        self.mother_name = mother_name\n",
        "\n",
        "    def can_dance(self):\n",
        "        print(f\"{self.mother_name} can dance\")\n",
        "\n",
        "class Child(Father, Mother):\n",
        "    def __init__(self, name, father_name, mother_name):\n",
        "        self.name = name\n",
        "        Father.__init__(self, father_name)\n",
        "        Mother.__init__(self, mother_name)\n",
        "\n",
        "child = Child(\"Alice\", \"Bob\", \"Eve\")\n",
        "print(child.name)\n",
        "print(child.father_name)\n",
        "print(child.mother_name)\n",
        "child.can_sing()\n",
        "child.can_dance()\n",
        "```\n",
        "\n",
        "Output:\n",
        "```\n",
        "Alice\n",
        "Bob\n",
        "Eve\n",
        "Bob can sing\n",
        "Eve can dance\n",
        "```\n",
        "\n",
        "In this example, we have two base classes called `Father` and `Mother` that have their own attributes and methods. We define a derived class called `Child` that extends both `Father` and `Mother` classes and inherits their attributes and methods. The `__init__` method of the `Child` class calls the `__init__` method of both the `Father` and `Mother` classes to initialize their attributes. The `Child` class can access the methods of both the `Father` and `Mother` classes.\n",
        "\n"
      ],
      "metadata": {
        "id": "cptKlkprx5on"
      }
    },
    {
      "cell_type": "code",
      "source": [
        "class Father:\n",
        "    def __init__(self, father_name):\n",
        "        self.father_name = father_name\n",
        "\n",
        "    def can_sing(self):\n",
        "        print(f\"{self.father_name} can sing\")\n",
        "\n",
        "\n",
        "class Child(Father):\n",
        "    def __init__(self, name, father_name):\n",
        "        self.name = name\n",
        "        Father.__init__(self, father_name)\n",
        "        # Mother.__init__(self, mother_name)\n",
        "\n",
        "child = Child(\"Alice\", \"Bob\")\n",
        "print(child.name)\n",
        "print(child.father_name)\n",
        "# print(child.mother_name)\n",
        "child.can_sing()\n",
        "# child.can_dance()"
      ],
      "metadata": {
        "id": "G1vFZ98-yCrX"
      },
      "execution_count": null,
      "outputs": []
    },
    {
      "cell_type": "code",
      "source": [
        "sing_1 = Father(\"Jhon\")\n",
        "\n",
        "print(sing_1.can_sing())"
      ],
      "metadata": {
        "colab": {
          "base_uri": "https://localhost:8080/"
        },
        "id": "AEPQcf5MbYD9",
        "outputId": "714e61dd-5b82-4fd2-d6f5-a3f82593eb86"
      },
      "execution_count": null,
      "outputs": [
        {
          "output_type": "stream",
          "name": "stdout",
          "text": [
            "Jhon can sing\n",
            "None\n"
          ]
        }
      ]
    },
    {
      "cell_type": "code",
      "source": [
        "class Father:\n",
        "    def __init__(self, father_name):\n",
        "        self.father_name = father_name\n",
        "\n",
        "    def can_sing(self):\n",
        "        print(f\"{self.father_name} can sing\")\n",
        "\n",
        "class Mother:\n",
        "    def __init__(self, mother_name):\n",
        "        self.mother_name = mother_name\n",
        "\n",
        "    def can_dance(self):\n",
        "        print(f\"{self.mother_name} can dance\")\n",
        "\n",
        "class Child(Father, Mother):\n",
        "    def __init__(self, name, father_name, mother_name):\n",
        "        self.name = name\n",
        "        Father.__init__(self, father_name)\n",
        "        Mother.__init__(self, mother_name)\n",
        "\n",
        "child = Child(\"Alice\", \"Bob\", \"Eve\")\n",
        "data = vars(child)\n",
        "print(*data.values(), end=' ')\n",
        "# child.can_sing()\n",
        "# child.can_dance()\n"
      ],
      "metadata": {
        "colab": {
          "base_uri": "https://localhost:8080/"
        },
        "id": "f3E2I-YmDTwy",
        "outputId": "dfbea8ca-8b28-485c-a41e-95804b8cbdc9"
      },
      "execution_count": null,
      "outputs": [
        {
          "output_type": "stream",
          "name": "stdout",
          "text": [
            "Alice Bob Eve "
          ]
        }
      ]
    },
    {
      "cell_type": "code",
      "source": [
        "class Child(Father):\n",
        "    def __init__(self, name, father_name):\n",
        "        self.name = name\n",
        "        Father.__init__(self, father_name)\n",
        "        Mother.__init__(self, mother_name)\n",
        "\n",
        "\n",
        "class Mother:\n",
        "    def __init__(self, mother_name):\n",
        "        self.mother_name = mother_name\n",
        "\n",
        "    def can_dance(self):\n",
        "        print(f\"{self.mother_name} can dance\")\n",
        "\n",
        "sing_2 = Mother(\"Jenny\")\n",
        "\n",
        "print(sing_2.can_dance())"
      ],
      "metadata": {
        "id": "zzI6c9aQyF9I",
        "colab": {
          "base_uri": "https://localhost:8080/"
        },
        "outputId": "ff3126da-1859-4f0e-c9e9-c6f8c57c384e"
      },
      "execution_count": null,
      "outputs": [
        {
          "output_type": "stream",
          "name": "stdout",
          "text": [
            "Jenny can dance\n",
            "None\n"
          ]
        }
      ]
    },
    {
      "cell_type": "code",
      "source": [],
      "metadata": {
        "id": "WU0I5Pi_yF5_"
      },
      "execution_count": null,
      "outputs": []
    },
    {
      "cell_type": "code",
      "source": [
        "child = Child(\"Alice\", \"Bob\")\n",
        "print(child.name)\n",
        "print(child.father_name)\n",
        "# print(child.mother_name)\n",
        "child.can_sing()\n",
        "# child.can_dance()"
      ],
      "metadata": {
        "colab": {
          "base_uri": "https://localhost:8080/"
        },
        "id": "VmKjKP7LbJEW",
        "outputId": "61c0e0b6-0be0-46c5-fc1f-e9a47fe58a2d"
      },
      "execution_count": null,
      "outputs": [
        {
          "output_type": "stream",
          "name": "stdout",
          "text": [
            "Alice\n",
            "Bob\n",
            "Bob can sing\n"
          ]
        }
      ]
    },
    {
      "cell_type": "markdown",
      "source": [
        "## Summary:\n",
        "\n",
        "In summary, single inheritance is when a class inherits properties and methods from only one parent class, while multiple inheritance is when a class inherits properties and methods from more than one parent class. Both types of inheritance help in code reusability, extensibility, and modularity."
      ],
      "metadata": {
        "id": "UjtETuhqx87X"
      }
    },
    {
      "cell_type": "markdown",
      "source": [
        "## Multi-level Inheritance\n",
        "\n",
        "Let's consider a scenario where we have three classes: `Animal` is the base class, `Bird` is the first derived class, and `Penguin` is the second derived class. The `Animal` class has a method called `eat()` that prints \"I am eating\" and a property called `legs` that is set to 4. The `Bird` class extends the `Animal` class and adds a method called `fly()` that prints \"I am flying\" and a property called `wings` that is set to 2. Finally, the `Penguin` class extends the `Bird` class and adds a method called `swim()` that prints \"I am swimming\". The `Penguin` class does not have any additional properties.\n",
        "\n",
        "Here's the code:\n",
        "\n",
        "```\n",
        "class Animal:\n",
        "    def __init__(self):\n",
        "        self.legs = 4\n",
        "\n",
        "    def eat(self):\n",
        "        print(\"I am eating\")\n",
        "\n",
        "class Bird(Animal):\n",
        "    def __init__(self):\n",
        "        super().__init__()\n",
        "        self.wings = 2\n",
        "\n",
        "    def fly(self):\n",
        "        print(\"I am flying\")\n",
        "\n",
        "class Penguin(Bird):\n",
        "    def swim(self):\n",
        "        print(\"I am swimming\")\n",
        "\n",
        "penguin = Penguin()\n",
        "print(f\"Legs: {penguin.legs}\")\n",
        "print(f\"Wings: {penguin.wings}\")\n",
        "penguin.eat()\n",
        "penguin.fly()\n",
        "penguin.swim()\n",
        "```\n",
        "\n",
        "Output:\n",
        "```\n",
        "Legs: 4\n",
        "Wings: 2\n",
        "I am eating\n",
        "I am flying\n",
        "I am swimming\n",
        "```\n",
        "\n",
        "In this example, we have a base class called `Animal` that has a property called `legs` and a method called `eat`. We define a derived class called `Bird` that extends the `Animal` class and adds a property called `wings` and a method called `fly`. Finally, we define another derived class called `Penguin` that extends the `Bird` class and adds a method called `swim`.\n",
        "\n",
        "The `Penguin` class can access the properties and methods of both the `Bird` and `Animal` classes, and the `Bird` class can access the properties and methods of the `Animal` class. This creates a multi-level inheritance structure that allows for code reusability and extensibility.\n",
        "\n",
        "In summary, multi-level inheritance is a powerful feature of object-oriented programming that allows you to create a hierarchy of classes, with each class inheriting properties and methods from its parent classes. This creates a more organized and modular code structure that is easier to maintain and extend."
      ],
      "metadata": {
        "id": "se5FDz1Tyzqe"
      }
    },
    {
      "cell_type": "code",
      "source": [],
      "metadata": {
        "id": "6lXpCiOPy8tm"
      },
      "execution_count": null,
      "outputs": []
    },
    {
      "cell_type": "code",
      "source": [],
      "metadata": {
        "id": "oP2Fl0_oy8Ex"
      },
      "execution_count": null,
      "outputs": []
    },
    {
      "cell_type": "markdown",
      "source": [
        "# **How to create Functions?**"
      ],
      "metadata": {
        "id": "XtmQjI4R9dtN"
      }
    },
    {
      "cell_type": "markdown",
      "source": [
        "## Step 1: Define the Function\n",
        "\n",
        "To create a function, we need to define its name, input parameters (if any), and output (if any). Here's an example of a simple function in Python that takes two input parameters (`x` and `y`) and returns their sum:\n",
        "\n",
        "```\n",
        "def add_numbers(x, y):\n",
        "    return x + y\n",
        "```\n",
        "\n",
        "In this example, we've defined a function called `add_numbers` that takes two input parameters (`x` and `y`). The function body contains a single statement that adds `x` and `y` together and returns the result.\n"
      ],
      "metadata": {
        "id": "R2ZiQEea_jAd"
      }
    },
    {
      "cell_type": "code",
      "source": [],
      "metadata": {
        "id": "Ur_DOEfvOVHO"
      },
      "execution_count": null,
      "outputs": []
    },
    {
      "cell_type": "markdown",
      "source": [
        "\n",
        "## Step 2: Call the Function\n",
        "Once we've defined our function, we can call it from other parts of our program. To call a function, we need to use its name followed by parentheses and any required input parameters.\n",
        "\n",
        "For example, to call the `add_numbers` function with input parameters 3 and 5, we would do this:\n",
        "\n",
        "```\n",
        "result = add_numbers(3, 5)\n",
        "print(result)\n",
        "```\n",
        "\n",
        "This would output `8`, which is the result of adding 3 and 5.\n",
        "\n"
      ],
      "metadata": {
        "id": "98YWQetd9hH0"
      }
    },
    {
      "cell_type": "code",
      "source": [],
      "metadata": {
        "id": "_3uNd6DtObt7"
      },
      "execution_count": null,
      "outputs": []
    },
    {
      "cell_type": "markdown",
      "source": [
        "## Step 3: Pass Arguments to Functions\n",
        "Functions can take input parameters (also known as arguments or parameters) to perform their tasks. These arguments can be passed to the function when it is called.\n",
        "\n",
        "For example, here's a function in Python that takes a single input parameter (`name`) and prints out a greeting:\n",
        "\n",
        "```\n",
        "def greet(name):\n",
        "    print(f\"Hello, {name}!\")\n",
        "```\n",
        "\n",
        "To call this function with an argument of \"Alice\", we would do this:\n",
        "\n",
        "```\n",
        "greet(\"Alice\")\n",
        "```\n",
        "\n",
        "This would output `Hello, Alice!`.\n",
        "\n"
      ],
      "metadata": {
        "id": "vBl9Zat8OcWT"
      }
    },
    {
      "cell_type": "code",
      "source": [],
      "metadata": {
        "id": "Cv3SjqrFOrQC"
      },
      "execution_count": null,
      "outputs": []
    },
    {
      "cell_type": "markdown",
      "source": [
        "\n",
        "## Step 4: Return Values from Functions\n",
        "Functions can also return output values using the `return` statement. This allows us to use the result of a function in other parts of our program.\n",
        "\n",
        "For example, here's a function in Python that takes a single input parameter (`name`) and returns a greeting message:\n",
        "\n",
        "```\n",
        "def get_greeting(name):\n",
        "    return f\"Hello, {name}!\"\n",
        "```\n",
        "\n",
        "To call this function with an argument of \"Bob\" and store the result in a variable, we would do this:\n",
        "\n",
        "```\n",
        "greeting = get_greeting(\"Bob\")\n",
        "print(greeting)\n",
        "```\n",
        "\n",
        "This would output `Hello, Bob!`.\n"
      ],
      "metadata": {
        "id": "rqthzu4yOmMr"
      }
    },
    {
      "cell_type": "code",
      "source": [],
      "metadata": {
        "id": "m0grS_97Onsb"
      },
      "execution_count": null,
      "outputs": []
    },
    {
      "cell_type": "markdown",
      "source": [
        "## Step 5: Add Default Parameter Values\n",
        "we can also add default values to function parameters, which are used if no argument is passed for that parameter. This can be useful to make certain parameters optional.\n",
        "\n",
        "For example, here's a function in Python that takes two input parameters (`x` and `y`) and multiplies them together. The second parameter (`y`) has a default value of 1, so if it is not passed when the function is called, it will default to 1:\n",
        "\n",
        "```\n",
        "def multiply_numbers(x, y=1):\n",
        "    return x * y\n",
        "```\n",
        "\n",
        "To call this function with only one argument (i.e., `x`), the default value for `y` will be used:\n",
        "\n",
        "```\n",
        "result = multiply_numbers(5)\n",
        "print(result) # prints 5 (since 5 * 1 = 5)\n",
        "```\n",
        "\n",
        "And to call this function with both arguments, we would do this:\n",
        "\n",
        "```\n",
        "result = multiply_numbers(3, 4)\n",
        "print(result) # prints 12 (since 3 * 4 = 12)\n",
        "```\n",
        "\n"
      ],
      "metadata": {
        "id": "-HQefovCOjMc"
      }
    },
    {
      "cell_type": "code",
      "source": [],
      "metadata": {
        "id": "CcwD9ms4OvMj"
      },
      "execution_count": null,
      "outputs": []
    },
    {
      "cell_type": "markdown",
      "source": [
        "# **Overloading vs Overriding**\n",
        "\n",
        "Overloading and overriding are two different concepts in object-oriented programming. Overloading refers to having multiple methods with the same name but different parameters in a single class, while overriding refers to modifying the behavior of an inherited method in a subclass.\n"
      ],
      "metadata": {
        "id": "vYoQSvBdPME1"
      }
    },
    {
      "cell_type": "markdown",
      "source": [
        "## Overloading:\n",
        "In some programming languages such as Java, we can define multiple methods with the same name but different parameters. This is known as method overloading. The compiler distinguishes between the different methods based on the number, type, and order of the parameters.\n",
        "\n",
        "Here's an example of method overloading in Python:\n",
        "\n",
        "```\n",
        "class Calculator:\n",
        "    def add(self, x, y):\n",
        "        return x + y\n",
        "\n",
        "    def add(self, x, y, z):\n",
        "        return x + y + z\n",
        "\n",
        "# Create an object of the Calculator class\n",
        "calc = Calculator()\n",
        "\n",
        "# Call the add method with two arguments\n",
        "print(calc.add(1, 2)) # Output: 3\n",
        "\n",
        "# Call the add method with three arguments\n",
        "print(calc.add(1, 2, 3)) # Output: 6\n",
        "```\n",
        "\n",
        "In this example, we have defined two methods with the same name (`add`) in the `Calculator` class, but with different numbers of parameters. When we call the `add` method with two arguments, the first `add` method is called, and when we call it with three arguments, the second `add` method is called.\n",
        "\n"
      ],
      "metadata": {
        "id": "hp7oKp7EPcQx"
      }
    },
    {
      "cell_type": "code",
      "source": [],
      "metadata": {
        "id": "WTzQjKQWPm3_"
      },
      "execution_count": null,
      "outputs": []
    },
    {
      "cell_type": "markdown",
      "source": [
        "## Overriding:\n",
        "In object-oriented programming, inheritance allows us to create a new class (the subclass) from an existing class (the superclass). The subclass inherits all the properties and methods of the superclass, and it can also override (i.e., modify) the behavior of some of its inherited methods. This is known as method overriding.\n",
        "\n",
        "Here's an example of method overriding in Python:\n",
        "\n",
        "```\n",
        "class Animal:\n",
        "    def make_sound(self):\n",
        "        print(\"The animal makes a sound.\")\n",
        "\n",
        "class Dog(Animal):\n",
        "    def make_sound(self):\n",
        "        print(\"The dog barks.\")\n",
        "\n",
        "# Create an object of the Dog class\n",
        "my_dog = Dog()\n",
        "\n",
        "# Call the make_sound method on the Dog object\n",
        "my_dog.make_sound() # Output: The dog barks.\n",
        "```\n",
        "\n",
        "In this example, we have defined two classes: `Animal` and `Dog`. The `Dog` class is a subclass of `Animal` and overrides the `make_sound` method of the `Animal` class. When we call the `make_sound` method on a `Dog` object, the overridden method in the `Dog` class is called, which prints \"The dog barks.\"\n",
        "\n"
      ],
      "metadata": {
        "id": "dbRYimtnPnjH"
      }
    },
    {
      "cell_type": "code",
      "source": [
        "class DADA:\n",
        "    def make_biriyani(self):\n",
        "        print(\"Kachchi Biriyani.\")\n",
        "\n",
        "class BABA(DADA):\n",
        "    def make_biriyani(self):\n",
        "        print(\"Kachchi Biriyani and Morog Polau.\")"
      ],
      "metadata": {
        "id": "5W1fADMJQ-R7"
      },
      "execution_count": null,
      "outputs": []
    },
    {
      "cell_type": "markdown",
      "source": [
        "# **Function vs Method**\n",
        "\n",
        "Functions and methods are both blocks of code that can be executed, but they differ in their scope and purpose.\n"
      ],
      "metadata": {
        "id": "tZFPxESuQ-1M"
      }
    },
    {
      "cell_type": "code",
      "source": [],
      "metadata": {
        "id": "62CszsvWRJ_j"
      },
      "execution_count": null,
      "outputs": []
    },
    {
      "cell_type": "markdown",
      "source": [
        "## Function:\n",
        "A function is a block of code that performs a specific task and can be called from anywhere in the program. It takes input arguments (optional) and returns a value (optional). Functions are usually defined outside of a class and can be used independently of any object or class instance.\n",
        "\n",
        "Here is an example of a function in Python:\n",
        "\n",
        "```\n",
        "def add_numbers(x, y):\n",
        "    return x + y\n",
        "\n",
        "result = add_numbers(3, 5)\n",
        "print(result) # Output: 8\n",
        "```\n",
        "\n",
        "In this example, `add_numbers` is a function that takes two arguments and returns their sum. We call the function by passing it two arguments and storing the result in a variable called `result`. Finally, we print the result to the console.\n"
      ],
      "metadata": {
        "id": "Xu6AIsZYRKWb"
      }
    },
    {
      "cell_type": "code",
      "source": [],
      "metadata": {
        "id": "jeuBu7T7RQgj"
      },
      "execution_count": null,
      "outputs": []
    },
    {
      "cell_type": "markdown",
      "source": [
        "## Method:\n",
        "A method is a function that is associated with an object or a class instance. It is defined inside a class and can be called on an instance of that class. Methods have access to the state and behavior of the object they are called on and can modify that state.\n",
        "\n",
        "Here is an example of a method in Python:\n",
        "\n",
        "```\n",
        "class Rectangle:\n",
        "    def __init__(self, width, height):\n",
        "        self.width = width\n",
        "        self.height = height\n",
        "\n",
        "    def area(self):\n",
        "        return self.width * self.height\n",
        "\n",
        "rect = Rectangle(3, 4)\n",
        "result = rect.area()\n",
        "print(result) # Output: 12\n",
        "```\n",
        "\n",
        "In this example, `Rectangle` is a class that has a method called `area`. The `area` method calculates the area of a rectangle using the width and height properties of the object it is called on. We create a `Rectangle` object with a width of 3 and a height of 4, and then call the `area` method on that object. The result is stored in a variable called `result`, which we then print to the console.\n",
        "\n",
        "In summary, functions are independent blocks of code that can be called from anywhere in the program, while methods are associated with an object or a class instance and can access and modify its state."
      ],
      "metadata": {
        "id": "EEx7uWvkRQ8z"
      }
    },
    {
      "cell_type": "code",
      "source": [],
      "metadata": {
        "id": "Rei53L61Rg0S"
      },
      "execution_count": null,
      "outputs": []
    },
    {
      "cell_type": "markdown",
      "source": [
        "# Difference between return and print statement?\n",
        "\n",
        "Both `return` and `print` are statements used in Python to produce output, but they serve different purposes and have different effects on the program.\n",
        "\n",
        "## `print` statement:\n",
        "The `print` statement is used to display output on the console or terminal. It can take any number of arguments separated by commas, which are then concatenated and displayed as a string.\n",
        "\n",
        "Here is an example of using `print` statement in Python:\n",
        "\n",
        "```\n",
        "x = 5\n",
        "print(\"The value of x is:\", x)\n",
        "```\n",
        "\n",
        "Output:\n",
        "```\n",
        "The value of x is: 5\n",
        "```\n",
        "\n",
        "In this example, we use the `print` statement to display a message along with the value of the variable `x`. The output is displayed on the console.\n"
      ],
      "metadata": {
        "id": "GmRuIQ_0RiML"
      }
    },
    {
      "cell_type": "code",
      "source": [],
      "metadata": {
        "id": "_Vr7lIA2Svl8"
      },
      "execution_count": null,
      "outputs": []
    },
    {
      "cell_type": "markdown",
      "source": [
        "## `return` statement:\n",
        "The `return` statement is used to return a value from a function or method. It is used to pass data back to the caller of the function, and can be used to terminate the execution of the function.\n",
        "\n",
        "Here is an example of using `return` statement in Python:\n",
        "\n",
        "```\n",
        "def add_numbers(x, y):\n",
        "    return x + y\n",
        "\n",
        "result = add_numbers(3, 5)\n",
        "print(result)\n",
        "```\n",
        "\n",
        "Output:\n",
        "```\n",
        "8\n",
        "```\n",
        "\n",
        "In this example, we define a function called `add_numbers` that takes two arguments and returns their sum using the `return` statement. We call the function by passing it two arguments and store the returned value in a variable called `result`. Finally, we print the value of `result` to the console.\n",
        "\n",
        "In summary, **`print` statement is used to display output on the console, while `return` statement is used to pass data back to the caller of the function or method.** `print` statement does not terminate the execution of a program, while `return` statement can be used to terminate the execution of a function or method."
      ],
      "metadata": {
        "id": "qzU8b216S9lY"
      }
    },
    {
      "cell_type": "code",
      "source": [],
      "metadata": {
        "id": "FkHSPGIOTHil"
      },
      "execution_count": null,
      "outputs": []
    },
    {
      "cell_type": "markdown",
      "source": [],
      "metadata": {
        "id": "zSQ4OzPJTID6"
      }
    }
  ]
}